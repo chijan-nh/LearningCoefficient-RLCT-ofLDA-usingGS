{
 "cells": [
  {
   "cell_type": "code",
   "execution_count": 1,
   "metadata": {
    "scrolled": true
   },
   "outputs": [
    {
     "name": "stderr",
     "output_type": "stream",
     "text": [
      "┌ Info: Precompiling Distributions [31c24e10-a181-5473-b8eb-7969acd0382f]\n",
      "└ @ Base loading.jl:1273\n",
      "┌ Info: Precompiling ProgressMeter [92933f4c-e287-5a05-a399-4b506db050ca]\n",
      "└ @ Base loading.jl:1273\n",
      "┌ Info: Precompiling Gadfly [c91e804a-d5a3-530f-b6f0-dfbca275c004]\n",
      "└ @ Base loading.jl:1273\n"
     ]
    }
   ],
   "source": [
    "using Distributions\n",
    "using Random\n",
    "using LinearAlgebra\n",
    "using ProgressMeter\n",
    "E = LinearAlgebra.I\n",
    "eye(n) = Matrix(1.0E,n,n) #identity matrix\n",
    "\n",
    "#\n",
    "#import Fontconfig, Cairo\n",
    "using Gadfly"
   ]
  },
  {
   "cell_type": "markdown",
   "metadata": {},
   "source": [
    "# Numerical Calculation of Real Log Canonical Threshold in LDA using Gibbs Sampler"
   ]
  },
  {
   "cell_type": "markdown",
   "metadata": {},
   "source": [
    "## True, Learner, and Prior\n",
    "\n",
    "Let $x \\in \\mathrm{Onehot}(M)$, $y\\in \\mathrm{Onehot}(H)$ and $z\\in \\mathrm{Onehot}(N)$ be the word, the topic, and the document, respectively. The true or optimal topic is $y^0 \\in \\mathrm{Onehot}(H_0)$.\n",
    "\n",
    "The true (data generating) distribution is\n",
    "$$q(x,y^0|z) = \\prod_{j=1}^N \\left[\\prod_{k=1}^{H_0} \\left(b^0_{kj} \\prod_{i=1}^M (a^0_{ik})^{x_{i}}\\right)^{y^0_k}\\right]^{z_j}.$$\n",
    "\n",
    "The learning machine (statistical or likelihood model) is\n",
    "$$p(x,y|z,A,B) = \\prod_{j=1}^N \\left[\\prod_{k=1}^{H} \\left(b_{kj} \\prod_{i=1}^M (a_{ik})^{x_{i}}\\right)^{y_k}\\right]^{z_j}.$$\n",
    "\n",
    "The parameters $A=(a_{ik})$ and $B=(b_{kj})$ are stochastic matrices;\n",
    "$\\sum_{i=1}^M a_{ik}=1$ and $\\sum_{k=1}^H b_{kj}=1$ hold.\n",
    "Thus, the distributions $p$ and $q$ are *mixtures of categorical mixture models*.\n",
    "The element $a_{ik}$ means the probability that the word is $i$ when the topic is $k$.\n",
    "Same as, the element $b_{kj}$ means the probability that the topic is $k$ when the document is $j$.\n",
    "\n",
    "The prior distribution is a product of (symmetry) Dirichlet distributions since the parameters are in simplexes;\n",
    "$$\\varphi(A) = \\prod_{k=1}^H\\mathrm{Dir}(a_k|\\alpha_k) \\propto \\prod_{k=1}^H \\prod_{i=1}^M a_{ik}^{\\alpha_k -1 },$$\n",
    "$$\\varphi(B) = \\prod_{j=1}^N\\mathrm{Dir}(b_j|\\beta_j)\\propto \\prod_{j=1}^N \\prod_{k=1}^H b_{kj}^{\\beta_j -1 }.$$"
   ]
  },
  {
   "cell_type": "markdown",
   "metadata": {},
   "source": [
    "## Deriving Gibbs Sampler\n",
    "\n",
    "\n",
    "\n"
   ]
  },
  {
   "cell_type": "markdown",
   "metadata": {},
   "source": [
    "### Claim: Gibbs Sampler\n",
    "\n",
    "The posterior is a product of Dirichlet distributions;\n",
    "$$\\psi(A,B|X^n,Y^n,Z^n)=\\prod_{k=1}^H \\mathrm{Dir}(a_k|\\hat{\\alpha}_k)\\prod_{j=1}^N \\mathrm{Dir}(b_j|\\hat{\\beta}_j),$$\n",
    "where\n",
    "$$\\hat{\\alpha}_{k} =(\\hat{\\alpha}_{ik}),  \\hat{\\alpha}_{ik}=\\sum_{l=1}^n y(l)_k  x(l)_i + \\alpha_k,$$\n",
    "$$\\hat{\\beta}_{j} =(\\hat{\\beta}_{kj}),  \\hat{\\beta}_{kj}=\\sum_{l=1}^n z(l)_j  y(l)_k + \\beta_k.$$\n",
    "\n",
    "The topic distribution is a product of categorical distributions;\n",
    "$$Pdf(Y^n|X^n,Z^n,A,B) = \\prod_{l=1}^n \\mathrm{Cat}(y(l) | \\eta_l),$$\n",
    "where\n",
    "$$\\eta_l = (\\eta_{lk}),$$\n",
    "$$\\eta_{lk} \\propto \\exp \\left( \\sum_{j=1}^N z(l)_j \\left( \\log b_{kj}\n",
    "+\\sum_{i=1}^M x(l)_i \\log a_{ik}\\right) \\right),$$\n",
    "$$\\sum_{k=1}^H \\eta_{lk}=1.$$ "
   ]
  },
  {
   "cell_type": "markdown",
   "metadata": {},
   "source": [
    "### Proof Focus\n",
    "\n",
    "We derive the GS algorithm for alternately sampling from the conditional distribution of the parameters given the topics and the one of the topics given the parameters. Our goal posterior distribution is\n",
    "$$\\psi(A,B|X^n,Y^n,Z^n) \\propto Pdf(X^n,Y^n,Z^n,A,B) = P(X^n, Y^n|Z^n,A,B)\\varphi(A)\\varphi(B),$$\n",
    "where $$P(X^n, Y^n|Z^n,A,B) = \\prod_{l=1}^n p(x(l), y(l)|z(l),A,B)$$\n",
    "is the likelihood.\n",
    "\n",
    "On the other hand, the probability density function of the topic distribution given the parameter and the data is\n",
    "$$Pdf(Y^n|X^n,Z^n,A,B) \\propto Pdf(X^n,Y^n,Z^n,A,B) = P(X^n, Y^n|Z^n,A,B)\\varphi(A)\\varphi(B).$$\n",
    "\n",
    "\n",
    "Both densities are in proportion to the joint distribution. For this reason, the simultaneous densities are transformed to be regarded as respective densities.\n",
    "\n",
    "\n",
    "\n"
   ]
  },
  {
   "cell_type": "markdown",
   "metadata": {},
   "source": [
    "### Proof\n",
    "\n",
    "The log of the prior:\n",
    "$$\\log \\varphi(A) = \\sum_{k=1}^H \\sum_{i=1}^M (\\alpha_k - 1)\\log a_{ik}+const. ,$$\n",
    "$$\\log \\varphi(B) = \\sum_{j=1}^N \\sum_{k=1}^H (\\beta_k - 1)\\log b_{kj}+const.$$\n",
    "\n",
    "The log of the likelihood:\n",
    "\\begin{align}\n",
    "\\log P(X^n, Y^n|Z^n,A,B) &= \\sum_{l=1}^n \\log p(x(l), y(l)|z(l),A,B) \\\\\n",
    "&= \\sum_{l=1}^n\\sum_{j=1}^N z(l)_j \\sum_{k=1}^{H} y(l)_k \\left( \\log b_{kj}+ \\sum_{i=1}^M x(l)_i \\log a_{ik} \\right).\n",
    "\\end{align}\n",
    "\n",
    "The log of the posterior is\n",
    "\\begin{align}\n",
    "\\log \\psi(A,B|X^n,Y^n,Z^n) &= \\log P(X^n, Y^n|Z^n,A,B)+\\log\\varphi(A)+\\log\\varphi(B)+const. \\\\\n",
    "&= \\sum_{k=1}^{H}\\sum_{j=1}^N\\sum_{l=1}^n z(l)_j  y(l)_k \\left( \\log b_{kj}+ \\sum_{i=1}^M x(l)_i \\log a_{ik} \\right)\n",
    "+\\sum_{k=1}^H \\sum_{i=1}^M (\\alpha_k - 1)\\log a_{ik}\n",
    "+\\sum_{j=1}^N \\sum_{k=1}^H (\\beta_k - 1)\\log b_{kj}+const. \\\\\n",
    "&= \\sum_{k=1}^{H}\\sum_{j=1}^N\\sum_{l=1}^n z(l)_j  y(l)_k \\log b_{kj}\n",
    "+\\sum_{i=1}^M\\sum_{k=1}^{H}\\sum_{j=1}^N\\sum_{l=1}^n z(l)_j  y(l)_k  x(l)_i \\log a_{ik}\n",
    "+\\sum_{i=1}^M \\sum_{k=1}^H (\\alpha_k - 1)\\log a_{ik}\n",
    "+\\sum_{k=1}^H \\sum_{j=1}^N (\\beta_k - 1)\\log b_{kj}+const. \\\\\n",
    "&= \\sum_{k=1}^H \\sum_{j=1}^N \\left( \\sum_{l=1}^n z(l)_j  y(l)_k + \\beta_k - 1\\right)\\log b_{kj}\n",
    "+ \\sum_{i=1}^M \\sum_{k=1}^H \\left( \\sum_{j=1}^N\\sum_{l=1}^n z(l)_j  y(l)_k  x(l)_i + \\alpha_k - 1 \\right)\\log a_{ik} + const.\n",
    "\\end{align}\n",
    "Therefore, the posterior is a product of Dirichlet distributions;\n",
    "$$\\psi(A,B|X^n,Y^n,Z^n)=\\prod_{k=1}^H \\mathrm{Dir}(a_k|\\hat{\\alpha}_k)\\prod_{j=1}^N \\mathrm{Dir}(b_j|\\hat{\\beta}_j),$$\n",
    "where\n",
    "$$\\hat{\\alpha}_{k} =(\\hat{\\alpha}_{ik}),  \\hat{\\alpha}_{ik}=\\sum_{l=1}^n y(l)_k  x(l)_i + \\alpha_k,$$\n",
    "$$\\hat{\\beta}_{j} =(\\hat{\\beta}_{kj}),  \\hat{\\beta}_{kj}=\\sum_{l=1}^n z(l)_j  y(l)_k + \\beta_k.$$\n",
    "\n",
    "On the other hand, the log of the topic distribution is\n",
    "\\begin{align}\n",
    "\\log Pdf(Y^n|X^n,Z^n,A,B) &= \\log P(X^n, Y^n|Z^n,A,B)+\\log\\varphi(A)+\\log\\varphi(B)+const. \\\\\n",
    "&= \\sum_{l=1}^n\\sum_{k=1}^{H}\\sum_{j=1}^N z(l)_j  y(l)_k \\log b_{kj}\n",
    "+\\sum_{l=1}^n\\sum_{k=1}^{H}\\sum_{i=1}^M\\sum_{j=1}^N z(l)_j  y(l)_k  x(l)_i \\log a_{ik}\n",
    "+\\sum_{k=1}^H\\sum_{i=1}^M  (\\alpha_k - 1)\\log a_{ik}\n",
    "+\\sum_{k=1}^H \\sum_{j=1}^N (\\beta_k - 1)\\log b_{kj}+const. \\\\\n",
    "&= \\sum_{l=1}^n\\sum_{k=1}^{H} y(l)_k\\left( \\sum_{j=1}^N z(l)_j   \\log b_{kj}\n",
    "+\\sum_{i=1}^M\\sum_{j=1}^N z(l)_j x(l)_i \\log a_{ik}\\right)\n",
    "+\\sum_{k=1}^H \\left( \\sum_{i=1}^M(\\alpha_k - 1)\\log a_{ik}+\\sum_{j=1}^N(\\beta_k - 1)\\log b_{kj}\\right)+const. \\\\\n",
    "&= \\sum_{l=1}^n\\sum_{k=1}^{H} y(l)_k\\left[ \\sum_{j=1}^N z(l)_j \\left( \\log b_{kj}\n",
    "+\\sum_{i=1}^M x(l)_i \\log a_{ik}\\right)\\right]\n",
    "+const. \\\\\n",
    "\\end{align}\n",
    "Therefore, the topic distribution is a product of categorical distributions;\n",
    "$$Pdf(Y^n|X^n,Z^n,A,B) = \\prod_{l=1}^n \\mathrm{Cat}(y(l) | \\eta_l),$$\n",
    "where\n",
    "$$\\eta_l = (\\eta_{lk}),$$\n",
    "$$\\eta_{lk} \\propto \\exp \\left( \\sum_{j=1}^N z(l)_j \\left( \\log b_{kj}\n",
    "+\\sum_{i=1}^M x(l)_i \\log a_{ik}\\right) \\right),$$\n",
    "$$\\sum_{k=1}^H \\eta_{lk}=1.$$ "
   ]
  },
  {
   "cell_type": "code",
   "execution_count": 27,
   "metadata": {},
   "outputs": [
    {
     "data": {
      "text/plain": [
       "calc_r"
      ]
     },
     "execution_count": 27,
     "metadata": {},
     "output_type": "execute_result"
    }
   ],
   "source": [
    "@doc \"\"\"\n",
    "    rlct_R(M,N,H,r)\n",
    "\n",
    "Calculate the real log canonical threshold of reduced rank regression\n",
    "when the input dimmension is M, the output one is N,\n",
    "the learner's rank is H, and the true rank is r.\n",
    "\n",
    "The arguments must be positive integers and H>=r must hold.\n",
    "\n",
    "# Example\n",
    "```julia-repl\n",
    "julia> rlct_R(4,3,2,1)\n",
    "4.0\n",
    "```\n",
    "\"\"\"\n",
    "function rlct_R(M,N,H,r)\n",
    "    H_0 = r\n",
    "    @assert (M>=1)&(N>=1)&(H>=H_0)&(H_0>=0)\n",
    "    if (N+H_0<=M+H) & (M+H_0<=N+H) & (H+H_0<=M+N)\n",
    "        if (M+N+H+H_0)%2 == 0\n",
    "            return (2*(H+H_0)*(M+N)-(M-N)^2-(H+H_0)^2)/8\n",
    "        else\n",
    "            return (2*(H+H_0)*(M+N)-(M-N)^2-(H+H_0)^2 +1)/8\n",
    "        end\n",
    "    elseif M+H<N+H_0\n",
    "        return (M*H+N*H_0-H*H_0)/2\n",
    "    elseif N+H<M+H_0\n",
    "        return (N*H+M*H_0-H*H_0)/2\n",
    "    elseif M+N<H+H_0\n",
    "        return M*N/2\n",
    "    else #must not occur!\n",
    "        return -1\n",
    "    end\n",
    "end\n",
    "\n",
    "@doc \"\"\"\n",
    "    rlct_LDA(M,N,H,r)\n",
    "\n",
    "Calculate the real log canonical threshold of latent Dirichlet allocation\n",
    "when the input dimmension is M, the output one is N,\n",
    "the learner's rank is H, and the rank of the transformed matrix U_0V_0 is r.\n",
    "The rigorous definition of r is stated in the paper.\n",
    "\n",
    "M>=2 and N>=2 and H>=r+1>=1 must hold. \n",
    "\n",
    "# Example\n",
    "```julia-repl\n",
    "julia> rlct_LDA(4,3,2,1)\n",
    "3.5\n",
    "```\n",
    "\"\"\"\n",
    "function rlct_LDA(M,N,H,r)\n",
    "    @assert (M>=2)&(N>=2)&(H>=r+1)&(r+1>=1)\n",
    "    @assert (rlct_R(M,N,H,r+1)-N/2)==(rlct_R(M-1,N-1,H-1,r)+M/2-1/2)\n",
    "    return rlct_R(M,N,H,r+1)-N/2\n",
    "end\n",
    "\n",
    "@doc \"\"\"\n",
    "    calc_r(A0, B0)\n",
    "\n",
    "Calculate an intrinsic value of the true parameter as (A0, B0).\n",
    "Transform from A0 and B0 to U0 and V0 and compute the rank of U_0V_0.\n",
    "\"\"\"\n",
    "function calc_r(A0, B0)\n",
    "    M, H0 = size(A0)\n",
    "    H02, N = size(B0)\n",
    "    @assert H0==H02\n",
    "    tildeA = A0[1:(M-1), 1:(H0-1)]\n",
    "    a = A0[1:(M-1), H0]\n",
    "    tildea = reduce(hcat, [a for _ in 1:(H0-1)])\n",
    "    tildeB = B0[1:(H0-1), 1:(N-1)]\n",
    "    b = B0[1:(H0-1), N]\n",
    "    tildeb = reduce(hcat, [b for _ in 1:(N-1)])\n",
    "    U0 = tildeA - tildea\n",
    "    V0 = tildeB - tildeb\n",
    "    return rank(U0*V0)\n",
    "end\n"
   ]
  },
  {
   "cell_type": "markdown",
   "metadata": {},
   "source": [
    "## Experiment"
   ]
  },
  {
   "cell_type": "code",
   "execution_count": 92,
   "metadata": {
    "scrolled": true
   },
   "outputs": [
    {
     "name": "stdout",
     "output_type": "stream",
     "text": [
      "[0.3472736053441858 0.06429606435264494; 0.3692397045645508 0.14468121592345295; 0.27001287227749055 0.41156519234939487; 0.01347381781377272 0.37945752737450733]\n",
      "[0.542803694828061 0.4266223529710219 0.19671787990538073 0.6861112342805497; 0.457196305171939 0.5733776470289782 0.8032821200946193 0.31388876571945046]\n"
     ]
    }
   ],
   "source": [
    "# fundamaental setting\n",
    "## calc. RLCT\n",
    "SIM_ITERS = 100\n",
    "## MCMC\n",
    "MCMC_K = 2000\n",
    "BURNIN = 10000\n",
    "THIN = 20\n",
    "MCMC_ITER = BURNIN + THIN*MCMC_K\n",
    "## hyperparameter in prior\n",
    "ALPHA = 1.0\n",
    "BETA = 1.0\n",
    "## true and model\n",
    "M = 4\n",
    "N = 4\n",
    "H_0 = 2\n",
    "Random.seed!(1)\n",
    "A_0 = hcat([rand(Dirichlet(ALPHA*ones(M))) for k in 1:H_0]...)\n",
    "B_0 = hcat([rand(Dirichlet(BETA*ones(H_0))) for j in 1:N]...)\n",
    "#### control variable (number of learner's topics)\n",
    "H = 4\n",
    "r = calc_r(A_0, B_0)\n",
    "\n",
    "\n",
    "## data\n",
    "SEED = 2020 #don't tune\n",
    "L = 500 #number of words in each document\n",
    "SAMPLESIZE = N*L\n",
    "TESTSIZE = 200*SAMPLESIZE\n",
    "## save path\n",
    "LOG_FILE_PATH = joinpath(\"log\",\"YYYYMMDD-LDA-H=$H-n=$SAMPLESIZE-T=$TESTSIZE.csv\")\n",
    "println(A_0)\n",
    "println(B_0)"
   ]
  },
  {
   "cell_type": "code",
   "execution_count": 93,
   "metadata": {
    "scrolled": true
   },
   "outputs": [
    {
     "data": {
      "text/plain": [
       "5.5"
      ]
     },
     "execution_count": 93,
     "metadata": {},
     "output_type": "execute_result"
    }
   ],
   "source": [
    "rlct_LDA(M,N,H,H_0)"
   ]
  },
  {
   "cell_type": "code",
   "execution_count": 94,
   "metadata": {},
   "outputs": [
    {
     "data": {
      "text/plain": [
       "generate_data"
      ]
     },
     "execution_count": 94,
     "metadata": {},
     "output_type": "execute_result"
    }
   ],
   "source": [
    "@doc \"\"\"\n",
    "    generate_data(A::Array{Float64,2}, B::Array{Float64,2}; n::Int=SAMPLESIZE, seed=1)\n",
    "    \n",
    "    Generate artificiall data from the given LDA model like the following.\n",
    "    for l=1:n\n",
    "        generate words from Cat(x|AB[:,j]) for j=1,...,N\n",
    "        as two format: docs array (N, n//N, M) and words array (n, M)\n",
    "    end\n",
    "    \n",
    "    # Argments\n",
    "\n",
    "    - A::Array{Float64,2}: stochastic matrix A= (the probability that the word is i when the topic is k)\n",
    "      whose shape is (M,H).\n",
    "    - B::Array{Float64,2}: stochastic matrix B= (the probability that the topic is k when the doc is j)\n",
    "      whose shape is (H,N).\n",
    "    - n::Int=SAMPLESIZE: the number of all words in all document. sample size.\n",
    "    - seed::Int=1: the random seed.\n",
    "    \n",
    "    # Return\n",
    "    - return: generated words (onehot(M) vectors) as two format\n",
    "    - rtype: tuple(Array; shape is (N, n//N, M), Array; shape is (n, M))\n",
    "\"\"\"\n",
    "function generate_data(A::Array{Float64,2}, B::Array{Float64,2}; n::Int=SAMPLESIZE, seed=1)\n",
    "    Random.seed!(seed);\n",
    "    C = A*B\n",
    "    M = size(C)[1]\n",
    "    N = size(C)[2]\n",
    "    L = div(n, N)\n",
    "    @assert n%N==0\n",
    "    words_arr = zeros(Bool,M,n)\n",
    "    for j in 1:N\n",
    "        words = rand(Multinomial(1, C[:,j]), L)\n",
    "        words_arr[:,(1+(j-1)*L):(j*L)] = words\n",
    "    end\n",
    "    docs_arr = reshape(words_arr, (M,L,N))\n",
    "    return (docs_arr, words_arr)    \n",
    "end"
   ]
  },
  {
   "cell_type": "code",
   "execution_count": 95,
   "metadata": {},
   "outputs": [
    {
     "data": {
      "text/plain": [
       "get_doc_onehot (generic function with 1 method)"
      ]
     },
     "execution_count": 95,
     "metadata": {},
     "output_type": "execute_result"
    }
   ],
   "source": [
    "function make_onehot(hot_ind::Int, dim::Int; binary_type=Bool)\n",
    "    @assert hot_ind <= dim\n",
    "    @assert 1 <= hot_ind\n",
    "    v = zeros(binary_type, dim);\n",
    "    v[hot_ind] = 1;\n",
    "    return v\n",
    "end\n",
    "\n",
    "function get_doc_onehot(docs_arr::Array{Bool,3}; n::Int=SAMPLESIZE)\n",
    "    #===\n",
    "    :return: Array of onehot vectors which mean each document id\n",
    "    :rtype: Array{Float64,2}; shape is (N, n). each column means the document id corresponding word.\n",
    "    ===#\n",
    "    N = size(docs_arr)[3]\n",
    "    L = div(n, N)\n",
    "    doc_onehot = hcat([hcat([make_onehot(j, N) for l in 1:L]...) for j in 1:N]...)\n",
    "    return doc_onehot\n",
    "end"
   ]
  },
  {
   "cell_type": "code",
   "execution_count": 96,
   "metadata": {},
   "outputs": [
    {
     "data": {
      "text/plain": [
       "B_step"
      ]
     },
     "execution_count": 96,
     "metadata": {},
     "output_type": "execute_result"
    }
   ],
   "source": [
    "# each sampling step for Gibbs sampler\n",
    "@doc \"\"\"\n",
    "    topic_step(docs_arr::Array{Bool,3}, A::Array{Float64,2}, B::Array{Float64,2}; n=SAMPLESIZE)\n",
    "\n",
    "Generate a hidden variable (i.e. topic) in Gibbs sampler.\n",
    "\n",
    "# Arguments\n",
    "- docs_arr::Array{Bool,3}: data as documents form whose shape is (M, L==n//N, N).\n",
    "- A::Array{Float64,2}: parameter matrix which represents word appearance probability for each topic.\n",
    "- B::Array{Float64,2}: parameter matrix which represents topic propotion for each document.\n",
    "- n::Int=SAMPLESIZE: sample size i.e. number of words.\n",
    "\n",
    "# Return\n",
    "- return: Bool topic matrix Y whose shape is (H, n).\n",
    "\"\"\"\n",
    "function topic_step(docs_arr::Array{Bool,3}, A::Array{Float64,2}, B::Array{Float64,2}; n=SAMPLESIZE)\n",
    "    H = size(A)[2]\n",
    "    N = size(B)[2]\n",
    "    L = div(n, N)\n",
    "    tmp = hcat([vcat(reshape(sum(docs_arr.*log.(A[:,k]),dims=1), (L,N)) .+ log.(B[k,:])'...) for k in 1:H]...)\n",
    "    tmp = exp.(tmp)\n",
    "    eta = tmp ./ sum(tmp, dims=2)\n",
    "    Y = Array{Bool}(hcat([rand(Multinomial(1,eta[l,:])) for l in 1:n]...))\n",
    "    return Y\n",
    "end\n",
    "\n",
    "\n",
    "@doc \"\"\"\n",
    "    A_step(words_arr::Array{Bool,2}, Y::Array{Bool,2}, alpha; n=SAMPLESIZE)\n",
    "\n",
    "Generate a stochastic matrix in Gibbs sampler.\n",
    "\n",
    "# Arguments\n",
    "- words_arr::Array{Bool,2}: data as words form whose shape is (M, n).\n",
    "- Y::Array{Bool,2}: topic matrix whose shape is (H, n).\n",
    "- alpha: hyperparameter of Dirichlet prior for A.\n",
    "- n::Int=SAMPLESIZE: sample size i.e. number of words.\n",
    "\n",
    "# Return\n",
    "- return: stochastic matrix which represents word appearance probability for each topic.\n",
    "\"\"\"\n",
    "function A_step(words_arr::Array{Bool,2}, Y::Array{Bool,2}, alpha; n=SAMPLESIZE)\n",
    "    H = size(Y)[1]\n",
    "    M = size(words_arr)[1]\n",
    "    #use_words = reshape(words_arr, (n, M))\n",
    "    hat_alpha = (Y*words_arr')' .+ alpha\n",
    "    A = hcat([rand(Dirichlet(hat_alpha[:,k])) for k in 1:H]...)\n",
    "    return A\n",
    "end\n",
    "\n",
    "\n",
    "@doc \"\"\"\n",
    "    B_step(doc_onehot::Array{Bool,2}, Y::Array{Bool,2}, beta; n=SAMPLESIZE)\n",
    "\n",
    "Generate a stochastic matrix in Gibbs sampler.\n",
    "\n",
    "# Arguments\n",
    "- docs_arr::Array{Bool,3}: data as documents form whose shape is (M, L==n//N, N).\n",
    "- Y::Array{Bool,2}: topic matrix whose shape is (H, n).\n",
    "- beta: hyperparameter of Dirichlet prior for B.\n",
    "- n::Int=SAMPLESIZE: sample size i.e. number of words.\n",
    "\n",
    "# Return\n",
    "- return: stochastic matrix which topic propotion for each document.\n",
    "\"\"\"\n",
    "function B_step(doc_onehot::Array{Bool,2}, Y::Array{Bool,2}, beta; n=SAMPLESIZE)\n",
    "    #===\n",
    "    (topic x num_of_docs) stochastic matrix sampling step.\n",
    "    \n",
    "    :param docs_arr: data as documents form; shape is (M, L=n//N, N)\n",
    "    :param Y: topic matrix; shape is (H, n)\n",
    "    :param beta: hyperparameter of Dirichlet prior for B\n",
    "    :type beta: T(which means scalar) or Array{T,1}(which means 1-d vector); length is N. Where T is Int or Float.\n",
    "    :return: param matrix B\n",
    "    ===#\n",
    "    H = size(Y)[1]\n",
    "    N = size(doc_onehot)[1]\n",
    "    #useZ = get_doc_onehot(docs_arr)'\n",
    "    hat_beta = Y*(doc_onehot') .+ beta\n",
    "    B = hcat([rand(Dirichlet(hat_beta[:,j])) for j in 1:N]...)\n",
    "    return B\n",
    "end"
   ]
  },
  {
   "cell_type": "markdown",
   "metadata": {},
   "source": [
    "The pmf of model is\n",
    "$$p(x|z,A,B) = \\prod_{j=1}^N \\left(\\sum_{k=1}^{H} b_{kj} \\prod_{i=1}^M (a_{ik})^{x_{i}}\\right)^{z_j}. $$\n",
    "If $z_j=1$, then the pmf is\n",
    "$$p(x|z_j=1,A,B) = \\sum_{k=1}^{H} b_{kj} \\prod_{i=1}^M (a_{ik})^{x_{i}}.$$\n",
    "And if $x_i=1$, then the pmf is\n",
    "$$p(x_i=1|z_j=1, A,B) = \\sum_{k=1}^{H} b_{kj} a_{ik} = (AB)_{ij}.$$\n",
    "\n",
    "Intuitively, this is why Latent Dirichlet Allocation is equivalent to Stochastic Matrix Factorization."
   ]
  },
  {
   "cell_type": "code",
   "execution_count": 97,
   "metadata": {},
   "outputs": [
    {
     "data": {
      "text/plain": [
       "model_pmf"
      ]
     },
     "execution_count": 97,
     "metadata": {},
     "output_type": "execute_result"
    }
   ],
   "source": [
    "@doc \"\"\"\n",
    "    model_pmf(x::Array{Bool,1}, z::Array{Bool,1}, A::Array{Float64,2}, B::Array{Float64,2})\n",
    "\n",
    "Calculate a probability mass for given data and parameter.\n",
    "\n",
    "# Arguments\n",
    "- x::Array{Bool,1}: M-dim onehot vector which means a word.\n",
    "- z::Array{Bool,1}: N-dim onehot vector which means a document.\n",
    "- A::Array{Float64,2}: (M,H) stochastic matrix\n",
    "  whose (i,k) element means a probability that the word is i when the topic is k.\n",
    "- B::Array{Float64,2}: (H,N) stochastic matrix\n",
    "  whose (k,j) element means a probability that the topic is k when the document is j.\n",
    "\"\"\"\n",
    "function model_pmf(x::Array{Bool,1}, z::Array{Bool,1}, A::Array{Float64,2}, B::Array{Float64,2})\n",
    "    #===\n",
    "    probability mass function of model p(x|z,A,B).\n",
    "    See also the above markdown cell.\n",
    "    \n",
    "    :param x: an M-dim onehot vector which means a word.\n",
    "    :param x: an N-dim onehot vector which means a document.\n",
    "    :param A: an (M,H) stochastic matrix whose (i,k) element means a probability that the word is i when the topic is k.\n",
    "    :param B: an (H,N) stochastic matrix whose (k,j) element means a probability that the topic is k when the document is j.\n",
    "    ===#\n",
    "    @assert sum(z) == 1\n",
    "    @assert sum(x) == 1\n",
    "    @assert size(A)[2] == size(B)[1]\n",
    "    j = argmax(z) #z_j=1, z_{j'}=0 (j' != j)\n",
    "    i = argmax(x) #x_i=1, x_{i'}=0 (i' != i)\n",
    "    AB = A*B\n",
    "    return AB[i,j]\n",
    "end"
   ]
  },
  {
   "cell_type": "code",
   "execution_count": 98,
   "metadata": {},
   "outputs": [
    {
     "data": {
      "text/plain": [
       "run_Gibbs_sampler"
      ]
     },
     "execution_count": 98,
     "metadata": {},
     "output_type": "execute_result"
    }
   ],
   "source": [
    "# Gibbs sampler\n",
    "function run_all_sampling!(\n",
    "        docs_arr::Array{Bool,3}, words_arr::Array{Bool,2}, doc_onehot::Array{Bool,2}, init_Y::Array{Bool,2},\n",
    "        allYs::Array{Bool,3}, allAs::Array{Float64,3}, allBs::Array{Float64,3})\n",
    "    iters = size(allYs)[3];\n",
    "    alpha = ALPHA;\n",
    "    beta = BETA;\n",
    "    sampling_progress = Progress(iters);\n",
    "    Y = init_Y;\n",
    "    @time for k in 1:iters\n",
    "        ## parameter matrix sampling and saving\n",
    "        A = A_step(words_arr, Y, alpha);\n",
    "        B = B_step(doc_onehot, Y, beta);\n",
    "        allAs[:,:,k] = A;\n",
    "        allBs[:,:,k] = B;\n",
    "        ## hidden variable (topic indicator) sampling and saving\n",
    "        Y = topic_step(docs_arr, A, B);\n",
    "        allYs[:,:,k] = Y;\n",
    "        ## Progress update\n",
    "        next!(sampling_progress);\n",
    "    end\n",
    "    #return (allYs, allAs, allBs)\n",
    "end\n",
    "\n",
    "#===\n",
    "function calc_likelihoodMat!(\n",
    "        k::Int, words_arr::Array{Bool,2}, doc_onehot::Array{Bool,2}, A::Array{Float64,2}, B::Array{Float64,2},\n",
    "        likelihoodMat::Array{Float64,2}; n::Int=SAMPLESIZE)\n",
    "    #===\n",
    "    ===#\n",
    "    ## generated quantity: likelihood matrix\n",
    "    for l in 1:n\n",
    "        x = words_arr[:,l];\n",
    "        z = doc_onehot[:,l];\n",
    "        likelihoodMat[l,k] = model_pmf(x,z,A,B);\n",
    "    end\n",
    "    return likelihoodMat\n",
    "end\n",
    "===#\n",
    "\n",
    "function run_thining!(\n",
    "        words_arr::Array{Bool,2}, doc_onehot::Array{Bool,2}, \n",
    "        allYs::Array{Bool,3}, allAs::Array{Float64,3}, allBs::Array{Float64,3},\n",
    "        gsYs::Array{Bool,3}, gsAs::Array{Float64,3}, gsBs::Array{Float64,3}, likelihoodMat::Array{Float64,2};\n",
    "        K::Int=MCMC_K, burn::Int=BURNIN, th::Int=THIN, n::Int=SAMPLESIZE)\n",
    "    ## burnin and thining\n",
    "    K = size(gsYs)[3]\n",
    "    thining_progress = Progress(K);\n",
    "    @time for k in 1:K\n",
    "        A = allAs[:,:,burn+k*th];\n",
    "        gsAs[:,:,k] = A;\n",
    "        B = allBs[:,:,burn+k*th];\n",
    "        gsBs[:,:,k] = B;\n",
    "        gsYs[:,:,k] = allYs[:,:,burn+k*th];\n",
    "        ## generated quantity: likelihood matrix\n",
    "        #likelihoodMat = calc_likelihoodMat!(k, words_arr, doc_onehot, A, B, likelihoodMat)\n",
    "        for l in 1:n\n",
    "            x = words_arr[:,l];\n",
    "            z = doc_onehot[:,l];\n",
    "            likelihoodMat[l,k] = model_pmf(x,z,A,B);\n",
    "        end\n",
    "        next!(thining_progress);\n",
    "    end\n",
    "    #return (gsYs, gsAs, gsBs, likelihoodMat)\n",
    "end\n",
    "\n",
    "function run_Gibbs_sampler_cored(\n",
    "    docs_arr::Array{Bool,3}, words_arr::Array{Bool,2}; K::Int=MCMC_K, burn::Int=BURNIN, th::Int=THIN, n::Int=SAMPLESIZE)\n",
    "    #===\n",
    "    Version: separating core functions\n",
    "    ===#\n",
    "    ## initial value of A and B is sampled from the prior distributuion\n",
    "    #### Assume that prior is SYMMETRIC Dirichlet distribution. Hyparam is scalar. \n",
    "    init_A = hcat([rand(Dirichlet(M, ALPHA)) for k in 1:H]...);\n",
    "    init_B = hcat([rand(Dirichlet(H, BETA)) for j in 1:N]...);\n",
    "    init_Y = topic_step(docs_arr, init_A, init_B);\n",
    "    ## sampling iteration\n",
    "    #### allocate tensors for MCMC sample\n",
    "    iters = burn + K*th;\n",
    "    allAs = zeros(Float64, M, H, iters);\n",
    "    gsAs = zeros(Float64, M, H, K);\n",
    "    allBs = zeros(Float64, H, N, iters);\n",
    "    gsBs = zeros(Float64, H, N, K);\n",
    "    allYs = zeros(Bool, H, n, iters);\n",
    "    gsYs = zeros(Bool, H, n, K);\n",
    "    #### all sampling\n",
    "    doc_onehot = get_doc_onehot(docs_arr);\n",
    "    println(\"Start $iters iteration for GS\")\n",
    "    run_all_sampling!(docs_arr, words_arr, doc_onehot, init_Y, allYs, allAs, allBs)\n",
    "    ## burnin and thining\n",
    "    likelihoodMat = zeros(Float64, n, K)\n",
    "    println(\"Start burn-in and thining from $iters to $K\")\n",
    "    run_thining!(words_arr, doc_onehot, allYs, allAs, allBs, gsYs, gsAs, gsBs, likelihoodMat)\n",
    "    return (gsYs, gsAs, gsBs, likelihoodMat)\n",
    "end\n",
    "\n",
    "@doc \"\"\"\n",
    "    run_Gibbs_sampler(docs_arr, words_arr, alpha, beta; K=MCMC_K, burn=BURNIN, th=THIN, n=SAMPLESIZE, seed_MCMC=2)\n",
    "\n",
    "Run Gibbs sampler for LDA.\n",
    "Global variable `M` , `H` , and `N` are used\n",
    "as vocab. size, num. of topics, and num. of documents, respectively.\n",
    "Note that rtype is tuple of tensor(Array{T,3}), not tuple of Array{Array{T,2}}.\n",
    "\"\"\"\n",
    "function run_Gibbs_sampler(docs_arr, words_arr, alpha, beta; K=MCMC_K, burn=BURNIN, th=THIN, n=SAMPLESIZE, seed_MCMC=2)\n",
    "    #===\n",
    "    Run Gibbs sampler for LDA.\n",
    "    Global variable `M` , `H` , and `N` are used\n",
    "    as vocab. size, num. of topics, and num. of documents, respectively.\n",
    "    Note that rtype is tuple of tensor(Array{T,3}), not tuple of Array{Array{T,2}}.\n",
    "    \n",
    "    :param docs_arr: data as document format\n",
    "    :param words_arr: data as word format\n",
    "    :param alpha: hyperparameter of Dirichlet prior for A\n",
    "    :param beta: hyperparameter of Dirichlet prior for B\n",
    "    :return: sample of Y(topic indicator variable),A and B from GS and likelihood matrix\n",
    "    :rtype: tuple(Array{Bool,3};shape(H,n,K), Array{Float64,3};shape(M,H,K), Array{Float64,3};shape(H,N,K), Array{Float64,2};shape(n,K))\n",
    "    ===#\n",
    "    Random.seed!(seed_MCMC);\n",
    "    ## initial value of A and B is sampled from the prior distributuion\n",
    "    #### Assume that prior is SYMMETRIC Dirichlet distribution. Hyparam is scalar. \n",
    "    init_A = hcat([rand(Dirichlet(M, alpha)) for k in 1:H]...);\n",
    "    init_B = hcat([rand(Dirichlet(H, beta)) for j in 1:N]...);\n",
    "    Y = topic_step(docs_arr, init_A, init_B);\n",
    "    ## sampling iteration\n",
    "    #### allocate tensors for MCMC sample\n",
    "    iters = burn + K*th;\n",
    "    allAs = zeros(Float64, M, H, iters);\n",
    "    gsAs = zeros(Float64, M, H, K);\n",
    "    allBs = zeros(Float64, H, N, iters);\n",
    "    gsBs = zeros(Float64, H, N, K);\n",
    "    allYs = zeros(Bool, H, n, iters);\n",
    "    gsYs = zeros(Bool, H, n, K);\n",
    "    #### all sampling\n",
    "    doc_onehot = get_doc_onehot(docs_arr);\n",
    "    println(\"Start $iters iteration for GS\")\n",
    "    sampling_progress = Progress(iters);\n",
    "    @time for k in 1:iters\n",
    "        ## parameter matrix sampling and saving\n",
    "        A = A_step(words_arr, Y, alpha);\n",
    "        B = B_step(doc_onehot, Y, beta);\n",
    "        allAs[:,:,k] = A;\n",
    "        allBs[:,:,k] = B;\n",
    "        ## hidden variable (topic indicator) sampling and saving\n",
    "        Y = topic_step(docs_arr, A, B);\n",
    "        allYs[:,:,k] = Y;\n",
    "        ## Progress update\n",
    "        next!(sampling_progress);\n",
    "    end\n",
    "    ## burnin and thining\n",
    "    likelihoodMat = zeros(Float64, n, K)\n",
    "    println(\"Start burn-in and thining from $iters to $K\")\n",
    "    thining_progress = Progress(K);\n",
    "    @time for k in 1:K\n",
    "        A = allAs[:,:,burn+k*th];\n",
    "        gsAs[:,:,k] = A;\n",
    "        B = allBs[:,:,burn+k*th];\n",
    "        gsBs[:,:,k] = B;\n",
    "        gsYs[:,:,k] = allYs[:,:,burn+k*th];\n",
    "        ## generated quantity: likelihood matrix\n",
    "        for l in 1:n\n",
    "            x = words_arr[:,l];\n",
    "            z = doc_onehot[:,l];\n",
    "            likelihoodMat[l,k] = model_pmf(x,z,A,B);\n",
    "        end\n",
    "        next!(thining_progress);\n",
    "    end\n",
    "    return (gsYs, gsAs, gsBs, likelihoodMat)\n",
    "end"
   ]
  },
  {
   "cell_type": "code",
   "execution_count": 99,
   "metadata": {},
   "outputs": [
    {
     "data": {
      "text/plain": [
       "run_prior_sampling (generic function with 1 method)"
      ]
     },
     "execution_count": 99,
     "metadata": {},
     "output_type": "execute_result"
    }
   ],
   "source": [
    "function run_prior_sampling(docs_arr, words_arr, alpha, beta; K=MCMC_K, burn=BURNIN, th=THIN, n=SAMPLESIZE, seed_MCMC=2)\n",
    "    #===\n",
    "    Run prior sampling K times.\n",
    "    \n",
    "    :return: sample of Y(topic indicator variable),A and B from GS and likelihood matrix\n",
    "    :rtype: tuple(Array{Bool,3};shape(H,n,K), Array{Float64,3};shape(M,H,K), Array{Float64,3};shape(H,N,K), Array{Float64,2};shape(n,K))\n",
    "    ===#\n",
    "    Random.seed!(seed_MCMC);\n",
    "    ## sampling iteration\n",
    "    #### allocate tensors for MCMC sample\n",
    "    gsAs = zeros(Float64, M, H, K);\n",
    "    gsBs = zeros(Float64, H, N, K);\n",
    "    gsYs = zeros(Bool, H, n, K);\n",
    "    #### all sampling\n",
    "    doc_onehot = get_doc_onehot(docs_arr);\n",
    "    println(\"Start $K iteration for prior sampling (no thining)\")\n",
    "    sampling_progress = Progress(K);\n",
    "    @time for k in 1:K\n",
    "        ## parameter matrix sampling and saving\n",
    "        A = hcat([rand(Dirichlet(M, alpha)) for k in 1:H]...);\n",
    "        B = hcat([rand(Dirichlet(H, beta)) for j in 1:N]...);\n",
    "        gsAs[:,:,k] = A;\n",
    "        gsBs[:,:,k] = B;\n",
    "        ## hidden variable (topic indicator) sampling and saving\n",
    "        Y = topic_step(docs_arr, A, B);\n",
    "        gsYs[:,:,k] = Y;\n",
    "        ## Progress update\n",
    "        next!(sampling_progress);\n",
    "    end\n",
    "    ## calc likelihood matrix\n",
    "    likelihoodMat = zeros(Float64, n, K)\n",
    "    println(\"Start calculating likelihood matrix\")\n",
    "    thining_progress = Progress(K);\n",
    "    @time for k in 1:K\n",
    "        A = gsAs[:,:,k];\n",
    "        B = gsBs[:,:,k];\n",
    "        ## generated quantity: likelihood matrix\n",
    "        for l in 1:n\n",
    "            x = words_arr[:,l];\n",
    "            z = doc_onehot[:,l];\n",
    "            likelihoodMat[l,k] = model_pmf(x,z,A,B);\n",
    "        end\n",
    "        next!(thining_progress);\n",
    "    end\n",
    "    return (gsYs, gsAs, gsBs, likelihoodMat)\n",
    "end"
   ]
  },
  {
   "cell_type": "markdown",
   "metadata": {},
   "source": [
    "### Theoretical Property of Generalization Error and WAIC\n",
    "\n",
    "The numerical WAIC is defined by\n",
    "$$W_n = T_n + V_n / n,$$\n",
    "where\n",
    "$$T_n = -\\frac{1}{n}\\sum_{l=1}^n \\log p^*(x_l|z_l),$$\n",
    "$$p^*(x_l | z_l) = \\frac{1}{K}\\sum_{k=1}^K p(x_l|z_l,w_k),$$\n",
    "and\n",
    "$$V_n = \\sum_{l=1}^n \\left[ \\frac{1}{K}\\sum_{k=1}^K(\\log p(x_l|z_l,w_k))^2 - \\left\\{ \\frac{1}{K}\\sum_{k=1}^K \\log p(x_l|z_l,w_k) \\right\\}^2 \\right].$$\n",
    "The normalized WAIC is defined by\n",
    "$$W_n - S_n = T_n - S_n + \\frac{V_n}{n} = \\frac{1}{n}\\sum_{l=1}^n \\log \\frac{q(x_l|z_l)}{p^*(x_l|z_l)} + \\frac{V_n}{n}.$$\n",
    "\n",
    "On the other hand, the numerical generalization error is defined by\n",
    "$$G_n = \\frac{1}{T}\\sum_{t=1}^T \\log \\frac{q(x_t|z_t)}{p^*(x_t|x_l)}.$$\n",
    "\n",
    "In the singular learning theory ($K \\rightarrow \\infty$, i.e. theoretical posterior mean is considered),\n",
    "the following property is known and useful for calculating the RLCT $\\lambda$:\n",
    "$$G_n + W_n - S_n = \\frac{2\\lambda}{n} + o_p\\left( \\frac{1}{n} \\right).$$\n",
    "This equation means that $G_n$ and $W_n - S_n$ asymptotically has same variance."
   ]
  },
  {
   "cell_type": "code",
   "execution_count": 100,
   "metadata": {},
   "outputs": [
    {
     "data": {
      "text/plain": [
       "calc_generalization_error"
      ]
     },
     "execution_count": 100,
     "metadata": {},
     "output_type": "execute_result"
    }
   ],
   "source": [
    "# define functions for calculating RLCT\n",
    "@doc \"\"\"\n",
    "    calc_functional_var(loglikeMat::Array{Float64,2})\n",
    "\n",
    "Calculate a functional variance from given loglikelihood matrix.\n",
    "\"\"\"\n",
    "function calc_functional_var(loglikeMat::Array{Float64,2})\n",
    "    #===\n",
    "    Calculate functional variance from loglike matrix.\n",
    "    \n",
    "    :param loglikeMat: a matrix whose (l,k) element is log p(x_l|z_l,A_k,B_k)\n",
    "    ===#\n",
    "    n = size(loglikeMat)[1]\n",
    "    K = size(loglikeMat)[2]\n",
    "    first_term = reshape(mean(loglikeMat.^2, dims=2),n)\n",
    "    second_term = reshape(mean(loglikeMat, dims=2).^2, n)\n",
    "    func_var = sum(first_term - second_term)\n",
    "    return func_var\n",
    "end\n",
    "\n",
    "@doc \"\"\"\n",
    "    calc_predict_dist(x, z, As, Bs)\n",
    "\n",
    "Calculate predictive distribution from given MCMC sample.\n",
    "\"\"\"\n",
    "function calc_predict_dist(x, z, As, Bs)\n",
    "    #===\n",
    "    Calculate pmf of predictive distribution.\n",
    "    \n",
    "    :param x: an M-dim onehot vector which means a word.\n",
    "    :param z: an N-dim onehot vector which means a document.\n",
    "    :param As: an Array whose [:,:,k] element means an MCMC sample of A.\n",
    "    :param Bs: an Array whose [:,:,k] element means an MCMC sample of B.\n",
    "    ===#\n",
    "    @assert size(As)[3]==size(Bs)[3]\n",
    "    K = size(As)[3]\n",
    "    mass = 0.0\n",
    "    for k in 1:K\n",
    "        mass += model_pmf(x, z, As[:,:,k], Bs[:,:,k])\n",
    "    end\n",
    "    return mass/K\n",
    "end\n",
    "\n",
    "@doc \"\"\"\n",
    "    calc_normalized_WAIC(words_arr, doc_onehots, true_A, true_B, likelihoodMat)\n",
    "\n",
    "Calculate normalized WAIC, i.e. emperical loss - WAIC.\n",
    "\"\"\"\n",
    "function calc_normalized_WAIC(words_arr, doc_onehots, true_A, true_B, likelihoodMat)\n",
    "    #===\n",
    "    Calculating normalized WAIC.\n",
    "    ===#\n",
    "    n = size(words_arr)[2]\n",
    "    emp_loss = -mean(log.(mean(likelihoodMat, dims=2)))\n",
    "    emp_entropy = -mean([log(model_pmf(words_arr[:,l], doc_onehots[:,l], true_A, true_B)) for l in 1:n])\n",
    "    func_var = calc_functional_var(log.(likelihoodMat))\n",
    "    #println(typeof(emp_entropy))\n",
    "    normalized_WAIC = emp_loss - emp_entropy + func_var/n\n",
    "    return normalized_WAIC\n",
    "end\n",
    "\n",
    "@doc \"\"\"\n",
    "    calc_generalization_error(true_A, true_B, As, Bs; nT=TESTSIZE, seed_T=3)\n",
    "\n",
    "Calculate generalization error, i.e. KL divergence from the true distribution to the predictive one\n",
    "using many test data generated by the true distribution.\n",
    "\"\"\"\n",
    "function calc_generalization_error(true_A, true_B, As, Bs; nT=TESTSIZE, seed_T=3)\n",
    "    #===\n",
    "    Calculating generalization error using test data generated by true distribution.\n",
    "    ===#\n",
    "    test_doc, test_words = generate_data(true_A, true_B, n=nT, seed=seed_T)\n",
    "    test_doc_onehot = get_doc_onehot(test_doc, n=nT)\n",
    "    ge = 0.0\n",
    "    calc_gerr_progress = Progress(nT)\n",
    "    println(nT)\n",
    "    @time for t in 1:nT\n",
    "        q = model_pmf(test_words[:,t], test_doc_onehot[:,t], true_A, true_B)\n",
    "        pred = calc_predict_dist(test_words[:,t], test_doc_onehot[:,t], As, Bs)\n",
    "        ge += log(q) - log(pred) #log(q/pred), but q and pred is small number.\n",
    "        next!(calc_gerr_progress)\n",
    "    end\n",
    "    ge /= nT\n",
    "    return ge\n",
    "end\n"
   ]
  },
  {
   "cell_type": "code",
   "execution_count": 101,
   "metadata": {},
   "outputs": [
    {
     "data": {
      "text/plain": [
       "run_single_inference"
      ]
     },
     "execution_count": 101,
     "metadata": {},
     "output_type": "execute_result"
    }
   ],
   "source": [
    "@doc \"\"\"\n",
    "    run_single_inference(true_A, true_B, seed)\n",
    "\n",
    "Carry out an inference.\n",
    "- Generate sample.\n",
    "- Run Gibbs sampler and make the posterior distribution.\n",
    "- Calculate (generalization error, normalized WAIC) (this is the return).\n",
    "\"\"\"\n",
    "function run_single_inference(true_A, true_B, seed)\n",
    "    #===\n",
    "    Run single inference.\n",
    "    \n",
    "    Random seed of each module is determined by the following rule:\n",
    "    generate train data: seed + 1\n",
    "    run Gibbs sampler: seed + 2\n",
    "    generate test data: seed + 3\n",
    "    \n",
    "    Macro seed (SEED) must be disjoint from 3 and larger than 10.\n",
    "    ===#\n",
    "    Random.seed!(seed);\n",
    "    train_X_docs, train_X_words = generate_data(true_A, true_B, n=SAMPLESIZE, seed=seed+1)\n",
    "    train_Z = get_doc_onehot(train_X_docs, n=SAMPLESIZE)\n",
    "    println(\"Gibbs Sampling\")\n",
    "    topic_Ys, param_As, param_Bs, likelihoodMat = run_Gibbs_sampler(train_X_docs, train_X_words, ALPHA, BETA, seed_MCMC=seed+2)\n",
    "    #topic_Ys, param_As, param_Bs, likelihoodMat = run_Gibbs_sampler_cored(train_X_docs, train_X_words)\n",
    "    println(\"Calculation Normalized WAIC\")\n",
    "    normalized_WAIC = calc_normalized_WAIC(train_X_words, train_Z, true_A, true_B, likelihoodMat)\n",
    "    println(\"Calculaton Generalization Error\")\n",
    "    ge = calc_generalization_error(true_A, true_B, param_As, param_Bs, seed_T=seed+3)\n",
    "    return (ge, normalized_WAIC)\n",
    "end"
   ]
  },
  {
   "cell_type": "code",
   "execution_count": 102,
   "metadata": {},
   "outputs": [
    {
     "data": {
      "text/plain": [
       "run_single_inference_debug (generic function with 1 method)"
      ]
     },
     "execution_count": 102,
     "metadata": {},
     "output_type": "execute_result"
    }
   ],
   "source": [
    "function run_single_inference_debug(true_A, true_B, seed)\n",
    "    #===\n",
    "    Run single inference for debug mode.\n",
    "    ===#\n",
    "    Random.seed!(seed);\n",
    "    train_X_docs, train_X_words = generate_data(true_A, true_B, n=SAMPLESIZE, seed=seed+1)\n",
    "    train_Z = get_doc_onehot(train_X_docs, n=SAMPLESIZE)\n",
    "    println(\"Gibbs Sampling\")\n",
    "    topic_Ys, param_As, param_Bs, likelihoodMat = run_Gibbs_sampler(train_X_docs, train_X_words, ALPHA, BETA, seed_MCMC=seed+2)\n",
    "    #topic_Ys, param_As, param_Bs, likelihoodMat = run_Gibbs_sampler_cored(train_X_docs, train_X_words)\n",
    "    println(\"Calculation Normalized WAIC\")\n",
    "    normalized_WAIC = calc_normalized_WAIC(train_X_words, train_Z, true_A, true_B, likelihoodMat)\n",
    "    println(\"Calculaton Generalization Error\")\n",
    "    ge = calc_generalization_error(true_A, true_B, param_As, param_Bs, seed_T=seed+3)\n",
    "    return (topic_Ys, param_As, param_Bs, likelihoodMat, ge, normalized_WAIC)\n",
    "end"
   ]
  },
  {
   "cell_type": "code",
   "execution_count": 103,
   "metadata": {},
   "outputs": [
    {
     "data": {
      "text/plain": [
       "run_single_inference_PS (generic function with 1 method)"
      ]
     },
     "execution_count": 103,
     "metadata": {},
     "output_type": "execute_result"
    }
   ],
   "source": [
    "function run_single_inference_PS(true_A, true_B, seed)\n",
    "    #===\n",
    "    Run single inference using prior sampling (worst benchmark).\n",
    "    ===#\n",
    "    Random.seed!(seed);\n",
    "    train_X_docs, train_X_words = generate_data(true_A, true_B, n=SAMPLESIZE, seed=seed+1)\n",
    "    train_Z = get_doc_onehot(train_X_docs, n=SAMPLESIZE)\n",
    "    println(\"Prior Sampling\")\n",
    "    topic_Ys, param_As, param_Bs, likelihoodMat = run_prior_sampling(train_X_docs, train_X_words, ALPHA, BETA, seed_MCMC=seed+2)\n",
    "    #topic_Ys, param_As, param_Bs, likelihoodMat = run_Gibbs_sampler_cored(train_X_docs, train_X_words)\n",
    "    println(\"Calculation Normalized WAIC\")\n",
    "    normalized_WAIC = calc_normalized_WAIC(train_X_words, train_Z, true_A, true_B, likelihoodMat)\n",
    "    println(\"Calculaton Generalization Error\")\n",
    "    ge = calc_generalization_error(true_A, true_B, param_As, param_Bs, seed_T=seed+3)\n",
    "    return (topic_Ys, param_As, param_Bs, likelihoodMat, ge, normalized_WAIC)\n",
    "end"
   ]
  },
  {
   "cell_type": "code",
   "execution_count": 104,
   "metadata": {
    "scrolled": true
   },
   "outputs": [
    {
     "data": {
      "text/plain": [
       "run_multi_inference"
      ]
     },
     "execution_count": 104,
     "metadata": {},
     "output_type": "execute_result"
    }
   ],
   "source": [
    "@doc \"\"\"\n",
    "    run_multi_inference(true_A, true_B, sim_iters, log_file_path)\n",
    "\n",
    "Independently repeat inferences.\n",
    "\"\"\"\n",
    "function run_multi_inference(true_A, true_B, sim_iters, log_file_path)\n",
    "    #===\n",
    "    for it in 1:sim_iters\n",
    "        run_single_inference\n",
    "    end\n",
    "    and calculate RLCT from above $sim_iters simulation results.\n",
    "    \n",
    "    :param true_A: true parameter stochastic matrix A\n",
    "    :param true_B: true parameter stochastic matrix B\n",
    "    :param sim_iters: number of simulations\n",
    "    :param log_file_path: path of the file to write the experimental log\n",
    "    :return: generalization errors and normalized WAICs in the simulations\n",
    "    :rtype: tuple(Array{Float64,1}, Array{Float64,1})\n",
    "    ===#\n",
    "    seeds = SEED .+ SEED * (1:sim_iters)\n",
    "    gerrors = zeros(Float64, sim_iters)\n",
    "    normalized_WAICs = zeros(Float64, sim_iters)\n",
    "    open(log_file_path, \"a\") do fp\n",
    "        println(fp, \"## Simulation Setting\")\n",
    "        println(fp, \"M,N,H,H_0,L,MCMC_K,BURNIN,THIN,TESTSIZE,SIM_ITERS,SEED\")\n",
    "        println(fp, \"$M,$N,$H,$H_0,$L,$MCMC_K,$BURNIN,$THIN,$TESTSIZE,$sim_iters,$SEED\")\n",
    "        println(fp, \"## Simulation Log\")\n",
    "        println(fp, \"iter,gerror,normalized_WAIC,RLCT,RLCT_SEM\")\n",
    "    end\n",
    "    simulation_progress = Progress(sim_iters)\n",
    "    for it in 1:sim_iters\n",
    "        println(\"# start $it th simulation\")\n",
    "        ge, norm_W = run_single_inference(true_A, true_B, seeds[it])\n",
    "        gerrors[it] = ge\n",
    "        normalized_WAICs[it] = norm_W\n",
    "        now_ges = gerrors[1:it]\n",
    "        now_nwaics = normalized_WAICs[1:it]\n",
    "        rlct = (SAMPLESIZE/2)*mean(now_ges + now_nwaics)\n",
    "        rlct_sem = (SAMPLESIZE/2)*std(now_ges + now_nwaics)/sqrt(it)\n",
    "        open(log_file_path, \"a\") do fp\n",
    "            println(fp,\"$it,$ge,$norm_W,$rlct,$rlct_sem\")\n",
    "            println(\"$it,$ge,$norm_W,$rlct,$rlct_sem\")\n",
    "        end\n",
    "        next!(simulation_progress)\n",
    "        #@assert ge>=0\n",
    "        #@assert norm_W>=0\n",
    "    end\n",
    "    return (gerrors, normalized_WAICs)\n",
    "end"
   ]
  },
  {
   "cell_type": "code",
   "execution_count": 105,
   "metadata": {
    "scrolled": true
   },
   "outputs": [
    {
     "name": "stdout",
     "output_type": "stream",
     "text": [
      "# start 1 th simulation\n",
      "Gibbs Sampling\n",
      "Start 50000 iteration for GS"
     ]
    },
    {
     "name": "stderr",
     "output_type": "stream",
     "text": [
      "\r",
      "\u001b[32mProgress:   0%|█                                        |  ETA: 1:25:50\u001b[39m"
     ]
    },
    {
     "name": "stdout",
     "output_type": "stream",
     "text": [
      "\n"
     ]
    },
    {
     "name": "stderr",
     "output_type": "stream",
     "text": [
      "\u001b[32mProgress: 100%|█████████████████████████████████████████| Time: 0:01:09\u001b[39m\n"
     ]
    },
    {
     "name": "stdout",
     "output_type": "stream",
     "text": [
      " 69.630321 seconds (608.12 M allocations: 67.212 GiB, 6.56% gc time)\n",
      "Start burn-in and thining from 50000 to 2000"
     ]
    },
    {
     "name": "stderr",
     "output_type": "stream",
     "text": [
      "\r",
      "\u001b[32mProgress:   4%|██                                       |  ETA: 0:00:03\u001b[39m"
     ]
    },
    {
     "name": "stdout",
     "output_type": "stream",
     "text": [
      "\n"
     ]
    },
    {
     "name": "stderr",
     "output_type": "stream",
     "text": [
      "\u001b[32mProgress: 100%|█████████████████████████████████████████| Time: 0:00:03\u001b[39m\n"
     ]
    },
    {
     "name": "stdout",
     "output_type": "stream",
     "text": [
      "  3.112392 seconds (21.97 M allocations: 1.655 GiB, 8.74% gc time)\n",
      "Calculation Normalized WAIC\n",
      "Calculaton Generalization Error\n",
      "400000"
     ]
    },
    {
     "name": "stderr",
     "output_type": "stream",
     "text": [
      "\r",
      "\u001b[32mProgress:   0%|█                                        |  ETA: 0:12:34\u001b[39m"
     ]
    },
    {
     "name": "stdout",
     "output_type": "stream",
     "text": [
      "\n"
     ]
    },
    {
     "name": "stderr",
     "output_type": "stream",
     "text": [
      "\u001b[32mProgress: 100%|█████████████████████████████████████████| Time: 0:09:11\u001b[39m\n"
     ]
    },
    {
     "name": "stdout",
     "output_type": "stream",
     "text": [
      "551.111497 seconds (2.41 G allocations: 465.249 GiB, 15.90% gc time)\n",
      "1,0.0024217591440052963,0.002570125241062803,4.991884385068099,NaN\n"
     ]
    },
    {
     "name": "stderr",
     "output_type": "stream",
     "text": [
      "\r",
      "\u001b[32mProgress:   1%|█                                        |  ETA: 17:12:28\u001b[39m"
     ]
    },
    {
     "name": "stdout",
     "output_type": "stream",
     "text": [
      "# start 2 th simulation\n",
      "Gibbs Sampling\n",
      "Start 50000 iteration for GS"
     ]
    },
    {
     "name": "stderr",
     "output_type": "stream",
     "text": [
      "\r",
      "\u001b[32mProgress:   0%|█                                        |  ETA: 0:01:00\u001b[39m"
     ]
    },
    {
     "name": "stdout",
     "output_type": "stream",
     "text": [
      "\n"
     ]
    },
    {
     "name": "stderr",
     "output_type": "stream",
     "text": [
      "\u001b[32mProgress: 100%|█████████████████████████████████████████| Time: 0:01:16\u001b[39m\n"
     ]
    },
    {
     "name": "stdout",
     "output_type": "stream",
     "text": [
      " 76.983160 seconds (607.99 M allocations: 67.206 GiB, 8.62% gc time)\n"
     ]
    },
    {
     "name": "stderr",
     "output_type": "stream",
     "text": [
      "\r",
      "\u001b[32mProgress:   4%|██                                       |  ETA: 0:00:03\u001b[39m"
     ]
    },
    {
     "name": "stdout",
     "output_type": "stream",
     "text": [
      "Start burn-in and thining from 50000 to 2000\n"
     ]
    },
    {
     "name": "stderr",
     "output_type": "stream",
     "text": [
      "\u001b[32mProgress: 100%|█████████████████████████████████████████| Time: 0:00:03\u001b[39m\n"
     ]
    },
    {
     "name": "stdout",
     "output_type": "stream",
     "text": [
      "  3.866925 seconds (21.97 M allocations: 1.655 GiB, 7.74% gc time)\n",
      "Calculation Normalized WAIC\n",
      "Calculaton Generalization Error\n",
      "400000"
     ]
    },
    {
     "name": "stderr",
     "output_type": "stream",
     "text": [
      "\r",
      "\u001b[32mProgress:   0%|█                                        |  ETA: 0:08:45\u001b[39m"
     ]
    },
    {
     "name": "stdout",
     "output_type": "stream",
     "text": [
      "\n"
     ]
    },
    {
     "name": "stderr",
     "output_type": "stream",
     "text": [
      "\u001b[32mProgress: 100%|█████████████████████████████████████████| Time: 0:09:14\u001b[39m\n"
     ]
    },
    {
     "name": "stdout",
     "output_type": "stream",
     "text": [
      "554.355026 seconds (2.41"
     ]
    },
    {
     "name": "stderr",
     "output_type": "stream",
     "text": [
      "\r",
      "\u001b[32mProgress:   2%|█                                        |  ETA: 17:10:08\u001b[39m"
     ]
    },
    {
     "name": "stdout",
     "output_type": "stream",
     "text": [
      " G allocations: 465.246 GiB, 15.73% gc time)\n",
      "2,0.0012821823387435664,0.00363825000633795,4.956158365074808,0.03572601999329156\n",
      "# start 3 th simulation\n",
      "Gibbs Sampling\n",
      "Start 50000 iteration for GS"
     ]
    },
    {
     "name": "stderr",
     "output_type": "stream",
     "text": [
      "\r",
      "\u001b[32mProgress:   0%|█                                        |  ETA: 0:00:57\u001b[39m"
     ]
    },
    {
     "name": "stdout",
     "output_type": "stream",
     "text": [
      "\n"
     ]
    },
    {
     "name": "stderr",
     "output_type": "stream",
     "text": [
      "\u001b[32mProgress: 100%|█████████████████████████████████████████| Time: 0:01:02\u001b[39m\n"
     ]
    },
    {
     "name": "stdout",
     "output_type": "stream",
     "text": [
      " 62.895320 seconds (607.97 M allocations: 67.204 GiB, 6.43% gc time)\n",
      "Start burn-in and thining from 50000 to 2000\n"
     ]
    },
    {
     "name": "stderr",
     "output_type": "stream",
     "text": [
      "\u001b[32mProgress: 100%|█████████████████████████████████████████| Time: 0:00:03\u001b[39m\n"
     ]
    },
    {
     "name": "stdout",
     "output_type": "stream",
     "text": [
      "  3.202384 seconds (21.97 M allocations: 1.655 GiB, 7.20% gc time)\n",
      "Calculation Normalized WAIC\n",
      "Calculaton Generalization Error\n",
      "400000\n"
     ]
    },
    {
     "name": "stderr",
     "output_type": "stream",
     "text": [
      "\u001b[32mProgress: 100%|█████████████████████████████████████████| Time: 0:09:17\u001b[39m\n",
      "\u001b[32mProgress:   3%|██                                       |  ETA: 16:55:53\u001b[39m"
     ]
    },
    {
     "name": "stdout",
     "output_type": "stream",
     "text": [
      "557.217675 seconds (2.41 G allocations: 465.249 GiB, 16.11% gc time)\n",
      "3,0.0017286486266155888,0.0034147049450427925,5.018556767269332,0.06571917602914687\n",
      "# start 4 th simulation\n",
      "Gibbs Sampling\n",
      "Start 50000 iteration for GS"
     ]
    },
    {
     "name": "stderr",
     "output_type": "stream",
     "text": [
      "\r",
      "\u001b[32mProgress:   0%|█                                        |  ETA: 0:01:10\u001b[39m"
     ]
    },
    {
     "name": "stdout",
     "output_type": "stream",
     "text": [
      "\n"
     ]
    },
    {
     "name": "stderr",
     "output_type": "stream",
     "text": [
      "\u001b[32mProgress: 100%|█████████████████████████████████████████| Time: 0:01:15\u001b[39m\n"
     ]
    },
    {
     "name": "stdout",
     "output_type": "stream",
     "text": [
      " 75.196374 seconds (607.99 M allocations: 67.205 GiB, 8.57% gc time)\n",
      "Start burn-in and thining from 50000 to 2000"
     ]
    },
    {
     "name": "stderr",
     "output_type": "stream",
     "text": [
      "\r",
      "\u001b[32mProgress:   4%|██                                       |  ETA: 0:00:03\u001b[39m"
     ]
    },
    {
     "name": "stdout",
     "output_type": "stream",
     "text": [
      "\n"
     ]
    },
    {
     "name": "stderr",
     "output_type": "stream",
     "text": [
      "\u001b[32mProgress: 100%|█████████████████████████████████████████| Time: 0:00:03\u001b[39m\n"
     ]
    },
    {
     "name": "stdout",
     "output_type": "stream",
     "text": [
      "  3.242235 seconds (21.97 M allocations: 1.655 GiB, 8.21% gc time)\n",
      "Calculation Normalized WAIC\n",
      "Calculaton Generalization Error\n",
      "400000"
     ]
    },
    {
     "name": "stderr",
     "output_type": "stream",
     "text": [
      "\r",
      "\u001b[32mProgress:   0%|█                                        |  ETA: 0:08:14\u001b[39m"
     ]
    },
    {
     "name": "stdout",
     "output_type": "stream",
     "text": [
      "\n"
     ]
    },
    {
     "name": "stderr",
     "output_type": "stream",
     "text": [
      "\u001b[32mProgress: 100%|█████████████████████████████████████████| Time: 0:09:11\u001b[39m\n"
     ]
    },
    {
     "name": "stdout",
     "output_type": "stream",
     "text": [
      "551.813425 seconds (2.41 G allocations: 465.246 GiB, 15.72% gc time)\n",
      "4,0.0016956014296069524,0.0026940956550819206,4.861341846624216,0.16393912383084383\n"
     ]
    },
    {
     "name": "stderr",
     "output_type": "stream",
     "text": [
      "\r",
      "\u001b[32mProgress:   4%|██                                       |  ETA: 16:46:20\u001b[39m"
     ]
    },
    {
     "name": "stdout",
     "output_type": "stream",
     "text": [
      "# start 5 th simulation\n",
      "Gibbs Sampling\n",
      "Start 50000 iteration for GS\n"
     ]
    },
    {
     "name": "stderr",
     "output_type": "stream",
     "text": [
      "\u001b[32mProgress: 100%|█████████████████████████████████████████| Time: 0:01:02\u001b[39m\n"
     ]
    },
    {
     "name": "stdout",
     "output_type": "stream",
     "text": [
      " 62.340286 seconds (607.97 M allocations: 67.204 GiB, 6.46% gc time)\n",
      "Start burn-in and thining from 50000 to 2000"
     ]
    },
    {
     "name": "stderr",
     "output_type": "stream",
     "text": [
      "\r",
      "\u001b[32mProgress:   4%|██                                       |  ETA: 0:00:02\u001b[39m"
     ]
    },
    {
     "name": "stdout",
     "output_type": "stream",
     "text": [
      "\n"
     ]
    },
    {
     "name": "stderr",
     "output_type": "stream",
     "text": [
      "\u001b[32mProgress: 100%|█████████████████████████████████████████| Time: 0:00:03\u001b[39m\n"
     ]
    },
    {
     "name": "stdout",
     "output_type": "stream",
     "text": [
      "  3.083401 seconds (21.97 M allocations: 1.655 GiB, 7.51% gc time)\n",
      "Calculation Normalized WAIC\n",
      "Calculaton Generalization Error\n",
      "400000"
     ]
    },
    {
     "name": "stderr",
     "output_type": "stream",
     "text": [
      "\r",
      "\u001b[32mProgress:   0%|█                                        |  ETA: 0:08:02\u001b[39m"
     ]
    },
    {
     "name": "stdout",
     "output_type": "stream",
     "text": [
      "\n"
     ]
    },
    {
     "name": "stderr",
     "output_type": "stream",
     "text": [
      "\u001b[32mProgress: 100%|█████████████████████████████████████████| Time: 0:09:14\u001b[39m\n"
     ]
    },
    {
     "name": "stdout",
     "output_type": "stream",
     "text": [
      "554.893264 seconds (2.41 G allocations: 465.248 GiB, 16.13% gc time)\n",
      "5,0.0006690875163942158,0.004657626888851093,4.9544163583484355,0.1574435979205141\n"
     ]
    },
    {
     "name": "stderr",
     "output_type": "stream",
     "text": [
      "\r",
      "\u001b[32mProgress:   5%|███                                      |  ETA: 16:33:17\u001b[39m"
     ]
    },
    {
     "name": "stdout",
     "output_type": "stream",
     "text": [
      "# start 6 th simulation\n",
      "Gibbs Sampling\n",
      "Start 50000 iteration for GS\n"
     ]
    },
    {
     "name": "stderr",
     "output_type": "stream",
     "text": [
      "\u001b[32mProgress: 100%|█████████████████████████████████████████| Time: 0:01:26\u001b[39m\n"
     ]
    },
    {
     "name": "stdout",
     "output_type": "stream",
     "text": [
      " 86.373759 seconds (608.01 M allocations: 67.207 GiB, 8.30% gc time)\n",
      "Start burn-in and thining from 50000 to 2000\n"
     ]
    },
    {
     "name": "stderr",
     "output_type": "stream",
     "text": [
      "\u001b[32mProgress: 100%|█████████████████████████████████████████| Time: 0:00:03\u001b[39m\n"
     ]
    },
    {
     "name": "stdout",
     "output_type": "stream",
     "text": [
      "  3.723436 seconds (21.97 M allocations: 1.655 GiB, 7.86% gc time)\n",
      "Calculation Normalized WAIC\n",
      "Calculaton Generalization Error\n",
      "400000"
     ]
    },
    {
     "name": "stderr",
     "output_type": "stream",
     "text": [
      "\r",
      "\u001b[32mProgress:   0%|█                                        |  ETA: 0:08:43\u001b[39m"
     ]
    },
    {
     "name": "stdout",
     "output_type": "stream",
     "text": [
      "\n"
     ]
    },
    {
     "name": "stderr",
     "output_type": "stream",
     "text": [
      "\u001b[32mProgress: 100%|█████████████████████████████████████████| Time: 0:09:53\u001b[39m\n",
      "\u001b[32mProgress:   6%|███                                      |  ETA: 16:37:41\u001b[39m"
     ]
    },
    {
     "name": "stdout",
     "output_type": "stream",
     "text": [
      "593.692084 seconds (2.41 G allocations: 465.248 GiB, 15.68% gc time)\n",
      "6,0.003061328681552959,0.001485333945664225,4.886457403159894,0.14541003154673543\n",
      "# start 7 th simulation\n",
      "Gibbs Sampling\n",
      "Start 50000 iteration for GS"
     ]
    },
    {
     "name": "stderr",
     "output_type": "stream",
     "text": [
      "\r",
      "\u001b[32mProgress:   0%|█                                        |  ETA: 0:01:09\u001b[39m"
     ]
    },
    {
     "name": "stdout",
     "output_type": "stream",
     "text": [
      "\n"
     ]
    },
    {
     "name": "stderr",
     "output_type": "stream",
     "text": [
      "\u001b[32mProgress: 100%|█████████████████████████████████████████| Time: 0:01:03\u001b[39m\n"
     ]
    },
    {
     "name": "stdout",
     "output_type": "stream",
     "text": [
      " 63.028650 seconds (607.97 M allocations: 67.204 GiB, 6.52% gc time)\n",
      "Start burn-in and thining from 50000 to 2000"
     ]
    },
    {
     "name": "stderr",
     "output_type": "stream",
     "text": [
      "\r",
      "\u001b[32mProgress:   4%|██                                       |  ETA: 0:00:02\u001b[39m"
     ]
    },
    {
     "name": "stdout",
     "output_type": "stream",
     "text": [
      "\n"
     ]
    },
    {
     "name": "stderr",
     "output_type": "stream",
     "text": [
      "\u001b[32mProgress: 100%|█████████████████████████████████████████| Time: 0:00:03\u001b[39m\n"
     ]
    },
    {
     "name": "stdout",
     "output_type": "stream",
     "text": [
      "  3.100765 seconds (21.97 M allocations: 1.655 GiB, 7.68% gc time)\n",
      "Calculation Normalized WAIC\n",
      "Calculaton Generalization Error\n",
      "400000\n"
     ]
    },
    {
     "name": "stderr",
     "output_type": "stream",
     "text": [
      "\u001b[32mProgress: 100%|█████████████████████████████████████████| Time: 0:09:13\u001b[39m\n",
      "\u001b[32mProgress:   7%|███                                      |  ETA: 16:23:18\u001b[39m"
     ]
    },
    {
     "name": "stdout",
     "output_type": "stream",
     "text": [
      "553.176293 seconds (2.41 G allocations: 465.248 GiB, 16.01% gc time)\n",
      "7,0.002410659444316768,0.002231186821168756,4.851512954920699,0.12776551491546964\n",
      "# start 8 th simulation\n",
      "Gibbs Sampling\n",
      "Start 50000 iteration for GS\n"
     ]
    },
    {
     "name": "stderr",
     "output_type": "stream",
     "text": [
      "\u001b[32mProgress: 100%|█████████████████████████████████████████| Time: 0:01:23\u001b[39m\n"
     ]
    },
    {
     "name": "stdout",
     "output_type": "stream",
     "text": [
      " 83.154517 seconds (608.01 M allocations: 67.206 GiB, 8.57% gc time)\n",
      "Start burn-in and thining from 50000 to 2000\n"
     ]
    },
    {
     "name": "stderr",
     "output_type": "stream",
     "text": [
      "\u001b[32mProgress: 100%|█████████████████████████████████████████| Time: 0:00:03\u001b[39m\n"
     ]
    },
    {
     "name": "stdout",
     "output_type": "stream",
     "text": [
      "  3.655434 seconds (21.97 M allocations: 1.655 GiB, 8.10% gc time)\n",
      "Calculation Normalized WAIC\n",
      "Calculaton Generalization Error\n",
      "400000\n"
     ]
    },
    {
     "name": "stderr",
     "output_type": "stream",
     "text": [
      "\u001b[32mProgress: 100%|█████████████████████████████████████████| Time: 0:09:49\u001b[39m\n",
      "\u001b[32mProgress:   8%|████                                     |  ETA: 16:20:47\u001b[39m"
     ]
    },
    {
     "name": "stdout",
     "output_type": "stream",
     "text": [
      "589.242585 seconds (2.41 G allocations: 465.248 GiB, 15.60% gc time)\n",
      "8,0.0021211410894848267,0.0032695799129853053,4.918913960864377,0.1295604712226349\n",
      "# start 9 th simulation\n",
      "Gibbs Sampling\n",
      "Start 50000 iteration for GS\n"
     ]
    },
    {
     "name": "stderr",
     "output_type": "stream",
     "text": [
      "\u001b[32mProgress: 100%|█████████████████████████████████████████| Time: 0:01:05\u001b[39m\n"
     ]
    },
    {
     "name": "stdout",
     "output_type": "stream",
     "text": [
      " 65.014501 seconds (607.97 M allocations: 67.204 GiB, 6.43% gc time)\n",
      "Start burn-in and thining from 50000 to 2000"
     ]
    },
    {
     "name": "stderr",
     "output_type": "stream",
     "text": [
      "\r",
      "\u001b[32mProgress:   4%|██                                       |  ETA: 0:00:03\u001b[39m"
     ]
    },
    {
     "name": "stdout",
     "output_type": "stream",
     "text": [
      "\n"
     ]
    },
    {
     "name": "stderr",
     "output_type": "stream",
     "text": [
      "\u001b[32mProgress: 100%|█████████████████████████████████████████| Time: 0:00:03\u001b[39m\n"
     ]
    },
    {
     "name": "stdout",
     "output_type": "stream",
     "text": [
      "  3.096980 seconds (21.97 M allocations: 1.655 GiB, 7.23% gc time)\n",
      "Calculation Normalized WAIC\n",
      "Calculaton Generalization Error\n",
      "400000"
     ]
    },
    {
     "name": "stderr",
     "output_type": "stream",
     "text": [
      "\r",
      "\u001b[32mProgress:   0%|█                                        |  ETA: 0:07:05\u001b[39m"
     ]
    },
    {
     "name": "stdout",
     "output_type": "stream",
     "text": [
      "\n"
     ]
    },
    {
     "name": "stderr",
     "output_type": "stream",
     "text": [
      "\u001b[32mProgress: 100%|█████████████████████████████████████████| Time: 0:09:41\u001b[39m\n",
      "\u001b[32mProgress:   9%|████                                     |  ETA: 16:11:58\u001b[39m"
     ]
    },
    {
     "name": "stdout",
     "output_type": "stream",
     "text": [
      "581.955764 seconds (2.41 G allocations: 465.251 GiB, 15.85% gc time)\n",
      "9,0.0031385190938971763,0.0016176898308097399,4.900835623513548,0.11568292222774375\n",
      "# start 10 th simulation\n",
      "Gibbs Sampling\n",
      "Start 50000 iteration for GS"
     ]
    },
    {
     "name": "stderr",
     "output_type": "stream",
     "text": [
      "\r",
      "\u001b[32mProgress:   0%|█                                        |  ETA: 0:01:05\u001b[39m"
     ]
    },
    {
     "name": "stdout",
     "output_type": "stream",
     "text": [
      "\n"
     ]
    },
    {
     "name": "stderr",
     "output_type": "stream",
     "text": [
      "\u001b[32mProgress: 100%|█████████████████████████████████████████| Time: 0:01:22\u001b[39m\n"
     ]
    },
    {
     "name": "stdout",
     "output_type": "stream",
     "text": [
      " 82.428417 seconds (608.00 M allocations: 67.206 GiB, 8.55% gc time)\n",
      "Start burn-in and thining from 50000 to 2000"
     ]
    },
    {
     "name": "stderr",
     "output_type": "stream",
     "text": [
      "\r",
      "\u001b[32mProgress:   3%|██                                       |  ETA: 0:00:03\u001b[39m"
     ]
    },
    {
     "name": "stdout",
     "output_type": "stream",
     "text": [
      "\n"
     ]
    },
    {
     "name": "stderr",
     "output_type": "stream",
     "text": [
      "\u001b[32mProgress: 100%|█████████████████████████████████████████| Time: 0:00:03\u001b[39m\n"
     ]
    },
    {
     "name": "stdout",
     "output_type": "stream",
     "text": [
      "  3.397091 seconds (21.97 M allocations: 1.655 GiB, 8.65% gc time)\n",
      "Calculation Normalized WAIC\n",
      "Calculaton Generalization Error\n",
      "400000\n"
     ]
    },
    {
     "name": "stderr",
     "output_type": "stream",
     "text": [
      "\u001b[32mProgress: 100%|█████████████████████████████████████████| Time: 0:09:44\u001b[39m\n",
      "\u001b[32mProgress:  10%|█████                                    |  ETA: 16:05:48\u001b[39m"
     ]
    },
    {
     "name": "stdout",
     "output_type": "stream",
     "text": [
      "584.697548 seconds (2.41 G allocations: 465.247 GiB, 15.64% gc time)\n",
      "10,0.0007134641651682472,0.004144506349333991,4.8965491126124165,0.10355870302309547\n",
      "# start 11 th simulation\n",
      "Gibbs Sampling\n",
      "Start 50000 iteration for GS"
     ]
    },
    {
     "name": "stderr",
     "output_type": "stream",
     "text": [
      "\r",
      "\u001b[32mProgress:   0%|█                                        |  ETA: 0:01:11\u001b[39m"
     ]
    },
    {
     "name": "stdout",
     "output_type": "stream",
     "text": [
      "\n"
     ]
    },
    {
     "name": "stderr",
     "output_type": "stream",
     "text": [
      "\u001b[32mProgress: 100%|█████████████████████████████████████████| Time: 0:01:10\u001b[39m\n"
     ]
    },
    {
     "name": "stdout",
     "output_type": "stream",
     "text": [
      " 70.404462 seconds (607.98 M allocations: 67.205 GiB, 6.32% gc time)\n",
      "Start burn-in and thining from 50000 to 2000\n"
     ]
    },
    {
     "name": "stderr",
     "output_type": "stream",
     "text": [
      "\u001b[32mProgress: 100%|█████████████████████████████████████████| Time: 0:00:03\u001b[39m\n"
     ]
    },
    {
     "name": "stdout",
     "output_type": "stream",
     "text": [
      "  3.450893 seconds (21.97 M allocations: 1.655 GiB, 7.51% gc time)\n",
      "Calculation Normalized WAIC\n",
      "Calculaton Generalization Error\n",
      "400000"
     ]
    },
    {
     "name": "stderr",
     "output_type": "stream",
     "text": [
      "\r",
      "\u001b[32mProgress:   0%|█                                        |  ETA: 0:08:39\u001b[39m"
     ]
    },
    {
     "name": "stdout",
     "output_type": "stream",
     "text": [
      "\n"
     ]
    },
    {
     "name": "stderr",
     "output_type": "stream",
     "text": [
      "\u001b[32mProgress: 100%|█████████████████████████████████████████| Time: 0:09:47\u001b[39m\n"
     ]
    },
    {
     "name": "stdout",
     "output_type": "stream",
     "text": [
      "587.306956 seconds (2.41 G allocations: 465.252 GiB, 15.87% gc time)"
     ]
    },
    {
     "name": "stderr",
     "output_type": "stream",
     "text": [
      "\r",
      "\u001b[32mProgress:  11%|█████                                    |  ETA: 15:57:29\u001b[39m"
     ]
    },
    {
     "name": "stdout",
     "output_type": "stream",
     "text": [
      "\n",
      "11,0.0010926648661800044,0.0036072940871877375,4.87867727995381,0.09536202368523705\n",
      "# start 12 th simulation\n",
      "Gibbs Sampling\n",
      "Start 50000 iteration for GS"
     ]
    },
    {
     "name": "stderr",
     "output_type": "stream",
     "text": [
      "\r",
      "\u001b[32mProgress:   0%|█                                        |  ETA: 0:01:16\u001b[39m"
     ]
    },
    {
     "name": "stdout",
     "output_type": "stream",
     "text": [
      "\n"
     ]
    },
    {
     "name": "stderr",
     "output_type": "stream",
     "text": [
      "\u001b[32mProgress: 100%|█████████████████████████████████████████| Time: 0:01:22\u001b[39m\n"
     ]
    },
    {
     "name": "stdout",
     "output_type": "stream",
     "text": [
      " 82.585079 seconds (608.00 M allocations: 67.206 GiB, 8.37% gc time)\n",
      "Start burn-in and thining from 50000 to 2000"
     ]
    },
    {
     "name": "stderr",
     "output_type": "stream",
     "text": [
      "\r",
      "\u001b[32mProgress:   3%|██                                       |  ETA: 0:00:03\u001b[39m"
     ]
    },
    {
     "name": "stdout",
     "output_type": "stream",
     "text": [
      "\n"
     ]
    },
    {
     "name": "stderr",
     "output_type": "stream",
     "text": [
      "\u001b[32mProgress: 100%|█████████████████████████████████████████| Time: 0:00:03\u001b[39m\n"
     ]
    },
    {
     "name": "stdout",
     "output_type": "stream",
     "text": [
      "  3.580847 seconds (21.97 M allocations: 1.655 GiB, 8.34% gc time)\n",
      "Calculation Normalized WAIC\n",
      "Calculaton Generalization Error\n",
      "400000"
     ]
    },
    {
     "name": "stderr",
     "output_type": "stream",
     "text": [
      "\r",
      "\u001b[32mProgress:   0%|█                                        |  ETA: 0:09:23\u001b[39m"
     ]
    },
    {
     "name": "stdout",
     "output_type": "stream",
     "text": [
      "\n"
     ]
    },
    {
     "name": "stderr",
     "output_type": "stream",
     "text": [
      "\u001b[32mProgress: 100%|█████████████████████████████████████████| Time: 0:09:40\u001b[39m\n",
      "\u001b[32mProgress:  12%|█████                                    |  ETA: 15:49:20\u001b[39m"
     ]
    },
    {
     "name": "stdout",
     "output_type": "stream",
     "text": [
      "580.182166 seconds (2.41 G allocations: 465.247 GiB, 15.65% gc time)\n",
      "12,0.002895620319178235,0.001445179525879958,4.8338541603791745,0.09791514191476433\n",
      "# start 13 th simulation\n",
      "Gibbs Sampling\n",
      "Start 50000 iteration for GS"
     ]
    },
    {
     "name": "stderr",
     "output_type": "stream",
     "text": [
      "\r",
      "\u001b[32mProgress:   0%|█                                        |  ETA: 0:01:03\u001b[39m"
     ]
    },
    {
     "name": "stdout",
     "output_type": "stream",
     "text": [
      "\n"
     ]
    },
    {
     "name": "stderr",
     "output_type": "stream",
     "text": [
      "\u001b[32mProgress: 100%|█████████████████████████████████████████| Time: 0:01:03\u001b[39m\n"
     ]
    },
    {
     "name": "stdout",
     "output_type": "stream",
     "text": [
      " 63.206825 seconds (607.97 M allocations: 67.204 GiB, 6.57% gc time)\n",
      "Start burn-in and thining from 50000 to 2000"
     ]
    },
    {
     "name": "stderr",
     "output_type": "stream",
     "text": [
      "\r",
      "\u001b[32mProgress:   4%|██                                       |  ETA: 0:00:03\u001b[39m"
     ]
    },
    {
     "name": "stdout",
     "output_type": "stream",
     "text": [
      "\n"
     ]
    },
    {
     "name": "stderr",
     "output_type": "stream",
     "text": [
      "\u001b[32mProgress: 100%|█████████████████████████████████████████| Time: 0:00:03\u001b[39m\n"
     ]
    },
    {
     "name": "stdout",
     "output_type": "stream",
     "text": [
      "  3.184057 seconds (21.97 M allocations: 1.655 GiB, 7.23% gc time)\n",
      "Calculation Normalized WAIC\n",
      "Calculaton Generalization Error\n",
      "400000\n"
     ]
    },
    {
     "name": "stderr",
     "output_type": "stream",
     "text": [
      "\u001b[32mProgress: 100%|█████████████████████████████████████████| Time: 0:09:09\u001b[39m\n",
      "\u001b[32mProgress:  13%|██████                                   |  ETA: 15:35:09\u001b[39m"
     ]
    },
    {
     "name": "stdout",
     "output_type": "stream",
     "text": [
      "549.948331 seconds (2.41 G allocations: 465.247 GiB, 16.02% gc time)\n",
      "13,0.0027125786927423155,0.002047540306757108,4.828182224926887,0.09024724425843746\n",
      "# start 14 th simulation\n",
      "Gibbs Sampling\n",
      "Start 50000 iteration for GS"
     ]
    },
    {
     "name": "stderr",
     "output_type": "stream",
     "text": [
      "\r",
      "\u001b[32mProgress:   0%|█                                        |  ETA: 0:00:55\u001b[39m"
     ]
    },
    {
     "name": "stdout",
     "output_type": "stream",
     "text": [
      "\n"
     ]
    },
    {
     "name": "stderr",
     "output_type": "stream",
     "text": [
      "\u001b[32mProgress: 100%|█████████████████████████████████████████| Time: 0:01:14\u001b[39m\n"
     ]
    },
    {
     "name": "stdout",
     "output_type": "stream",
     "text": [
      " 74.691291 seconds (607.99 M allocations: 67.205 GiB, 8.66% gc time)\n",
      "Start burn-in and thining from 50000 to 2000"
     ]
    },
    {
     "name": "stderr",
     "output_type": "stream",
     "text": [
      "\r",
      "\u001b[32mProgress:   3%|██                                       |  ETA: 0:00:03\u001b[39m"
     ]
    },
    {
     "name": "stdout",
     "output_type": "stream",
     "text": [
      "\n"
     ]
    },
    {
     "name": "stderr",
     "output_type": "stream",
     "text": [
      "\u001b[32mProgress: 100%|█████████████████████████████████████████| Time: 0:00:03\u001b[39m\n"
     ]
    },
    {
     "name": "stdout",
     "output_type": "stream",
     "text": [
      "  3.358145 seconds (21.97 M allocations: 1.655 GiB, 8.68% gc time)\n",
      "Calculation Normalized WAIC\n",
      "Calculaton Generalization Error\n",
      "400000"
     ]
    },
    {
     "name": "stderr",
     "output_type": "stream",
     "text": [
      "\r",
      "\u001b[32mProgress:   0%|█                                        |  ETA: 0:07:24\u001b[39m"
     ]
    },
    {
     "name": "stdout",
     "output_type": "stream",
     "text": [
      "\n"
     ]
    },
    {
     "name": "stderr",
     "output_type": "stream",
     "text": [
      "\u001b[32mProgress: 100%|█████████████████████████████████████████| Time: 0:09:10\u001b[39m\n"
     ]
    },
    {
     "name": "stdout",
     "output_type": "stream",
     "text": [
      "550.646979 seconds (2.41 G allocations: 465.246 GiB, 15.69% gc time)\n",
      "14,0.0031874875189593136,0.0015975760610265916,4.825102321716816,0.0836094587984058"
     ]
    },
    {
     "name": "stderr",
     "output_type": "stream",
     "text": [
      "\r",
      "\u001b[32mProgress:  14%|██████                                   |  ETA: 15:22:46\u001b[39m"
     ]
    },
    {
     "name": "stdout",
     "output_type": "stream",
     "text": [
      "\n",
      "# start 15 th simulation\n",
      "Gibbs Sampling\n",
      "Start 50000 iteration for GS\n"
     ]
    },
    {
     "name": "stderr",
     "output_type": "stream",
     "text": [
      "\u001b[32mProgress: 100%|█████████████████████████████████████████| Time: 0:01:04\u001b[39m\n"
     ]
    },
    {
     "name": "stdout",
     "output_type": "stream",
     "text": [
      " 64.190529 seconds (607.97 M allocations: 67.204 GiB, 6.48% gc time)\n",
      "Start burn-in and thining from 50000 to 2000"
     ]
    },
    {
     "name": "stderr",
     "output_type": "stream",
     "text": [
      "\r"
     ]
    },
    {
     "name": "stdout",
     "output_type": "stream",
     "text": [
      "\n"
     ]
    },
    {
     "name": "stderr",
     "output_type": "stream",
     "text": [
      "\u001b[32mProgress: 100%|█████████████████████████████████████████| Time: 0:00:03\u001b[39m\n"
     ]
    },
    {
     "name": "stdout",
     "output_type": "stream",
     "text": [
      "  3.171297 seconds (21.97 M allocations: 1.655 GiB, 7.48% gc time)\n",
      "Calculation Normalized WAIC\n",
      "Calculaton Generalization Error\n"
     ]
    },
    {
     "name": "stderr",
     "output_type": "stream",
     "text": [
      "\r",
      "\u001b[32mProgress:   0%|█                                        |  ETA: 0:07:50\u001b[39m"
     ]
    },
    {
     "name": "stdout",
     "output_type": "stream",
     "text": [
      "400000\n"
     ]
    },
    {
     "name": "stderr",
     "output_type": "stream",
     "text": [
      "\u001b[32mProgress: 100%|█████████████████████████████████████████| Time: 0:09:06\u001b[39m\n",
      "\u001b[32mProgress:  15%|███████                                  |  ETA: 15:09:13\u001b[39m"
     ]
    },
    {
     "name": "stdout",
     "output_type": "stream",
     "text": [
      "546.054653 seconds (2.41 G allocations: 465.247 GiB, 16.12% gc time)\n",
      "15,0.0009757647246791552,0.003966728240523068,4.832928364615842,0.07822861582957619\n",
      "# start 16 th simulation\n",
      "Gibbs Sampling\n",
      "Start 50000 iteration for GS"
     ]
    },
    {
     "name": "stderr",
     "output_type": "stream",
     "text": [
      "\r",
      "\u001b[32mProgress:   0%|█                                        |  ETA: 0:01:03\u001b[39m"
     ]
    },
    {
     "name": "stdout",
     "output_type": "stream",
     "text": [
      "\n"
     ]
    },
    {
     "name": "stderr",
     "output_type": "stream",
     "text": [
      "\u001b[32mProgress: 100%|█████████████████████████████████████████| Time: 0:01:14\u001b[39m\n"
     ]
    },
    {
     "name": "stdout",
     "output_type": "stream",
     "text": [
      " 74.671345 seconds (607.99 M allocations: 67.205 GiB, 8.60% gc time)\n",
      "Start burn-in and thining from 50000 to 2000\n"
     ]
    },
    {
     "name": "stderr",
     "output_type": "stream",
     "text": [
      "\u001b[32mProgress: 100%|█████████████████████████████████████████| Time: 0:00:03\u001b[39m\n"
     ]
    },
    {
     "name": "stdout",
     "output_type": "stream",
     "text": [
      "  3.213858 seconds (21.97 M allocations: 1.655 GiB, 8.29% gc time)\n",
      "Calculation Normalized WAIC\n",
      "Calculaton Generalization Error\n",
      "400000\n"
     ]
    },
    {
     "name": "stderr",
     "output_type": "stream",
     "text": [
      "\u001b[32mProgress: 100%|█████████████████████████████████████████| Time: 0:08:56\u001b[39m\n",
      "\u001b[32mProgress:  16%|███████                                  |  ETA: 14:56:12\u001b[39m"
     ]
    },
    {
     "name": "stdout",
     "output_type": "stream",
     "text": [
      "536.984175 seconds (2.41 G allocations: 465.245 GiB, 15.83% gc time)\n",
      "16,0.0036384287242274133,0.0005887144250938852,4.795066788659933,0.08239084127893138\n",
      "# start 17 th simulation\n",
      "Gibbs Sampling\n",
      "Start 50000 iteration for GS"
     ]
    },
    {
     "name": "stderr",
     "output_type": "stream",
     "text": [
      "\r",
      "\u001b[32mProgress:   0%|█                                        |  ETA: 0:00:59\u001b[39m"
     ]
    },
    {
     "name": "stdout",
     "output_type": "stream",
     "text": [
      "\n"
     ]
    },
    {
     "name": "stderr",
     "output_type": "stream",
     "text": [
      "\u001b[32mProgress: 100%|█████████████████████████████████████████| Time: 0:01:03\u001b[39m\n"
     ]
    },
    {
     "name": "stdout",
     "output_type": "stream",
     "text": [
      " 63.511434 seconds (607.97 M allocations: 67.204 GiB, 6.63% gc time)\n",
      "Start burn-in and thining from 50000 to 2000\n"
     ]
    },
    {
     "name": "stderr",
     "output_type": "stream",
     "text": [
      "\u001b[32mProgress: 100%|█████████████████████████████████████████| Time: 0:00:03\u001b[39m\n"
     ]
    },
    {
     "name": "stdout",
     "output_type": "stream",
     "text": [
      "  3.111181 seconds (21.97 M allocations: 1.655 GiB, 7.64% gc time)\n",
      "Calculation Normalized WAIC\n",
      "Calculaton Generalization Error\n",
      "400000"
     ]
    },
    {
     "name": "stderr",
     "output_type": "stream",
     "text": [
      "\r",
      "\u001b[32mProgress:   0%|█                                        |  ETA: 0:09:54\u001b[39m"
     ]
    },
    {
     "name": "stdout",
     "output_type": "stream",
     "text": [
      "\n"
     ]
    },
    {
     "name": "stderr",
     "output_type": "stream",
     "text": [
      "\u001b[32mProgress: 100%|█████████████████████████████████████████| Time: 0:09:12\u001b[39m\n",
      "\u001b[32mProgress:  17%|███████                                  |  ETA: 14:43:50\u001b[39m"
     ]
    },
    {
     "name": "stdout",
     "output_type": "stream",
     "text": [
      "552.178569 seconds (2.41 G allocations: 465.248 GiB, 16.05% gc time)\n",
      "17,0.0025253013660822784,0.0021657875068309034,4.78895044067483,0.07763403059727012\n",
      "# start 18 th simulation\n",
      "Gibbs Sampling\n",
      "Start 50000 iteration for GS"
     ]
    },
    {
     "name": "stderr",
     "output_type": "stream",
     "text": [
      "\r",
      "\u001b[32mProgress:   0%|█                                        |  ETA: 0:01:02\u001b[39m"
     ]
    },
    {
     "name": "stdout",
     "output_type": "stream",
     "text": [
      "\n"
     ]
    },
    {
     "name": "stderr",
     "output_type": "stream",
     "text": [
      "\u001b[32mProgress: 100%|█████████████████████████████████████████| Time: 0:01:16\u001b[39m\n"
     ]
    },
    {
     "name": "stdout",
     "output_type": "stream",
     "text": [
      " 76.572994 seconds (608.00 M allocations: 67.206 GiB, 8.51% gc time)\n",
      "Start burn-in and thining from 50000 to 2000"
     ]
    },
    {
     "name": "stderr",
     "output_type": "stream",
     "text": [
      "\r",
      "\u001b[32mProgress:   4%|██                                       |  ETA: 0:00:03\u001b[39m"
     ]
    },
    {
     "name": "stdout",
     "output_type": "stream",
     "text": [
      "\n"
     ]
    },
    {
     "name": "stderr",
     "output_type": "stream",
     "text": [
      "\u001b[32mProgress: 100%|█████████████████████████████████████████| Time: 0:00:03\u001b[39m\n"
     ]
    },
    {
     "name": "stdout",
     "output_type": "stream",
     "text": [
      "  3.395699 seconds (21.97 M allocations: 1.655 GiB, 8.68% gc time)\n",
      "Calculation Normalized WAIC\n",
      "Calculaton Generalization Error\n",
      "400000"
     ]
    },
    {
     "name": "stderr",
     "output_type": "stream",
     "text": [
      "\r",
      "\u001b[32mProgress:   0%|█                                        |  ETA: 0:06:56\u001b[39m"
     ]
    },
    {
     "name": "stdout",
     "output_type": "stream",
     "text": [
      "\n"
     ]
    },
    {
     "name": "stderr",
     "output_type": "stream",
     "text": [
      "\u001b[32mProgress: 100%|█████████████████████████████████████████| Time: 0:09:12\u001b[39m\n",
      "\u001b[32mProgress:  18%|████████                                 |  ETA: 14:32:42\u001b[39m"
     ]
    },
    {
     "name": "stdout",
     "output_type": "stream",
     "text": [
      "552.242019 seconds (2.41 G allocations: 465.246 GiB, 15.72% gc time)\n",
      "18,0.002575582887855905,0.0027071294359516324,4.816381656404427,0.07816548401511522\n",
      "# start 19 th simulation\n",
      "Gibbs Sampling\n",
      "Start 50000 iteration for GS"
     ]
    },
    {
     "name": "stderr",
     "output_type": "stream",
     "text": [
      "\r",
      "\u001b[32mProgress:   0%|█                                        |  ETA: 0:00:58\u001b[39m"
     ]
    },
    {
     "name": "stdout",
     "output_type": "stream",
     "text": [
      "\n"
     ]
    },
    {
     "name": "stderr",
     "output_type": "stream",
     "text": [
      "\u001b[32mProgress: 100%|█████████████████████████████████████████| Time: 0:01:04\u001b[39m\n"
     ]
    },
    {
     "name": "stdout",
     "output_type": "stream",
     "text": [
      " 64.956989 seconds (607.97 M allocations: 67.204 GiB, 6.51% gc time)\n",
      "Start burn-in and thining from 50000 to 2000\n"
     ]
    },
    {
     "name": "stderr",
     "output_type": "stream",
     "text": [
      "\u001b[32mProgress: 100%|█████████████████████████████████████████| Time: 0:00:03\u001b[39m\n"
     ]
    },
    {
     "name": "stdout",
     "output_type": "stream",
     "text": [
      "  3.282746 seconds (21.97 M allocations: 1.655 GiB, 8.06% gc time)\n",
      "Calculation Normalized WAIC\n",
      "Calculaton Generalization Error\n",
      "400000\n"
     ]
    },
    {
     "name": "stderr",
     "output_type": "stream",
     "text": [
      "\u001b[32mProgress: 100%|█████████████████████████████████████████| Time: 0:09:09\u001b[39m\n"
     ]
    },
    {
     "name": "stdout",
     "output_type": "stream",
     "text": [
      "549.677849 seconds (2.41 G allocations: 465.248 GiB, 16.14% gc time)\n",
      "19,0.0008100636270389622,0.004202633310993887,4.826714039648027,0.07465560714259259"
     ]
    },
    {
     "name": "stderr",
     "output_type": "stream",
     "text": [
      "\r",
      "\u001b[32mProgress:  19%|████████                                 |  ETA: 14:20:38\u001b[39m"
     ]
    },
    {
     "name": "stdout",
     "output_type": "stream",
     "text": [
      "\n",
      "# start 20 th simulation\n",
      "Gibbs Sampling\n",
      "Start 50000 iteration for GS\n"
     ]
    },
    {
     "name": "stderr",
     "output_type": "stream",
     "text": [
      "\u001b[32mProgress: 100%|█████████████████████████████████████████| Time: 0:01:16\u001b[39m\n"
     ]
    },
    {
     "name": "stdout",
     "output_type": "stream",
     "text": [
      " 76.667947 seconds (608.00 M allocations: 67.206 GiB, 8.52% gc time)\n",
      "Start burn-in and thining from 50000 to 2000\n"
     ]
    },
    {
     "name": "stderr",
     "output_type": "stream",
     "text": [
      "\u001b[32mProgress: 100%|█████████████████████████████████████████| Time: 0:00:03\u001b[39m\n"
     ]
    },
    {
     "name": "stdout",
     "output_type": "stream",
     "text": [
      "  3.274685 seconds (21.97 M allocations: 1.655 GiB, 8.02% gc time)\n",
      "Calculation Normalized WAIC\n",
      "Calculaton Generalization Error\n",
      "400000\n"
     ]
    },
    {
     "name": "stderr",
     "output_type": "stream",
     "text": [
      "\u001b[32mProgress: 100%|█████████████████████████████████████████| Time: 0:09:09\u001b[39m\n",
      "\u001b[32mProgress:  20%|█████████                                |  ETA: 14:09:31\u001b[39m"
     ]
    },
    {
     "name": "stdout",
     "output_type": "stream",
     "text": [
      "549.795198 seconds (2.41 G allocations: 465.246 GiB, 15.76% gc time)\n",
      "20,0.001181611844776133,0.0035331054084337997,4.8211142003261225,0.07104556221522466\n",
      "# start 21 th simulation\n",
      "Gibbs Sampling\n",
      "Start 50000 iteration for GS\n"
     ]
    },
    {
     "name": "stderr",
     "output_type": "stream",
     "text": [
      "\u001b[32mProgress: 100%|█████████████████████████████████████████| Time: 0:01:05\u001b[39m\n"
     ]
    },
    {
     "name": "stdout",
     "output_type": "stream",
     "text": [
      " 65.252509 seconds (607.97 M allocations: 67.204 GiB, 6.42% gc time)\n",
      "Start burn-in and thining from 50000 to 2000"
     ]
    },
    {
     "name": "stderr",
     "output_type": "stream",
     "text": [
      "\r",
      "\u001b[32mProgress:   3%|██                                       |  ETA: 0:00:03\u001b[39m"
     ]
    },
    {
     "name": "stdout",
     "output_type": "stream",
     "text": [
      "\n"
     ]
    },
    {
     "name": "stderr",
     "output_type": "stream",
     "text": [
      "\u001b[32mProgress: 100%|█████████████████████████████████████████| Time: 0:00:03\u001b[39m\n"
     ]
    },
    {
     "name": "stdout",
     "output_type": "stream",
     "text": [
      "  3.267757 seconds (21.97 M allocations: 1.655 GiB, 7.63% gc time)\n",
      "Calculation Normalized WAIC\n",
      "Calculaton Generalization Error\n",
      "400000"
     ]
    },
    {
     "name": "stderr",
     "output_type": "stream",
     "text": [
      "\r",
      "\u001b[32mProgress:   0%|█                                        |  ETA: 0:07:56\u001b[39m"
     ]
    },
    {
     "name": "stdout",
     "output_type": "stream",
     "text": [
      "\n"
     ]
    },
    {
     "name": "stderr",
     "output_type": "stream",
     "text": [
      "\u001b[32mProgress: 100%|█████████████████████████████████████████| Time: 0:09:03\u001b[39m\n",
      "\u001b[32mProgress:  21%|█████████                                |  ETA: 13:57:23\u001b[39m"
     ]
    },
    {
     "name": "stdout",
     "output_type": "stream",
     "text": [
      "543.979995 seconds (2.41 G allocations: 465.247 GiB, 16.09% gc time)\n",
      "21,0.001826801454799901,0.002938164067998402,4.818440453777178,0.06763068253805882\n",
      "# start 22 th simulation\n",
      "Gibbs Sampling\n",
      "Start 50000 iteration for GS\n"
     ]
    },
    {
     "name": "stderr",
     "output_type": "stream",
     "text": [
      "\u001b[32mProgress: 100%|█████████████████████████████████████████| Time: 0:01:14\u001b[39m\n"
     ]
    },
    {
     "name": "stdout",
     "output_type": "stream",
     "text": [
      " 74.269268 seconds (607.99 M allocations: 67.205 GiB, 8.74% gc time)\n",
      "Start burn-in and thining from 50000 to 2000\n"
     ]
    },
    {
     "name": "stderr",
     "output_type": "stream",
     "text": [
      "\u001b[32mProgress: 100%|█████████████████████████████████████████| Time: 0:00:03\u001b[39m\n"
     ]
    },
    {
     "name": "stdout",
     "output_type": "stream",
     "text": [
      "  3.256302 seconds (21.97 M allocations: 1.655 GiB, 8.39% gc time)\n",
      "Calculation Normalized WAIC\n",
      "Calculaton Generalization Error\n",
      "400000"
     ]
    },
    {
     "name": "stderr",
     "output_type": "stream",
     "text": [
      "\r",
      "\u001b[32mProgress:   0%|█                                        |  ETA: 0:07:05\u001b[39m"
     ]
    },
    {
     "name": "stdout",
     "output_type": "stream",
     "text": [
      "\n"
     ]
    },
    {
     "name": "stderr",
     "output_type": "stream",
     "text": [
      "\u001b[32mProgress: 100%|█████████████████████████████████████████| Time: 0:09:13\u001b[39m\n",
      "\u001b[32mProgress:  22%|██████████                               |  ETA: 13:46:31\u001b[39m"
     ]
    },
    {
     "name": "stdout",
     "output_type": "stream",
     "text": [
      "553.508520 seconds (2.41 G allocations: 465.246 GiB, 15.86% gc time)\n",
      "22,0.004756496328551393,4.825246264352715e-5,4.817818105477985,0.06448632885214546\n",
      "# start 23 th simulation\n",
      "Gibbs Sampling\n",
      "Start 50000 iteration for GS\n"
     ]
    },
    {
     "name": "stderr",
     "output_type": "stream",
     "text": [
      "\u001b[32mProgress: 100%|█████████████████████████████████████████| Time: 0:01:08\u001b[39m\n"
     ]
    },
    {
     "name": "stdout",
     "output_type": "stream",
     "text": [
      " 68.307476 seconds (607.98 M allocations: 67.205 GiB, 6.30% gc time)\n",
      "Start burn-in and thining from 50000 to 2000"
     ]
    },
    {
     "name": "stderr",
     "output_type": "stream",
     "text": [
      "\r",
      "\u001b[32mProgress:   3%|██                                       |  ETA: 0:00:03\u001b[39m"
     ]
    },
    {
     "name": "stdout",
     "output_type": "stream",
     "text": [
      "\n"
     ]
    },
    {
     "name": "stderr",
     "output_type": "stream",
     "text": [
      "\u001b[32mProgress: 100%|█████████████████████████████████████████| Time: 0:00:03\u001b[39m\n"
     ]
    },
    {
     "name": "stdout",
     "output_type": "stream",
     "text": [
      "  3.398644 seconds (21.97 M allocations: 1.655 GiB, 7.16% gc time)\n",
      "Calculation Normalized WAIC\n",
      "Calculaton Generalization Error\n",
      "400000"
     ]
    },
    {
     "name": "stderr",
     "output_type": "stream",
     "text": [
      "\r",
      "\u001b[32mProgress:   0%|█                                        |  ETA: 0:07:50\u001b[39m"
     ]
    },
    {
     "name": "stdout",
     "output_type": "stream",
     "text": [
      "\n"
     ]
    },
    {
     "name": "stderr",
     "output_type": "stream",
     "text": [
      "\u001b[32mProgress: 100%|█████████████████████████████████████████| Time: 0:09:06\u001b[39m\n",
      "\u001b[32mProgress:  23%|██████████                               |  ETA: 13:34:57\u001b[39m"
     ]
    },
    {
     "name": "stdout",
     "output_type": "stream",
     "text": [
      "546.366655 seconds (2.41 G allocations: 465.247 GiB, 16.22% gc time)\n",
      "23,0.0030040075917577196,0.00218877185704268,4.8341207725789594,0.06373896792567241\n",
      "# start 24 th simulation\n",
      "Gibbs Sampling\n",
      "Start 50000 iteration for GS"
     ]
    },
    {
     "name": "stderr",
     "output_type": "stream",
     "text": [
      "\r",
      "\u001b[32mProgress:   0%|█                                        |  ETA: 0:01:08\u001b[39m"
     ]
    },
    {
     "name": "stdout",
     "output_type": "stream",
     "text": [
      "\n"
     ]
    },
    {
     "name": "stderr",
     "output_type": "stream",
     "text": [
      "\u001b[32mProgress: 100%|█████████████████████████████████████████| Time: 0:01:15\u001b[39m\n"
     ]
    },
    {
     "name": "stdout",
     "output_type": "stream",
     "text": [
      " 75.444177 seconds (607.99 M allocations: 67.206 GiB, 8.61% gc time)\n",
      "Start burn-in and thining from 50000 to 2000"
     ]
    },
    {
     "name": "stderr",
     "output_type": "stream",
     "text": [
      "\r",
      "\u001b[32mProgress:   4%|██                                       |  ETA: 0:00:03\u001b[39m"
     ]
    },
    {
     "name": "stdout",
     "output_type": "stream",
     "text": [
      "\n"
     ]
    },
    {
     "name": "stderr",
     "output_type": "stream",
     "text": [
      "\u001b[32mProgress: 100%|█████████████████████████████████████████| Time: 0:00:03\u001b[39m\n"
     ]
    },
    {
     "name": "stdout",
     "output_type": "stream",
     "text": [
      "  3.310463 seconds (21.97 M allocations: 1.655 GiB, 8.25% gc time)\n",
      "Calculation Normalized WAIC\n",
      "Calculaton Generalization Error\n",
      "400000"
     ]
    },
    {
     "name": "stderr",
     "output_type": "stream",
     "text": [
      "\r",
      "\u001b[32mProgress:   0%|█                                        |  ETA: 0:06:57\u001b[39m"
     ]
    },
    {
     "name": "stdout",
     "output_type": "stream",
     "text": [
      "\n"
     ]
    },
    {
     "name": "stderr",
     "output_type": "stream",
     "text": [
      "\u001b[32mProgress: 100%|█████████████████████████████████████████| Time: 0:09:12\u001b[39m\n",
      "\u001b[32mProgress:  24%|██████████                               |  ETA: 13:24:13\u001b[39m"
     ]
    },
    {
     "name": "stdout",
     "output_type": "stream",
     "text": [
      "552.764234 seconds (2.41 G allocations: 465.246 GiB, 15.85% gc time)\n",
      "24,0.002010732914652271,0.002657391550313539,4.827204259761745,0.06141611769257396\n",
      "# start 25 th simulation\n",
      "Gibbs Sampling\n",
      "Start 50000 iteration for GS\n"
     ]
    },
    {
     "name": "stderr",
     "output_type": "stream",
     "text": [
      "\u001b[32mProgress: 100%|█████████████████████████████████████████| Time: 0:01:09\u001b[39m\n"
     ]
    },
    {
     "name": "stdout",
     "output_type": "stream",
     "text": [
      " 69.364505 seconds (607.98 M allocations: 67.205 GiB, 6.23% gc time)\n",
      "Start burn-in and thining from 50000 to 2000"
     ]
    },
    {
     "name": "stderr",
     "output_type": "stream",
     "text": [
      "\r",
      "\u001b[32mProgress:   4%|██                                       |  ETA: 0:00:02\u001b[39m"
     ]
    },
    {
     "name": "stdout",
     "output_type": "stream",
     "text": [
      "\n"
     ]
    },
    {
     "name": "stderr",
     "output_type": "stream",
     "text": [
      "\u001b[32mProgress: 100%|█████████████████████████████████████████| Time: 0:00:03\u001b[39m\n"
     ]
    },
    {
     "name": "stdout",
     "output_type": "stream",
     "text": [
      "  3.104940 seconds (21.97 M allocations: 1.655 GiB, 7.59% gc time)\n",
      "Calculation Normalized WAIC\n",
      "Calculaton Generalization Error\n",
      "400000"
     ]
    },
    {
     "name": "stderr",
     "output_type": "stream",
     "text": [
      "\r",
      "\u001b[32mProgress:   0%|█                                        |  ETA: 0:08:25\u001b[39m"
     ]
    },
    {
     "name": "stdout",
     "output_type": "stream",
     "text": [
      "\n"
     ]
    },
    {
     "name": "stderr",
     "output_type": "stream",
     "text": [
      "\u001b[32mProgress: 100%|█████████████████████████████████████████| Time: 0:09:08\u001b[39m\n"
     ]
    },
    {
     "name": "stdout",
     "output_type": "stream",
     "text": [
      "548.800337 seconds (2.41 G allocations: 465.248 GiB, "
     ]
    },
    {
     "name": "stderr",
     "output_type": "stream",
     "text": [
      "\r",
      "\u001b[32mProgress:  25%|███████████                              |  ETA: 13:12:58\u001b[39m"
     ]
    },
    {
     "name": "stdout",
     "output_type": "stream",
     "text": [
      "16.14% gc time)\n",
      "25,0.001448817168920329,0.0035251499231203276,4.833074773052902,0.05920006146732868\n",
      "# start 26 th simulation\n",
      "Gibbs Sampling\n",
      "Start 50000 iteration for GS\n"
     ]
    },
    {
     "name": "stderr",
     "output_type": "stream",
     "text": [
      "\u001b[32mProgress: 100%|█████████████████████████████████████████| Time: 0:01:14\u001b[39m\n"
     ]
    },
    {
     "name": "stdout",
     "output_type": "stream",
     "text": [
      " 74.136308 seconds (607.99 M allocations: 67.205 GiB, 8.66% gc time)\n",
      "Start burn-in and thining from 50000 to 2000"
     ]
    },
    {
     "name": "stderr",
     "output_type": "stream",
     "text": [
      "\r",
      "\u001b[32mProgress:   4%|██                                       |  ETA: 0:00:02\u001b[39m"
     ]
    },
    {
     "name": "stdout",
     "output_type": "stream",
     "text": [
      "\n"
     ]
    },
    {
     "name": "stderr",
     "output_type": "stream",
     "text": [
      "\u001b[32mProgress: 100%|█████████████████████████████████████████| Time: 0:00:03\u001b[39m\n"
     ]
    },
    {
     "name": "stdout",
     "output_type": "stream",
     "text": [
      "  3.247561 seconds (21.97 M allocations: 1.655 GiB, 9.07% gc time)\n",
      "Calculation Normalized WAIC\n",
      "Calculaton Generalization Error\n",
      "400000"
     ]
    },
    {
     "name": "stderr",
     "output_type": "stream",
     "text": [
      "\r",
      "\u001b[32mProgress:   0%|█                                        |  ETA: 0:07:01\u001b[39m"
     ]
    },
    {
     "name": "stdout",
     "output_type": "stream",
     "text": [
      "\n"
     ]
    },
    {
     "name": "stderr",
     "output_type": "stream",
     "text": [
      "\u001b[32mProgress: 100%|█████████████████████████████████████████| Time: 0:08:58\u001b[39m\n"
     ]
    },
    {
     "name": "stdout",
     "output_type": "stream",
     "text": [
      "538.467741 seconds (2.41 G allocations: 465.245 GiB, 16.14% gc time)\n",
      "26,0.0006053898072771067,0.004319002132828639,4.836586971785703,0.05698591550147009\n"
     ]
    },
    {
     "name": "stderr",
     "output_type": "stream",
     "text": [
      "\r",
      "\u001b[32mProgress:  26%|███████████                              |  ETA: 13:01:32\u001b[39m"
     ]
    },
    {
     "name": "stdout",
     "output_type": "stream",
     "text": [
      "# start 27 th simulation\n",
      "Gibbs Sampling\n",
      "Start 50000 iteration for GS\n"
     ]
    },
    {
     "name": "stderr",
     "output_type": "stream",
     "text": [
      "\u001b[32mProgress: 100%|█████████████████████████████████████████| Time: 0:01:02\u001b[39m\n"
     ]
    },
    {
     "name": "stdout",
     "output_type": "stream",
     "text": [
      " 62.215011 seconds (607.97 M allocations: 67.204 GiB, 6.45% gc time)\n",
      "Start burn-in and thining from 50000 to 2000"
     ]
    },
    {
     "name": "stderr",
     "output_type": "stream",
     "text": [
      "\r",
      "\u001b[32mProgress:   4%|██                                       |  ETA: 0:00:02\u001b[39m"
     ]
    },
    {
     "name": "stdout",
     "output_type": "stream",
     "text": [
      "\n"
     ]
    },
    {
     "name": "stderr",
     "output_type": "stream",
     "text": [
      "\u001b[32mProgress: 100%|█████████████████████████████████████████| Time: 0:00:03\u001b[39m\n"
     ]
    },
    {
     "name": "stdout",
     "output_type": "stream",
     "text": [
      "  3.111951 seconds (21.97 M allocations: 1.655 GiB, 7.57% gc time)\n",
      "Calculation Normalized WAIC\n",
      "Calculaton Generalization Error"
     ]
    },
    {
     "name": "stderr",
     "output_type": "stream",
     "text": [
      "\r",
      "\u001b[32mProgress:   0%|█                                        |  ETA: 0:06:52\u001b[39m"
     ]
    },
    {
     "name": "stdout",
     "output_type": "stream",
     "text": [
      "\n",
      "400000\n"
     ]
    },
    {
     "name": "stderr",
     "output_type": "stream",
     "text": [
      "\u001b[32mProgress: 100%|█████████████████████████████████████████| Time: 0:08:57\u001b[39m\n",
      "\u001b[32mProgress:  27%|████████████                             |  ETA: 12:49:38\u001b[39m"
     ]
    },
    {
     "name": "stdout",
     "output_type": "stream",
     "text": [
      "537.866819 seconds (2.41 G allocations: 465.246 GiB, 16.24% gc time)\n",
      "27,0.0028864109830302265,0.0016811408754120565,4.826622708328541,0.05573269566590917\n",
      "# start 28 th simulation\n",
      "Gibbs Sampling\n",
      "Start 50000 iteration for GS\n"
     ]
    },
    {
     "name": "stderr",
     "output_type": "stream",
     "text": [
      "\u001b[32mProgress: 100%|█████████████████████████████████████████| Time: 0:01:14\u001b[39m\n"
     ]
    },
    {
     "name": "stdout",
     "output_type": "stream",
     "text": [
      " 74.680780 seconds (607.99 M allocations: 67.205 GiB, 8.73% gc time)\n",
      "Start burn-in and thining from 50000 to 2000\n"
     ]
    },
    {
     "name": "stderr",
     "output_type": "stream",
     "text": [
      "\u001b[32mProgress: 100%|█████████████████████████████████████████| Time: 0:00:03\u001b[39m\n"
     ]
    },
    {
     "name": "stdout",
     "output_type": "stream",
     "text": [
      "  3.242358 seconds (21.97 M allocations: 1.655 GiB, 8.23% gc time)\n",
      "Calculation Normalized WAIC\n",
      "Calculaton Generalization Error\n",
      "400000"
     ]
    },
    {
     "name": "stderr",
     "output_type": "stream",
     "text": [
      "\r",
      "\u001b[32mProgress:   0%|█                                        |  ETA: 0:07:24\u001b[39m"
     ]
    },
    {
     "name": "stdout",
     "output_type": "stream",
     "text": [
      "\n"
     ]
    },
    {
     "name": "stderr",
     "output_type": "stream",
     "text": [
      "\u001b[32mProgress: 100%|█████████████████████████████████████████| Time: 0:09:01\u001b[39m\n",
      "\u001b[32mProgress:  28%|████████████                             |  ETA: 12:38:32\u001b[39m"
     ]
    },
    {
     "name": "stdout",
     "output_type": "stream",
     "text": [
      "541.379332 seconds (2.41 G allocations: 465.246 GiB, 16.05% gc time)\n",
      "28,0.0027653295593963374,0.0021436866770783124,4.829565334333759,0.05378592515688418\n",
      "# start 29 th simulation\n",
      "Gibbs Sampling\n",
      "Start 50000 iteration for GS\n"
     ]
    },
    {
     "name": "stderr",
     "output_type": "stream",
     "text": [
      "\u001b[32mProgress: 100%|█████████████████████████████████████████| Time: 0:01:02\u001b[39m\n"
     ]
    },
    {
     "name": "stdout",
     "output_type": "stream",
     "text": [
      " 62.495503 seconds (607.97 M allocations: 67.204 GiB, 6.57% gc time)\n",
      "Start burn-in and thining from 50000 to 2000\n"
     ]
    },
    {
     "name": "stderr",
     "output_type": "stream",
     "text": [
      "\u001b[32mProgress: 100%|█████████████████████████████████████████| Time: 0:00:03\u001b[39m\n"
     ]
    },
    {
     "name": "stdout",
     "output_type": "stream",
     "text": [
      "  3.153094 seconds (21.97 M allocations: 1.655 GiB, 7.55% gc time)\n",
      "Calculation Normalized WAIC\n",
      "Calculaton Generalization Error\n",
      "400000"
     ]
    },
    {
     "name": "stderr",
     "output_type": "stream",
     "text": [
      "\r",
      "\u001b[32mProgress:   0%|█                                        |  ETA: 0:07:55\u001b[39m"
     ]
    },
    {
     "name": "stdout",
     "output_type": "stream",
     "text": [
      "\n"
     ]
    },
    {
     "name": "stderr",
     "output_type": "stream",
     "text": [
      "\u001b[32mProgress: 100%|█████████████████████████████████████████| Time: 0:08:55\u001b[39m\n"
     ]
    },
    {
     "name": "stdout",
     "output_type": "stream",
     "text": [
      "535.250932 seconds (2.41 G allocations: 465.246 GiB, 16.26% gc time)\n",
      "29,0.0014991627060163416,0.003182814103045103,4.82447607484161,0.05214704389336745\n"
     ]
    },
    {
     "name": "stderr",
     "output_type": "stream",
     "text": [
      "\r",
      "\u001b[32mProgress:  29%|████████████                             |  ETA: 12:26:45\u001b[39m"
     ]
    },
    {
     "name": "stdout",
     "output_type": "stream",
     "text": [
      "# start 30 th simulation\n",
      "Gibbs Sampling\n",
      "Start 50000 iteration for GS"
     ]
    },
    {
     "name": "stderr",
     "output_type": "stream",
     "text": [
      "\r",
      "\u001b[32mProgress:   0%|█                                        |  ETA: 0:01:01\u001b[39m"
     ]
    },
    {
     "name": "stdout",
     "output_type": "stream",
     "text": [
      "\n"
     ]
    },
    {
     "name": "stderr",
     "output_type": "stream",
     "text": [
      "\u001b[32mProgress: 100%|█████████████████████████████████████████| Time: 0:01:14\u001b[39m\n"
     ]
    },
    {
     "name": "stdout",
     "output_type": "stream",
     "text": [
      " 74.162043 seconds (607.99 M allocations: 67.205 GiB, 8.79% gc time)\n",
      "Start burn-in and thining from 50000 to 2000\n"
     ]
    },
    {
     "name": "stderr",
     "output_type": "stream",
     "text": [
      "\u001b[32mProgress: 100%|█████████████████████████████████████████| Time: 0:00:03\u001b[39m\n"
     ]
    },
    {
     "name": "stdout",
     "output_type": "stream",
     "text": [
      "  3.263947 seconds (21.97 M allocations: 1.655 GiB, 8.58% gc time)\n",
      "Calculation Normalized WAIC\n",
      "Calculaton Generalization Error\n",
      "400000\n"
     ]
    },
    {
     "name": "stderr",
     "output_type": "stream",
     "text": [
      "\u001b[32mProgress: 100%|█████████████████████████████████████████| Time: 0:08:51\u001b[39m\n",
      "\u001b[32mProgress:  30%|█████████████                            |  ETA: 12:15:24\u001b[39m"
     ]
    },
    {
     "name": "stdout",
     "output_type": "stream",
     "text": [
      "531.816473 seconds (2.41 G allocations: 465.245 GiB, 16.11% gc time)\n",
      "30,0.003626624400750939,0.0019212613109657788,4.848589729404113,0.05585243871776853\n",
      "# start 31 th simulation\n",
      "Gibbs Sampling\n",
      "Start 50000 iteration for GS"
     ]
    },
    {
     "name": "stderr",
     "output_type": "stream",
     "text": [
      "\r",
      "\u001b[32mProgress:   0%|█                                        |  ETA: 0:00:54\u001b[39m"
     ]
    },
    {
     "name": "stdout",
     "output_type": "stream",
     "text": [
      "\n"
     ]
    },
    {
     "name": "stderr",
     "output_type": "stream",
     "text": [
      "\u001b[32mProgress: 100%|█████████████████████████████████████████| Time: 0:01:02\u001b[39m\n"
     ]
    },
    {
     "name": "stdout",
     "output_type": "stream",
     "text": [
      " 62.168531 seconds (607.97 M allocations: 67.204 GiB, 6.54% gc time)\n",
      "Start burn-in and thining from 50000 to 2000\n"
     ]
    },
    {
     "name": "stderr",
     "output_type": "stream",
     "text": [
      "\u001b[32mProgress: 100%|█████████████████████████████████████████| Time: 0:00:03\u001b[39m\n"
     ]
    },
    {
     "name": "stdout",
     "output_type": "stream",
     "text": [
      "  3.138599 seconds (21.97 M allocations: 1.655 GiB, 7.50% gc time)\n",
      "Calculation Normalized WAIC\n",
      "Calculaton Generalization Error\n",
      "400000"
     ]
    },
    {
     "name": "stderr",
     "output_type": "stream",
     "text": [
      "\r",
      "\u001b[32mProgress:   0%|█                                        |  ETA: 0:06:52\u001b[39m"
     ]
    },
    {
     "name": "stdout",
     "output_type": "stream",
     "text": [
      "\n"
     ]
    },
    {
     "name": "stderr",
     "output_type": "stream",
     "text": [
      "\u001b[32mProgress: 100%|█████████████████████████████████████████| Time: 0:09:02\u001b[39m\n",
      "\u001b[32mProgress:  31%|█████████████                            |  ETA: 12:04:03\u001b[39m"
     ]
    },
    {
     "name": "stdout",
     "output_type": "stream",
     "text": [
      "542.148961 seconds (2.41 G allocations: 465.247 GiB, 16.18% gc time)\n",
      "31,0.0024471342718231743,0.002215714539518655,4.842598086885975,0.054351972867704004\n",
      "# start 32 th simulation\n",
      "Gibbs Sampling\n",
      "Start 50000 iteration for GS\n"
     ]
    },
    {
     "name": "stderr",
     "output_type": "stream",
     "text": [
      "\u001b[32mProgress: 100%|█████████████████████████████████████████| Time: 0:01:19\u001b[39m\n"
     ]
    },
    {
     "name": "stdout",
     "output_type": "stream",
     "text": [
      " 79.735690 seconds (608.00 M allocations: 67.206 GiB, 8.50% gc time)\n",
      "Start burn-in and thining from 50000 to 2000\n"
     ]
    },
    {
     "name": "stderr",
     "output_type": "stream",
     "text": [
      "\u001b[32mProgress: 100%|█████████████████████████████████████████| Time: 0:00:03\u001b[39m\n"
     ]
    },
    {
     "name": "stdout",
     "output_type": "stream",
     "text": [
      "  3.353886 seconds (21.97 M allocations: 1.655 GiB, 8.20% gc time)\n",
      "Calculation Normalized WAIC\n",
      "Calculaton Generalization Error\n",
      "400000\n"
     ]
    },
    {
     "name": "stderr",
     "output_type": "stream",
     "text": [
      "\u001b[32mProgress: 100%|█████████████████████████████████████████| Time: 0:09:13\u001b[39m\n",
      "\u001b[32mProgress:  32%|██████████████                           |  ETA: 11:53:50\u001b[39m"
     ]
    },
    {
     "name": "stdout",
     "output_type": "stream",
     "text": [
      "553.882744 seconds (2.41 G allocations: 465.246 GiB, 15.97% gc time)\n",
      "32,0.0034765878046164557,0.00098945739780373,4.830830809246419,0.05392561745585114\n",
      "# start 33 th simulation\n",
      "Gibbs Sampling\n",
      "Start 50000 iteration for GS"
     ]
    },
    {
     "name": "stderr",
     "output_type": "stream",
     "text": [
      "\r",
      "\u001b[32mProgress:   0%|█                                        |  ETA: 0:01:01\u001b[39m"
     ]
    },
    {
     "name": "stdout",
     "output_type": "stream",
     "text": [
      "\n"
     ]
    },
    {
     "name": "stderr",
     "output_type": "stream",
     "text": [
      "\u001b[32mProgress: 100%|█████████████████████████████████████████| Time: 0:01:04\u001b[39m\n"
     ]
    },
    {
     "name": "stdout",
     "output_type": "stream",
     "text": [
      " 64.883007 seconds (607.97 M allocations: 67.204 GiB, 6.46% gc time)\n",
      "Start burn-in and thining from 50000 to 2000"
     ]
    },
    {
     "name": "stderr",
     "output_type": "stream",
     "text": [
      "\r",
      "\u001b[32mProgress:   4%|██                                       |  ETA: 0:00:03\u001b[39m"
     ]
    },
    {
     "name": "stdout",
     "output_type": "stream",
     "text": [
      "\n"
     ]
    },
    {
     "name": "stderr",
     "output_type": "stream",
     "text": [
      "\u001b[32mProgress: 100%|█████████████████████████████████████████| Time: 0:00:03\u001b[39m\n"
     ]
    },
    {
     "name": "stdout",
     "output_type": "stream",
     "text": [
      "  3.075633 seconds (21.97 M allocations: 1.655 GiB, 7.37% gc time)\n",
      "Calculation Normalized WAIC\n",
      "Calculaton Generalization Error\n",
      "400000\n"
     ]
    },
    {
     "name": "stderr",
     "output_type": "stream",
     "text": [
      "\u001b[32mProgress: 100%|█████████████████████████████████████████| Time: 0:09:06\u001b[39m\n",
      "\u001b[32mProgress:  33%|██████████████                           |  ETA: 11:42:49\u001b[39m"
     ]
    },
    {
     "name": "stdout",
     "output_type": "stream",
     "text": [
      "546.029167 seconds (2.41 G allocations: 465.247 GiB, 16.28% gc time)\n",
      "33,0.0027857739320823922,0.0019201276185343147,4.827045074136429,0.052402893697135515\n",
      "# start 34 th simulation\n",
      "Gibbs Sampling\n",
      "Start 50000 iteration for GS\n"
     ]
    },
    {
     "name": "stderr",
     "output_type": "stream",
     "text": [
      "\u001b[32mProgress: 100%|█████████████████████████████████████████| Time: 0:01:18\u001b[39m\n"
     ]
    },
    {
     "name": "stdout",
     "output_type": "stream",
     "text": [
      " 78.696397 seconds (608.00 M allocations: 67.206 GiB, 8.57% gc time)\n",
      "Start burn-in and thining from 50000 to 2000\n"
     ]
    },
    {
     "name": "stderr",
     "output_type": "stream",
     "text": [
      "\u001b[32mProgress: 100%|█████████████████████████████████████████| Time: 0:00:03\u001b[39m\n"
     ]
    },
    {
     "name": "stdout",
     "output_type": "stream",
     "text": [
      "  3.397115 seconds (21.97 M allocations: 1.655 GiB, 9.10% gc time)\n",
      "Calculation Normalized WAIC\n",
      "Calculaton Generalization Error\n",
      "400000"
     ]
    },
    {
     "name": "stderr",
     "output_type": "stream",
     "text": [
      "\r",
      "\u001b[32mProgress:   0%|█                                        |  ETA: 0:08:08\u001b[39m"
     ]
    },
    {
     "name": "stdout",
     "output_type": "stream",
     "text": [
      "\n"
     ]
    },
    {
     "name": "stderr",
     "output_type": "stream",
     "text": [
      "\u001b[32mProgress: 100%|█████████████████████████████████████████| Time: 0:09:24\u001b[39m\n",
      "\u001b[32mProgress:  34%|██████████████                           |  ETA: 11:32:54\u001b[39m"
     ]
    },
    {
     "name": "stdout",
     "output_type": "stream",
     "text": [
      "564.525310 seconds (2.41 G allocations: 465.246 GiB, 15.86% gc time)\n",
      "34,0.00306956331359231,0.002378803374880125,4.845319239263957,0.05402291407856065\n",
      "# start 35 th simulation\n",
      "Gibbs Sampling\n",
      "Start 50000 iteration for GS"
     ]
    },
    {
     "name": "stderr",
     "output_type": "stream",
     "text": [
      "\r",
      "\u001b[32mProgress:   0%|█                                        |  ETA: 0:01:17\u001b[39m"
     ]
    },
    {
     "name": "stdout",
     "output_type": "stream",
     "text": [
      "\n"
     ]
    },
    {
     "name": "stderr",
     "output_type": "stream",
     "text": [
      "\u001b[32mProgress: 100%|█████████████████████████████████████████| Time: 0:01:07\u001b[39m\n"
     ]
    },
    {
     "name": "stdout",
     "output_type": "stream",
     "text": [
      " 67.088286 seconds (607.98 M allocations: 67.205 GiB, 6.38% gc time)\n",
      "Start burn-in and thining from 50000 to 2000"
     ]
    },
    {
     "name": "stderr",
     "output_type": "stream",
     "text": [
      "\r",
      "\u001b[32mProgress:   4%|██                                       |  ETA: 0:00:03\u001b[39m"
     ]
    },
    {
     "name": "stdout",
     "output_type": "stream",
     "text": [
      "\n"
     ]
    },
    {
     "name": "stderr",
     "output_type": "stream",
     "text": [
      "\u001b[32mProgress: 100%|█████████████████████████████████████████| Time: 0:00:03\u001b[39m\n"
     ]
    },
    {
     "name": "stdout",
     "output_type": "stream",
     "text": [
      "  3.326626 seconds (21.97 M allocations: 1.655 GiB, 7.40% gc time)\n",
      "Calculation Normalized WAIC\n",
      "Calculaton Generalization Error\n",
      "400000\n"
     ]
    },
    {
     "name": "stderr",
     "output_type": "stream",
     "text": [
      "\u001b[32mProgress: 100%|█████████████████████████████████████████| Time: 0:09:07\u001b[39m\n",
      "\u001b[32mProgress:  35%|███████████████                          |  ETA: 11:22:03\u001b[39m"
     ]
    },
    {
     "name": "stdout",
     "output_type": "stream",
     "text": [
      "547.778740 seconds (2.41 G allocations: 465.248 GiB, 16.30% gc time)\n",
      "35,0.0014191794908529165,0.0036669680380708794,4.852200047539953,0.05290605592973003\n",
      "# start 36 th simulation\n",
      "Gibbs Sampling\n",
      "Start 50000 iteration for GS\n"
     ]
    },
    {
     "name": "stderr",
     "output_type": "stream",
     "text": [
      "\u001b[32mProgress: 100%|█████████████████████████████████████████| Time: 0:01:14\u001b[39m\n"
     ]
    },
    {
     "name": "stdout",
     "output_type": "stream",
     "text": [
      " 74.472873 seconds (607.99 M allocations: 67.205 GiB, 8.67% gc time)\n",
      "Start burn-in and thining from 50000 to 2000"
     ]
    },
    {
     "name": "stderr",
     "output_type": "stream",
     "text": [
      "\r",
      "\u001b[32mProgress:   4%|██                                       |  ETA: 0:00:03\u001b[39m"
     ]
    },
    {
     "name": "stdout",
     "output_type": "stream",
     "text": [
      "\n"
     ]
    },
    {
     "name": "stderr",
     "output_type": "stream",
     "text": [
      "\u001b[32mProgress: 100%|█████████████████████████████████████████| Time: 0:00:03\u001b[39m\n"
     ]
    },
    {
     "name": "stdout",
     "output_type": "stream",
     "text": [
      "  3.270395 seconds (21.97 M allocations: 1.655 GiB, 9.04% gc time)\n",
      "Calculation Normalized WAIC\n",
      "Calculaton Generalization Error\n",
      "400000\n"
     ]
    },
    {
     "name": "stderr",
     "output_type": "stream",
     "text": [
      "\u001b[32mProgress: 100%|█████████████████████████████████████████| Time: 0:09:15\u001b[39m\n",
      "\u001b[32mProgress:  36%|███████████████                          |  ETA: 11:11:41\u001b[39m"
     ]
    },
    {
     "name": "stdout",
     "output_type": "stream",
     "text": [
      "555.639677 seconds (2.41 G allocations: 465.246 GiB, 15.98% gc time)\n",
      "36,0.0012306151210446073,0.0035011438773812206,4.848854462842338,0.05152417754161401\n",
      "# start 37 th simulation\n",
      "Gibbs Sampling\n",
      "Start 50000 iteration for GS"
     ]
    },
    {
     "name": "stderr",
     "output_type": "stream",
     "text": [
      "\r",
      "\u001b[32mProgress:   0%|█                                        |  ETA: 0:01:04\u001b[39m"
     ]
    },
    {
     "name": "stdout",
     "output_type": "stream",
     "text": [
      "\n"
     ]
    },
    {
     "name": "stderr",
     "output_type": "stream",
     "text": [
      "\u001b[32mProgress: 100%|█████████████████████████████████████████| Time: 0:01:05\u001b[39m\n"
     ]
    },
    {
     "name": "stdout",
     "output_type": "stream",
     "text": [
      " 65.347271 seconds (607.97 M allocations: 67.204 GiB, 6.32% gc time)\n",
      "Start burn-in and thining from 50000 to 2000\n"
     ]
    },
    {
     "name": "stderr",
     "output_type": "stream",
     "text": [
      "\u001b[32mProgress: 100%|█████████████████████████████████████████| Time: 0:00:03\u001b[39m\n"
     ]
    },
    {
     "name": "stdout",
     "output_type": "stream",
     "text": [
      "  3.207712 seconds (21.97 M allocations: 1.655 GiB, 7.15% gc time)\n",
      "Calculation Normalized WAIC\n",
      "Calculaton Generalization Error\n",
      "400000"
     ]
    },
    {
     "name": "stderr",
     "output_type": "stream",
     "text": [
      "\r",
      "\u001b[32mProgress:   0%|█                                        |  ETA: 0:06:57\u001b[39m"
     ]
    },
    {
     "name": "stdout",
     "output_type": "stream",
     "text": [
      "\n"
     ]
    },
    {
     "name": "stderr",
     "output_type": "stream",
     "text": [
      "\u001b[32mProgress: 100%|█████████████████████████████████████████| Time: 0:09:08\u001b[39m\n",
      "\u001b[32mProgress:  37%|████████████████                         |  ETA: 11:00:51\u001b[39m"
     ]
    },
    {
     "name": "stdout",
     "output_type": "stream",
     "text": [
      "548.915024 seconds (2.41 G allocations: 465.248 GiB, 16.26% gc time)\n",
      "37,0.0032114713277053715,0.001757512246707225,4.852101195587481,0.05021735395557231\n",
      "# start 38 th simulation\n",
      "Gibbs Sampling\n",
      "Start 50000 iteration for GS"
     ]
    },
    {
     "name": "stderr",
     "output_type": "stream",
     "text": [
      "\r",
      "\u001b[32mProgress:   0%|█                                        |  ETA: 0:00:58\u001b[39m"
     ]
    },
    {
     "name": "stdout",
     "output_type": "stream",
     "text": [
      "\n"
     ]
    },
    {
     "name": "stderr",
     "output_type": "stream",
     "text": [
      "\u001b[32mProgress: 100%|█████████████████████████████████████████| Time: 0:01:17\u001b[39m\n"
     ]
    },
    {
     "name": "stdout",
     "output_type": "stream",
     "text": [
      " 77.115792 seconds (608.00 M allocations: 67.206 GiB, 8.58% gc time)\n",
      "Start burn-in and thining from 50000 to 2000"
     ]
    },
    {
     "name": "stderr",
     "output_type": "stream",
     "text": [
      "\r",
      "\u001b[32mProgress:   4%|██                                       |  ETA: 0:00:03\u001b[39m"
     ]
    },
    {
     "name": "stdout",
     "output_type": "stream",
     "text": [
      "\n"
     ]
    },
    {
     "name": "stderr",
     "output_type": "stream",
     "text": [
      "\u001b[32mProgress: 100%|█████████████████████████████████████████| Time: 0:00:03\u001b[39m\n"
     ]
    },
    {
     "name": "stdout",
     "output_type": "stream",
     "text": [
      "  3.222063 seconds (21.97 M allocations: 1.655 GiB, 8.72% gc time)\n",
      "Calculation Normalized WAIC\n",
      "Calculaton Generalization Error\n",
      "400000\n"
     ]
    },
    {
     "name": "stderr",
     "output_type": "stream",
     "text": [
      "\u001b[32mProgress: 100%|█████████████████████████████████████████| Time: 0:08:58\u001b[39m\n",
      "\u001b[32mProgress:  38%|████████████████                         |  ETA: 10:50:06\u001b[39m"
     ]
    },
    {
     "name": "stdout",
     "output_type": "stream",
     "text": [
      "538.755117 seconds (2.41 G allocations: 465.245 GiB, 16.08% gc time)\n",
      "38,0.004285548550370712,0.0005460484667820951,4.8515616119444624,0.0488809613938934\n",
      "# start 39 th simulation\n",
      "Gibbs Sampling\n",
      "Start 50000 iteration for GS\n"
     ]
    },
    {
     "name": "stderr",
     "output_type": "stream",
     "text": [
      "\u001b[32mProgress: 100%|█████████████████████████████████████████| Time: 0:01:03\u001b[39m\n"
     ]
    },
    {
     "name": "stdout",
     "output_type": "stream",
     "text": [
      " 63.777460 seconds (607.97 M allocations: 67.204 GiB, 6.40% gc time)\n",
      "Start burn-in and thining from 50000 to 2000\n"
     ]
    },
    {
     "name": "stderr",
     "output_type": "stream",
     "text": [
      "\u001b[32mProgress: 100%|█████████████████████████████████████████| Time: 0:00:03\u001b[39m\n"
     ]
    },
    {
     "name": "stdout",
     "output_type": "stream",
     "text": [
      "  3.272807 seconds (21.97 M allocations: 1.655 GiB, 7.27% gc time)\n",
      "Calculation Normalized WAIC\n",
      "Calculaton Generalization Error\n",
      "400000"
     ]
    },
    {
     "name": "stderr",
     "output_type": "stream",
     "text": [
      "\r",
      "\u001b[32mProgress:   0%|█                                        |  ETA: 0:07:39\u001b[39m"
     ]
    },
    {
     "name": "stdout",
     "output_type": "stream",
     "text": [
      "\n"
     ]
    },
    {
     "name": "stderr",
     "output_type": "stream",
     "text": [
      "\u001b[32mProgress: 100%|█████████████████████████████████████████| Time: 0:09:01\u001b[39m\n"
     ]
    },
    {
     "name": "stdout",
     "output_type": "stream",
     "text": [
      "541.752286 seconds (2.41 G allocations: 465.247 GiB, 16.22% gc time)\n",
      "39,0.003926276211556378,0.0009596477422044803,4.852442697632062,0.047619260937965764\n"
     ]
    },
    {
     "name": "stderr",
     "output_type": "stream",
     "text": [
      "\u001b[32mProgress:  39%|████████████████                         |  ETA: 10:39:06\u001b[39m"
     ]
    },
    {
     "name": "stdout",
     "output_type": "stream",
     "text": [
      "# start 40 th simulation\n",
      "Gibbs Sampling\n",
      "Start 50000 iteration for GS"
     ]
    },
    {
     "name": "stderr",
     "output_type": "stream",
     "text": [
      "\r",
      "\u001b[32mProgress:   0%|█                                        |  ETA: 0:01:05\u001b[39m"
     ]
    },
    {
     "name": "stdout",
     "output_type": "stream",
     "text": [
      "\n"
     ]
    },
    {
     "name": "stderr",
     "output_type": "stream",
     "text": [
      "\u001b[32mProgress: 100%|█████████████████████████████████████████| Time: 0:01:14\u001b[39m\n"
     ]
    },
    {
     "name": "stdout",
     "output_type": "stream",
     "text": [
      " 74.993623 seconds (607.99 M allocations: 67.206 GiB, 8.68% gc time)\n",
      "Start burn-in and thining from 50000 to 2000\n"
     ]
    },
    {
     "name": "stderr",
     "output_type": "stream",
     "text": [
      "\u001b[32mProgress: 100%|█████████████████████████████████████████| Time: 0:00:03\u001b[39m\n"
     ]
    },
    {
     "name": "stdout",
     "output_type": "stream",
     "text": [
      "  3.230889 seconds (21.97 M allocations: 1.655 GiB, 8.41% gc time)\n",
      "Calculation Normalized WAIC\n",
      "Calculaton Generalization Error\n",
      "400000"
     ]
    },
    {
     "name": "stderr",
     "output_type": "stream",
     "text": [
      "\r",
      "\u001b[32mProgress:   0%|█                                        |  ETA: 0:07:39\u001b[39m"
     ]
    },
    {
     "name": "stdout",
     "output_type": "stream",
     "text": [
      "\n"
     ]
    },
    {
     "name": "stderr",
     "output_type": "stream",
     "text": [
      "\u001b[32mProgress: 100%|█████████████████████████████████████████| Time: 0:09:03\u001b[39m\n"
     ]
    },
    {
     "name": "stdout",
     "output_type": "stream",
     "text": [
      "543.191806 seconds (2.41 G allocations: 465.245 GiB, 16.09% gc time)\n",
      "40,0.002653939684026488,0.0025787059460206105,4.861947770942439,0.04737679527257821"
     ]
    },
    {
     "name": "stderr",
     "output_type": "stream",
     "text": [
      "\r",
      "\u001b[32mProgress:  40%|█████████████████                        |  ETA: 10:28:27\u001b[39m"
     ]
    },
    {
     "name": "stdout",
     "output_type": "stream",
     "text": [
      "\n",
      "# start 41 th simulation\n",
      "Gibbs Sampling\n",
      "Start 50000 iteration for GS\n"
     ]
    },
    {
     "name": "stderr",
     "output_type": "stream",
     "text": [
      "\u001b[32mProgress: 100%|█████████████████████████████████████████| Time: 0:01:03\u001b[39m\n"
     ]
    },
    {
     "name": "stdout",
     "output_type": "stream",
     "text": [
      " 63.503760 seconds (607.97 M allocations: 67.204 GiB, 6.64% gc time)\n",
      "Start burn-in and thining from 50000 to 2000\n"
     ]
    },
    {
     "name": "stderr",
     "output_type": "stream",
     "text": [
      "\u001b[32mProgress: 100%|█████████████████████████████████████████| Time: 0:00:03\u001b[39m\n"
     ]
    },
    {
     "name": "stdout",
     "output_type": "stream",
     "text": [
      "  3.051348 seconds (21.97 M allocations: 1.655 GiB, 7.99% gc time)\n",
      "Calculation Normalized WAIC\n",
      "Calculaton Generalization Error\n",
      "400000\n"
     ]
    },
    {
     "name": "stderr",
     "output_type": "stream",
     "text": [
      "\u001b[32mProgress: 100%|█████████████████████████████████████████| Time: 0:09:02\u001b[39m\n",
      "\u001b[32mProgress:  41%|█████████████████                        |  ETA: 10:17:31\u001b[39m"
     ]
    },
    {
     "name": "stdout",
     "output_type": "stream",
     "text": [
      "542.364342 seconds (2.41 G allocations: 465.247 GiB, 16.36% gc time)\n",
      "41,0.0012592633970719897,0.003403391097936889,4.857086959334303,0.04646178486087118\n",
      "# start 42 th simulation\n",
      "Gibbs Sampling\n",
      "Start 50000 iteration for GS\n"
     ]
    },
    {
     "name": "stderr",
     "output_type": "stream",
     "text": [
      "\u001b[32mProgress: 100%|█████████████████████████████████████████| Time: 0:01:15\u001b[39m\n"
     ]
    },
    {
     "name": "stdout",
     "output_type": "stream",
     "text": [
      " 75.336041 seconds (607.99 M allocations: 67.206 GiB, 8.58% gc time)\n",
      "Start burn-in and thining from 50000 to 2000"
     ]
    },
    {
     "name": "stderr",
     "output_type": "stream",
     "text": [
      "\r",
      "\u001b[32mProgress:   4%|██                                       |  ETA: 0:00:03\u001b[39m"
     ]
    },
    {
     "name": "stdout",
     "output_type": "stream",
     "text": [
      "\n"
     ]
    },
    {
     "name": "stderr",
     "output_type": "stream",
     "text": [
      "\u001b[32mProgress: 100%|█████████████████████████████████████████| Time: 0:00:03\u001b[39m\n"
     ]
    },
    {
     "name": "stdout",
     "output_type": "stream",
     "text": [
      "  3.332566 seconds (21.97 M allocations: 1.655 GiB, 8.67% gc time)\n",
      "Calculation Normalized WAIC\n",
      "Calculaton Generalization Error\n",
      "400000\n"
     ]
    },
    {
     "name": "stderr",
     "output_type": "stream",
     "text": [
      "\u001b[32mProgress: 100%|█████████████████████████████████████████| Time: 0:09:01\u001b[39m\n",
      "\u001b[32mProgress:  42%|██████████████████                       |  ETA: 10:06:52\u001b[39m"
     ]
    },
    {
     "name": "stdout",
     "output_type": "stream",
     "text": [
      "541.403151 seconds (2.41 G allocations: 465.245 GiB, 16.16% gc time)\n",
      "42,0.0012232142587574118,0.003567189216009216,4.855499257320787,0.045369848284492774\n",
      "# start 43 th simulation\n",
      "Gibbs Sampling\n",
      "Start 50000 iteration for GS"
     ]
    },
    {
     "name": "stderr",
     "output_type": "stream",
     "text": [
      "\r",
      "\u001b[32mProgress:   0%|█                                        |  ETA: 0:00:56\u001b[39m"
     ]
    },
    {
     "name": "stdout",
     "output_type": "stream",
     "text": [
      "\n"
     ]
    },
    {
     "name": "stderr",
     "output_type": "stream",
     "text": [
      "\u001b[32mProgress: 100%|█████████████████████████████████████████| Time: 0:01:03\u001b[39m\n"
     ]
    },
    {
     "name": "stdout",
     "output_type": "stream",
     "text": [
      " 63.516293 seconds (607.97 M allocations: 67.204 GiB, 6.54% gc time)\n",
      "Start burn-in and thining from 50000 to 2000\n"
     ]
    },
    {
     "name": "stderr",
     "output_type": "stream",
     "text": [
      "\u001b[32mProgress: 100%|█████████████████████████████████████████| Time: 0:00:03\u001b[39m\n"
     ]
    },
    {
     "name": "stdout",
     "output_type": "stream",
     "text": [
      "  3.117031 seconds (21.97 M allocations: 1.655 GiB, 7.37% gc time)\n",
      "Calculation Normalized WAIC\n",
      "Calculaton Generalization Error\n",
      "400000"
     ]
    },
    {
     "name": "stderr",
     "output_type": "stream",
     "text": [
      "\r",
      "\u001b[32mProgress:   0%|█                                        |  ETA: 0:07:34\u001b[39m"
     ]
    },
    {
     "name": "stdout",
     "output_type": "stream",
     "text": [
      "\n"
     ]
    },
    {
     "name": "stderr",
     "output_type": "stream",
     "text": [
      "\u001b[32mProgress: 100%|█████████████████████████████████████████| Time: 0:09:05\u001b[39m\n",
      "\u001b[32mProgress:  43%|██████████████████                       |  ETA: 9:56:04\u001b[39m"
     ]
    },
    {
     "name": "stdout",
     "output_type": "stream",
     "text": [
      "545.319380 seconds (2.41 G allocations: 465.247 GiB, 16.36% gc time)\n",
      "43,0.004440462359676357,0.000853544584980508,4.86569711051465,0.04546073836034347\n",
      "# start 44 th simulation\n",
      "Gibbs Sampling\n",
      "Start 50000 iteration for GS"
     ]
    },
    {
     "name": "stderr",
     "output_type": "stream",
     "text": [
      "\r",
      "\u001b[32mProgress:   0%|█                                        |  ETA: 0:00:57\u001b[39m"
     ]
    },
    {
     "name": "stdout",
     "output_type": "stream",
     "text": [
      "\n"
     ]
    },
    {
     "name": "stderr",
     "output_type": "stream",
     "text": [
      "\u001b[32mProgress: 100%|█████████████████████████████████████████| Time: 0:01:14\u001b[39m\n"
     ]
    },
    {
     "name": "stdout",
     "output_type": "stream",
     "text": [
      " 74.499393 seconds (607.99 M allocations: 67.205 GiB, 8.70% gc time)\n",
      "Start burn-in and thining from 50000 to 2000\n"
     ]
    },
    {
     "name": "stderr",
     "output_type": "stream",
     "text": [
      "\u001b[32mProgress: 100%|█████████████████████████████████████████| Time: 0:00:03\u001b[39m\n"
     ]
    },
    {
     "name": "stdout",
     "output_type": "stream",
     "text": [
      "  3.336587 seconds (21.97 M allocations: 1.655 GiB, 8.79% gc time)\n",
      "Calculation Normalized WAIC\n",
      "Calculaton Generalization Error\n",
      "400000\n"
     ]
    },
    {
     "name": "stderr",
     "output_type": "stream",
     "text": [
      "\u001b[32mProgress: 100%|█████████████████████████████████████████| Time: 0:09:00\u001b[39m\n"
     ]
    },
    {
     "name": "stdout",
     "output_type": "stream",
     "text": [
      "540.656279 seconds (2.41 G allocations: 465.245 GiB, 16.19% gc time)\n",
      "44,0.0051576401596996335,0.0006800093232592289,4.88778693716111,0.04960543550017913\n"
     ]
    },
    {
     "name": "stderr",
     "output_type": "stream",
     "text": [
      "\u001b[32mProgress:  44%|███████████████████                      |  ETA: 9:45:26\u001b[39m"
     ]
    },
    {
     "name": "stdout",
     "output_type": "stream",
     "text": [
      "# start 45 th simulation\n",
      "Gibbs Sampling\n",
      "Start 50000 iteration for GS\n"
     ]
    },
    {
     "name": "stderr",
     "output_type": "stream",
     "text": [
      "\u001b[32mProgress: 100%|█████████████████████████████████████████| Time: 0:01:03\u001b[39m\n"
     ]
    },
    {
     "name": "stdout",
     "output_type": "stream",
     "text": [
      " 63.632995 seconds (607.97 M allocations: 67.204 GiB, 6.51% gc time)\n",
      "Start burn-in and thining from 50000 to 2000\n"
     ]
    },
    {
     "name": "stderr",
     "output_type": "stream",
     "text": [
      "\u001b[32mProgress: 100%|█████████████████████████████████████████| Time: 0:00:03\u001b[39m\n"
     ]
    },
    {
     "name": "stdout",
     "output_type": "stream",
     "text": [
      "  3.108609 seconds (21.97 M allocations: 1.655 GiB, 7.23% gc time)\n",
      "Calculation Normalized WAIC\n",
      "Calculaton Generalization Error\n",
      "400000\n"
     ]
    },
    {
     "name": "stderr",
     "output_type": "stream",
     "text": [
      "\u001b[32mProgress: 100%|█████████████████████████████████████████| Time: 0:09:04\u001b[39m\n"
     ]
    },
    {
     "name": "stdout",
     "output_type": "stream",
     "text": [
      "544.574306 seconds (2.41 G allocations: 465.247 GiB, 16.29% gc time)\n",
      "45,0.004740890496135313,-0.00022041484268667776,4.879624464189721,0.04917276467616185\n"
     ]
    },
    {
     "name": "stderr",
     "output_type": "stream",
     "text": [
      "\u001b[32mProgress:  45%|███████████████████                      |  ETA: 9:34:40\u001b[39m"
     ]
    },
    {
     "name": "stdout",
     "output_type": "stream",
     "text": [
      "# start 46 th simulation\n",
      "Gibbs Sampling\n",
      "Start 50000 iteration for GS\n"
     ]
    },
    {
     "name": "stderr",
     "output_type": "stream",
     "text": [
      "\u001b[32mProgress: 100%|█████████████████████████████████████████| Time: 0:01:15\u001b[39m\n"
     ]
    },
    {
     "name": "stdout",
     "output_type": "stream",
     "text": [
      " 75.369971 seconds (607.99 M allocations: 67.206 GiB, 8.63% gc time)\n",
      "Start burn-in and thining from 50000 to 2000"
     ]
    },
    {
     "name": "stderr",
     "output_type": "stream",
     "text": [
      "\r",
      "\u001b[32mProgress:   4%|██                                       |  ETA: 0:00:03\u001b[39m"
     ]
    },
    {
     "name": "stdout",
     "output_type": "stream",
     "text": [
      "\n"
     ]
    },
    {
     "name": "stderr",
     "output_type": "stream",
     "text": [
      "\u001b[32mProgress: 100%|█████████████████████████████████████████| Time: 0:00:03\u001b[39m\n"
     ]
    },
    {
     "name": "stdout",
     "output_type": "stream",
     "text": [
      "  3.324246 seconds (21.97 M allocations: 1.655 GiB, 8.27% gc time)\n",
      "Calculation Normalized WAIC\n",
      "Calculaton Generalization Error\n",
      "400000"
     ]
    },
    {
     "name": "stderr",
     "output_type": "stream",
     "text": [
      "\r"
     ]
    },
    {
     "name": "stdout",
     "output_type": "stream",
     "text": [
      "\n"
     ]
    },
    {
     "name": "stderr",
     "output_type": "stream",
     "text": [
      "\u001b[32mProgress: 100%|█████████████████████████████████████████| Time: 0:09:01\u001b[39m\n",
      "\u001b[32mProgress:  46%|███████████████████                      |  ETA: 9:24:06\u001b[39m"
     ]
    },
    {
     "name": "stdout",
     "output_type": "stream",
     "text": [
      "541.820036 seconds (2.41 G allocations: 465.245 GiB, 16.13% gc time)\n",
      "46,0.002724260884878366,0.0019508040955273243,4.875177518890068,0.04829707422374235\n",
      "# start 47 th simulation\n",
      "Gibbs Sampling\n",
      "Start 50000 iteration for GS\n"
     ]
    },
    {
     "name": "stderr",
     "output_type": "stream",
     "text": [
      "\u001b[32mProgress: 100%|█████████████████████████████████████████| Time: 0:01:03\u001b[39m\n"
     ]
    },
    {
     "name": "stdout",
     "output_type": "stream",
     "text": [
      " 63.823924 seconds (607.97 M allocations: 67.204 GiB, 6.60% gc time)\n",
      "Start burn-in and thining from 50000 to 2000"
     ]
    },
    {
     "name": "stderr",
     "output_type": "stream",
     "text": [
      "\r",
      "\u001b[32mProgress:   4%|██                                       |  ETA: 0:00:03\u001b[39m"
     ]
    },
    {
     "name": "stdout",
     "output_type": "stream",
     "text": [
      "\n"
     ]
    },
    {
     "name": "stderr",
     "output_type": "stream",
     "text": [
      "\u001b[32mProgress: 100%|█████████████████████████████████████████| Time: 0:00:03\u001b[39m\n"
     ]
    },
    {
     "name": "stdout",
     "output_type": "stream",
     "text": [
      "  3.134358 seconds (21.97 M allocations: 1.655 GiB, 7.46% gc time)\n",
      "Calculation Normalized WAIC\n",
      "Calculaton Generalization Error\n",
      "400000"
     ]
    },
    {
     "name": "stderr",
     "output_type": "stream",
     "text": [
      "\r",
      "\u001b[32mProgress:   0%|█                                        |  ETA: 0:07:50\u001b[39m"
     ]
    },
    {
     "name": "stdout",
     "output_type": "stream",
     "text": [
      "\n"
     ]
    },
    {
     "name": "stderr",
     "output_type": "stream",
     "text": [
      "\u001b[32mProgress: 100%|█████████████████████████████████████████| Time: 0:09:03\u001b[39m\n",
      "\u001b[32mProgress:  47%|████████████████████                     |  ETA: 9:13:21\u001b[39m"
     ]
    },
    {
     "name": "stdout",
     "output_type": "stream",
     "text": [
      "543.719980 seconds (2.41 G allocations: 465.248 GiB, 16.30% gc time)\n",
      "47,0.0030743416441549273,0.0023555472150249843,4.886979887832405,0.04870978754598277\n",
      "# start 48 th simulation\n",
      "Gibbs Sampling\n",
      "Start 50000 iteration for GS"
     ]
    },
    {
     "name": "stderr",
     "output_type": "stream",
     "text": [
      "\r",
      "\u001b[32mProgress:   0%|█                                        |  ETA: 0:01:01\u001b[39m"
     ]
    },
    {
     "name": "stdout",
     "output_type": "stream",
     "text": [
      "\n"
     ]
    },
    {
     "name": "stderr",
     "output_type": "stream",
     "text": [
      "\u001b[32mProgress: 100%|█████████████████████████████████████████| Time: 0:01:15\u001b[39m\n"
     ]
    },
    {
     "name": "stdout",
     "output_type": "stream",
     "text": [
      " 75.402922 seconds (607.99 M allocations: 67.206 GiB, 8.67% gc time)\n",
      "Start burn-in and thining from 50000 to 2000\n"
     ]
    },
    {
     "name": "stderr",
     "output_type": "stream",
     "text": [
      "\u001b[32mProgress: 100%|█████████████████████████████████████████| Time: 0:00:03\u001b[39m\n"
     ]
    },
    {
     "name": "stdout",
     "output_type": "stream",
     "text": [
      "  3.204670 seconds (21.97 M allocations: 1.655 GiB, 8.87% gc time)\n",
      "Calculation Normalized WAIC\n",
      "Calculaton Generalization Error\n",
      "400000"
     ]
    },
    {
     "name": "stderr",
     "output_type": "stream",
     "text": [
      "\r",
      "\u001b[32mProgress:   0%|█                                        |  ETA: 0:07:01\u001b[39m"
     ]
    },
    {
     "name": "stdout",
     "output_type": "stream",
     "text": [
      "\n"
     ]
    },
    {
     "name": "stderr",
     "output_type": "stream",
     "text": [
      "\u001b[32mProgress: 100%|█████████████████████████████████████████| Time: 0:09:00\u001b[39m\n",
      "\u001b[32mProgress:  48%|████████████████████                     |  ETA: 9:02:47\u001b[39m"
     ]
    },
    {
     "name": "stdout",
     "output_type": "stream",
     "text": [
      "540.494385 seconds (2.41 G allocations: 465.245 GiB, 16.15% gc time)\n",
      "48,0.003071248302626933,0.0019847339994728272,4.890500771462975,0.04781401345351079\n",
      "# start 49 th simulation\n",
      "Gibbs Sampling\n",
      "Start 50000 iteration for GS\n"
     ]
    },
    {
     "name": "stderr",
     "output_type": "stream",
     "text": [
      "\u001b[32mProgress: 100%|█████████████████████████████████████████| Time: 0:01:03\u001b[39m\n"
     ]
    },
    {
     "name": "stdout",
     "output_type": "stream",
     "text": [
      " 63.868763 seconds (607.97 M allocations: 67.204 GiB, 6.55% gc time)\n",
      "Start burn-in and thining from 50000 to 2000\n"
     ]
    },
    {
     "name": "stderr",
     "output_type": "stream",
     "text": [
      "\u001b[32mProgress: 100%|█████████████████████████████████████████| Time: 0:00:03\u001b[39m\n"
     ]
    },
    {
     "name": "stdout",
     "output_type": "stream",
     "text": [
      "  3.153934 seconds (21.97 M allocations: 1.655 GiB, 7.71% gc time)\n",
      "Calculation Normalized WAIC\n",
      "Calculaton Generalization Error\n",
      "400000\n"
     ]
    },
    {
     "name": "stderr",
     "output_type": "stream",
     "text": [
      "\u001b[32mProgress: 100%|█████████████████████████████████████████| Time: 0:09:04\u001b[39m\n",
      "\u001b[32mProgress:  49%|█████████████████████                    |  ETA: 8:52:06\u001b[39m"
     ]
    },
    {
     "name": "stdout",
     "output_type": "stream",
     "text": [
      "544.102277 seconds (2.41 G allocations: 465.247 GiB, 16.33% gc time)\n",
      "49,0.00234359753183401,0.002666999544497759,4.8929517164602965,0.04689214805614312\n",
      "# start 50 th simulation\n",
      "Gibbs Sampling\n",
      "Start 50000 iteration for GS\n"
     ]
    },
    {
     "name": "stderr",
     "output_type": "stream",
     "text": [
      "\u001b[32mProgress: 100%|█████████████████████████████████████████| Time: 0:01:14\u001b[39m\n"
     ]
    },
    {
     "name": "stdout",
     "output_type": "stream",
     "text": [
      " 74.372830 seconds (607.99 M allocations: 67.205 GiB, 8.70% gc time)\n",
      "Start burn-in and thining from 50000 to 2000\n"
     ]
    },
    {
     "name": "stderr",
     "output_type": "stream",
     "text": [
      "\u001b[32mProgress: 100%|█████████████████████████████████████████| Time: 0:00:03\u001b[39m\n"
     ]
    },
    {
     "name": "stdout",
     "output_type": "stream",
     "text": [
      "  3.206643 seconds (21.97 M allocations: 1.655 GiB, 8.94% gc time)\n",
      "Calculation Normalized WAIC\n",
      "Calculaton Generalization Error\n",
      "400000\n"
     ]
    },
    {
     "name": "stderr",
     "output_type": "stream",
     "text": [
      "\u001b[32mProgress: 100%|█████████████████████████████████████████| Time: 0:09:09\u001b[39m\n",
      "\r"
     ]
    },
    {
     "name": "stdout",
     "output_type": "stream",
     "text": [
      "549.920193 seconds (2.41 G allocations: 465.246 GiB, 16.02% gc time)\n",
      "50,0.0022612246562657024,0.0024477801523693473,4.889272778303791,0.046091790953551204\n",
      "# start 51 th simulation\n",
      "Gibbs Sampling\n"
     ]
    },
    {
     "name": "stderr",
     "output_type": "stream",
     "text": [
      "\u001b[32mProgress:  50%|█████████████████████                    |  ETA: 8:41:42\u001b[39m"
     ]
    },
    {
     "name": "stdout",
     "output_type": "stream",
     "text": [
      "Start 50000 iteration for GS\n"
     ]
    },
    {
     "name": "stderr",
     "output_type": "stream",
     "text": [
      "\u001b[32mProgress: 100%|█████████████████████████████████████████| Time: 0:01:03\u001b[39m\n"
     ]
    },
    {
     "name": "stdout",
     "output_type": "stream",
     "text": [
      " 63.796755 seconds (607.97 M allocations: 67.204 GiB, 6.61% gc time)\n",
      "Start burn-in and thining from 50000 to 2000"
     ]
    },
    {
     "name": "stderr",
     "output_type": "stream",
     "text": [
      "\r",
      "\u001b[32mProgress:   4%|██                                       |  ETA: 0:00:03\u001b[39m"
     ]
    },
    {
     "name": "stdout",
     "output_type": "stream",
     "text": [
      "\n"
     ]
    },
    {
     "name": "stderr",
     "output_type": "stream",
     "text": [
      "\u001b[32mProgress: 100%|█████████████████████████████████████████| Time: 0:00:03\u001b[39m\n"
     ]
    },
    {
     "name": "stdout",
     "output_type": "stream",
     "text": [
      "  3.250632 seconds (21.97 M allocations: 1.655 GiB, 7.31% gc time)\n",
      "Calculation Normalized WAIC\n",
      "Calculaton Generalization Error\n"
     ]
    },
    {
     "name": "stderr",
     "output_type": "stream",
     "text": [
      "\r"
     ]
    },
    {
     "name": "stdout",
     "output_type": "stream",
     "text": [
      "400000\n"
     ]
    },
    {
     "name": "stderr",
     "output_type": "stream",
     "text": [
      "\u001b[32mProgress: 100%|█████████████████████████████████████████| Time: 0:09:03\u001b[39m\n",
      "\u001b[32mProgress:  51%|█████████████████████                    |  ETA: 8:31:02\u001b[39m"
     ]
    },
    {
     "name": "stdout",
     "output_type": "stream",
     "text": [
      "543.837572 seconds (2.41 G allocations: 465.247 GiB, 16.20% gc time)\n",
      "51,0.0017168806017927995,0.0030749623407270712,4.887362389366851,0.045219364096177675\n",
      "# start 52 th simulation\n",
      "Gibbs Sampling\n",
      "Start 50000 iteration for GS\n"
     ]
    },
    {
     "name": "stderr",
     "output_type": "stream",
     "text": [
      "\u001b[32mProgress: 100%|█████████████████████████████████████████| Time: 0:01:14\u001b[39m\n"
     ]
    },
    {
     "name": "stdout",
     "output_type": "stream",
     "text": [
      " 74.802360 seconds (607.99 M allocations: 67.206 GiB, 8.67% gc time)\n",
      "Start burn-in and thining from 50000 to 2000"
     ]
    },
    {
     "name": "stderr",
     "output_type": "stream",
     "text": [
      "\r",
      "\u001b[32mProgress:   3%|██                                       |  ETA: 0:00:03\u001b[39m"
     ]
    },
    {
     "name": "stdout",
     "output_type": "stream",
     "text": [
      "\n"
     ]
    },
    {
     "name": "stderr",
     "output_type": "stream",
     "text": [
      "\u001b[32mProgress: 100%|█████████████████████████████████████████| Time: 0:00:03\u001b[39m\n"
     ]
    },
    {
     "name": "stdout",
     "output_type": "stream",
     "text": [
      "  3.318369 seconds (21.97 M allocations: 1.655 GiB, 8.29% gc time)\n",
      "Calculation Normalized WAIC\n",
      "Calculaton Generalization Error\n",
      "400000\n"
     ]
    },
    {
     "name": "stderr",
     "output_type": "stream",
     "text": [
      "\u001b[32mProgress: 100%|█████████████████████████████████████████| Time: 0:09:02\u001b[39m\n",
      "\u001b[32mProgress:  52%|██████████████████████                   |  ETA: 8:20:31\u001b[39m"
     ]
    },
    {
     "name": "stdout",
     "output_type": "stream",
     "text": [
      "542.155106 seconds (2.41 G allocations: 465.245 GiB, 16.16% gc time)\n",
      "52,0.0023998871044473833,0.0031185170057261916,4.899497807074674,0.04597187671580107\n",
      "# start 53 th simulation\n",
      "Gibbs Sampling\n",
      "Start 50000 iteration for GS"
     ]
    },
    {
     "name": "stderr",
     "output_type": "stream",
     "text": [
      "\r",
      "\u001b[32mProgress:   0%|█                                        |  ETA: 0:01:15\u001b[39m"
     ]
    },
    {
     "name": "stdout",
     "output_type": "stream",
     "text": [
      "\n"
     ]
    },
    {
     "name": "stderr",
     "output_type": "stream",
     "text": [
      "\u001b[32mProgress: 100%|█████████████████████████████████████████| Time: 0:01:03\u001b[39m\n"
     ]
    },
    {
     "name": "stdout",
     "output_type": "stream",
     "text": [
      " 63.597957 seconds (607.97 M allocations: 67.204 GiB, 6.54% gc time)\n",
      "Start burn-in and thining from 50000 to 2000\n"
     ]
    },
    {
     "name": "stderr",
     "output_type": "stream",
     "text": [
      "\u001b[32mProgress: 100%|█████████████████████████████████████████| Time: 0:00:03\u001b[39m\n"
     ]
    },
    {
     "name": "stdout",
     "output_type": "stream",
     "text": [
      "  3.174808 seconds (21.97 M allocations: 1.655 GiB, 7.34% gc time)\n",
      "Calculation Normalized WAIC\n",
      "Calculaton Generalization Error\n",
      "400000\n"
     ]
    },
    {
     "name": "stderr",
     "output_type": "stream",
     "text": [
      "\u001b[32mProgress: 100%|█████████████████████████████████████████| Time: 0:09:04\u001b[39m\n"
     ]
    },
    {
     "name": "stdout",
     "output_type": "stream",
     "text": [
      "544.848464 seconds (2.41 G allocations: 465.247 GiB, 16.33% gc time)\n",
      "53,0.003084805035732281,0.0022002809313678446,4.906773055377041,0.04567922105002251\n"
     ]
    },
    {
     "name": "stderr",
     "output_type": "stream",
     "text": [
      "\u001b[32mProgress:  53%|██████████████████████                   |  ETA: 8:09:54\u001b[39m"
     ]
    },
    {
     "name": "stdout",
     "output_type": "stream",
     "text": [
      "# start 54 th simulation\n",
      "Gibbs Sampling\n",
      "Start 50000 iteration for GS\n"
     ]
    },
    {
     "name": "stderr",
     "output_type": "stream",
     "text": [
      "\u001b[32mProgress: 100%|█████████████████████████████████████████| Time: 0:01:15\u001b[39m\n"
     ]
    },
    {
     "name": "stdout",
     "output_type": "stream",
     "text": [
      " 75.042894 seconds (607.99 M allocations: 67.205 GiB, 8.66% gc time)\n",
      "Start burn-in and thining from 50000 to 2000"
     ]
    },
    {
     "name": "stderr",
     "output_type": "stream",
     "text": [
      "\r",
      "\u001b[32mProgress:   4%|██                                       |  ETA: 0:00:03\u001b[39m"
     ]
    },
    {
     "name": "stdout",
     "output_type": "stream",
     "text": [
      "\n"
     ]
    },
    {
     "name": "stderr",
     "output_type": "stream",
     "text": [
      "\u001b[32mProgress: 100%|█████████████████████████████████████████| Time: 0:00:03\u001b[39m\n"
     ]
    },
    {
     "name": "stdout",
     "output_type": "stream",
     "text": [
      "  3.252346 seconds (21.97 M allocations: 1.655 GiB, 8.36% gc time)\n",
      "Calculation Normalized WAIC\n",
      "Calculaton Generalization Error\n",
      "400000"
     ]
    },
    {
     "name": "stderr",
     "output_type": "stream",
     "text": [
      "\r",
      "\u001b[32mProgress:   0%|█                                        |  ETA: 0:10:12\u001b[39m"
     ]
    },
    {
     "name": "stdout",
     "output_type": "stream",
     "text": [
      "\n"
     ]
    },
    {
     "name": "stderr",
     "output_type": "stream",
     "text": [
      "\u001b[32mProgress: 100%|█████████████████████████████████████████| Time: 0:09:05\u001b[39m\n",
      "\u001b[32mProgress:  54%|███████████████████████                  |  ETA: 7:59:27\u001b[39m"
     ]
    },
    {
     "name": "stdout",
     "output_type": "stream",
     "text": [
      "545.544938 seconds (2.41 G allocations: 465.245 GiB, 16.09% gc time)\n",
      "54,0.003383785300196111,0.0018214771391898378,4.912300636562391,0.045164856167359976\n",
      "# start 55 th simulation\n",
      "Gibbs Sampling\n",
      "Start 50000 iteration for GS"
     ]
    },
    {
     "name": "stderr",
     "output_type": "stream",
     "text": [
      "\r",
      "\u001b[32mProgress:   0%|█                                        |  ETA: 0:00:52\u001b[39m"
     ]
    },
    {
     "name": "stdout",
     "output_type": "stream",
     "text": [
      "\n"
     ]
    },
    {
     "name": "stderr",
     "output_type": "stream",
     "text": [
      "\u001b[32mProgress: 100%|█████████████████████████████████████████| Time: 0:01:04\u001b[39m\n"
     ]
    },
    {
     "name": "stdout",
     "output_type": "stream",
     "text": [
      " 64.763944 seconds (607.97 M allocations: 67.204 GiB, 6.47% gc time)\n",
      "Start burn-in and thining from 50000 to 2000"
     ]
    },
    {
     "name": "stderr",
     "output_type": "stream",
     "text": [
      "\r",
      "\u001b[32mProgress:   4%|██                                       |  ETA: 0:00:03\u001b[39m"
     ]
    },
    {
     "name": "stdout",
     "output_type": "stream",
     "text": [
      "\n"
     ]
    },
    {
     "name": "stderr",
     "output_type": "stream",
     "text": [
      "\u001b[32mProgress: 100%|█████████████████████████████████████████| Time: 0:00:03\u001b[39m\n"
     ]
    },
    {
     "name": "stdout",
     "output_type": "stream",
     "text": [
      "  3.196897 seconds (21.97 M allocations: 1.655 GiB, 7.43% gc time)\n",
      "Calculation Normalized WAIC\n",
      "Calculaton Generalization Error\n",
      "400000\n"
     ]
    },
    {
     "name": "stderr",
     "output_type": "stream",
     "text": [
      "\u001b[32mProgress: 100%|█████████████████████████████████████████| Time: 0:09:05\u001b[39m\n",
      "\u001b[32mProgress:  55%|███████████████████████                  |  ETA: 7:48:52\u001b[39m"
     ]
    },
    {
     "name": "stdout",
     "output_type": "stream",
     "text": [
      "545.396116 seconds (2.41 G allocations: 465.247 GiB, 16.27% gc time)\n",
      "55,0.002758106256233777,0.0018177504806599796,4.906183474750234,0.04475608360958659\n",
      "# start 56 th simulation\n",
      "Gibbs Sampling\n",
      "Start 50000 iteration for GS\n"
     ]
    },
    {
     "name": "stderr",
     "output_type": "stream",
     "text": [
      "\u001b[32mProgress: 100%|█████████████████████████████████████████| Time: 0:01:15\u001b[39m\n"
     ]
    },
    {
     "name": "stdout",
     "output_type": "stream",
     "text": [
      " 75.473661 seconds (607.99 M allocations: 67.206 GiB, 8.66% gc time)\n",
      "Start burn-in and thining from 50000 to 2000"
     ]
    },
    {
     "name": "stderr",
     "output_type": "stream",
     "text": [
      "\r",
      "\u001b[32mProgress:   3%|██                                       |  ETA: 0:00:03\u001b[39m"
     ]
    },
    {
     "name": "stdout",
     "output_type": "stream",
     "text": [
      "\n"
     ]
    },
    {
     "name": "stderr",
     "output_type": "stream",
     "text": [
      "\u001b[32mProgress: 100%|█████████████████████████████████████████| Time: 0:00:03\u001b[39m\n"
     ]
    },
    {
     "name": "stdout",
     "output_type": "stream",
     "text": [
      "  3.323842 seconds (21.97 M allocations: 1.655 GiB, 8.49% gc time)\n",
      "Calculation Normalized WAIC\n",
      "Calculaton Generalization Error\n",
      "400000\n"
     ]
    },
    {
     "name": "stderr",
     "output_type": "stream",
     "text": [
      "\u001b[32mProgress: 100%|█████████████████████████████████████████| Time: 0:09:04\u001b[39m\n",
      "\u001b[32mProgress:  56%|███████████████████████                  |  ETA: 7:38:26\u001b[39m"
     ]
    },
    {
     "name": "stdout",
     "output_type": "stream",
     "text": [
      "544.381843 seconds (2.41 G allocations: 465.245 GiB, 16.14% gc time)\n",
      "56,0.0010887977247245142,0.003831193641646814,4.906430044243468,0.043950293288581\n",
      "# start 57 th simulation\n",
      "Gibbs Sampling\n",
      "Start 50000 iteration for GS"
     ]
    },
    {
     "name": "stderr",
     "output_type": "stream",
     "text": [
      "\r",
      "\u001b[32mProgress:   0%|█                                        |  ETA: 0:00:59\u001b[39m"
     ]
    },
    {
     "name": "stdout",
     "output_type": "stream",
     "text": [
      "\n"
     ]
    },
    {
     "name": "stderr",
     "output_type": "stream",
     "text": [
      "\u001b[32mProgress: 100%|█████████████████████████████████████████| Time: 0:01:04\u001b[39m\n"
     ]
    },
    {
     "name": "stdout",
     "output_type": "stream",
     "text": [
      " 64.074217 seconds (607.97 M allocations: 67.204 GiB, 6.61% gc time)\n",
      "Start burn-in and thining from 50000 to 2000\n"
     ]
    },
    {
     "name": "stderr",
     "output_type": "stream",
     "text": [
      "\u001b[32mProgress: 100%|█████████████████████████████████████████| Time: 0:00:03\u001b[39m\n"
     ]
    },
    {
     "name": "stdout",
     "output_type": "stream",
     "text": [
      "  3.136804 seconds (21.97 M allocations: 1.655 GiB, 7.66% gc time)\n",
      "Calculation Normalized WAIC\n",
      "Calculaton Generalization Error\n",
      "400000\n"
     ]
    },
    {
     "name": "stderr",
     "output_type": "stream",
     "text": [
      "\u001b[32mProgress: 100%|█████████████████████████████████████████| Time: 0:09:05\u001b[39m\n",
      "\u001b[32mProgress:  57%|████████████████████████                 |  ETA: 7:27:52\u001b[39m"
     ]
    },
    {
     "name": "stdout",
     "output_type": "stream",
     "text": [
      "545.299402 seconds (2.41 G allocations: 465.247 GiB, 16.34% gc time)\n",
      "57,0.0037508378124633795,0.00030490477666544457,4.891505702925667,0.045679183585523586\n",
      "# start 58 th simulation\n",
      "Gibbs Sampling\n",
      "Start 50000 iteration for GS\n"
     ]
    },
    {
     "name": "stderr",
     "output_type": "stream",
     "text": [
      "\u001b[32mProgress: 100%|█████████████████████████████████████████| Time: 0:01:15\u001b[39m\n"
     ]
    },
    {
     "name": "stdout",
     "output_type": "stream",
     "text": [
      " 75.299897 seconds (607.99 M allocations: 67.206 GiB, 8.76% gc time)\n",
      "Start burn-in and thining from 50000 to 2000\n"
     ]
    },
    {
     "name": "stderr",
     "output_type": "stream",
     "text": [
      "\u001b[32mProgress: 100%|█████████████████████████████████████████| Time: 0:00:03\u001b[39m\n"
     ]
    },
    {
     "name": "stdout",
     "output_type": "stream",
     "text": [
      "  3.361069 seconds (21.97 M allocations: 1.655 GiB, 8.44% gc time)\n",
      "Calculation Normalized WAIC\n",
      "Calculaton Generalization Error\n",
      "400000"
     ]
    },
    {
     "name": "stderr",
     "output_type": "stream",
     "text": [
      "\r",
      "\u001b[32mProgress:   0%|█                                        |  ETA: 0:08:02\u001b[39m"
     ]
    },
    {
     "name": "stdout",
     "output_type": "stream",
     "text": [
      "\n"
     ]
    },
    {
     "name": "stderr",
     "output_type": "stream",
     "text": [
      "\u001b[32mProgress: 100%|█████████████████████████████████████████| Time: 0:09:02\u001b[39m\n",
      "\r"
     ]
    },
    {
     "name": "stdout",
     "output_type": "stream",
     "text": [
      "542.646207 seconds (2.41 G allocations: 465.245 GiB, 16.10% gc time)\n",
      "58,0.000999010732478565,0.0035627112657094246,4.885819776981915,0.045243411265949884\n",
      "# start 59 th simulation\n",
      "Gibbs Sampling\n"
     ]
    },
    {
     "name": "stderr",
     "output_type": "stream",
     "text": [
      "\u001b[32mProgress:  58%|████████████████████████                 |  ETA: 7:17:24\u001b[39m"
     ]
    },
    {
     "name": "stdout",
     "output_type": "stream",
     "text": [
      "Start 50000 iteration for GS"
     ]
    },
    {
     "name": "stderr",
     "output_type": "stream",
     "text": [
      "\r",
      "\u001b[32mProgress:   0%|█                                        |  ETA: 0:00:57\u001b[39m"
     ]
    },
    {
     "name": "stdout",
     "output_type": "stream",
     "text": [
      "\n"
     ]
    },
    {
     "name": "stderr",
     "output_type": "stream",
     "text": [
      "\u001b[32mProgress: 100%|█████████████████████████████████████████| Time: 0:01:03\u001b[39m\n"
     ]
    },
    {
     "name": "stdout",
     "output_type": "stream",
     "text": [
      " 63.752114 seconds (607.97 M allocations: 67.204 GiB, 6.47% gc time)\n",
      "Start burn-in and thining from 50000 to 2000"
     ]
    },
    {
     "name": "stderr",
     "output_type": "stream",
     "text": [
      "\r",
      "\u001b[32mProgress:   4%|██                                       |  ETA: 0:00:02\u001b[39m"
     ]
    },
    {
     "name": "stdout",
     "output_type": "stream",
     "text": [
      "\n"
     ]
    },
    {
     "name": "stderr",
     "output_type": "stream",
     "text": [
      "\u001b[32mProgress: 100%|█████████████████████████████████████████| Time: 0:00:03\u001b[39m\n"
     ]
    },
    {
     "name": "stdout",
     "output_type": "stream",
     "text": [
      "  3.098781 seconds (21.97 M allocations: 1.655 GiB, 7.42% gc time)\n",
      "Calculation Normalized WAIC\n",
      "Calculaton Generalization Error\n",
      "400000\n"
     ]
    },
    {
     "name": "stderr",
     "output_type": "stream",
     "text": [
      "\u001b[32mProgress: 100%|█████████████████████████████████████████| Time: 0:09:06\u001b[39m\n"
     ]
    },
    {
     "name": "stdout",
     "output_type": "stream",
     "text": [
      "546.888012 seconds (2.41 G allocations: 465.248 GiB, 16.30% gc time)\n",
      "59,0.002729571210341925,0.0023003544201193847,4.888262249074785,0.04453698739276896"
     ]
    },
    {
     "name": "stderr",
     "output_type": "stream",
     "text": [
      "\r",
      "\u001b[32mProgress:  59%|█████████████████████████                |  ETA: 7:06:52\u001b[39m"
     ]
    },
    {
     "name": "stdout",
     "output_type": "stream",
     "text": [
      "\n",
      "# start 60 th simulation\n",
      "Gibbs Sampling\n",
      "Start 50000 iteration for GS\n"
     ]
    },
    {
     "name": "stderr",
     "output_type": "stream",
     "text": [
      "\u001b[32mProgress: 100%|█████████████████████████████████████████| Time: 0:01:14\u001b[39m\n"
     ]
    },
    {
     "name": "stdout",
     "output_type": "stream",
     "text": [
      " 74.834468 seconds (607.99 M allocations: 67.205 GiB, 8.67% gc time)\n"
     ]
    },
    {
     "name": "stderr",
     "output_type": "stream",
     "text": [
      "\r",
      "\u001b[32mProgress:   4%|██                                       |  ETA: 0:00:03\u001b[39m"
     ]
    },
    {
     "name": "stdout",
     "output_type": "stream",
     "text": [
      "Start burn-in and thining from 50000 to 2000\n"
     ]
    },
    {
     "name": "stderr",
     "output_type": "stream",
     "text": [
      "\u001b[32mProgress: 100%|█████████████████████████████████████████| Time: 0:00:03\u001b[39m\n"
     ]
    },
    {
     "name": "stdout",
     "output_type": "stream",
     "text": [
      "  3.284657 seconds (21.97 M allocations: 1.655 GiB, 8.67% gc time)\n",
      "Calculation Normalized WAIC\n",
      "Calculaton Generalization Error\n",
      "400000\n"
     ]
    },
    {
     "name": "stderr",
     "output_type": "stream",
     "text": [
      "\u001b[32mProgress: 100%|█████████████████████████████████████████| Time: 0:09:05\u001b[39m\n",
      "\u001b[32mProgress:  60%|█████████████████████████                |  ETA: 6:56:27\u001b[39m"
     ]
    },
    {
     "name": "stdout",
     "output_type": "stream",
     "text": [
      "545.011730 seconds (2.41 G allocations: 465.245 GiB, 16.08% gc time)\n",
      "60,0.001551892537627175,0.003278005416927959,4.887289510832791,0.04379921640292564\n",
      "# start 61 th simulation\n",
      "Gibbs Sampling\n",
      "Start 50000 iteration for GS"
     ]
    },
    {
     "name": "stderr",
     "output_type": "stream",
     "text": [
      "\r",
      "\u001b[32mProgress:   0%|█                                        |  ETA: 0:00:57\u001b[39m"
     ]
    },
    {
     "name": "stdout",
     "output_type": "stream",
     "text": [
      "\n"
     ]
    },
    {
     "name": "stderr",
     "output_type": "stream",
     "text": [
      "\u001b[32mProgress: 100%|█████████████████████████████████████████| Time: 0:01:04\u001b[39m\n"
     ]
    },
    {
     "name": "stdout",
     "output_type": "stream",
     "text": [
      " 64.462672 seconds (607.97 M allocations: 67.204 GiB, 6.52% gc time)\n",
      "Start burn-in and thining from 50000 to 2000"
     ]
    },
    {
     "name": "stderr",
     "output_type": "stream",
     "text": [
      "\r",
      "\u001b[32mProgress:   4%|██                                       |  ETA: 0:00:02\u001b[39m"
     ]
    },
    {
     "name": "stdout",
     "output_type": "stream",
     "text": [
      "\n"
     ]
    },
    {
     "name": "stderr",
     "output_type": "stream",
     "text": [
      "\u001b[32mProgress: 100%|█████████████████████████████████████████| Time: 0:00:03\u001b[39m\n"
     ]
    },
    {
     "name": "stdout",
     "output_type": "stream",
     "text": [
      "  3.168472 seconds (21.97 M allocations: 1.655 GiB, 7.24% gc time)\n",
      "Calculation Normalized WAIC\n",
      "Calculaton Generalization Error\n",
      "400000"
     ]
    },
    {
     "name": "stderr",
     "output_type": "stream",
     "text": [
      "\r",
      "\u001b[32mProgress:   0%|█                                        |  ETA: 0:07:29\u001b[39m"
     ]
    },
    {
     "name": "stdout",
     "output_type": "stream",
     "text": [
      "\n"
     ]
    },
    {
     "name": "stderr",
     "output_type": "stream",
     "text": [
      "\u001b[32mProgress: 100%|█████████████████████████████████████████| Time: 0:09:04\u001b[39m\n",
      "\u001b[32mProgress:  61%|██████████████████████████               |  ETA: 6:45:54\u001b[39m"
     ]
    },
    {
     "name": "stdout",
     "output_type": "stream",
     "text": [
      "544.800237 seconds (2.41 G allocations: 465.247 GiB, 16.26% gc time)\n",
      "61,0.004273178601487479,0.0003429040550334897,4.882843496827679,0.04330405265660763\n",
      "# start 62 th simulation\n",
      "Gibbs Sampling\n",
      "Start 50000 iteration for GS\n"
     ]
    },
    {
     "name": "stderr",
     "output_type": "stream",
     "text": [
      "\u001b[32mProgress: 100%|█████████████████████████████████████████| Time: 0:01:14\u001b[39m\n"
     ]
    },
    {
     "name": "stdout",
     "output_type": "stream",
     "text": [
      " 74.701344 seconds (607.99 M allocations: 67.205 GiB, 8.72% gc time)\n",
      "Start burn-in and thining from 50000 to 2000"
     ]
    },
    {
     "name": "stderr",
     "output_type": "stream",
     "text": [
      "\r",
      "\u001b[32mProgress:   4%|██                                       |  ETA: 0:00:03\u001b[39m"
     ]
    },
    {
     "name": "stdout",
     "output_type": "stream",
     "text": [
      "\n"
     ]
    },
    {
     "name": "stderr",
     "output_type": "stream",
     "text": [
      "\u001b[32mProgress: 100%|█████████████████████████████████████████| Time: 0:00:03\u001b[39m\n"
     ]
    },
    {
     "name": "stdout",
     "output_type": "stream",
     "text": [
      "  3.211907 seconds (21.97 M allocations: 1.655 GiB, 8.42% gc time)\n",
      "Calculation Normalized WAIC\n",
      "Calculaton Generalization Error\n",
      "400000"
     ]
    },
    {
     "name": "stderr",
     "output_type": "stream",
     "text": [
      "\r",
      "\u001b[32mProgress:   0%|█                                        |  ETA: 0:08:50\u001b[39m"
     ]
    },
    {
     "name": "stdout",
     "output_type": "stream",
     "text": [
      "\n"
     ]
    },
    {
     "name": "stderr",
     "output_type": "stream",
     "text": [
      "\u001b[32mProgress: 100%|█████████████████████████████████████████| Time: 0:09:04\u001b[39m\n",
      "\u001b[32mProgress:  62%|██████████████████████████               |  ETA: 6:35:29\u001b[39m"
     ]
    },
    {
     "name": "stdout",
     "output_type": "stream",
     "text": [
      "544.107129 seconds (2.41 G allocations: 465.245 GiB, 16.13% gc time)\n",
      "62,0.0008505514570360685,0.0041920351193836,4.885419998111421,0.042677718905168624\n",
      "# start 63 th simulation\n",
      "Gibbs Sampling\n",
      "Start 50000 iteration for GS"
     ]
    },
    {
     "name": "stderr",
     "output_type": "stream",
     "text": [
      "\r",
      "\u001b[32mProgress:   0%|█                                        |  ETA: 0:00:55\u001b[39m"
     ]
    },
    {
     "name": "stdout",
     "output_type": "stream",
     "text": [
      "\n"
     ]
    },
    {
     "name": "stderr",
     "output_type": "stream",
     "text": [
      "\u001b[32mProgress: 100%|█████████████████████████████████████████| Time: 0:01:04\u001b[39m\n"
     ]
    },
    {
     "name": "stdout",
     "output_type": "stream",
     "text": [
      " 64.472097 seconds (607.97 M allocations: 67.204 GiB, 6.49% gc time)\n",
      "Start burn-in and thining from 50000 to 2000"
     ]
    },
    {
     "name": "stderr",
     "output_type": "stream",
     "text": [
      "\r",
      "\u001b[32mProgress:   4%|██                                       |  ETA: 0:00:03\u001b[39m"
     ]
    },
    {
     "name": "stdout",
     "output_type": "stream",
     "text": [
      "\n"
     ]
    },
    {
     "name": "stderr",
     "output_type": "stream",
     "text": [
      "\u001b[32mProgress: 100%|█████████████████████████████████████████| Time: 0:00:03\u001b[39m\n"
     ]
    },
    {
     "name": "stdout",
     "output_type": "stream",
     "text": [
      "  3.110318 seconds (21.97 M allocations: 1.655 GiB, 7.41% gc time)\n",
      "Calculation Normalized WAIC\n",
      "Calculaton Generalization Error\n",
      "400000"
     ]
    },
    {
     "name": "stderr",
     "output_type": "stream",
     "text": [
      "\r",
      "\u001b[32mProgress:   0%|█                                        |  ETA: 0:08:38\u001b[39m"
     ]
    },
    {
     "name": "stdout",
     "output_type": "stream",
     "text": [
      "\n"
     ]
    },
    {
     "name": "stderr",
     "output_type": "stream",
     "text": [
      "\u001b[32mProgress: 100%|█████████████████████████████████████████| Time: 0:09:17\u001b[39m\n",
      "\u001b[32mProgress:  63%|██████████████████████████               |  ETA: 6:25:05\u001b[39m"
     ]
    },
    {
     "name": "stdout",
     "output_type": "stream",
     "text": [
      "557.833884 seconds (2.41 G allocations: 465.249 GiB, 16.24% gc time)\n",
      "63,0.00485302604392376,-6.476100708763602e-5,4.883877855868955,0.042023137224461195\n",
      "# start 64 th simulation\n",
      "Gibbs Sampling\n",
      "Start 50000 iteration for GS"
     ]
    },
    {
     "name": "stderr",
     "output_type": "stream",
     "text": [
      "\r",
      "\u001b[32mProgress:   0%|█                                        |  ETA: 0:01:16\u001b[39m"
     ]
    },
    {
     "name": "stdout",
     "output_type": "stream",
     "text": [
      "\n"
     ]
    },
    {
     "name": "stderr",
     "output_type": "stream",
     "text": [
      "\u001b[32mProgress: 100%|█████████████████████████████████████████| Time: 0:01:20\u001b[39m\n"
     ]
    },
    {
     "name": "stdout",
     "output_type": "stream",
     "text": [
      " 80.569916 seconds (608.00 M allocations: 67.206 GiB, 8.50% gc time)\n",
      "Start burn-in and thining from 50000 to 2000\n"
     ]
    },
    {
     "name": "stderr",
     "output_type": "stream",
     "text": [
      "\u001b[32mProgress: 100%|█████████████████████████████████████████| Time: 0:00:03\u001b[39m\n"
     ]
    },
    {
     "name": "stdout",
     "output_type": "stream",
     "text": [
      "  3.442239 seconds (21.97 M allocations: 1.655 GiB, 8.09% gc time)\n",
      "Calculation Normalized WAIC\n",
      "Calculaton Generalization Error\n",
      "400000"
     ]
    },
    {
     "name": "stderr",
     "output_type": "stream",
     "text": [
      "\r",
      "\u001b[32mProgress:   0%|█                                        |  ETA: 0:08:07\u001b[39m"
     ]
    },
    {
     "name": "stdout",
     "output_type": "stream",
     "text": [
      "\n"
     ]
    },
    {
     "name": "stderr",
     "output_type": "stream",
     "text": [
      "\u001b[32mProgress: 100%|█████████████████████████████████████████| Time: 0:09:21\u001b[39m\n",
      "\u001b[32mProgress:  64%|███████████████████████████              |  ETA: 6:14:53\u001b[39m"
     ]
    },
    {
     "name": "stdout",
     "output_type": "stream",
     "text": [
      "561.224422 seconds (2.41 G allocations: 465.246 GiB, 15.96% gc time)\n",
      "64,0.0016232550555929756,0.0035668137498870538,4.888662089456628,0.04163708925061894\n",
      "# start 65 th simulation\n",
      "Gibbs Sampling\n",
      "Start 50000 iteration for GS\n"
     ]
    },
    {
     "name": "stderr",
     "output_type": "stream",
     "text": [
      "\u001b[32mProgress: 100%|█████████████████████████████████████████| Time: 0:01:06\u001b[39m\n"
     ]
    },
    {
     "name": "stdout",
     "output_type": "stream",
     "text": [
      " 66.550151 seconds (607.98 M allocations: 67.205 GiB, 6.46% gc time)\n",
      "Start burn-in and thining from 50000 to 2000"
     ]
    },
    {
     "name": "stderr",
     "output_type": "stream",
     "text": [
      "\r",
      "\u001b[32mProgress:   4%|██                                       |  ETA: 0:00:02\u001b[39m"
     ]
    },
    {
     "name": "stdout",
     "output_type": "stream",
     "text": [
      "\n"
     ]
    },
    {
     "name": "stderr",
     "output_type": "stream",
     "text": [
      "\u001b[32mProgress: 100%|█████████████████████████████████████████| Time: 0:00:03\u001b[39m\n"
     ]
    },
    {
     "name": "stdout",
     "output_type": "stream",
     "text": [
      "  3.252674 seconds (21.97 M allocations: 1.655 GiB, 7.16% gc time)\n",
      "Calculation Normalized WAIC\n",
      "Calculaton Generalization Error\n",
      "400000"
     ]
    },
    {
     "name": "stderr",
     "output_type": "stream",
     "text": [
      "\r",
      "\u001b[32mProgress:   0%|█                                        |  ETA: 0:07:10\u001b[39m"
     ]
    },
    {
     "name": "stdout",
     "output_type": "stream",
     "text": [
      "\n"
     ]
    },
    {
     "name": "stderr",
     "output_type": "stream",
     "text": [
      "\u001b[32mProgress: 100%|█████████████████████████████████████████| Time: 0:09:21\u001b[39m\n",
      "\u001b[32mProgress:  65%|███████████████████████████              |  ETA: 6:04:32\u001b[39m"
     ]
    },
    {
     "name": "stdout",
     "output_type": "stream",
     "text": [
      "561.575298 seconds (2.41 G allocations: 465.250 GiB, 16.16% gc time)\n",
      "65,0.002332856071180049,0.0023295654694880947,4.885181465629113,0.04113901983135414\n",
      "# start 66 th simulation\n",
      "Gibbs Sampling\n",
      "Start 50000 iteration for GS\n"
     ]
    },
    {
     "name": "stderr",
     "output_type": "stream",
     "text": [
      "\u001b[32mProgress: 100%|█████████████████████████████████████████| Time: 0:01:18\u001b[39m\n"
     ]
    },
    {
     "name": "stdout",
     "output_type": "stream",
     "text": [
      " 78.781085 seconds (608.00 M allocations: 67.206 GiB, 8.57% gc time)\n",
      "Start burn-in and thining from 50000 to 2000"
     ]
    },
    {
     "name": "stderr",
     "output_type": "stream",
     "text": [
      "\r",
      "\u001b[32mProgress:   3%|██                                       |  ETA: 0:00:03\u001b[39m"
     ]
    },
    {
     "name": "stdout",
     "output_type": "stream",
     "text": [
      "\n"
     ]
    },
    {
     "name": "stderr",
     "output_type": "stream",
     "text": [
      "\u001b[32mProgress: 100%|█████████████████████████████████████████| Time: 0:00:03\u001b[39m\n"
     ]
    },
    {
     "name": "stdout",
     "output_type": "stream",
     "text": [
      "  3.486239 seconds (21.97 M allocations: 1.655 GiB, 8.23% gc time)\n",
      "Calculation Normalized WAIC\n",
      "Calculaton Generalization Error\n",
      "400000"
     ]
    },
    {
     "name": "stderr",
     "output_type": "stream",
     "text": [
      "\r",
      "\u001b[32mProgress:   0%|█                                        |  ETA: 0:08:36\u001b[39m"
     ]
    },
    {
     "name": "stdout",
     "output_type": "stream",
     "text": [
      "\n"
     ]
    },
    {
     "name": "stderr",
     "output_type": "stream",
     "text": [
      "\u001b[32mProgress: 100%|█████████████████████████████████████████| Time: 0:09:09\u001b[39m\n"
     ]
    },
    {
     "name": "stdout",
     "output_type": "stream",
     "text": [
      "549.509350 seconds (2.41 G allocations: 465.245 GiB, 16.09% gc time)\n",
      "66,0.0030865755991076166,0.0018429652927237986,4.88585357814733,0.040516481400944354\n"
     ]
    },
    {
     "name": "stderr",
     "output_type": "stream",
     "text": [
      "\u001b[32mProgress:  66%|████████████████████████████             |  ETA: 5:54:10\u001b[39m"
     ]
    },
    {
     "name": "stdout",
     "output_type": "stream",
     "text": [
      "# start 67 th simulation\n",
      "Gibbs Sampling\n",
      "Start 50000 iteration for GS"
     ]
    },
    {
     "name": "stderr",
     "output_type": "stream",
     "text": [
      "\r",
      "\u001b[32mProgress:   0%|█                                        |  ETA: 0:01:01\u001b[39m"
     ]
    },
    {
     "name": "stdout",
     "output_type": "stream",
     "text": [
      "\n"
     ]
    },
    {
     "name": "stderr",
     "output_type": "stream",
     "text": [
      "\u001b[32mProgress: 100%|█████████████████████████████████████████| Time: 0:01:04\u001b[39m\n"
     ]
    },
    {
     "name": "stdout",
     "output_type": "stream",
     "text": [
      " 64.663610 seconds (607.97 M allocations: 67.204 GiB, 6.45% gc time)\n",
      "Start burn-in and thining from 50000 to 2000"
     ]
    },
    {
     "name": "stderr",
     "output_type": "stream",
     "text": [
      "\r",
      "\u001b[32mProgress:   3%|██                                       |  ETA: 0:00:03\u001b[39m"
     ]
    },
    {
     "name": "stdout",
     "output_type": "stream",
     "text": [
      "\n"
     ]
    },
    {
     "name": "stderr",
     "output_type": "stream",
     "text": [
      "\u001b[32mProgress: 100%|█████████████████████████████████████████| Time: 0:00:03\u001b[39m\n"
     ]
    },
    {
     "name": "stdout",
     "output_type": "stream",
     "text": [
      "  3.249735 seconds (21.97 M allocations: 1.655 GiB, 7.33% gc time)\n",
      "Calculation Normalized WAIC\n",
      "Calculaton Generalization Error\n",
      "400000"
     ]
    },
    {
     "name": "stderr",
     "output_type": "stream",
     "text": [
      "\r",
      "\u001b[32mProgress:   0%|█                                        |  ETA: 0:07:05\u001b[39m"
     ]
    },
    {
     "name": "stdout",
     "output_type": "stream",
     "text": [
      "\n"
     ]
    },
    {
     "name": "stderr",
     "output_type": "stream",
     "text": [
      "\u001b[32mProgress: 100%|█████████████████████████████████████████| Time: 0:09:04\u001b[39m\n",
      "\u001b[32mProgress:  67%|████████████████████████████             |  ETA: 5:43:40\u001b[39m"
     ]
    },
    {
     "name": "stdout",
     "output_type": "stream",
     "text": [
      "544.938501 seconds (2.41 G allocations: 465.247 GiB, 16.28% gc time)\n",
      "67,0.002285804367666749,0.0019757954946822576,4.87653635850855,0.040980401433893976\n",
      "# start 68 th simulation\n",
      "Gibbs Sampling\n",
      "Start 50000 iteration for GS"
     ]
    },
    {
     "name": "stderr",
     "output_type": "stream",
     "text": [
      "\r",
      "\u001b[32mProgress:   0%|█                                        |  ETA: 0:00:56\u001b[39m"
     ]
    },
    {
     "name": "stdout",
     "output_type": "stream",
     "text": [
      "\n"
     ]
    },
    {
     "name": "stderr",
     "output_type": "stream",
     "text": [
      "\u001b[32mProgress: 100%|█████████████████████████████████████████| Time: 0:01:16\u001b[39m\n"
     ]
    },
    {
     "name": "stdout",
     "output_type": "stream",
     "text": [
      " 76.678890 seconds (608.00 M allocations: 67.206 GiB, 8.55% gc time)\n",
      "Start burn-in and thining from 50000 to 2000"
     ]
    },
    {
     "name": "stderr",
     "output_type": "stream",
     "text": [
      "\r"
     ]
    },
    {
     "name": "stdout",
     "output_type": "stream",
     "text": [
      "\n"
     ]
    },
    {
     "name": "stderr",
     "output_type": "stream",
     "text": [
      "\u001b[32mProgress: 100%|█████████████████████████████████████████| Time: 0:00:03\u001b[39m\n"
     ]
    },
    {
     "name": "stdout",
     "output_type": "stream",
     "text": [
      "  3.431291 seconds (21.97 M allocations: 1.655 GiB, 8.03% gc time)\n",
      "Calculation Normalized WAIC\n",
      "Calculaton Generalization Error\n",
      "400000"
     ]
    },
    {
     "name": "stderr",
     "output_type": "stream",
     "text": [
      "\r",
      "\u001b[32mProgress:   0%|█                                        |  ETA: 0:07:01\u001b[39m"
     ]
    },
    {
     "name": "stdout",
     "output_type": "stream",
     "text": [
      "\n"
     ]
    },
    {
     "name": "stderr",
     "output_type": "stream",
     "text": [
      "\u001b[32mProgress: 100%|█████████████████████████████████████████| Time: 0:09:05\u001b[39m\n"
     ]
    },
    {
     "name": "stdout",
     "output_type": "stream",
     "text": [
      "545.928270 seconds (2.41 G allocations: 465.245 GiB, 16.11% gc time)\n",
      "68,0.002290373506825949,0.003290466687725393,4.88689376786212,0.041680634706813074"
     ]
    },
    {
     "name": "stderr",
     "output_type": "stream",
     "text": [
      "\r",
      "\u001b[32mProgress:  68%|████████████████████████████             |  ETA: 5:33:16\u001b[39m"
     ]
    },
    {
     "name": "stdout",
     "output_type": "stream",
     "text": [
      "\n",
      "# start 69 th simulation\n",
      "Gibbs Sampling\n",
      "Start 50000 iteration for GS"
     ]
    },
    {
     "name": "stderr",
     "output_type": "stream",
     "text": [
      "\r",
      "\u001b[32mProgress:   0%|█                                        |  ETA: 0:00:57\u001b[39m"
     ]
    },
    {
     "name": "stdout",
     "output_type": "stream",
     "text": [
      "\n"
     ]
    },
    {
     "name": "stderr",
     "output_type": "stream",
     "text": [
      "\u001b[32mProgress: 100%|█████████████████████████████████████████| Time: 0:01:04\u001b[39m\n"
     ]
    },
    {
     "name": "stdout",
     "output_type": "stream",
     "text": [
      " 64.573978 seconds (607.97 M allocations: 67.204 GiB, 6.45% gc time)\n",
      "Start burn-in and thining from 50000 to 2000\n"
     ]
    },
    {
     "name": "stderr",
     "output_type": "stream",
     "text": [
      "\u001b[32mProgress: 100%|█████████████████████████████████████████| Time: 0:00:03\u001b[39m\n"
     ]
    },
    {
     "name": "stdout",
     "output_type": "stream",
     "text": [
      "  3.158946 seconds (21.97 M allocations: 1.655 GiB, 7.40% gc time)\n",
      "Calculation Normalized WAIC\n",
      "Calculaton Generalization Error\n",
      "400000"
     ]
    },
    {
     "name": "stderr",
     "output_type": "stream",
     "text": [
      "\r",
      "\u001b[32mProgress:   0%|█                                        |  ETA: 0:06:52\u001b[39m"
     ]
    },
    {
     "name": "stdout",
     "output_type": "stream",
     "text": [
      "\n"
     ]
    },
    {
     "name": "stderr",
     "output_type": "stream",
     "text": [
      "\u001b[32mProgress: 100%|█████████████████████████████████████████| Time: 0:09:07\u001b[39m\n"
     ]
    },
    {
     "name": "stdout",
     "output_type": "stream",
     "text": [
      "547.067383 seconds (2.41 G allocations: 465.247 GiB, 16.26% gc time)\n",
      "69,0.002038184217191339,0.0028794226315182903,4.887338884975852,0.04107453752306219"
     ]
    },
    {
     "name": "stderr",
     "output_type": "stream",
     "text": [
      "\r",
      "\u001b[32mProgress:  69%|█████████████████████████████            |  ETA: 5:22:46\u001b[39m"
     ]
    },
    {
     "name": "stdout",
     "output_type": "stream",
     "text": [
      "\n",
      "# start 70 th simulation\n",
      "Gibbs Sampling\n",
      "Start 50000 iteration for GS"
     ]
    },
    {
     "name": "stderr",
     "output_type": "stream",
     "text": [
      "\r",
      "\u001b[32mProgress:   0%|█                                        |  ETA: 0:00:54\u001b[39m"
     ]
    },
    {
     "name": "stdout",
     "output_type": "stream",
     "text": [
      "\n"
     ]
    },
    {
     "name": "stderr",
     "output_type": "stream",
     "text": [
      "\u001b[32mProgress: 100%|█████████████████████████████████████████| Time: 0:01:15\u001b[39m\n"
     ]
    },
    {
     "name": "stdout",
     "output_type": "stream",
     "text": [
      " 75.511091 seconds (607.99 M allocations: 67.206 GiB, 8.74% gc time)\n",
      "Start burn-in and thining from 50000 to 2000"
     ]
    },
    {
     "name": "stderr",
     "output_type": "stream",
     "text": [
      "\r",
      "\u001b[32mProgress:   4%|██                                       |  ETA: 0:00:03\u001b[39m"
     ]
    },
    {
     "name": "stdout",
     "output_type": "stream",
     "text": [
      "\n"
     ]
    },
    {
     "name": "stderr",
     "output_type": "stream",
     "text": [
      "\u001b[32mProgress: 100%|█████████████████████████████████████████| Time: 0:00:03\u001b[39m\n"
     ]
    },
    {
     "name": "stdout",
     "output_type": "stream",
     "text": [
      "  3.306151 seconds (21.97 M allocations: 1.655 GiB, 8.32% gc time)\n",
      "Calculation Normalized WAIC\n",
      "Calculaton Generalization Error\n",
      "400000\n"
     ]
    },
    {
     "name": "stderr",
     "output_type": "stream",
     "text": [
      "\u001b[32mProgress: 100%|█████████████████████████████████████████| Time: 0:09:04\u001b[39m\n",
      "\u001b[32mProgress:  70%|█████████████████████████████            |  ETA: 5:12:21\u001b[39m"
     ]
    },
    {
     "name": "stdout",
     "output_type": "stream",
     "text": [
      "544.337941 seconds (2.41 G allocations: 465.245 GiB, 16.11% gc time)\n",
      "70,0.003863746686793748,0.0012073467222771458,4.889963949605781,0.04056852519021992\n",
      "# start 71 th simulation\n",
      "Gibbs Sampling\n",
      "Start 50000 iteration for GS\n"
     ]
    },
    {
     "name": "stderr",
     "output_type": "stream",
     "text": [
      "\u001b[32mProgress: 100%|█████████████████████████████████████████| Time: 0:01:04\u001b[39m\n"
     ]
    },
    {
     "name": "stdout",
     "output_type": "stream",
     "text": [
      " 64.057318 seconds (607.97 M allocations: 67.204 GiB, 6.58% gc time)\n",
      "Start burn-in and thining from 50000 to 2000\n"
     ]
    },
    {
     "name": "stderr",
     "output_type": "stream",
     "text": [
      "\u001b[32mProgress: 100%|█████████████████████████████████████████| Time: 0:00:03\u001b[39m\n"
     ]
    },
    {
     "name": "stdout",
     "output_type": "stream",
     "text": [
      "  3.160264 seconds (21.97 M allocations: 1.655 GiB, 7.47% gc time)\n",
      "Calculation Normalized WAIC\n",
      "Calculaton Generalization Error\n",
      "400000\n"
     ]
    },
    {
     "name": "stderr",
     "output_type": "stream",
     "text": [
      "\u001b[32mProgress: 100%|█████████████████████████████████████████| Time: 0:09:05\u001b[39m\n",
      "\u001b[32mProgress:  71%|██████████████████████████████           |  ETA: 5:01:52\u001b[39m"
     ]
    },
    {
     "name": "stdout",
     "output_type": "stream",
     "text": [
      "545.035974 seconds (2.41 G allocations: 465.247 GiB, 16.36% gc time)\n",
      "71,0.0016220356926448843,0.003003076826960202,4.886233647774786,0.04016664881445194\n",
      "# start 72 th simulation\n",
      "Gibbs Sampling\n",
      "Start 50000 iteration for GS\n"
     ]
    },
    {
     "name": "stderr",
     "output_type": "stream",
     "text": [
      "\u001b[32mProgress: 100%|█████████████████████████████████████████| Time: 0:01:15\u001b[39m\n"
     ]
    },
    {
     "name": "stdout",
     "output_type": "stream",
     "text": [
      " 75.136250 seconds (607.99 M allocations: 67.206 GiB, 8.74% gc time)\n",
      "Start burn-in and thining from 50000 to 2000"
     ]
    },
    {
     "name": "stderr",
     "output_type": "stream",
     "text": [
      "\r",
      "\u001b[32mProgress:   4%|██                                       |  ETA: 0:00:03\u001b[39m"
     ]
    },
    {
     "name": "stdout",
     "output_type": "stream",
     "text": [
      "\n"
     ]
    },
    {
     "name": "stderr",
     "output_type": "stream",
     "text": [
      "\u001b[32mProgress: 100%|█████████████████████████████████████████| Time: 0:00:03\u001b[39m\n"
     ]
    },
    {
     "name": "stdout",
     "output_type": "stream",
     "text": [
      "  3.334475 seconds (21.97 M allocations: 1.655 GiB, 8.98% gc time)\n",
      "Calculation Normalized WAIC\n",
      "Calculaton Generalization Error\n",
      "400000"
     ]
    },
    {
     "name": "stderr",
     "output_type": "stream",
     "text": [
      "\r",
      "\u001b[32mProgress:   0%|█                                        |  ETA: 0:07:19\u001b[39m"
     ]
    },
    {
     "name": "stdout",
     "output_type": "stream",
     "text": [
      "\n"
     ]
    },
    {
     "name": "stderr",
     "output_type": "stream",
     "text": [
      "\u001b[32mProgress: 100%|█████████████████████████████████████████| Time: 0:09:03\u001b[39m\n"
     ]
    },
    {
     "name": "stdout",
     "output_type": "stream",
     "text": [
      "543.982253 seconds (2.41 G allocations: "
     ]
    },
    {
     "name": "stderr",
     "output_type": "stream",
     "text": [
      "\r",
      "\u001b[32mProgress:  72%|██████████████████████████████           |  ETA: 4:51:26\u001b[39m"
     ]
    },
    {
     "name": "stdout",
     "output_type": "stream",
     "text": [
      "465.245 GiB, 16.13% gc time)\n",
      "72,0.0015826894385968134,0.0031026634536314495,4.8834436372810845,0.03970300100692144\n",
      "# start 73 th simulation\n",
      "Gibbs Sampling\n",
      "Start 50000 iteration for GS"
     ]
    },
    {
     "name": "stderr",
     "output_type": "stream",
     "text": [
      "\r",
      "\u001b[32mProgress:   0%|█                                        |  ETA: 0:01:01\u001b[39m"
     ]
    },
    {
     "name": "stdout",
     "output_type": "stream",
     "text": [
      "\n"
     ]
    },
    {
     "name": "stderr",
     "output_type": "stream",
     "text": [
      "\u001b[32mProgress: 100%|█████████████████████████████████████████| Time: 0:01:03\u001b[39m\n"
     ]
    },
    {
     "name": "stdout",
     "output_type": "stream",
     "text": [
      " 63.473599 seconds (607.97 M allocations: 67.204 GiB, 6.58% gc time)\n",
      "Start burn-in and thining from 50000 to 2000"
     ]
    },
    {
     "name": "stderr",
     "output_type": "stream",
     "text": [
      "\r",
      "\u001b[32mProgress:   4%|██                                       |  ETA: 0:00:03\u001b[39m"
     ]
    },
    {
     "name": "stdout",
     "output_type": "stream",
     "text": [
      "\n"
     ]
    },
    {
     "name": "stderr",
     "output_type": "stream",
     "text": [
      "\u001b[32mProgress: 100%|█████████████████████████████████████████| Time: 0:00:03\u001b[39m\n"
     ]
    },
    {
     "name": "stdout",
     "output_type": "stream",
     "text": [
      "  3.128953 seconds (21.97 M allocations: 1.655 GiB, 7.40% gc time)\n",
      "Calculation Normalized WAIC\n",
      "Calculaton Generalization Error\n",
      "400000"
     ]
    },
    {
     "name": "stderr",
     "output_type": "stream",
     "text": [
      "\r"
     ]
    },
    {
     "name": "stdout",
     "output_type": "stream",
     "text": [
      "\n"
     ]
    },
    {
     "name": "stderr",
     "output_type": "stream",
     "text": [
      "\u001b[32mProgress: 100%|█████████████████████████████████████████| Time: 0:09:04\u001b[39m\n",
      "\u001b[32mProgress:  73%|██████████████████████████████           |  ETA: 4:40:57\u001b[39m"
     ]
    },
    {
     "name": "stdout",
     "output_type": "stream",
     "text": [
      "544.665796 seconds (2.41 G allocations: 465.247 GiB, 16.31% gc time)\n",
      "73,0.0011481263823953953,0.004179052406392856,4.88952220100036,0.03962436307923654\n",
      "# start 74 th simulation\n",
      "Gibbs Sampling\n",
      "Start 50000 iteration for GS\n"
     ]
    },
    {
     "name": "stderr",
     "output_type": "stream",
     "text": [
      "\u001b[32mProgress: 100%|█████████████████████████████████████████| Time: 0:01:15\u001b[39m\n"
     ]
    },
    {
     "name": "stdout",
     "output_type": "stream",
     "text": [
      " 75.294657 seconds (607.99 M allocations: 67.206 GiB, 8.73% gc time)\n",
      "Start burn-in and thining from 50000 to 2000"
     ]
    },
    {
     "name": "stderr",
     "output_type": "stream",
     "text": [
      "\r",
      "\u001b[32mProgress:   4%|██                                       |  ETA: 0:00:03\u001b[39m"
     ]
    },
    {
     "name": "stdout",
     "output_type": "stream",
     "text": [
      "\n"
     ]
    },
    {
     "name": "stderr",
     "output_type": "stream",
     "text": [
      "\u001b[32mProgress: 100%|█████████████████████████████████████████| Time: 0:00:03\u001b[39m\n"
     ]
    },
    {
     "name": "stdout",
     "output_type": "stream",
     "text": [
      "  3.258243 seconds (21.97 M allocations: 1.655 GiB, 8.99% gc time)\n",
      "Calculation Normalized WAIC\n",
      "Calculaton Generalization Error\n",
      "400000\n"
     ]
    },
    {
     "name": "stderr",
     "output_type": "stream",
     "text": [
      "\u001b[32mProgress: 100%|█████████████████████████████████████████| Time: 0:09:03\u001b[39m\n",
      "\u001b[32mProgress:  74%|███████████████████████████████          |  ETA: 4:30:32\u001b[39m"
     ]
    },
    {
     "name": "stdout",
     "output_type": "stream",
     "text": [
      "543.862378 seconds (2.41 G allocations: 465.245 GiB, 16.14% gc time)\n",
      "74,0.0024063751465417398,0.0025364897708553425,4.890243048519236,0.03909187769443901\n",
      "# start 75 th simulation\n",
      "Gibbs Sampling\n",
      "Start 50000 iteration for GS"
     ]
    },
    {
     "name": "stderr",
     "output_type": "stream",
     "text": [
      "\r",
      "\u001b[32mProgress:   0%|█                                        |  ETA: 0:00:55\u001b[39m"
     ]
    },
    {
     "name": "stdout",
     "output_type": "stream",
     "text": [
      "\n"
     ]
    },
    {
     "name": "stderr",
     "output_type": "stream",
     "text": [
      "\u001b[32mProgress: 100%|█████████████████████████████████████████| Time: 0:01:04\u001b[39m\n"
     ]
    },
    {
     "name": "stdout",
     "output_type": "stream",
     "text": [
      " 64.034199 seconds (607.97 M allocations: 67.204 GiB, 6.53% gc time)\n"
     ]
    },
    {
     "name": "stderr",
     "output_type": "stream",
     "text": [
      "\r",
      "\u001b[32mProgress:   3%|██                                       |  ETA: 0:00:03\u001b[39m"
     ]
    },
    {
     "name": "stdout",
     "output_type": "stream",
     "text": [
      "Start burn-in and thining from 50000 to 2000\n"
     ]
    },
    {
     "name": "stderr",
     "output_type": "stream",
     "text": [
      "\u001b[32mProgress: 100%|█████████████████████████████████████████| Time: 0:00:03\u001b[39m\n"
     ]
    },
    {
     "name": "stdout",
     "output_type": "stream",
     "text": [
      "  3.121143 seconds (21.97 M allocations: 1.655 GiB, 7.18% gc time)\n",
      "Calculation Normalized WAIC\n",
      "Calculaton Generalization Error\n",
      "400000"
     ]
    },
    {
     "name": "stderr",
     "output_type": "stream",
     "text": [
      "\r",
      "\u001b[32mProgress:   0%|█                                        |  ETA: 0:07:56\u001b[39m"
     ]
    },
    {
     "name": "stdout",
     "output_type": "stream",
     "text": [
      "\n"
     ]
    },
    {
     "name": "stderr",
     "output_type": "stream",
     "text": [
      "\u001b[32mProgress: 100%|█████████████████████████████████████████| Time: 0:09:05\u001b[39m\n",
      "\u001b[32mProgress:  75%|███████████████████████████████          |  ETA: 4:20:04\u001b[39m"
     ]
    },
    {
     "name": "stdout",
     "output_type": "stream",
     "text": [
      "545.543321 seconds (2.41 G allocations: 465.247 GiB, 16.32% gc time)\n",
      "75,0.004856745979368095,0.0005539175267718546,4.897181987954178,0.039186380943478274\n",
      "# start 76 th simulation\n",
      "Gibbs Sampling\n",
      "Start 50000 iteration for GS"
     ]
    },
    {
     "name": "stderr",
     "output_type": "stream",
     "text": [
      "\r",
      "\u001b[32mProgress:   0%|█                                        |  ETA: 0:00:54\u001b[39m"
     ]
    },
    {
     "name": "stdout",
     "output_type": "stream",
     "text": [
      "\n"
     ]
    },
    {
     "name": "stderr",
     "output_type": "stream",
     "text": [
      "\u001b[32mProgress: 100%|█████████████████████████████████████████| Time: 0:01:14\u001b[39m\n"
     ]
    },
    {
     "name": "stdout",
     "output_type": "stream",
     "text": [
      " 74.378296 seconds (607.99 M allocations: 67.205 GiB, 8.59% gc time)\n",
      "Start burn-in and thining from 50000 to 2000\n"
     ]
    },
    {
     "name": "stderr",
     "output_type": "stream",
     "text": [
      "\u001b[32mProgress: 100%|█████████████████████████████████████████| Time: 0:00:03\u001b[39m\n"
     ]
    },
    {
     "name": "stdout",
     "output_type": "stream",
     "text": [
      "  3.321229 seconds (21.97 M allocations: 1.655 GiB, 8.24% gc time)\n",
      "Calculation Normalized WAIC\n",
      "Calculaton Generalization Error\n",
      "400000\n"
     ]
    },
    {
     "name": "stderr",
     "output_type": "stream",
     "text": [
      "\u001b[32mProgress: 100%|█████████████████████████████████████████| Time: 0:09:09\u001b[39m\n",
      "\u001b[32mProgress:  76%|████████████████████████████████         |  ETA: 4:09:41\u001b[39m"
     ]
    },
    {
     "name": "stdout",
     "output_type": "stream",
     "text": [
      "549.789043 seconds (2.41 G allocations: 465.246 GiB, 16.08% gc time)\n",
      "76,0.002734385768859047,0.002187733050386575,4.897510104155382,0.03866872522252329\n",
      "# start 77 th simulation\n",
      "Gibbs Sampling\n",
      "Start 50000 iteration for GS\n"
     ]
    },
    {
     "name": "stderr",
     "output_type": "stream",
     "text": [
      "\u001b[32mProgress: 100%|█████████████████████████████████████████| Time: 0:01:04\u001b[39m\n"
     ]
    },
    {
     "name": "stdout",
     "output_type": "stream",
     "text": [
      " 64.204826 seconds (607.97 M allocations: 67.204 GiB, 6.53% gc time)\n",
      "Start burn-in and thining from 50000 to 2000\n"
     ]
    },
    {
     "name": "stderr",
     "output_type": "stream",
     "text": [
      "\u001b[32mProgress: 100%|█████████████████████████████████████████| Time: 0:00:03\u001b[39m\n"
     ]
    },
    {
     "name": "stdout",
     "output_type": "stream",
     "text": [
      "  3.200969 seconds (21.97 M allocations: 1.655 GiB, 7.30% gc time)\n",
      "Calculation Normalized WAIC\n",
      "Calculaton Generalization Error\n",
      "400000"
     ]
    },
    {
     "name": "stderr",
     "output_type": "stream",
     "text": [
      "\r",
      "\u001b[32mProgress:   0%|█                                        |  ETA: 0:07:01\u001b[39m"
     ]
    },
    {
     "name": "stdout",
     "output_type": "stream",
     "text": [
      "\n"
     ]
    },
    {
     "name": "stderr",
     "output_type": "stream",
     "text": [
      "\u001b[32mProgress: 100%|█████████████████████████████████████████| Time: 0:09:10\u001b[39m\n",
      "\u001b[32mProgress:  77%|████████████████████████████████         |  ETA: 3:59:15\u001b[39m"
     ]
    },
    {
     "name": "stdout",
     "output_type": "stream",
     "text": [
      "550.139580 seconds (2.41 G allocations: 465.248 GiB, 16.18% gc time)\n",
      "77,0.003640921485192852,0.0015282597386773776,4.901038300515314,0.03832597409082284\n",
      "# start 78 th simulation\n",
      "Gibbs Sampling\n",
      "Start 50000 iteration for GS\n"
     ]
    },
    {
     "name": "stderr",
     "output_type": "stream",
     "text": [
      "\u001b[32mProgress: 100%|█████████████████████████████████████████| Time: 0:01:13\u001b[39m\n"
     ]
    },
    {
     "name": "stdout",
     "output_type": "stream",
     "text": [
      " 73.934913 seconds (607.99 M allocations: 67.205 GiB, 8.72% gc time)\n",
      "Start burn-in and thining from 50000 to 2000"
     ]
    },
    {
     "name": "stderr",
     "output_type": "stream",
     "text": [
      "\r",
      "\u001b[32mProgress:   4%|██                                       |  ETA: 0:00:03\u001b[39m"
     ]
    },
    {
     "name": "stdout",
     "output_type": "stream",
     "text": [
      "\n"
     ]
    },
    {
     "name": "stderr",
     "output_type": "stream",
     "text": [
      "\u001b[32mProgress: 100%|█████████████████████████████████████████| Time: 0:00:03\u001b[39m\n"
     ]
    },
    {
     "name": "stdout",
     "output_type": "stream",
     "text": [
      "  3.260136 seconds (21.97 M allocations: 1.655 GiB, 8.25% gc time)\n",
      "Calculation Normalized WAIC\n",
      "Calculaton Generalization Error\n",
      "400000\n"
     ]
    },
    {
     "name": "stderr",
     "output_type": "stream",
     "text": [
      "\u001b[32mProgress: 100%|█████████████████████████████████████████| Time: 0:09:01\u001b[39m\n",
      "\u001b[32mProgress:  78%|████████████████████████████████         |  ETA: 3:48:50\u001b[39m"
     ]
    },
    {
     "name": "stdout",
     "output_type": "stream",
     "text": [
      "541.929810 seconds (2.41 G allocations: 465.245 GiB, 16.12% gc time)\n",
      "78,0.00208012936828543,0.002536612569382142,4.8973934753506,0.03800659736561544\n",
      "# start 79 th simulation\n",
      "Gibbs Sampling\n",
      "Start 50000 iteration for GS\n"
     ]
    },
    {
     "name": "stderr",
     "output_type": "stream",
     "text": [
      "\u001b[32mProgress: 100%|█████████████████████████████████████████| Time: 0:01:03\u001b[39m\n"
     ]
    },
    {
     "name": "stdout",
     "output_type": "stream",
     "text": [
      " 63.963214 seconds (607.97 M allocations: 67.204 GiB, 6.58% gc time)\n"
     ]
    },
    {
     "name": "stderr",
     "output_type": "stream",
     "text": [
      "\r",
      "\u001b[32mProgress:   4%|██                                       |  ETA: 0:00:02\u001b[39m"
     ]
    },
    {
     "name": "stdout",
     "output_type": "stream",
     "text": [
      "Start burn-in and thining from 50000 to 2000\n"
     ]
    },
    {
     "name": "stderr",
     "output_type": "stream",
     "text": [
      "\u001b[32mProgress: 100%|█████████████████████████████████████████| Time: 0:00:03\u001b[39m\n"
     ]
    },
    {
     "name": "stdout",
     "output_type": "stream",
     "text": [
      "  3.086847 seconds (21.97 M allocations: 1.655 GiB, 7.22% gc time)\n",
      "Calculation Normalized WAIC\n",
      "Calculaton Generalization Error\n",
      "400000"
     ]
    },
    {
     "name": "stderr",
     "output_type": "stream",
     "text": [
      "\r",
      "\u001b[32mProgress:   0%|█                                        |  ETA: 0:07:10\u001b[39m"
     ]
    },
    {
     "name": "stdout",
     "output_type": "stream",
     "text": [
      "\n"
     ]
    },
    {
     "name": "stderr",
     "output_type": "stream",
     "text": [
      "\u001b[32mProgress: 100%|█████████████████████████████████████████| Time: 0:09:00\u001b[39m\n"
     ]
    },
    {
     "name": "stdout",
     "output_type": "stream",
     "text": [
      "540.854908 seconds (2.41 G allocations: 465.247 GiB, 16.33% gc time)\n",
      "79,0.002245894552078598,0.0026024617419438565,4.89677275153632,0.03752755100686577\n"
     ]
    },
    {
     "name": "stderr",
     "output_type": "stream",
     "text": [
      "\r",
      "\u001b[32mProgress:  79%|█████████████████████████████████        |  ETA: 3:38:21\u001b[39m"
     ]
    },
    {
     "name": "stdout",
     "output_type": "stream",
     "text": [
      "# start 80 th simulation\n",
      "Gibbs Sampling\n",
      "Start 50000 iteration for GS"
     ]
    },
    {
     "name": "stderr",
     "output_type": "stream",
     "text": [
      "\r",
      "\u001b[32mProgress:   0%|█                                        |  ETA: 0:00:54\u001b[39m"
     ]
    },
    {
     "name": "stdout",
     "output_type": "stream",
     "text": [
      "\n"
     ]
    },
    {
     "name": "stderr",
     "output_type": "stream",
     "text": [
      "\u001b[32mProgress: 100%|█████████████████████████████████████████| Time: 0:01:14\u001b[39m\n"
     ]
    },
    {
     "name": "stdout",
     "output_type": "stream",
     "text": [
      " 74.890887 seconds (607.99 M allocations: 67.205 GiB, 8.71% gc time)\n",
      "Start burn-in and thining from 50000 to 2000"
     ]
    },
    {
     "name": "stderr",
     "output_type": "stream",
     "text": [
      "\r",
      "\u001b[32mProgress:   4%|██                                       |  ETA: 0:00:03\u001b[39m"
     ]
    },
    {
     "name": "stdout",
     "output_type": "stream",
     "text": [
      "\n"
     ]
    },
    {
     "name": "stderr",
     "output_type": "stream",
     "text": [
      "\u001b[32mProgress: 100%|█████████████████████████████████████████| Time: 0:00:03\u001b[39m\n"
     ]
    },
    {
     "name": "stdout",
     "output_type": "stream",
     "text": [
      "  3.252282 seconds (21.97 M allocations: 1.655 GiB, 8.63% gc time)\n",
      "Calculation Normalized WAIC\n",
      "Calculaton Generalization Error\n",
      "400000"
     ]
    },
    {
     "name": "stderr",
     "output_type": "stream",
     "text": [
      "\r",
      "\u001b[32mProgress:   0%|█                                        |  ETA: 0:07:24\u001b[39m"
     ]
    },
    {
     "name": "stdout",
     "output_type": "stream",
     "text": [
      "\n"
     ]
    },
    {
     "name": "stderr",
     "output_type": "stream",
     "text": [
      "\u001b[32mProgress: 100%|█████████████████████████████████████████| Time: 0:09:13\u001b[39m\n"
     ]
    },
    {
     "name": "stdout",
     "output_type": "stream",
     "text": [
      "553.788398 seconds (2.41 G allocations: 465.246 GiB, 15.98% gc time)\n"
     ]
    },
    {
     "name": "stderr",
     "output_type": "stream",
     "text": [
      "\r",
      "\u001b[32mProgress:  80%|█████████████████████████████████        |  ETA: 3:28:00\u001b[39m"
     ]
    },
    {
     "name": "stdout",
     "output_type": "stream",
     "text": [
      "80,0.0021307663591854788,0.003290286355515793,4.903326251075882,0.03763053964101003\n",
      "# start 81 th simulation\n",
      "Gibbs Sampling\n",
      "Start 50000 iteration for GS"
     ]
    },
    {
     "name": "stderr",
     "output_type": "stream",
     "text": [
      "\r",
      "\u001b[32mProgress:   0%|█                                        |  ETA: 0:00:54\u001b[39m"
     ]
    },
    {
     "name": "stdout",
     "output_type": "stream",
     "text": [
      "\n"
     ]
    },
    {
     "name": "stderr",
     "output_type": "stream",
     "text": [
      "\u001b[32mProgress: 100%|█████████████████████████████████████████| Time: 0:01:04\u001b[39m\n"
     ]
    },
    {
     "name": "stdout",
     "output_type": "stream",
     "text": [
      " 64.252391 seconds (607.97 M allocations: 67.204 GiB, 6.54% gc time)\n",
      "Start burn-in and thining from 50000 to 2000"
     ]
    },
    {
     "name": "stderr",
     "output_type": "stream",
     "text": [
      "\r",
      "\u001b[32mProgress:   4%|██                                       |  ETA: 0:00:03\u001b[39m"
     ]
    },
    {
     "name": "stdout",
     "output_type": "stream",
     "text": [
      "\n"
     ]
    },
    {
     "name": "stderr",
     "output_type": "stream",
     "text": [
      "\u001b[32mProgress: 100%|█████████████████████████████████████████| Time: 0:00:03\u001b[39m\n"
     ]
    },
    {
     "name": "stdout",
     "output_type": "stream",
     "text": [
      "  3.169225 seconds (21.97 M allocations: 1.655 GiB, 7.24% gc time)\n",
      "Calculation Normalized WAIC\n",
      "Calculaton Generalization Error\n",
      "400000"
     ]
    },
    {
     "name": "stderr",
     "output_type": "stream",
     "text": [
      "\r",
      "\u001b[32mProgress:   0%|█                                        |  ETA: 0:08:19\u001b[39m"
     ]
    },
    {
     "name": "stdout",
     "output_type": "stream",
     "text": [
      "\n"
     ]
    },
    {
     "name": "stderr",
     "output_type": "stream",
     "text": [
      "\u001b[32mProgress: 100%|█████████████████████████████████████████| Time: 0:09:04\u001b[39m\n",
      "\u001b[32mProgress:  81%|██████████████████████████████████       |  ETA: 3:17:33\u001b[39m"
     ]
    },
    {
     "name": "stdout",
     "output_type": "stream",
     "text": [
      "544.684797 seconds (2.41 G allocations: 465.247 GiB, 16.38% gc time)\n",
      "81,0.002941286576827066,0.002058881926322989,4.904521834434822,0.037182288124699016\n",
      "# start 82 th simulation\n",
      "Gibbs Sampling\n",
      "Start 50000 iteration for GS\n"
     ]
    },
    {
     "name": "stderr",
     "output_type": "stream",
     "text": [
      "\u001b[32mProgress: 100%|█████████████████████████████████████████| Time: 0:01:15\u001b[39m\n"
     ]
    },
    {
     "name": "stdout",
     "output_type": "stream",
     "text": [
      " 75.653679 seconds (607.99 M allocations: 67.206 GiB, 8.84% gc time)\n",
      "Start burn-in and thining from 50000 to 2000\n"
     ]
    },
    {
     "name": "stderr",
     "output_type": "stream",
     "text": [
      "\u001b[32mProgress: 100%|█████████████████████████████████████████| Time: 0:00:03\u001b[39m\n"
     ]
    },
    {
     "name": "stdout",
     "output_type": "stream",
     "text": [
      "  3.195918 seconds (21.97 M allocations: 1.655 GiB, 9.16% gc time)\n",
      "Calculation Normalized WAIC\n",
      "Calculaton Generalization Error\n",
      "400000"
     ]
    },
    {
     "name": "stderr",
     "output_type": "stream",
     "text": [
      "\r",
      "\u001b[32mProgress:   0%|█                                        |  ETA: 0:07:01\u001b[39m"
     ]
    },
    {
     "name": "stdout",
     "output_type": "stream",
     "text": [
      "\n"
     ]
    },
    {
     "name": "stderr",
     "output_type": "stream",
     "text": [
      "\u001b[32mProgress: 100%|█████████████████████████████████████████| Time: 0:09:05\u001b[39m\n",
      "\u001b[32mProgress:  82%|██████████████████████████████████       |  ETA: 3:07:09\u001b[39m"
     ]
    },
    {
     "name": "stdout",
     "output_type": "stream",
     "text": [
      "545.680190 seconds (2.41 G allocations: 465.246 GiB, 16.17% gc time)\n",
      "82,0.0027841381417134945,0.001933609797348225,4.902244104003441,0.036796610494805815\n",
      "# start 83 th simulation\n",
      "Gibbs Sampling\n",
      "Start 50000 iteration for GS"
     ]
    },
    {
     "name": "stderr",
     "output_type": "stream",
     "text": [
      "\r",
      "\u001b[32mProgress:   0%|█                                        |  ETA: 0:00:55\u001b[39m"
     ]
    },
    {
     "name": "stdout",
     "output_type": "stream",
     "text": [
      "\n"
     ]
    },
    {
     "name": "stderr",
     "output_type": "stream",
     "text": [
      "\u001b[32mProgress: 100%|█████████████████████████████████████████| Time: 0:01:02\u001b[39m\n"
     ]
    },
    {
     "name": "stdout",
     "output_type": "stream",
     "text": [
      " 62.907917 seconds (607.97 M allocations: 67.204 GiB, 6.71% gc time)\n",
      "Start burn-in and thining from 50000 to 2000\n"
     ]
    },
    {
     "name": "stderr",
     "output_type": "stream",
     "text": [
      "\u001b[32mProgress: 100%|█████████████████████████████████████████| Time: 0:00:03\u001b[39m\n"
     ]
    },
    {
     "name": "stdout",
     "output_type": "stream",
     "text": [
      "  3.161350 seconds (21.97 M allocations: 1.655 GiB, 7.20% gc time)\n",
      "Calculation Normalized WAIC\n",
      "Calculaton Generalization Error\n",
      "400000\n"
     ]
    },
    {
     "name": "stderr",
     "output_type": "stream",
     "text": [
      "\u001b[32mProgress: 100%|█████████████████████████████████████████| Time: 0:09:03\u001b[39m\n",
      "\r"
     ]
    },
    {
     "name": "stdout",
     "output_type": "stream",
     "text": [
      "543.400065 seconds (2.41 G allocations: 465.247 GiB, 16.31% gc time)\n",
      "83,0.0008201256004500808,0.004516167923984128,4.907473615092969,0.03672481520682606\n",
      "# start 84 th simulation\n",
      "Gibbs Sampling\n"
     ]
    },
    {
     "name": "stderr",
     "output_type": "stream",
     "text": [
      "\u001b[32mProgress:  83%|███████████████████████████████████      |  ETA: 2:56:43\u001b[39m"
     ]
    },
    {
     "name": "stdout",
     "output_type": "stream",
     "text": [
      "Start 50000 iteration for GS"
     ]
    },
    {
     "name": "stderr",
     "output_type": "stream",
     "text": [
      "\r"
     ]
    },
    {
     "name": "stdout",
     "output_type": "stream",
     "text": [
      "\n"
     ]
    },
    {
     "name": "stderr",
     "output_type": "stream",
     "text": [
      "\u001b[32mProgress: 100%|█████████████████████████████████████████| Time: 0:01:14\u001b[39m\n"
     ]
    },
    {
     "name": "stdout",
     "output_type": "stream",
     "text": [
      " 74.394876 seconds (607.99 M allocations: 67.205 GiB, 8.75% gc time)\n",
      "Start burn-in and thining from 50000 to 2000\n"
     ]
    },
    {
     "name": "stderr",
     "output_type": "stream",
     "text": [
      "\u001b[32mProgress: 100%|█████████████████████████████████████████| Time: 0:00:03\u001b[39m\n"
     ]
    },
    {
     "name": "stdout",
     "output_type": "stream",
     "text": [
      "  3.221615 seconds (21.97 M allocations: 1.655 GiB, 8.15% gc time)\n",
      "Calculation Normalized WAIC\n",
      "Calculaton Generalization Error\n",
      "400000"
     ]
    },
    {
     "name": "stderr",
     "output_type": "stream",
     "text": [
      "\r",
      "\u001b[32mProgress:   0%|█                                        |  ETA: 0:08:01\u001b[39m"
     ]
    },
    {
     "name": "stdout",
     "output_type": "stream",
     "text": [
      "\n"
     ]
    },
    {
     "name": "stderr",
     "output_type": "stream",
     "text": [
      "\u001b[32mProgress: 100%|█████████████████████████████████████████| Time: 0:09:02\u001b[39m\n",
      "\u001b[32mProgress:  84%|███████████████████████████████████      |  ETA: 2:46:18\u001b[39m"
     ]
    },
    {
     "name": "stdout",
     "output_type": "stream",
     "text": [
      "542.868043 seconds (2.41 G allocations: 465.246 GiB, 16.18% gc time)\n",
      "84,0.003128836966189435,0.001454069799792547,4.903609724032124,0.03649012899938692\n",
      "# start 85 th simulation\n",
      "Gibbs Sampling\n",
      "Start 50000 iteration for GS\n"
     ]
    },
    {
     "name": "stderr",
     "output_type": "stream",
     "text": [
      "\u001b[32mProgress: 100%|█████████████████████████████████████████| Time: 0:01:03\u001b[39m\n"
     ]
    },
    {
     "name": "stdout",
     "output_type": "stream",
     "text": [
      " 63.082251 seconds (607.97 M allocations: 67.204 GiB, 6.56% gc time)\n",
      "Start burn-in and thining from 50000 to 2000\n"
     ]
    },
    {
     "name": "stderr",
     "output_type": "stream",
     "text": [
      "\u001b[32mProgress: 100%|█████████████████████████████████████████| Time: 0:00:03\u001b[39m\n"
     ]
    },
    {
     "name": "stdout",
     "output_type": "stream",
     "text": [
      "  3.084616 seconds (21.97 M allocations: 1.655 GiB, 7.88% gc time)\n",
      "Calculation Normalized WAIC\n",
      "Calculaton Generalization Error\n",
      "400000\n"
     ]
    },
    {
     "name": "stderr",
     "output_type": "stream",
     "text": [
      "\u001b[32mProgress: 100%|█████████████████████████████████████████| Time: 0:09:03\u001b[39m\n",
      "\u001b[32mProgress:  85%|███████████████████████████████████      |  ETA: 2:35:52\u001b[39m"
     ]
    },
    {
     "name": "stdout",
     "output_type": "stream",
     "text": [
      "543.116117 seconds (2.41 G allocations: 465.247 GiB, 16.32% gc time)\n",
      "85,0.0022105164523947528,0.002694124301667834,4.903621853797189,0.036058279982579766\n",
      "# start 86 th simulation\n",
      "Gibbs Sampling\n",
      "Start 50000 iteration for GS\n"
     ]
    },
    {
     "name": "stderr",
     "output_type": "stream",
     "text": [
      "\u001b[32mProgress: 100%|█████████████████████████████████████████| Time: 0:01:13\u001b[39m\n"
     ]
    },
    {
     "name": "stdout",
     "output_type": "stream",
     "text": [
      " 73.922279 seconds (607.99 M allocations: 67.205 GiB, 8.72% gc time)\n",
      "Start burn-in and thining from 50000 to 2000\n"
     ]
    },
    {
     "name": "stderr",
     "output_type": "stream",
     "text": [
      "\u001b[32mProgress: 100%|█████████████████████████████████████████| Time: 0:00:03\u001b[39m\n"
     ]
    },
    {
     "name": "stdout",
     "output_type": "stream",
     "text": [
      "  3.214351 seconds (21.97 M allocations: 1.655 GiB, 8.45% gc time)\n",
      "Calculation Normalized WAIC\n",
      "Calculaton Generalization Error\n",
      "400000\n"
     ]
    },
    {
     "name": "stderr",
     "output_type": "stream",
     "text": [
      "\u001b[32mProgress: 100%|█████████████████████████████████████████| Time: 0:08:57\u001b[39m\n"
     ]
    },
    {
     "name": "stdout",
     "output_type": "stream",
     "text": [
      "537.564839 seconds (2.41 G allocations: 465.245 GiB, 16.14% gc time)\n",
      "86,0.0027553466879853138,0.0026636421060872916,4.9096144926376,0.03613687972989935\n"
     ]
    },
    {
     "name": "stderr",
     "output_type": "stream",
     "text": [
      "\u001b[32mProgress:  86%|████████████████████████████████████     |  ETA: 2:25:28\u001b[39m"
     ]
    },
    {
     "name": "stdout",
     "output_type": "stream",
     "text": [
      "# start 87 th simulation\n",
      "Gibbs Sampling\n",
      "Start 50000 iteration for GS"
     ]
    },
    {
     "name": "stderr",
     "output_type": "stream",
     "text": [
      "\r",
      "\u001b[32mProgress:   0%|█                                        |  ETA: 0:00:57\u001b[39m"
     ]
    },
    {
     "name": "stdout",
     "output_type": "stream",
     "text": [
      "\n"
     ]
    },
    {
     "name": "stderr",
     "output_type": "stream",
     "text": [
      "\u001b[32mProgress: 100%|█████████████████████████████████████████| Time: 0:01:03\u001b[39m\n"
     ]
    },
    {
     "name": "stdout",
     "output_type": "stream",
     "text": [
      " 63.051634 seconds (607.97 M allocations: 67.204 GiB, 6.50% gc time)\n",
      "Start burn-in and thining from 50000 to 2000"
     ]
    },
    {
     "name": "stderr",
     "output_type": "stream",
     "text": [
      "\r",
      "\u001b[32mProgress:   4%|██                                       |  ETA: 0:00:03\u001b[39m"
     ]
    },
    {
     "name": "stdout",
     "output_type": "stream",
     "text": [
      "\n"
     ]
    },
    {
     "name": "stderr",
     "output_type": "stream",
     "text": [
      "\u001b[32mProgress: 100%|█████████████████████████████████████████| Time: 0:00:03\u001b[39m\n"
     ]
    },
    {
     "name": "stdout",
     "output_type": "stream",
     "text": [
      "  3.056493 seconds (21.97 M allocations: 1.655 GiB, 7.25% gc time)\n",
      "Calculation Normalized WAIC\n",
      "Calculaton Generalization Error\n",
      "400000\n"
     ]
    },
    {
     "name": "stderr",
     "output_type": "stream",
     "text": [
      "\u001b[32mProgress: 100%|█████████████████████████████████████████| Time: 0:08:56\u001b[39m\n"
     ]
    },
    {
     "name": "stdout",
     "output_type": "stream",
     "text": [
      "536.478142 seconds (2.41 G allocations: 465.247 GiB, 16.35% gc time)\n",
      "87,0.002298743479879147,0.0031040294216095393,4.915282980095658,0.036166085397235495\n"
     ]
    },
    {
     "name": "stderr",
     "output_type": "stream",
     "text": [
      "\u001b[32mProgress:  87%|████████████████████████████████████     |  ETA: 2:15:01\u001b[39m"
     ]
    },
    {
     "name": "stdout",
     "output_type": "stream",
     "text": [
      "# start 88 th simulation\n",
      "Gibbs Sampling\n",
      "Start 50000 iteration for GS\n"
     ]
    },
    {
     "name": "stderr",
     "output_type": "stream",
     "text": [
      "\u001b[32mProgress: 100%|█████████████████████████████████████████| Time: 0:01:14\u001b[39m\n"
     ]
    },
    {
     "name": "stdout",
     "output_type": "stream",
     "text": [
      " 74.275337 seconds (607.99 M allocations: 67.205 GiB, 8.69% gc time)\n",
      "Start burn-in and thining from 50000 to 2000\n"
     ]
    },
    {
     "name": "stderr",
     "output_type": "stream",
     "text": [
      "\u001b[32mProgress: 100%|█████████████████████████████████████████| Time: 0:00:03\u001b[39m\n"
     ]
    },
    {
     "name": "stdout",
     "output_type": "stream",
     "text": [
      "  3.217216 seconds (21.97 M allocations: 1.655 GiB, 8.39% gc time)\n",
      "Calculation Normalized WAIC\n",
      "Calculaton Generalization Error\n"
     ]
    },
    {
     "name": "stderr",
     "output_type": "stream",
     "text": [
      "\r",
      "\u001b[32mProgress:   0%|█                                        |  ETA: 0:07:39\u001b[39m"
     ]
    },
    {
     "name": "stdout",
     "output_type": "stream",
     "text": [
      "400000\n"
     ]
    },
    {
     "name": "stderr",
     "output_type": "stream",
     "text": [
      "\u001b[32mProgress: 100%|█████████████████████████████████████████| Time: 0:08:56\u001b[39m\n",
      "\u001b[32mProgress:  88%|█████████████████████████████████████    |  ETA: 2:04:37\u001b[39m"
     ]
    },
    {
     "name": "stdout",
     "output_type": "stream",
     "text": [
      "536.386360 seconds (2.41 G allocations: 465.245 GiB, 16.07% gc time)\n",
      "88,0.0016028311077355526,0.003508260844507576,4.91750808205188,0.03582191875373712\n",
      "# start 89 th simulation\n",
      "Gibbs Sampling\n",
      "Start 50000 iteration for GS"
     ]
    },
    {
     "name": "stderr",
     "output_type": "stream",
     "text": [
      "\r",
      "\u001b[32mProgress:   0%|█                                        |  ETA: 0:00:55\u001b[39m"
     ]
    },
    {
     "name": "stdout",
     "output_type": "stream",
     "text": [
      "\n"
     ]
    },
    {
     "name": "stderr",
     "output_type": "stream",
     "text": [
      "\u001b[32mProgress: 100%|█████████████████████████████████████████| Time: 0:01:02\u001b[39m\n"
     ]
    },
    {
     "name": "stdout",
     "output_type": "stream",
     "text": [
      " 62.497445 seconds (607.97 M allocations: 67.204 GiB, 6.59% gc time)\n",
      "Start burn-in and thining from 50000 to 2000\n"
     ]
    },
    {
     "name": "stderr",
     "output_type": "stream",
     "text": [
      "\u001b[32mProgress: 100%|█████████████████████████████████████████| Time: 0:00:03\u001b[39m\n"
     ]
    },
    {
     "name": "stdout",
     "output_type": "stream",
     "text": [
      "  3.145716 seconds (21.97 M allocations: 1.655 GiB, 7.70% gc time)\n",
      "Calculation Normalized WAIC\n",
      "Calculaton Generalization Error"
     ]
    },
    {
     "name": "stderr",
     "output_type": "stream",
     "text": [
      "\r",
      "\u001b[32mProgress:   0%|█                                        |  ETA: 0:08:02\u001b[39m"
     ]
    },
    {
     "name": "stdout",
     "output_type": "stream",
     "text": [
      "\n",
      "400000\n"
     ]
    },
    {
     "name": "stderr",
     "output_type": "stream",
     "text": [
      "\u001b[32mProgress: 100%|█████████████████████████████████████████| Time: 0:08:56\u001b[39m\n",
      "\u001b[32mProgress:  89%|█████████████████████████████████████    |  ETA: 1:54:11\u001b[39m"
     ]
    },
    {
     "name": "stdout",
     "output_type": "stream",
     "text": [
      "536.899291 seconds (2.41 G allocations: 465.246 GiB, 16.37% gc time)\n",
      "89,0.0013637141285463418,0.0033856323134605513,4.915618625422161,0.03546750248965698\n",
      "# start 90 th simulation\n",
      "Gibbs Sampling\n",
      "Start 50000 iteration for GS"
     ]
    },
    {
     "name": "stderr",
     "output_type": "stream",
     "text": [
      "\r",
      "\u001b[32mProgress:   0%|█                                        |  ETA: 0:00:55\u001b[39m"
     ]
    },
    {
     "name": "stdout",
     "output_type": "stream",
     "text": [
      "\n"
     ]
    },
    {
     "name": "stderr",
     "output_type": "stream",
     "text": [
      "\u001b[32mProgress: 100%|█████████████████████████████████████████| Time: 0:01:14\u001b[39m\n"
     ]
    },
    {
     "name": "stdout",
     "output_type": "stream",
     "text": [
      " 74.560680 seconds (607.99 M allocations: 67.205 GiB, 8.62% gc time)\n",
      "Start burn-in and thining from 50000 to 2000"
     ]
    },
    {
     "name": "stderr",
     "output_type": "stream",
     "text": [
      "\r",
      "\u001b[32mProgress:   4%|██                                       |  ETA: 0:00:02\u001b[39m"
     ]
    },
    {
     "name": "stdout",
     "output_type": "stream",
     "text": [
      "\n"
     ]
    },
    {
     "name": "stderr",
     "output_type": "stream",
     "text": [
      "\u001b[32mProgress: 100%|█████████████████████████████████████████| Time: 0:00:03\u001b[39m\n"
     ]
    },
    {
     "name": "stdout",
     "output_type": "stream",
     "text": [
      "  3.207505 seconds (21.97 M allocations: 1.655 GiB, 9.42% gc time)\n",
      "Calculation Normalized WAIC\n",
      "Calculaton Generalization Error\n",
      "400000"
     ]
    },
    {
     "name": "stderr",
     "output_type": "stream",
     "text": [
      "\r"
     ]
    },
    {
     "name": "stdout",
     "output_type": "stream",
     "text": [
      "\n"
     ]
    },
    {
     "name": "stderr",
     "output_type": "stream",
     "text": [
      "\u001b[32mProgress: 100%|█████████████████████████████████████████| Time: 0:08:57\u001b[39m\n"
     ]
    },
    {
     "name": "stdout",
     "output_type": "stream",
     "text": [
      "537.263192 seconds (2.41 G allocations: 465.245 GiB, 16.09% gc time)\n",
      "90,0.000923850267428807,0.0038200706992439068,4.913710873658277,0.03512305431581787\n"
     ]
    },
    {
     "name": "stderr",
     "output_type": "stream",
     "text": [
      "\u001b[32mProgress:  90%|█████████████████████████████████████    |  ETA: 1:43:48\u001b[39m"
     ]
    },
    {
     "name": "stdout",
     "output_type": "stream",
     "text": [
      "# start 91 th simulation\n",
      "Gibbs Sampling\n",
      "Start 50000 iteration for GS\n"
     ]
    },
    {
     "name": "stderr",
     "output_type": "stream",
     "text": [
      "\u001b[32mProgress: 100%|█████████████████████████████████████████| Time: 0:01:02\u001b[39m\n"
     ]
    },
    {
     "name": "stdout",
     "output_type": "stream",
     "text": [
      " 62.909995 seconds (607.97 M allocations: 67.204 GiB, 6.63% gc time)\n",
      "Start burn-in and thining from 50000 to 2000\n"
     ]
    },
    {
     "name": "stderr",
     "output_type": "stream",
     "text": [
      "\u001b[32mProgress: 100%|█████████████████████████████████████████| Time: 0:00:03\u001b[39m\n"
     ]
    },
    {
     "name": "stdout",
     "output_type": "stream",
     "text": [
      "  3.155545 seconds (21.97 M allocations: 1.655 GiB, 7.68% gc time)\n",
      "Calculation Normalized WAIC\n",
      "Calculaton Generalization Error\n",
      "400000\n"
     ]
    },
    {
     "name": "stderr",
     "output_type": "stream",
     "text": [
      "\u001b[32mProgress: 100%|█████████████████████████████████████████| Time: 0:08:59\u001b[39m\n",
      "\u001b[32mProgress:  91%|██████████████████████████████████████   |  ETA: 1:33:23\u001b[39m"
     ]
    },
    {
     "name": "stdout",
     "output_type": "stream",
     "text": [
      "539.846331 seconds (2.41 G allocations: 465.247 GiB, 16.32% gc time)\n",
      "91,0.0016568961263016507,0.003553097769243307,4.916966731041648,0.03488720148877536\n",
      "# start 92 th simulation\n",
      "Gibbs Sampling\n",
      "Start 50000 iteration for GS"
     ]
    },
    {
     "name": "stderr",
     "output_type": "stream",
     "text": [
      "\r",
      "\u001b[32mProgress:   0%|█                                        |  ETA: 0:00:56\u001b[39m"
     ]
    },
    {
     "name": "stdout",
     "output_type": "stream",
     "text": [
      "\n"
     ]
    },
    {
     "name": "stderr",
     "output_type": "stream",
     "text": [
      "\u001b[32mProgress: 100%|█████████████████████████████████████████| Time: 0:01:13\u001b[39m\n"
     ]
    },
    {
     "name": "stdout",
     "output_type": "stream",
     "text": [
      " 73.934068 seconds (607.99 M allocations: 67.205 GiB, 8.64% gc time)\n",
      "Start burn-in and thining from 50000 to 2000\n"
     ]
    },
    {
     "name": "stderr",
     "output_type": "stream",
     "text": [
      "\u001b[32mProgress: 100%|█████████████████████████████████████████| Time: 0:00:03\u001b[39m\n"
     ]
    },
    {
     "name": "stdout",
     "output_type": "stream",
     "text": [
      "  3.006332 seconds (21.97 M allocations: 1.655 GiB, 8.53% gc time)\n",
      "Calculation Normalized WAIC\n",
      "Calculaton Generalization Error\n",
      "400000\n"
     ]
    },
    {
     "name": "stderr",
     "output_type": "stream",
     "text": [
      "\u001b[32mProgress: 100%|█████████████████████████████████████████| Time: 0:08:18\u001b[39m\n",
      "\u001b[32mProgress:  92%|██████████████████████████████████████   |  ETA: 1:22:57\u001b[39m"
     ]
    },
    {
     "name": "stdout",
     "output_type": "stream",
     "text": [
      "498.946897 seconds (2.41 G allocations: 465.241 GiB, 16.29% gc time)\n",
      "92,0.0032373109742565866,0.0012805605206567773,4.9126287393446,0.034777520587441484\n",
      "# start 93 th simulation\n",
      "Gibbs Sampling\n",
      "Start 50000 iteration for GS"
     ]
    },
    {
     "name": "stderr",
     "output_type": "stream",
     "text": [
      "\r",
      "\u001b[32mProgress:   0%|█                                        |  ETA: 0:00:51\u001b[39m"
     ]
    },
    {
     "name": "stdout",
     "output_type": "stream",
     "text": [
      "\n"
     ]
    },
    {
     "name": "stderr",
     "output_type": "stream",
     "text": [
      "\u001b[32mProgress: 100%|█████████████████████████████████████████| Time: 0:00:57\u001b[39m\n"
     ]
    },
    {
     "name": "stdout",
     "output_type": "stream",
     "text": [
      " 57.601781 seconds (607.96 M allocations: 67.204 GiB, 6.47% gc time)\n",
      "Start burn-in and thining from 50000 to 2000"
     ]
    },
    {
     "name": "stderr",
     "output_type": "stream",
     "text": [
      "\r",
      "\u001b[32mProgress:   4%|██                                       |  ETA: 0:00:02\u001b[39m"
     ]
    },
    {
     "name": "stdout",
     "output_type": "stream",
     "text": [
      "\n"
     ]
    },
    {
     "name": "stderr",
     "output_type": "stream",
     "text": [
      "\u001b[32mProgress: 100%|█████████████████████████████████████████| Time: 0:00:02\u001b[39m\n"
     ]
    },
    {
     "name": "stdout",
     "output_type": "stream",
     "text": [
      "  2.910604 seconds (21.97 M allocations: 1.655 GiB, 7.60% gc time)\n",
      "Calculation Normalized WAIC\n",
      "Calculaton Generalization Error\n",
      "400000"
     ]
    },
    {
     "name": "stderr",
     "output_type": "stream",
     "text": [
      "\r",
      "\u001b[32mProgress:   0%|█                                        |  ETA: 0:06:48\u001b[39m"
     ]
    },
    {
     "name": "stdout",
     "output_type": "stream",
     "text": [
      "\n"
     ]
    },
    {
     "name": "stderr",
     "output_type": "stream",
     "text": [
      "\u001b[32mProgress: 100%|█████████████████████████████████████████| Time: 0:08:33\u001b[39m\n"
     ]
    },
    {
     "name": "stdout",
     "output_type": "stream",
     "text": [
      "513.251700 seconds (2.41 G allocations: 465.243 GiB, 16.42% gc time)\n",
      "93,0.00282886573375201,0.0022205982806971407,4.914100086388736,0.03443298658414458\n"
     ]
    },
    {
     "name": "stderr",
     "output_type": "stream",
     "text": [
      "\u001b[32mProgress:  93%|███████████████████████████████████████  |  ETA: 1:12:31\u001b[39m"
     ]
    },
    {
     "name": "stdout",
     "output_type": "stream",
     "text": [
      "# start 94 th simulation\n",
      "Gibbs Sampling\n",
      "Start 50000 iteration for GS\n"
     ]
    },
    {
     "name": "stderr",
     "output_type": "stream",
     "text": [
      "\u001b[32mProgress: 100%|█████████████████████████████████████████| Time: 0:01:11\u001b[39m\n"
     ]
    },
    {
     "name": "stdout",
     "output_type": "stream",
     "text": [
      " 71.327851 seconds (607.99 M allocations: 67.205 GiB, 8.79% gc time)\n",
      "Start burn-in and thining from 50000 to 2000\n"
     ]
    },
    {
     "name": "stderr",
     "output_type": "stream",
     "text": [
      "\u001b[32mProgress: 100%|█████████████████████████████████████████| Time: 0:00:03\u001b[39m\n"
     ]
    },
    {
     "name": "stdout",
     "output_type": "stream",
     "text": [
      "  3.147933 seconds (21.97 M allocations: 1.655 GiB, 8.62% gc time)\n",
      "Calculation Normalized WAIC\n",
      "Calculaton Generalization Error\n",
      "400000\n"
     ]
    },
    {
     "name": "stderr",
     "output_type": "stream",
     "text": [
      "\u001b[32mProgress: 100%|█████████████████████████████████████████| Time: 0:08:38\u001b[39m\n",
      "\u001b[32mProgress:  94%|███████████████████████████████████████  |  ETA: 1:02:08\u001b[39m"
     ]
    },
    {
     "name": "stdout",
     "output_type": "stream",
     "text": [
      "518.572049 seconds (2.41 G allocations: 465.244 GiB, 16.23% gc time)\n",
      "94,0.003230614504990668,0.0019207047243509695,4.916623694292491,0.03415805878148695\n",
      "# start 95 th simulation\n",
      "Gibbs Sampling\n",
      "Start 50000 iteration for GS"
     ]
    },
    {
     "name": "stderr",
     "output_type": "stream",
     "text": [
      "\r",
      "\u001b[32mProgress:   0%|█                                        |  ETA: 0:00:54\u001b[39m"
     ]
    },
    {
     "name": "stdout",
     "output_type": "stream",
     "text": [
      "\n"
     ]
    },
    {
     "name": "stderr",
     "output_type": "stream",
     "text": [
      "\u001b[32mProgress: 100%|█████████████████████████████████████████| Time: 0:00:59\u001b[39m\n"
     ]
    },
    {
     "name": "stdout",
     "output_type": "stream",
     "text": [
      " 59.641425 seconds (607.96 M allocations: 67.204 GiB, 6.40% gc time)\n",
      "Start burn-in and thining from 50000 to 2000"
     ]
    },
    {
     "name": "stderr",
     "output_type": "stream",
     "text": [
      "\r",
      "\u001b[32mProgress:   4%|██                                       |  ETA: 0:00:02\u001b[39m"
     ]
    },
    {
     "name": "stdout",
     "output_type": "stream",
     "text": [
      "\n"
     ]
    },
    {
     "name": "stderr",
     "output_type": "stream",
     "text": [
      "\u001b[32mProgress: 100%|█████████████████████████████████████████| Time: 0:00:02\u001b[39m\n"
     ]
    },
    {
     "name": "stdout",
     "output_type": "stream",
     "text": [
      "  2.918453 seconds (21.97 M allocations: 1.655 GiB, 7.73% gc time)\n",
      "Calculation Normalized WAIC\n",
      "Calculaton Generalization Error\n",
      "400000"
     ]
    },
    {
     "name": "stderr",
     "output_type": "stream",
     "text": [
      "\r",
      "\u001b[32mProgress:   0%|█                                        |  ETA: 0:07:10\u001b[39m"
     ]
    },
    {
     "name": "stdout",
     "output_type": "stream",
     "text": [
      "\n"
     ]
    },
    {
     "name": "stderr",
     "output_type": "stream",
     "text": [
      "\u001b[32mProgress: 100%|█████████████████████████████████████████| Time: 0:08:29\u001b[39m\n",
      "\u001b[32mProgress:  95%|███████████████████████████████████████  |  ETA: 0:51:44\u001b[39m"
     ]
    },
    {
     "name": "stdout",
     "output_type": "stream",
     "text": [
      "509.976726 seconds (2.41 G allocations: 465.242 GiB, 16.55% gc time)\n",
      "95,0.0029832490358978297,0.0019506071596321773,4.916805089042359,0.033797074460617034\n",
      "# start 96 th simulation\n",
      "Gibbs Sampling\n",
      "Start 50000 iteration for GS"
     ]
    },
    {
     "name": "stderr",
     "output_type": "stream",
     "text": [
      "\r",
      "\u001b[32mProgress:   0%|█                                        |  ETA: 0:00:55\u001b[39m"
     ]
    },
    {
     "name": "stdout",
     "output_type": "stream",
     "text": [
      "\n"
     ]
    },
    {
     "name": "stderr",
     "output_type": "stream",
     "text": [
      "\u001b[32mProgress: 100%|█████████████████████████████████████████| Time: 0:01:09\u001b[39m\n"
     ]
    },
    {
     "name": "stdout",
     "output_type": "stream",
     "text": [
      " 69.631003 seconds (607.98 M allocations: 67.205 GiB, 8.89% gc time)\n",
      "Start burn-in and thining from 50000 to 2000"
     ]
    },
    {
     "name": "stderr",
     "output_type": "stream",
     "text": [
      "\r",
      "\u001b[32mProgress:   4%|██                                       |  ETA: 0:00:02\u001b[39m"
     ]
    },
    {
     "name": "stdout",
     "output_type": "stream",
     "text": [
      "\n"
     ]
    },
    {
     "name": "stderr",
     "output_type": "stream",
     "text": [
      "\u001b[32mProgress: 100%|█████████████████████████████████████████| Time: 0:00:03\u001b[39m\n"
     ]
    },
    {
     "name": "stdout",
     "output_type": "stream",
     "text": [
      "  3.043443 seconds (21.97 M allocations: 1.655 GiB, 8.81% gc time)\n",
      "Calculation Normalized WAIC\n",
      "Calculaton Generalization Error\n",
      "400000"
     ]
    },
    {
     "name": "stderr",
     "output_type": "stream",
     "text": [
      "\r",
      "\u001b[32mProgress:   0%|█                                        |  ETA: 0:08:13\u001b[39m"
     ]
    },
    {
     "name": "stdout",
     "output_type": "stream",
     "text": [
      "\n"
     ]
    },
    {
     "name": "stderr",
     "output_type": "stream",
     "text": [
      "\u001b[32mProgress: 100%|█████████████████████████████████████████| Time: 0:08:26\u001b[39m\n",
      "\u001b[32mProgress:  96%|████████████████████████████████████████ |  ETA: 0:41:21\u001b[39m"
     ]
    },
    {
     "name": "stdout",
     "output_type": "stream",
     "text": [
      "506.094442 seconds (2.41 G allocations: 465.243 GiB, 16.20% gc time)\n",
      "96,0.002424661085657162,0.002571657081576243,4.9176333502735154,0.03345342352266087\n",
      "# start 97 th simulation\n",
      "Gibbs Sampling\n",
      "Start 50000 iteration for GS\n"
     ]
    },
    {
     "name": "stderr",
     "output_type": "stream",
     "text": [
      "\u001b[32mProgress: 100%|█████████████████████████████████████████| Time: 0:00:57\u001b[39m\n"
     ]
    },
    {
     "name": "stdout",
     "output_type": "stream",
     "text": [
      " 57.051072 seconds (607.96 M allocations: 67.203 GiB, 6.50% gc time)\n"
     ]
    },
    {
     "name": "stderr",
     "output_type": "stream",
     "text": [
      "\r",
      "\u001b[32mProgress:   4%|██                                       |  ETA: 0:00:02\u001b[39m"
     ]
    },
    {
     "name": "stdout",
     "output_type": "stream",
     "text": [
      "Start burn-in and thining from 50000 to 2000\n"
     ]
    },
    {
     "name": "stderr",
     "output_type": "stream",
     "text": [
      "\u001b[32mProgress: 100%|█████████████████████████████████████████| Time: 0:00:02\u001b[39m\n"
     ]
    },
    {
     "name": "stdout",
     "output_type": "stream",
     "text": [
      "  2.908651 seconds (21.97 M allocations: 1.655 GiB, 7.53% gc time)\n",
      "Calculation Normalized WAIC\n",
      "Calculaton Generalization Error\n",
      "400000"
     ]
    },
    {
     "name": "stderr",
     "output_type": "stream",
     "text": [
      "\r",
      "\u001b[32mProgress:   0%|█                                        |  ETA: 0:06:52\u001b[39m"
     ]
    },
    {
     "name": "stdout",
     "output_type": "stream",
     "text": [
      "\n"
     ]
    },
    {
     "name": "stderr",
     "output_type": "stream",
     "text": [
      "\u001b[32mProgress: 100%|█████████████████████████████████████████| Time: 0:08:28\u001b[39m\n"
     ]
    },
    {
     "name": "stdout",
     "output_type": "stream",
     "text": [
      "508.874380 seconds (2.41 G allocations: 465.242 GiB, 16.40% gc time)\n",
      "97,0.0009254042134889023,0.00367321348821641,4.914344529154256,0.03326970111853343\n"
     ]
    },
    {
     "name": "stderr",
     "output_type": "stream",
     "text": [
      "\u001b[32mProgress:  97%|████████████████████████████████████████ |  ETA: 0:30:59\u001b[39m"
     ]
    },
    {
     "name": "stdout",
     "output_type": "stream",
     "text": [
      "# start 98 th simulation\n",
      "Gibbs Sampling\n",
      "Start 50000 iteration for GS"
     ]
    },
    {
     "name": "stderr",
     "output_type": "stream",
     "text": [
      "\r",
      "\u001b[32mProgress:   0%|█                                        |  ETA: 0:00:55\u001b[39m"
     ]
    },
    {
     "name": "stdout",
     "output_type": "stream",
     "text": [
      "\n"
     ]
    },
    {
     "name": "stderr",
     "output_type": "stream",
     "text": [
      "\u001b[32mProgress: 100%|█████████████████████████████████████████| Time: 0:01:12\u001b[39m\n"
     ]
    },
    {
     "name": "stdout",
     "output_type": "stream",
     "text": [
      " 72.818996 seconds (607.98 M allocations: 67.205 GiB, 8.34% gc time)\n",
      "Start burn-in and thining from 50000 to 2000"
     ]
    },
    {
     "name": "stderr",
     "output_type": "stream",
     "text": [
      "\r",
      "\u001b[32mProgress:   4%|██                                       |  ETA: 0:00:02\u001b[39m"
     ]
    },
    {
     "name": "stdout",
     "output_type": "stream",
     "text": [
      "\n"
     ]
    },
    {
     "name": "stderr",
     "output_type": "stream",
     "text": [
      "\u001b[32mProgress: 100%|█████████████████████████████████████████| Time: 0:00:02\u001b[39m\n"
     ]
    },
    {
     "name": "stdout",
     "output_type": "stream",
     "text": [
      "  2.968161 seconds (21.97 M allocations: 1.655 GiB, 8.57% gc time)\n",
      "Calculation Normalized WAIC\n",
      "Calculaton Generalization Error\n",
      "400000"
     ]
    },
    {
     "name": "stderr",
     "output_type": "stream",
     "text": [
      "\r",
      "\u001b[32mProgress:   0%|█                                        |  ETA: 0:06:52\u001b[39m"
     ]
    },
    {
     "name": "stdout",
     "output_type": "stream",
     "text": [
      "\n"
     ]
    },
    {
     "name": "stderr",
     "output_type": "stream",
     "text": [
      "\u001b[32mProgress: 100%|█████████████████████████████████████████| Time: 0:08:21\u001b[39m\n",
      "\u001b[32mProgress:  98%|█████████████████████████████████████████|  ETA: 0:20:39\u001b[39m"
     ]
    },
    {
     "name": "stdout",
     "output_type": "stream",
     "text": [
      "501.397779 seconds (2.41 G allocations: 465.241 GiB, 16.28% gc time)\n",
      "98,0.0037537982815946747,0.0012535272025918365,4.915293314409687,0.03294213048398767\n",
      "# start 99 th simulation\n",
      "Gibbs Sampling\n",
      "Start 50000 iteration for GS\n"
     ]
    },
    {
     "name": "stderr",
     "output_type": "stream",
     "text": [
      "\u001b[32mProgress: 100%|█████████████████████████████████████████| Time: 0:00:57\u001b[39m\n"
     ]
    },
    {
     "name": "stdout",
     "output_type": "stream",
     "text": [
      " 57.545704 seconds (607.96 M allocations: 67.204 GiB, 6.43% gc time)\n",
      "Start burn-in and thining from 50000 to 2000"
     ]
    },
    {
     "name": "stderr",
     "output_type": "stream",
     "text": [
      "\r",
      "\u001b[32mProgress:   4%|██                                       |  ETA: 0:00:03\u001b[39m"
     ]
    },
    {
     "name": "stdout",
     "output_type": "stream",
     "text": [
      "\n"
     ]
    },
    {
     "name": "stderr",
     "output_type": "stream",
     "text": [
      "\u001b[32mProgress: 100%|█████████████████████████████████████████| Time: 0:00:02\u001b[39m\n"
     ]
    },
    {
     "name": "stdout",
     "output_type": "stream",
     "text": [
      "  2.908259 seconds (21.97 M allocations: 1.655 GiB, 7.42% gc time)\n",
      "Calculation Normalized WAIC\n",
      "Calculaton Generalization Error\n",
      "400000"
     ]
    },
    {
     "name": "stderr",
     "output_type": "stream",
     "text": [
      "\r",
      "\u001b[32mProgress:   0%|█                                        |  ETA: 0:07:05\u001b[39m"
     ]
    },
    {
     "name": "stdout",
     "output_type": "stream",
     "text": [
      "\n"
     ]
    },
    {
     "name": "stderr",
     "output_type": "stream",
     "text": [
      "\u001b[32mProgress: 100%|█████████████████████████████████████████| Time: 0:08:20\u001b[39m\n"
     ]
    },
    {
     "name": "stdout",
     "output_type": "stream",
     "text": [
      "500.105736 seconds (2.41 G allocations: 465.241 GiB, 16.43% gc time)\n"
     ]
    },
    {
     "name": "stderr",
     "output_type": "stream",
     "text": [
      "\r",
      "\u001b[32mProgress:  99%|█████████████████████████████████████████|  ETA: 0:10:19\u001b[39m"
     ]
    },
    {
     "name": "stdout",
     "output_type": "stream",
     "text": [
      "99,0.0036838889565491764,0.0011444475977243525,4.9144149632972,0.03261951184799367\n",
      "# start 100 th simulation\n",
      "Gibbs Sampling\n",
      "Start 50000 iteration for GS"
     ]
    },
    {
     "name": "stderr",
     "output_type": "stream",
     "text": [
      "\r"
     ]
    },
    {
     "name": "stdout",
     "output_type": "stream",
     "text": [
      "\n"
     ]
    },
    {
     "name": "stderr",
     "output_type": "stream",
     "text": [
      "\u001b[32mProgress: 100%|█████████████████████████████████████████| Time: 0:01:07\u001b[39m\n"
     ]
    },
    {
     "name": "stdout",
     "output_type": "stream",
     "text": [
      " 67.804963 seconds (607.98 M allocations: 67.205 GiB, 8.77% gc time)\n",
      "Start burn-in and thining from 50000 to 2000"
     ]
    },
    {
     "name": "stderr",
     "output_type": "stream",
     "text": [
      "\r",
      "\u001b[32mProgress:   4%|██                                       |  ETA: 0:00:02\u001b[39m"
     ]
    },
    {
     "name": "stdout",
     "output_type": "stream",
     "text": [
      "\n"
     ]
    },
    {
     "name": "stderr",
     "output_type": "stream",
     "text": [
      "\u001b[32mProgress: 100%|█████████████████████████████████████████| Time: 0:00:02\u001b[39m\n"
     ]
    },
    {
     "name": "stdout",
     "output_type": "stream",
     "text": [
      "  2.987960 seconds (21.97 M allocations: 1.655 GiB, 8.57% gc time)\n",
      "Calculation Normalized WAIC\n",
      "Calculaton Generalization Error\n",
      "400000"
     ]
    },
    {
     "name": "stderr",
     "output_type": "stream",
     "text": [
      "\r",
      "\u001b[32mProgress:   0%|█                                        |  ETA: 0:07:39\u001b[39m"
     ]
    },
    {
     "name": "stdout",
     "output_type": "stream",
     "text": [
      "\n"
     ]
    },
    {
     "name": "stderr",
     "output_type": "stream",
     "text": [
      "\u001b[32mProgress: 100%|█████████████████████████████████████████| Time: 0:08:21\u001b[39m\n",
      "\u001b[32mProgress: 100%|█████████████████████████████████████████| Time: 17:10:30\u001b[39m\n"
     ]
    },
    {
     "name": "stdout",
     "output_type": "stream",
     "text": [
      "501.144084 seconds (2.41 G allocations: 465.241 GiB, 16.18% gc time)\n",
      "100,0.0038134907433271348,0.0006645132255128205,4.910050853352629,0.03258523220334156\n",
      "61830.639760 seconds (303.70 G allocations: 52.215 TiB, 15.13% gc time)\n",
      "The numerical RLCT is 4.910050853352629 ± 0.03258523220334156\n"
     ]
    }
   ],
   "source": [
    "# main process\n",
    "##===\n",
    "gerrors, normalized_WAICs = @time run_multi_inference(A_0, B_0, SIM_ITERS, LOG_FILE_PATH)\n",
    "ge_and_nW = gerrors + normalized_WAICs\n",
    "each_lams = (SAMPLESIZE/2) .* ge_and_nW\n",
    "lam = (SAMPLESIZE/2)*mean(ge_and_nW)\n",
    "lam_sd = (SAMPLESIZE/2)*std(ge_and_nW)/sqrt(SIM_ITERS)\n",
    "println(\"The numerical RLCT is $lam ± $lam_sd\")\n",
    "#===#"
   ]
  },
  {
   "cell_type": "code",
   "execution_count": 108,
   "metadata": {},
   "outputs": [
    {
     "name": "stdout",
     "output_type": "stream",
     "text": [
      "4, 4, 4, 2\n",
      "The exact RLCT = 5.5\n"
     ]
    }
   ],
   "source": [
    "println(\"$M, $N, $H, $r\")\n",
    "λ = rlct_LDA(M,N,H,r)\n",
    "println(\"The exact RLCT = $λ\")"
   ]
  },
  {
   "cell_type": "code",
   "execution_count": 109,
   "metadata": {},
   "outputs": [],
   "source": [
    "using DelimitedFiles\n",
    "each_lams_savepath = split(LOG_FILE_PATH, \".\")[1]*\"_each_lams.csv\"\n",
    "writedlm(each_lams_savepath,  each_lams, ',')"
   ]
  },
  {
   "cell_type": "code",
   "execution_count": 110,
   "metadata": {},
   "outputs": [
    {
     "data": {
      "image/svg+xml": [
       "<?xml version=\"1.0\" encoding=\"UTF-8\"?>\n",
       "<svg xmlns=\"http://www.w3.org/2000/svg\"\n",
       "     xmlns:xlink=\"http://www.w3.org/1999/xlink\"\n",
       "     xmlns:gadfly=\"http://www.gadflyjl.org/ns\"\n",
       "     version=\"1.2\"\n",
       "     width=\"141.42mm\" height=\"100mm\" viewBox=\"0 0 141.42 100\"\n",
       "     stroke=\"none\"\n",
       "     fill=\"#000000\"\n",
       "     stroke-width=\"0.3\"\n",
       "     font-size=\"3.88\"\n",
       ">\n",
       "<defs>\n",
       "  <marker id=\"arrow\" markerWidth=\"15\" markerHeight=\"7\" refX=\"5\" refY=\"3.5\" orient=\"auto\" markerUnits=\"strokeWidth\">\n",
       "    <path d=\"M0,0 L15,3.5 L0,7 z\" stroke=\"context-stroke\" fill=\"context-stroke\"/>\n",
       "  </marker>\n",
       "</defs>\n",
       "<g class=\"plotroot xscalable yscalable\" id=\"img-88ba95d9-1\">\n",
       "  <g class=\"guide xlabels\" font-size=\"2.82\" font-family=\"'PT Sans Caption','Helvetica Neue','Helvetica',sans-serif\" fill=\"#6C606B\" id=\"img-88ba95d9-2\">\n",
       "    <g transform=\"translate(75.45,91.33)\">\n",
       "      <g class=\"primitive\">\n",
       "        <text text-anchor=\"middle\" dy=\"0.6em\">1</text>\n",
       "      </g>\n",
       "    </g>\n",
       "  </g>\n",
       "  <g clip-path=\"url(#img-88ba95d9-3)\">\n",
       "    <g id=\"img-88ba95d9-4\">\n",
       "      <g pointer-events=\"visible\" stroke-width=\"0.3\" fill=\"#000000\" fill-opacity=\"0.000\" stroke=\"#000000\" stroke-opacity=\"0.000\" class=\"guide background\" id=\"img-88ba95d9-5\">\n",
       "        <g transform=\"translate(75.45,47.66)\" id=\"img-88ba95d9-6\">\n",
       "          <path d=\"M-60.97,-42.66 L 60.97 -42.66 60.97 42.66 -60.97 42.66 z\" class=\"primitive\"/>\n",
       "        </g>\n",
       "      </g>\n",
       "      <g class=\"guide ygridlines xfixed\" stroke-dasharray=\"0.5,0.5\" stroke-width=\"0.2\" stroke=\"#D0D0E0\" id=\"img-88ba95d9-7\">\n",
       "        <g transform=\"translate(75.45,88.33)\" id=\"img-88ba95d9-8\">\n",
       "          <path fill=\"none\" d=\"M-60.97,0 L 60.97 0\" class=\"primitive\"/>\n",
       "        </g>\n",
       "        <g transform=\"translate(75.45,68)\" id=\"img-88ba95d9-9\">\n",
       "          <path fill=\"none\" d=\"M-60.97,0 L 60.97 0\" class=\"primitive\"/>\n",
       "        </g>\n",
       "        <g transform=\"translate(75.45,47.66)\" id=\"img-88ba95d9-10\">\n",
       "          <path fill=\"none\" d=\"M-60.97,0 L 60.97 0\" class=\"primitive\"/>\n",
       "        </g>\n",
       "        <g transform=\"translate(75.45,27.33)\" id=\"img-88ba95d9-11\">\n",
       "          <path fill=\"none\" d=\"M-60.97,0 L 60.97 0\" class=\"primitive\"/>\n",
       "        </g>\n",
       "        <g transform=\"translate(75.45,7)\" id=\"img-88ba95d9-12\">\n",
       "          <path fill=\"none\" d=\"M-60.97,0 L 60.97 0\" class=\"primitive\"/>\n",
       "        </g>\n",
       "      </g>\n",
       "      <g class=\"guide xgridlines yfixed\" stroke-dasharray=\"0.5,0.5\" stroke-width=\"0.2\" stroke=\"#D0D0E0\" id=\"img-88ba95d9-13\">\n",
       "        <g transform=\"translate(75.45,47.66)\" id=\"img-88ba95d9-14\">\n",
       "          <path fill=\"none\" d=\"M0,-42.66 L 0 42.66\" class=\"primitive\"/>\n",
       "        </g>\n",
       "      </g>\n",
       "      <g class=\"plotpanel\" id=\"img-88ba95d9-15\">\n",
       "        <metadata>\n",
       "          <boundingbox value=\"14.479166666666671mm 5.0mm 121.94218957064284mm 85.32666666666668mm\"/>\n",
       "          <unitbox value=\"-0.03391492064511956 7.098368718747438 2.067829841290239 -4.1967374374948765\"/>\n",
       "        </metadata>\n",
       "        <g class=\"xfixed\" id=\"img-88ba95d9-16\">\n",
       "          <g stroke-dasharray=\"none\" stroke-width=\"0.3\" stroke=\"#0000FF\" id=\"img-88ba95d9-17\">\n",
       "            <g transform=\"translate(75.45,37.5)\" id=\"img-88ba95d9-18\">\n",
       "              <path fill=\"none\" d=\"M-60.97,0 L 60.97 0\" class=\"primitive\"/>\n",
       "            </g>\n",
       "          </g>\n",
       "          <g stroke-dasharray=\"2,1\" stroke-width=\"0.3\" stroke=\"#FFA500\" id=\"img-88ba95d9-19\">\n",
       "            <g transform=\"translate(75.45,56.12)\" id=\"img-88ba95d9-20\">\n",
       "              <path fill=\"none\" d=\"M-60.97,0 L 60.97 0\" class=\"primitive\"/>\n",
       "            </g>\n",
       "          </g>\n",
       "          <g stroke-dasharray=\"4,1\" stroke-width=\"0.3\" stroke=\"#FF0000\" id=\"img-88ba95d9-21\">\n",
       "            <g transform=\"translate(75.45,49.49)\" id=\"img-88ba95d9-22\">\n",
       "              <path fill=\"none\" d=\"M-60.97,0 L 60.97 0\" class=\"primitive\"/>\n",
       "            </g>\n",
       "          </g>\n",
       "          <g stroke-dasharray=\"2,1\" stroke-width=\"0.3\" stroke=\"#FFA500\" id=\"img-88ba95d9-23\">\n",
       "            <g transform=\"translate(75.45,42.87)\" id=\"img-88ba95d9-24\">\n",
       "              <path fill=\"none\" d=\"M-60.97,0 L 60.97 0\" class=\"primitive\"/>\n",
       "            </g>\n",
       "          </g>\n",
       "        </g>\n",
       "        <g class=\"geometry\" fill=\"#00BFFF\" id=\"img-88ba95d9-25\">\n",
       "          <g transform=\"translate(75.45,48.75)\" id=\"img-88ba95d9-26\">\n",
       "            <path d=\"M-0,27.57 L -0 27.38 -0 27.2 -0 27.01 -0 26.83 -0 26.64 -0 26.46 -0 26.28 -0 26.09 -0 25.91 -0 25.72 -0.01 25.54 -0.01 25.35 -0.01 25.17 -0.01 24.98 -0.01 24.8 -0.02 24.62 -0.02 24.43 -0.03 24.25 -0.03 24.06 -0.04 23.88 -0.05 23.69 -0.06 23.51 -0.07 23.33 -0.08 23.14 -0.09 22.96 -0.11 22.77 -0.13 22.59 -0.15 22.4 -0.17 22.22 -0.2 22.03 -0.23 21.85 -0.26 21.67 -0.29 21.48 -0.32 21.3 -0.36 21.11 -0.4 20.93 -0.44 20.74 -0.49 20.56 -0.54 20.38 -0.58 20.19 -0.63 20.01 -0.69 19.82 -0.74 19.64 -0.79 19.45 -0.85 19.27 -0.9 19.08 -0.96 18.9 -1.02 18.72 -1.08 18.53 -1.14 18.35 -1.2 18.16 -1.26 17.98 -1.32 17.79 -1.39 17.61 -1.45 17.42 -1.52 17.24 -1.59 17.06 -1.67 16.87 -1.74 16.69 -1.82 16.5 -1.9 16.32 -1.98 16.13 -2.07 15.95 -2.16 15.77 -2.25 15.58 -2.34 15.4 -2.44 15.21 -2.54 15.03 -2.65 14.84 -2.76 14.66 -2.87 14.47 -2.98 14.29 -3.11 14.11 -3.23 13.92 -3.37 13.74 -3.51 13.55 -3.65 13.37 -3.81 13.18 -3.98 13 -4.16 12.82 -4.36 12.63 -4.57 12.45 -4.8 12.26 -5.05 12.08 -5.32 11.89 -5.61 11.71 -5.92 11.52 -6.26 11.34 -6.63 11.16 -7.02 10.97 -7.44 10.79 -7.89 10.6 -8.37 10.42 -8.87 10.23 -9.41 10.05 -9.97 9.86 -10.56 9.68 -11.17 9.5 -11.81 9.31 -12.47 9.13 -13.14 8.94 -13.84 8.76 -14.54 8.57 -15.26 8.39 -15.98 8.21 -16.7 8.02 -17.42 7.84 -18.14 7.65 -18.85 7.47 -19.54 7.28 -20.22 7.1 -20.87 6.91 -21.5 6.73 -22.1 6.55 -22.67 6.36 -23.2 6.18 -23.69 5.99 -24.15 5.81 -24.56 5.62 -24.94 5.44 -25.27 5.26 -25.56 5.07 -25.8 4.89 -26.01 4.7 -26.18 4.52 -26.31 4.33 -26.41 4.15 -26.48 3.96 -26.52 3.78 -26.54 3.6 -26.53 3.41 -26.5 3.23 -26.46 3.04 -26.41 2.86 -26.34 2.67 -26.26 2.49 -26.17 2.3 -26.08 2.12 -25.98 1.94 -25.87 1.75 -25.75 1.57 -25.62 1.38 -25.49 1.2 -25.34 1.01 -25.18 0.83 -25 0.65 -24.81 0.46 -24.6 0.28 -24.37 0.09 -24.11 -0.09 -23.84 -0.28 -23.55 -0.46 -23.23 -0.65 -22.89 -0.83 -22.54 -1.01 -22.16 -1.2 -21.77 -1.38 -21.36 -1.57 -20.94 -1.75 -20.51 -1.94 -20.08 -2.12 -19.64 -2.3 -19.2 -2.49 -18.76 -2.67 -18.33 -2.86 -17.9 -3.04 -17.49 -3.23 -17.09 -3.41 -16.71 -3.6 -16.34 -3.78 -15.99 -3.96 -15.66 -4.15 -15.35 -4.33 -15.06 -4.52 -14.79 -4.7 -14.53 -4.89 -14.3 -5.07 -14.08 -5.26 -13.88 -5.44 -13.7 -5.62 -13.52 -5.81 -13.37 -5.99 -13.22 -6.18 -13.08 -6.36 -12.95 -6.55 -12.82 -6.73 -12.7 -6.91 -12.58 -7.1 -12.46 -7.28 -12.33 -7.47 -12.2 -7.65 -12.07 -7.84 -11.93 -8.02 -11.78 -8.21 -11.62 -8.39 -11.45 -8.57 -11.26 -8.76 -11.06 -8.94 -10.85 -9.13 -10.62 -9.31 -10.38 -9.5 -10.13 -9.68 -9.86 -9.86 -9.58 -10.05 -9.28 -10.23 -8.98 -10.42 -8.66 -10.6 -8.33 -10.79 -8 -10.97 -7.66 -11.16 -7.32 -11.34 -6.98 -11.52 -6.63 -11.71 -6.29 -11.89 -5.95 -12.08 -5.61 -12.26 -5.28 -12.45 -4.95 -12.63 -4.64 -12.82 -4.33 -13 -4.04 -13.18 -3.76 -13.37 -3.49 -13.55 -3.23 -13.74 -2.99 -13.92 -2.77 -14.11 -2.56 -14.29 -2.36 -14.47 -2.18 -14.66 -2.02 -14.84 -1.87 -15.03 -1.74 -15.21 -1.62 -15.4 -1.51 -15.58 -1.42 -15.77 -1.33 -15.95 -1.26 -16.13 -1.2 -16.32 -1.15 -16.5 -1.1 -16.69 -1.06 -16.87 -1.03 -17.06 -0.99 -17.24 -0.97 -17.42 -0.94 -17.61 -0.92 -17.79 -0.89 -17.98 -0.87 -18.16 -0.85 -18.35 -0.82 -18.53 -0.79 -18.72 -0.76 -18.9 -0.73 -19.08 -0.7 -19.27 -0.67 -19.45 -0.63 -19.64 -0.6 -19.82 -0.56 -20.01 -0.52 -20.19 -0.48 -20.38 -0.45 -20.56 -0.41 -20.74 -0.37 -20.93 -0.34 -21.11 -0.31 -21.3 -0.27 -21.48 -0.24 -21.67 -0.22 -21.85 -0.19 -22.03 -0.17 -22.22 -0.15 -22.4 -0.13 -22.59 -0.11 -22.77 -0.09 -22.96 -0.08 -23.14 -0.07 -23.33 -0.06 -23.51 -0.05 -23.69 -0.04 -23.88 -0.03 -24.06 -0.03 -24.25 -0.02 -24.43 -0.02 -24.62 -0.01 -24.8 -0.01 -24.98 -0.01 -25.17 -0.01 -25.35 -0.01 -25.54 -0 -25.72 -0 -25.91 -0 -26.09 -0 -26.28 -0 -26.46 -0 -26.64 -0 -26.83 -0 -27.01 -0 -27.2 -0 -27.38 -0 -27.57 0 -27.57 0 -27.38 0 -27.2 0 -27.01 0 -26.83 0 -26.64 0 -26.46 0 -26.28 0 -26.09 0 -25.91 0 -25.72 0.01 -25.54 0.01 -25.35 0.01 -25.17 0.01 -24.98 0.01 -24.8 0.02 -24.62 0.02 -24.43 0.03 -24.25 0.03 -24.06 0.04 -23.88 0.05 -23.69 0.06 -23.51 0.07 -23.33 0.08 -23.14 0.09 -22.96 0.11 -22.77 0.13 -22.59 0.15 -22.4 0.17 -22.22 0.19 -22.03 0.22 -21.85 0.24 -21.67 0.27 -21.48 0.31 -21.3 0.34 -21.11 0.37 -20.93 0.41 -20.74 0.45 -20.56 0.48 -20.38 0.52 -20.19 0.56 -20.01 0.6 -19.82 0.63 -19.64 0.67 -19.45 0.7 -19.27 0.73 -19.08 0.76 -18.9 0.79 -18.72 0.82 -18.53 0.85 -18.35 0.87 -18.16 0.89 -17.98 0.92 -17.79 0.94 -17.61 0.97 -17.42 0.99 -17.24 1.03 -17.06 1.06 -16.87 1.1 -16.69 1.15 -16.5 1.2 -16.32 1.26 -16.13 1.33 -15.95 1.42 -15.77 1.51 -15.58 1.62 -15.4 1.74 -15.21 1.87 -15.03 2.02 -14.84 2.18 -14.66 2.36 -14.47 2.56 -14.29 2.77 -14.11 2.99 -13.92 3.23 -13.74 3.49 -13.55 3.76 -13.37 4.04 -13.18 4.33 -13 4.64 -12.82 4.95 -12.63 5.28 -12.45 5.61 -12.26 5.95 -12.08 6.29 -11.89 6.63 -11.71 6.98 -11.52 7.32 -11.34 7.66 -11.16 8 -10.97 8.33 -10.79 8.66 -10.6 8.98 -10.42 9.28 -10.23 9.58 -10.05 9.86 -9.86 10.13 -9.68 10.38 -9.5 10.62 -9.31 10.85 -9.13 11.06 -8.94 11.26 -8.76 11.45 -8.57 11.62 -8.39 11.78 -8.21 11.93 -8.02 12.07 -7.84 12.2 -7.65 12.33 -7.47 12.46 -7.28 12.58 -7.1 12.7 -6.91 12.82 -6.73 12.95 -6.55 13.08 -6.36 13.22 -6.18 13.37 -5.99 13.52 -5.81 13.7 -5.62 13.88 -5.44 14.08 -5.26 14.3 -5.07 14.53 -4.89 14.79 -4.7 15.06 -4.52 15.35 -4.33 15.66 -4.15 15.99 -3.96 16.34 -3.78 16.71 -3.6 17.09 -3.41 17.49 -3.23 17.9 -3.04 18.33 -2.86 18.76 -2.67 19.2 -2.49 19.64 -2.3 20.08 -2.12 20.51 -1.94 20.94 -1.75 21.36 -1.57 21.77 -1.38 22.16 -1.2 22.54 -1.01 22.89 -0.83 23.23 -0.65 23.55 -0.46 23.84 -0.28 24.11 -0.09 24.37 0.09 24.6 0.28 24.81 0.46 25 0.65 25.18 0.83 25.34 1.01 25.49 1.2 25.62 1.38 25.75 1.57 25.87 1.75 25.98 1.94 26.08 2.12 26.17 2.3 26.26 2.49 26.34 2.67 26.41 2.86 26.46 3.04 26.5 3.23 26.53 3.41 26.54 3.6 26.52 3.78 26.48 3.96 26.41 4.15 26.31 4.33 26.18 4.52 26.01 4.7 25.8 4.89 25.56 5.07 25.27 5.26 24.94 5.44 24.56 5.62 24.15 5.81 23.69 5.99 23.2 6.18 22.67 6.36 22.1 6.55 21.5 6.73 20.87 6.91 20.22 7.1 19.54 7.28 18.85 7.47 18.14 7.65 17.42 7.84 16.7 8.02 15.98 8.21 15.26 8.39 14.54 8.57 13.84 8.76 13.14 8.94 12.47 9.13 11.81 9.31 11.17 9.5 10.56 9.68 9.97 9.86 9.41 10.05 8.87 10.23 8.37 10.42 7.89 10.6 7.44 10.79 7.02 10.97 6.63 11.16 6.26 11.34 5.92 11.52 5.61 11.71 5.32 11.89 5.05 12.08 4.8 12.26 4.57 12.45 4.36 12.63 4.16 12.82 3.98 13 3.81 13.18 3.65 13.37 3.51 13.55 3.37 13.74 3.23 13.92 3.11 14.11 2.98 14.29 2.87 14.47 2.76 14.66 2.65 14.84 2.54 15.03 2.44 15.21 2.34 15.4 2.25 15.58 2.16 15.77 2.07 15.95 1.98 16.13 1.9 16.32 1.82 16.5 1.74 16.69 1.67 16.87 1.59 17.06 1.52 17.24 1.45 17.42 1.39 17.61 1.32 17.79 1.26 17.98 1.2 18.16 1.14 18.35 1.08 18.53 1.02 18.72 0.96 18.9 0.9 19.08 0.85 19.27 0.79 19.45 0.74 19.64 0.69 19.82 0.63 20.01 0.58 20.19 0.54 20.38 0.49 20.56 0.44 20.74 0.4 20.93 0.36 21.11 0.32 21.3 0.29 21.48 0.26 21.67 0.23 21.85 0.2 22.03 0.17 22.22 0.15 22.4 0.13 22.59 0.11 22.77 0.09 22.96 0.08 23.14 0.07 23.33 0.06 23.51 0.05 23.69 0.04 23.88 0.03 24.06 0.03 24.25 0.02 24.43 0.02 24.62 0.01 24.8 0.01 24.98 0.01 25.17 0.01 25.35 0.01 25.54 0 25.72 0 25.91 0 26.09 0 26.28 0 26.46 0 26.64 0 26.83 0 27.01 0 27.2 0 27.38 0 27.57 z\" class=\"primitive\"/>\n",
       "          </g>\n",
       "        </g>\n",
       "      </g>\n",
       "    </g>\n",
       "  </g>\n",
       "  <g class=\"guide ylabels\" font-size=\"2.82\" font-family=\"'PT Sans Caption','Helvetica Neue','Helvetica',sans-serif\" fill=\"#6C606B\" id=\"img-88ba95d9-27\">\n",
       "    <g transform=\"translate(13.48,88.33)\" id=\"img-88ba95d9-28\">\n",
       "      <g class=\"primitive\">\n",
       "        <text text-anchor=\"end\" dy=\"0.35em\">3</text>\n",
       "      </g>\n",
       "    </g>\n",
       "    <g transform=\"translate(13.48,68)\" id=\"img-88ba95d9-29\">\n",
       "      <g class=\"primitive\">\n",
       "        <text text-anchor=\"end\" dy=\"0.35em\">4</text>\n",
       "      </g>\n",
       "    </g>\n",
       "    <g transform=\"translate(13.48,47.66)\" id=\"img-88ba95d9-30\">\n",
       "      <g class=\"primitive\">\n",
       "        <text text-anchor=\"end\" dy=\"0.35em\">5</text>\n",
       "      </g>\n",
       "    </g>\n",
       "    <g transform=\"translate(13.48,27.33)\" id=\"img-88ba95d9-31\">\n",
       "      <g class=\"primitive\">\n",
       "        <text text-anchor=\"end\" dy=\"0.35em\">6</text>\n",
       "      </g>\n",
       "    </g>\n",
       "    <g transform=\"translate(13.48,7)\" id=\"img-88ba95d9-32\">\n",
       "      <g class=\"primitive\">\n",
       "        <text text-anchor=\"end\" dy=\"0.35em\">7</text>\n",
       "      </g>\n",
       "    </g>\n",
       "  </g>\n",
       "  <g font-size=\"3.88\" font-family=\"'PT Sans','Helvetica Neue','Helvetica',sans-serif\" fill=\"#564A55\" stroke=\"#000000\" stroke-opacity=\"0.000\" id=\"img-88ba95d9-33\">\n",
       "    <g transform=\"translate(8.81,47.66)\" id=\"img-88ba95d9-34\">\n",
       "      <g class=\"primitive\">\n",
       "        <text text-anchor=\"end\" dy=\"0.35em\">y</text>\n",
       "      </g>\n",
       "    </g>\n",
       "  </g>\n",
       "</g>\n",
       "<defs>\n",
       "  <clipPath id=\"img-88ba95d9-3\">\n",
       "    <path d=\"M14.48,5 L 136.42 5 136.42 90.33 14.48 90.33\" />\n",
       "  </clipPath>\n",
       "</defs>\n",
       "</svg>\n"
      ],
      "text/html": [
       "<?xml version=\"1.0\" encoding=\"UTF-8\"?>\n",
       "<svg xmlns=\"http://www.w3.org/2000/svg\"\n",
       "     xmlns:xlink=\"http://www.w3.org/1999/xlink\"\n",
       "     xmlns:gadfly=\"http://www.gadflyjl.org/ns\"\n",
       "     version=\"1.2\"\n",
       "     width=\"141.42mm\" height=\"100mm\" viewBox=\"0 0 141.42 100\"\n",
       "     stroke=\"none\"\n",
       "     fill=\"#000000\"\n",
       "     stroke-width=\"0.3\"\n",
       "     font-size=\"3.88\"\n",
       "\n",
       "     id=\"img-a109cf01\">\n",
       "<defs>\n",
       "  <marker id=\"arrow\" markerWidth=\"15\" markerHeight=\"7\" refX=\"5\" refY=\"3.5\" orient=\"auto\" markerUnits=\"strokeWidth\">\n",
       "    <path d=\"M0,0 L15,3.5 L0,7 z\" stroke=\"context-stroke\" fill=\"context-stroke\"/>\n",
       "  </marker>\n",
       "</defs>\n",
       "<g class=\"plotroot xscalable yscalable\" id=\"img-a109cf01-1\">\n",
       "  <g class=\"guide xlabels\" font-size=\"2.82\" font-family=\"'PT Sans Caption','Helvetica Neue','Helvetica',sans-serif\" fill=\"#6C606B\" id=\"img-a109cf01-2\">\n",
       "    <g transform=\"translate(75.45,94)\" visibility=\"visible\" gadfly:scale=\"1.0\">\n",
       "      <g class=\"primitive\">\n",
       "        <text text-anchor=\"middle\" dy=\"-0em\">1</text>\n",
       "      </g>\n",
       "    </g>\n",
       "    <g transform=\"translate(-101.46,94)\" visibility=\"hidden\" gadfly:scale=\"10.0\">\n",
       "      <g class=\"primitive\">\n",
       "        <text text-anchor=\"middle\" dy=\"-0em\">-2.0</text>\n",
       "      </g>\n",
       "    </g>\n",
       "    <g transform=\"translate(-95.57,94)\" visibility=\"hidden\" gadfly:scale=\"10.0\">\n",
       "      <g class=\"primitive\">\n",
       "        <text text-anchor=\"middle\" dy=\"-0em\">-1.9</text>\n",
       "      </g>\n",
       "    </g>\n",
       "    <g transform=\"translate(-89.67,94)\" visibility=\"hidden\" gadfly:scale=\"10.0\">\n",
       "      <g class=\"primitive\">\n",
       "        <text text-anchor=\"middle\" dy=\"-0em\">-1.8</text>\n",
       "      </g>\n",
       "    </g>\n",
       "    <g transform=\"translate(-83.77,94)\" visibility=\"hidden\" gadfly:scale=\"10.0\">\n",
       "      <g class=\"primitive\">\n",
       "        <text text-anchor=\"middle\" dy=\"-0em\">-1.7</text>\n",
       "      </g>\n",
       "    </g>\n",
       "    <g transform=\"translate(-77.87,94)\" visibility=\"hidden\" gadfly:scale=\"10.0\">\n",
       "      <g class=\"primitive\">\n",
       "        <text text-anchor=\"middle\" dy=\"-0em\">-1.6</text>\n",
       "      </g>\n",
       "    </g>\n",
       "    <g transform=\"translate(-71.98,94)\" visibility=\"hidden\" gadfly:scale=\"10.0\">\n",
       "      <g class=\"primitive\">\n",
       "        <text text-anchor=\"middle\" dy=\"-0em\">-1.5</text>\n",
       "      </g>\n",
       "    </g>\n",
       "    <g transform=\"translate(-66.08,94)\" visibility=\"hidden\" gadfly:scale=\"10.0\">\n",
       "      <g class=\"primitive\">\n",
       "        <text text-anchor=\"middle\" dy=\"-0em\">-1.4</text>\n",
       "      </g>\n",
       "    </g>\n",
       "    <g transform=\"translate(-60.18,94)\" visibility=\"hidden\" gadfly:scale=\"10.0\">\n",
       "      <g class=\"primitive\">\n",
       "        <text text-anchor=\"middle\" dy=\"-0em\">-1.3</text>\n",
       "      </g>\n",
       "    </g>\n",
       "    <g transform=\"translate(-54.29,94)\" visibility=\"hidden\" gadfly:scale=\"10.0\">\n",
       "      <g class=\"primitive\">\n",
       "        <text text-anchor=\"middle\" dy=\"-0em\">-1.2</text>\n",
       "      </g>\n",
       "    </g>\n",
       "    <g transform=\"translate(-48.39,94)\" visibility=\"hidden\" gadfly:scale=\"10.0\">\n",
       "      <g class=\"primitive\">\n",
       "        <text text-anchor=\"middle\" dy=\"-0em\">-1.1</text>\n",
       "      </g>\n",
       "    </g>\n",
       "    <g transform=\"translate(-42.49,94)\" visibility=\"hidden\" gadfly:scale=\"10.0\">\n",
       "      <g class=\"primitive\">\n",
       "        <text text-anchor=\"middle\" dy=\"-0em\">-1.0</text>\n",
       "      </g>\n",
       "    </g>\n",
       "    <g transform=\"translate(-36.59,94)\" visibility=\"hidden\" gadfly:scale=\"10.0\">\n",
       "      <g class=\"primitive\">\n",
       "        <text text-anchor=\"middle\" dy=\"-0em\">-0.9</text>\n",
       "      </g>\n",
       "    </g>\n",
       "    <g transform=\"translate(-30.7,94)\" visibility=\"hidden\" gadfly:scale=\"10.0\">\n",
       "      <g class=\"primitive\">\n",
       "        <text text-anchor=\"middle\" dy=\"-0em\">-0.8</text>\n",
       "      </g>\n",
       "    </g>\n",
       "    <g transform=\"translate(-24.8,94)\" visibility=\"hidden\" gadfly:scale=\"10.0\">\n",
       "      <g class=\"primitive\">\n",
       "        <text text-anchor=\"middle\" dy=\"-0em\">-0.7</text>\n",
       "      </g>\n",
       "    </g>\n",
       "    <g transform=\"translate(-18.9,94)\" visibility=\"hidden\" gadfly:scale=\"10.0\">\n",
       "      <g class=\"primitive\">\n",
       "        <text text-anchor=\"middle\" dy=\"-0em\">-0.6</text>\n",
       "      </g>\n",
       "    </g>\n",
       "    <g transform=\"translate(-13.01,94)\" visibility=\"hidden\" gadfly:scale=\"10.0\">\n",
       "      <g class=\"primitive\">\n",
       "        <text text-anchor=\"middle\" dy=\"-0em\">-0.5</text>\n",
       "      </g>\n",
       "    </g>\n",
       "    <g transform=\"translate(-7.11,94)\" visibility=\"hidden\" gadfly:scale=\"10.0\">\n",
       "      <g class=\"primitive\">\n",
       "        <text text-anchor=\"middle\" dy=\"-0em\">-0.4</text>\n",
       "      </g>\n",
       "    </g>\n",
       "    <g transform=\"translate(-1.21,94)\" visibility=\"hidden\" gadfly:scale=\"10.0\">\n",
       "      <g class=\"primitive\">\n",
       "        <text text-anchor=\"middle\" dy=\"-0em\">-0.3</text>\n",
       "      </g>\n",
       "    </g>\n",
       "    <g transform=\"translate(4.68,94)\" visibility=\"hidden\" gadfly:scale=\"10.0\">\n",
       "      <g class=\"primitive\">\n",
       "        <text text-anchor=\"middle\" dy=\"-0em\">-0.2</text>\n",
       "      </g>\n",
       "    </g>\n",
       "    <g transform=\"translate(10.58,94)\" visibility=\"hidden\" gadfly:scale=\"10.0\">\n",
       "      <g class=\"primitive\">\n",
       "        <text text-anchor=\"middle\" dy=\"-0em\">-0.1</text>\n",
       "      </g>\n",
       "    </g>\n",
       "    <g transform=\"translate(16.48,94)\" visibility=\"hidden\" gadfly:scale=\"10.0\">\n",
       "      <g class=\"primitive\">\n",
       "        <text text-anchor=\"middle\" dy=\"-0em\">0.0</text>\n",
       "      </g>\n",
       "    </g>\n",
       "    <g transform=\"translate(22.38,94)\" visibility=\"hidden\" gadfly:scale=\"10.0\">\n",
       "      <g class=\"primitive\">\n",
       "        <text text-anchor=\"middle\" dy=\"-0em\">0.1</text>\n",
       "      </g>\n",
       "    </g>\n",
       "    <g transform=\"translate(28.27,94)\" visibility=\"hidden\" gadfly:scale=\"10.0\">\n",
       "      <g class=\"primitive\">\n",
       "        <text text-anchor=\"middle\" dy=\"-0em\">0.2</text>\n",
       "      </g>\n",
       "    </g>\n",
       "    <g transform=\"translate(34.17,94)\" visibility=\"hidden\" gadfly:scale=\"10.0\">\n",
       "      <g class=\"primitive\">\n",
       "        <text text-anchor=\"middle\" dy=\"-0em\">0.3</text>\n",
       "      </g>\n",
       "    </g>\n",
       "    <g transform=\"translate(40.07,94)\" visibility=\"hidden\" gadfly:scale=\"10.0\">\n",
       "      <g class=\"primitive\">\n",
       "        <text text-anchor=\"middle\" dy=\"-0em\">0.4</text>\n",
       "      </g>\n",
       "    </g>\n",
       "    <g transform=\"translate(45.96,94)\" visibility=\"hidden\" gadfly:scale=\"10.0\">\n",
       "      <g class=\"primitive\">\n",
       "        <text text-anchor=\"middle\" dy=\"-0em\">0.5</text>\n",
       "      </g>\n",
       "    </g>\n",
       "    <g transform=\"translate(51.86,94)\" visibility=\"hidden\" gadfly:scale=\"10.0\">\n",
       "      <g class=\"primitive\">\n",
       "        <text text-anchor=\"middle\" dy=\"-0em\">0.6</text>\n",
       "      </g>\n",
       "    </g>\n",
       "    <g transform=\"translate(57.76,94)\" visibility=\"hidden\" gadfly:scale=\"10.0\">\n",
       "      <g class=\"primitive\">\n",
       "        <text text-anchor=\"middle\" dy=\"-0em\">0.7</text>\n",
       "      </g>\n",
       "    </g>\n",
       "    <g transform=\"translate(63.66,94)\" visibility=\"hidden\" gadfly:scale=\"10.0\">\n",
       "      <g class=\"primitive\">\n",
       "        <text text-anchor=\"middle\" dy=\"-0em\">0.8</text>\n",
       "      </g>\n",
       "    </g>\n",
       "    <g transform=\"translate(69.55,94)\" visibility=\"hidden\" gadfly:scale=\"10.0\">\n",
       "      <g class=\"primitive\">\n",
       "        <text text-anchor=\"middle\" dy=\"-0em\">0.9</text>\n",
       "      </g>\n",
       "    </g>\n",
       "    <g transform=\"translate(75.45,94)\" visibility=\"hidden\" gadfly:scale=\"10.0\">\n",
       "      <g class=\"primitive\">\n",
       "        <text text-anchor=\"middle\" dy=\"-0em\">1.0</text>\n",
       "      </g>\n",
       "    </g>\n",
       "    <g transform=\"translate(81.35,94)\" visibility=\"hidden\" gadfly:scale=\"10.0\">\n",
       "      <g class=\"primitive\">\n",
       "        <text text-anchor=\"middle\" dy=\"-0em\">1.1</text>\n",
       "      </g>\n",
       "    </g>\n",
       "    <g transform=\"translate(87.24,94)\" visibility=\"hidden\" gadfly:scale=\"10.0\">\n",
       "      <g class=\"primitive\">\n",
       "        <text text-anchor=\"middle\" dy=\"-0em\">1.2</text>\n",
       "      </g>\n",
       "    </g>\n",
       "    <g transform=\"translate(93.14,94)\" visibility=\"hidden\" gadfly:scale=\"10.0\">\n",
       "      <g class=\"primitive\">\n",
       "        <text text-anchor=\"middle\" dy=\"-0em\">1.3</text>\n",
       "      </g>\n",
       "    </g>\n",
       "    <g transform=\"translate(99.04,94)\" visibility=\"hidden\" gadfly:scale=\"10.0\">\n",
       "      <g class=\"primitive\">\n",
       "        <text text-anchor=\"middle\" dy=\"-0em\">1.4</text>\n",
       "      </g>\n",
       "    </g>\n",
       "    <g transform=\"translate(104.94,94)\" visibility=\"hidden\" gadfly:scale=\"10.0\">\n",
       "      <g class=\"primitive\">\n",
       "        <text text-anchor=\"middle\" dy=\"-0em\">1.5</text>\n",
       "      </g>\n",
       "    </g>\n",
       "    <g transform=\"translate(110.83,94)\" visibility=\"hidden\" gadfly:scale=\"10.0\">\n",
       "      <g class=\"primitive\">\n",
       "        <text text-anchor=\"middle\" dy=\"-0em\">1.6</text>\n",
       "      </g>\n",
       "    </g>\n",
       "    <g transform=\"translate(116.73,94)\" visibility=\"hidden\" gadfly:scale=\"10.0\">\n",
       "      <g class=\"primitive\">\n",
       "        <text text-anchor=\"middle\" dy=\"-0em\">1.7</text>\n",
       "      </g>\n",
       "    </g>\n",
       "    <g transform=\"translate(122.63,94)\" visibility=\"hidden\" gadfly:scale=\"10.0\">\n",
       "      <g class=\"primitive\">\n",
       "        <text text-anchor=\"middle\" dy=\"-0em\">1.8</text>\n",
       "      </g>\n",
       "    </g>\n",
       "    <g transform=\"translate(128.52,94)\" visibility=\"hidden\" gadfly:scale=\"10.0\">\n",
       "      <g class=\"primitive\">\n",
       "        <text text-anchor=\"middle\" dy=\"-0em\">1.9</text>\n",
       "      </g>\n",
       "    </g>\n",
       "    <g transform=\"translate(134.42,94)\" visibility=\"hidden\" gadfly:scale=\"10.0\">\n",
       "      <g class=\"primitive\">\n",
       "        <text text-anchor=\"middle\" dy=\"-0em\">2.0</text>\n",
       "      </g>\n",
       "    </g>\n",
       "    <g transform=\"translate(140.32,94)\" visibility=\"hidden\" gadfly:scale=\"10.0\">\n",
       "      <g class=\"primitive\">\n",
       "        <text text-anchor=\"middle\" dy=\"-0em\">2.1</text>\n",
       "      </g>\n",
       "    </g>\n",
       "    <g transform=\"translate(146.22,94)\" visibility=\"hidden\" gadfly:scale=\"10.0\">\n",
       "      <g class=\"primitive\">\n",
       "        <text text-anchor=\"middle\" dy=\"-0em\">2.2</text>\n",
       "      </g>\n",
       "    </g>\n",
       "    <g transform=\"translate(152.11,94)\" visibility=\"hidden\" gadfly:scale=\"10.0\">\n",
       "      <g class=\"primitive\">\n",
       "        <text text-anchor=\"middle\" dy=\"-0em\">2.3</text>\n",
       "      </g>\n",
       "    </g>\n",
       "    <g transform=\"translate(158.01,94)\" visibility=\"hidden\" gadfly:scale=\"10.0\">\n",
       "      <g class=\"primitive\">\n",
       "        <text text-anchor=\"middle\" dy=\"-0em\">2.4</text>\n",
       "      </g>\n",
       "    </g>\n",
       "    <g transform=\"translate(163.91,94)\" visibility=\"hidden\" gadfly:scale=\"10.0\">\n",
       "      <g class=\"primitive\">\n",
       "        <text text-anchor=\"middle\" dy=\"-0em\">2.5</text>\n",
       "      </g>\n",
       "    </g>\n",
       "    <g transform=\"translate(169.8,94)\" visibility=\"hidden\" gadfly:scale=\"10.0\">\n",
       "      <g class=\"primitive\">\n",
       "        <text text-anchor=\"middle\" dy=\"-0em\">2.6</text>\n",
       "      </g>\n",
       "    </g>\n",
       "    <g transform=\"translate(175.7,94)\" visibility=\"hidden\" gadfly:scale=\"10.0\">\n",
       "      <g class=\"primitive\">\n",
       "        <text text-anchor=\"middle\" dy=\"-0em\">2.7</text>\n",
       "      </g>\n",
       "    </g>\n",
       "    <g transform=\"translate(181.6,94)\" visibility=\"hidden\" gadfly:scale=\"10.0\">\n",
       "      <g class=\"primitive\">\n",
       "        <text text-anchor=\"middle\" dy=\"-0em\">2.8</text>\n",
       "      </g>\n",
       "    </g>\n",
       "    <g transform=\"translate(187.5,94)\" visibility=\"hidden\" gadfly:scale=\"10.0\">\n",
       "      <g class=\"primitive\">\n",
       "        <text text-anchor=\"middle\" dy=\"-0em\">2.9</text>\n",
       "      </g>\n",
       "    </g>\n",
       "    <g transform=\"translate(193.39,94)\" visibility=\"hidden\" gadfly:scale=\"10.0\">\n",
       "      <g class=\"primitive\">\n",
       "        <text text-anchor=\"middle\" dy=\"-0em\">3.0</text>\n",
       "      </g>\n",
       "    </g>\n",
       "    <g transform=\"translate(199.29,94)\" visibility=\"hidden\" gadfly:scale=\"10.0\">\n",
       "      <g class=\"primitive\">\n",
       "        <text text-anchor=\"middle\" dy=\"-0em\">3.1</text>\n",
       "      </g>\n",
       "    </g>\n",
       "    <g transform=\"translate(205.19,94)\" visibility=\"hidden\" gadfly:scale=\"10.0\">\n",
       "      <g class=\"primitive\">\n",
       "        <text text-anchor=\"middle\" dy=\"-0em\">3.2</text>\n",
       "      </g>\n",
       "    </g>\n",
       "    <g transform=\"translate(211.08,94)\" visibility=\"hidden\" gadfly:scale=\"10.0\">\n",
       "      <g class=\"primitive\">\n",
       "        <text text-anchor=\"middle\" dy=\"-0em\">3.3</text>\n",
       "      </g>\n",
       "    </g>\n",
       "    <g transform=\"translate(216.98,94)\" visibility=\"hidden\" gadfly:scale=\"10.0\">\n",
       "      <g class=\"primitive\">\n",
       "        <text text-anchor=\"middle\" dy=\"-0em\">3.4</text>\n",
       "      </g>\n",
       "    </g>\n",
       "    <g transform=\"translate(222.88,94)\" visibility=\"hidden\" gadfly:scale=\"10.0\">\n",
       "      <g class=\"primitive\">\n",
       "        <text text-anchor=\"middle\" dy=\"-0em\">3.5</text>\n",
       "      </g>\n",
       "    </g>\n",
       "    <g transform=\"translate(228.78,94)\" visibility=\"hidden\" gadfly:scale=\"10.0\">\n",
       "      <g class=\"primitive\">\n",
       "        <text text-anchor=\"middle\" dy=\"-0em\">3.6</text>\n",
       "      </g>\n",
       "    </g>\n",
       "    <g transform=\"translate(234.67,94)\" visibility=\"hidden\" gadfly:scale=\"10.0\">\n",
       "      <g class=\"primitive\">\n",
       "        <text text-anchor=\"middle\" dy=\"-0em\">3.7</text>\n",
       "      </g>\n",
       "    </g>\n",
       "    <g transform=\"translate(240.57,94)\" visibility=\"hidden\" gadfly:scale=\"10.0\">\n",
       "      <g class=\"primitive\">\n",
       "        <text text-anchor=\"middle\" dy=\"-0em\">3.8</text>\n",
       "      </g>\n",
       "    </g>\n",
       "    <g transform=\"translate(246.47,94)\" visibility=\"hidden\" gadfly:scale=\"10.0\">\n",
       "      <g class=\"primitive\">\n",
       "        <text text-anchor=\"middle\" dy=\"-0em\">3.9</text>\n",
       "      </g>\n",
       "    </g>\n",
       "    <g transform=\"translate(252.36,94)\" visibility=\"hidden\" gadfly:scale=\"10.0\">\n",
       "      <g class=\"primitive\">\n",
       "        <text text-anchor=\"middle\" dy=\"-0em\">4.0</text>\n",
       "      </g>\n",
       "    </g>\n",
       "    <g transform=\"translate(-101.46,94)\" visibility=\"hidden\" gadfly:scale=\"0.5\">\n",
       "      <g class=\"primitive\">\n",
       "        <text text-anchor=\"middle\" dy=\"-0em\">-2</text>\n",
       "      </g>\n",
       "    </g>\n",
       "    <g transform=\"translate(16.48,94)\" visibility=\"hidden\" gadfly:scale=\"0.5\">\n",
       "      <g class=\"primitive\">\n",
       "        <text text-anchor=\"middle\" dy=\"-0em\">0</text>\n",
       "      </g>\n",
       "    </g>\n",
       "    <g transform=\"translate(134.42,94)\" visibility=\"hidden\" gadfly:scale=\"0.5\">\n",
       "      <g class=\"primitive\">\n",
       "        <text text-anchor=\"middle\" dy=\"-0em\">2</text>\n",
       "      </g>\n",
       "    </g>\n",
       "    <g transform=\"translate(252.36,94)\" visibility=\"hidden\" gadfly:scale=\"0.5\">\n",
       "      <g class=\"primitive\">\n",
       "        <text text-anchor=\"middle\" dy=\"-0em\">4</text>\n",
       "      </g>\n",
       "    </g>\n",
       "    <g transform=\"translate(-101.46,94)\" visibility=\"hidden\" gadfly:scale=\"5.0\">\n",
       "      <g class=\"primitive\">\n",
       "        <text text-anchor=\"middle\" dy=\"-0em\">-2.0</text>\n",
       "      </g>\n",
       "    </g>\n",
       "    <g transform=\"translate(-89.67,94)\" visibility=\"hidden\" gadfly:scale=\"5.0\">\n",
       "      <g class=\"primitive\">\n",
       "        <text text-anchor=\"middle\" dy=\"-0em\">-1.8</text>\n",
       "      </g>\n",
       "    </g>\n",
       "    <g transform=\"translate(-77.87,94)\" visibility=\"hidden\" gadfly:scale=\"5.0\">\n",
       "      <g class=\"primitive\">\n",
       "        <text text-anchor=\"middle\" dy=\"-0em\">-1.6</text>\n",
       "      </g>\n",
       "    </g>\n",
       "    <g transform=\"translate(-66.08,94)\" visibility=\"hidden\" gadfly:scale=\"5.0\">\n",
       "      <g class=\"primitive\">\n",
       "        <text text-anchor=\"middle\" dy=\"-0em\">-1.4</text>\n",
       "      </g>\n",
       "    </g>\n",
       "    <g transform=\"translate(-54.29,94)\" visibility=\"hidden\" gadfly:scale=\"5.0\">\n",
       "      <g class=\"primitive\">\n",
       "        <text text-anchor=\"middle\" dy=\"-0em\">-1.2</text>\n",
       "      </g>\n",
       "    </g>\n",
       "    <g transform=\"translate(-42.49,94)\" visibility=\"hidden\" gadfly:scale=\"5.0\">\n",
       "      <g class=\"primitive\">\n",
       "        <text text-anchor=\"middle\" dy=\"-0em\">-1.0</text>\n",
       "      </g>\n",
       "    </g>\n",
       "    <g transform=\"translate(-30.7,94)\" visibility=\"hidden\" gadfly:scale=\"5.0\">\n",
       "      <g class=\"primitive\">\n",
       "        <text text-anchor=\"middle\" dy=\"-0em\">-0.8</text>\n",
       "      </g>\n",
       "    </g>\n",
       "    <g transform=\"translate(-18.9,94)\" visibility=\"hidden\" gadfly:scale=\"5.0\">\n",
       "      <g class=\"primitive\">\n",
       "        <text text-anchor=\"middle\" dy=\"-0em\">-0.6</text>\n",
       "      </g>\n",
       "    </g>\n",
       "    <g transform=\"translate(-7.11,94)\" visibility=\"hidden\" gadfly:scale=\"5.0\">\n",
       "      <g class=\"primitive\">\n",
       "        <text text-anchor=\"middle\" dy=\"-0em\">-0.4</text>\n",
       "      </g>\n",
       "    </g>\n",
       "    <g transform=\"translate(4.68,94)\" visibility=\"hidden\" gadfly:scale=\"5.0\">\n",
       "      <g class=\"primitive\">\n",
       "        <text text-anchor=\"middle\" dy=\"-0em\">-0.2</text>\n",
       "      </g>\n",
       "    </g>\n",
       "    <g transform=\"translate(16.48,94)\" visibility=\"hidden\" gadfly:scale=\"5.0\">\n",
       "      <g class=\"primitive\">\n",
       "        <text text-anchor=\"middle\" dy=\"-0em\">0.0</text>\n",
       "      </g>\n",
       "    </g>\n",
       "    <g transform=\"translate(28.27,94)\" visibility=\"hidden\" gadfly:scale=\"5.0\">\n",
       "      <g class=\"primitive\">\n",
       "        <text text-anchor=\"middle\" dy=\"-0em\">0.2</text>\n",
       "      </g>\n",
       "    </g>\n",
       "    <g transform=\"translate(40.07,94)\" visibility=\"hidden\" gadfly:scale=\"5.0\">\n",
       "      <g class=\"primitive\">\n",
       "        <text text-anchor=\"middle\" dy=\"-0em\">0.4</text>\n",
       "      </g>\n",
       "    </g>\n",
       "    <g transform=\"translate(51.86,94)\" visibility=\"hidden\" gadfly:scale=\"5.0\">\n",
       "      <g class=\"primitive\">\n",
       "        <text text-anchor=\"middle\" dy=\"-0em\">0.6</text>\n",
       "      </g>\n",
       "    </g>\n",
       "    <g transform=\"translate(63.66,94)\" visibility=\"hidden\" gadfly:scale=\"5.0\">\n",
       "      <g class=\"primitive\">\n",
       "        <text text-anchor=\"middle\" dy=\"-0em\">0.8</text>\n",
       "      </g>\n",
       "    </g>\n",
       "    <g transform=\"translate(75.45,94)\" visibility=\"hidden\" gadfly:scale=\"5.0\">\n",
       "      <g class=\"primitive\">\n",
       "        <text text-anchor=\"middle\" dy=\"-0em\">1.0</text>\n",
       "      </g>\n",
       "    </g>\n",
       "    <g transform=\"translate(87.24,94)\" visibility=\"hidden\" gadfly:scale=\"5.0\">\n",
       "      <g class=\"primitive\">\n",
       "        <text text-anchor=\"middle\" dy=\"-0em\">1.2</text>\n",
       "      </g>\n",
       "    </g>\n",
       "    <g transform=\"translate(99.04,94)\" visibility=\"hidden\" gadfly:scale=\"5.0\">\n",
       "      <g class=\"primitive\">\n",
       "        <text text-anchor=\"middle\" dy=\"-0em\">1.4</text>\n",
       "      </g>\n",
       "    </g>\n",
       "    <g transform=\"translate(110.83,94)\" visibility=\"hidden\" gadfly:scale=\"5.0\">\n",
       "      <g class=\"primitive\">\n",
       "        <text text-anchor=\"middle\" dy=\"-0em\">1.6</text>\n",
       "      </g>\n",
       "    </g>\n",
       "    <g transform=\"translate(122.63,94)\" visibility=\"hidden\" gadfly:scale=\"5.0\">\n",
       "      <g class=\"primitive\">\n",
       "        <text text-anchor=\"middle\" dy=\"-0em\">1.8</text>\n",
       "      </g>\n",
       "    </g>\n",
       "    <g transform=\"translate(134.42,94)\" visibility=\"hidden\" gadfly:scale=\"5.0\">\n",
       "      <g class=\"primitive\">\n",
       "        <text text-anchor=\"middle\" dy=\"-0em\">2.0</text>\n",
       "      </g>\n",
       "    </g>\n",
       "    <g transform=\"translate(146.22,94)\" visibility=\"hidden\" gadfly:scale=\"5.0\">\n",
       "      <g class=\"primitive\">\n",
       "        <text text-anchor=\"middle\" dy=\"-0em\">2.2</text>\n",
       "      </g>\n",
       "    </g>\n",
       "    <g transform=\"translate(158.01,94)\" visibility=\"hidden\" gadfly:scale=\"5.0\">\n",
       "      <g class=\"primitive\">\n",
       "        <text text-anchor=\"middle\" dy=\"-0em\">2.4</text>\n",
       "      </g>\n",
       "    </g>\n",
       "    <g transform=\"translate(169.8,94)\" visibility=\"hidden\" gadfly:scale=\"5.0\">\n",
       "      <g class=\"primitive\">\n",
       "        <text text-anchor=\"middle\" dy=\"-0em\">2.6</text>\n",
       "      </g>\n",
       "    </g>\n",
       "    <g transform=\"translate(181.6,94)\" visibility=\"hidden\" gadfly:scale=\"5.0\">\n",
       "      <g class=\"primitive\">\n",
       "        <text text-anchor=\"middle\" dy=\"-0em\">2.8</text>\n",
       "      </g>\n",
       "    </g>\n",
       "    <g transform=\"translate(193.39,94)\" visibility=\"hidden\" gadfly:scale=\"5.0\">\n",
       "      <g class=\"primitive\">\n",
       "        <text text-anchor=\"middle\" dy=\"-0em\">3.0</text>\n",
       "      </g>\n",
       "    </g>\n",
       "    <g transform=\"translate(205.19,94)\" visibility=\"hidden\" gadfly:scale=\"5.0\">\n",
       "      <g class=\"primitive\">\n",
       "        <text text-anchor=\"middle\" dy=\"-0em\">3.2</text>\n",
       "      </g>\n",
       "    </g>\n",
       "    <g transform=\"translate(216.98,94)\" visibility=\"hidden\" gadfly:scale=\"5.0\">\n",
       "      <g class=\"primitive\">\n",
       "        <text text-anchor=\"middle\" dy=\"-0em\">3.4</text>\n",
       "      </g>\n",
       "    </g>\n",
       "    <g transform=\"translate(228.78,94)\" visibility=\"hidden\" gadfly:scale=\"5.0\">\n",
       "      <g class=\"primitive\">\n",
       "        <text text-anchor=\"middle\" dy=\"-0em\">3.6</text>\n",
       "      </g>\n",
       "    </g>\n",
       "    <g transform=\"translate(240.57,94)\" visibility=\"hidden\" gadfly:scale=\"5.0\">\n",
       "      <g class=\"primitive\">\n",
       "        <text text-anchor=\"middle\" dy=\"-0em\">3.8</text>\n",
       "      </g>\n",
       "    </g>\n",
       "    <g transform=\"translate(252.36,94)\" visibility=\"hidden\" gadfly:scale=\"5.0\">\n",
       "      <g class=\"primitive\">\n",
       "        <text text-anchor=\"middle\" dy=\"-0em\">4.0</text>\n",
       "      </g>\n",
       "    </g>\n",
       "  </g>\n",
       "  <g clip-path=\"url(#img-a109cf01-3)\">\n",
       "    <g id=\"img-a109cf01-4\">\n",
       "      <g pointer-events=\"visible\" stroke-width=\"0.3\" fill=\"#000000\" fill-opacity=\"0.000\" stroke=\"#000000\" stroke-opacity=\"0.000\" class=\"guide background\" id=\"img-a109cf01-5\">\n",
       "        <g transform=\"translate(75.45,47.66)\" id=\"img-a109cf01-6\">\n",
       "          <path d=\"M-60.97,-42.66 L 60.97 -42.66 60.97 42.66 -60.97 42.66 z\" class=\"primitive\"/>\n",
       "        </g>\n",
       "      </g>\n",
       "      <g class=\"guide ygridlines xfixed\" stroke-dasharray=\"0.5,0.5\" stroke-width=\"0.2\" stroke=\"#D0D0E0\" id=\"img-a109cf01-7\">\n",
       "        <g transform=\"translate(75.45,189.98)\" id=\"img-a109cf01-8\" visibility=\"hidden\" gadfly:scale=\"1.0\">\n",
       "          <path fill=\"none\" d=\"M-60.97,0 L 60.97 0\" class=\"primitive\"/>\n",
       "        </g>\n",
       "        <g transform=\"translate(75.45,169.65)\" id=\"img-a109cf01-9\" visibility=\"hidden\" gadfly:scale=\"1.0\">\n",
       "          <path fill=\"none\" d=\"M-60.97,0 L 60.97 0\" class=\"primitive\"/>\n",
       "        </g>\n",
       "        <g transform=\"translate(75.45,149.32)\" id=\"img-a109cf01-10\" visibility=\"hidden\" gadfly:scale=\"1.0\">\n",
       "          <path fill=\"none\" d=\"M-60.97,0 L 60.97 0\" class=\"primitive\"/>\n",
       "        </g>\n",
       "        <g transform=\"translate(75.45,128.99)\" id=\"img-a109cf01-11\" visibility=\"hidden\" gadfly:scale=\"1.0\">\n",
       "          <path fill=\"none\" d=\"M-60.97,0 L 60.97 0\" class=\"primitive\"/>\n",
       "        </g>\n",
       "        <g transform=\"translate(75.45,108.66)\" id=\"img-a109cf01-12\" visibility=\"hidden\" gadfly:scale=\"1.0\">\n",
       "          <path fill=\"none\" d=\"M-60.97,0 L 60.97 0\" class=\"primitive\"/>\n",
       "        </g>\n",
       "        <g transform=\"translate(75.45,88.33)\" id=\"img-a109cf01-13\" visibility=\"visible\" gadfly:scale=\"1.0\">\n",
       "          <path fill=\"none\" d=\"M-60.97,0 L 60.97 0\" class=\"primitive\"/>\n",
       "        </g>\n",
       "        <g transform=\"translate(75.45,68)\" id=\"img-a109cf01-14\" visibility=\"visible\" gadfly:scale=\"1.0\">\n",
       "          <path fill=\"none\" d=\"M-60.97,0 L 60.97 0\" class=\"primitive\"/>\n",
       "        </g>\n",
       "        <g transform=\"translate(75.45,47.66)\" id=\"img-a109cf01-15\" visibility=\"visible\" gadfly:scale=\"1.0\">\n",
       "          <path fill=\"none\" d=\"M-60.97,0 L 60.97 0\" class=\"primitive\"/>\n",
       "        </g>\n",
       "        <g transform=\"translate(75.45,27.33)\" id=\"img-a109cf01-16\" visibility=\"visible\" gadfly:scale=\"1.0\">\n",
       "          <path fill=\"none\" d=\"M-60.97,0 L 60.97 0\" class=\"primitive\"/>\n",
       "        </g>\n",
       "        <g transform=\"translate(75.45,7)\" id=\"img-a109cf01-17\" visibility=\"visible\" gadfly:scale=\"1.0\">\n",
       "          <path fill=\"none\" d=\"M-60.97,0 L 60.97 0\" class=\"primitive\"/>\n",
       "        </g>\n",
       "        <g transform=\"translate(75.45,-13.33)\" id=\"img-a109cf01-18\" visibility=\"hidden\" gadfly:scale=\"1.0\">\n",
       "          <path fill=\"none\" d=\"M-60.97,0 L 60.97 0\" class=\"primitive\"/>\n",
       "        </g>\n",
       "        <g transform=\"translate(75.45,-33.66)\" id=\"img-a109cf01-19\" visibility=\"hidden\" gadfly:scale=\"1.0\">\n",
       "          <path fill=\"none\" d=\"M-60.97,0 L 60.97 0\" class=\"primitive\"/>\n",
       "        </g>\n",
       "        <g transform=\"translate(75.45,-54)\" id=\"img-a109cf01-20\" visibility=\"hidden\" gadfly:scale=\"1.0\">\n",
       "          <path fill=\"none\" d=\"M-60.97,0 L 60.97 0\" class=\"primitive\"/>\n",
       "        </g>\n",
       "        <g transform=\"translate(75.45,-74.33)\" id=\"img-a109cf01-21\" visibility=\"hidden\" gadfly:scale=\"1.0\">\n",
       "          <path fill=\"none\" d=\"M-60.97,0 L 60.97 0\" class=\"primitive\"/>\n",
       "        </g>\n",
       "        <g transform=\"translate(75.45,-94.66)\" id=\"img-a109cf01-22\" visibility=\"hidden\" gadfly:scale=\"1.0\">\n",
       "          <path fill=\"none\" d=\"M-60.97,0 L 60.97 0\" class=\"primitive\"/>\n",
       "        </g>\n",
       "        <g transform=\"translate(75.45,169.65)\" id=\"img-a109cf01-23\" visibility=\"hidden\" gadfly:scale=\"10.0\">\n",
       "          <path fill=\"none\" d=\"M-60.97,0 L 60.97 0\" class=\"primitive\"/>\n",
       "        </g>\n",
       "        <g transform=\"translate(75.45,165.59)\" id=\"img-a109cf01-24\" visibility=\"hidden\" gadfly:scale=\"10.0\">\n",
       "          <path fill=\"none\" d=\"M-60.97,0 L 60.97 0\" class=\"primitive\"/>\n",
       "        </g>\n",
       "        <g transform=\"translate(75.45,161.52)\" id=\"img-a109cf01-25\" visibility=\"hidden\" gadfly:scale=\"10.0\">\n",
       "          <path fill=\"none\" d=\"M-60.97,0 L 60.97 0\" class=\"primitive\"/>\n",
       "        </g>\n",
       "        <g transform=\"translate(75.45,157.45)\" id=\"img-a109cf01-26\" visibility=\"hidden\" gadfly:scale=\"10.0\">\n",
       "          <path fill=\"none\" d=\"M-60.97,0 L 60.97 0\" class=\"primitive\"/>\n",
       "        </g>\n",
       "        <g transform=\"translate(75.45,153.39)\" id=\"img-a109cf01-27\" visibility=\"hidden\" gadfly:scale=\"10.0\">\n",
       "          <path fill=\"none\" d=\"M-60.97,0 L 60.97 0\" class=\"primitive\"/>\n",
       "        </g>\n",
       "        <g transform=\"translate(75.45,149.32)\" id=\"img-a109cf01-28\" visibility=\"hidden\" gadfly:scale=\"10.0\">\n",
       "          <path fill=\"none\" d=\"M-60.97,0 L 60.97 0\" class=\"primitive\"/>\n",
       "        </g>\n",
       "        <g transform=\"translate(75.45,145.26)\" id=\"img-a109cf01-29\" visibility=\"hidden\" gadfly:scale=\"10.0\">\n",
       "          <path fill=\"none\" d=\"M-60.97,0 L 60.97 0\" class=\"primitive\"/>\n",
       "        </g>\n",
       "        <g transform=\"translate(75.45,141.19)\" id=\"img-a109cf01-30\" visibility=\"hidden\" gadfly:scale=\"10.0\">\n",
       "          <path fill=\"none\" d=\"M-60.97,0 L 60.97 0\" class=\"primitive\"/>\n",
       "        </g>\n",
       "        <g transform=\"translate(75.45,137.12)\" id=\"img-a109cf01-31\" visibility=\"hidden\" gadfly:scale=\"10.0\">\n",
       "          <path fill=\"none\" d=\"M-60.97,0 L 60.97 0\" class=\"primitive\"/>\n",
       "        </g>\n",
       "        <g transform=\"translate(75.45,133.06)\" id=\"img-a109cf01-32\" visibility=\"hidden\" gadfly:scale=\"10.0\">\n",
       "          <path fill=\"none\" d=\"M-60.97,0 L 60.97 0\" class=\"primitive\"/>\n",
       "        </g>\n",
       "        <g transform=\"translate(75.45,128.99)\" id=\"img-a109cf01-33\" visibility=\"hidden\" gadfly:scale=\"10.0\">\n",
       "          <path fill=\"none\" d=\"M-60.97,0 L 60.97 0\" class=\"primitive\"/>\n",
       "        </g>\n",
       "        <g transform=\"translate(75.45,124.92)\" id=\"img-a109cf01-34\" visibility=\"hidden\" gadfly:scale=\"10.0\">\n",
       "          <path fill=\"none\" d=\"M-60.97,0 L 60.97 0\" class=\"primitive\"/>\n",
       "        </g>\n",
       "        <g transform=\"translate(75.45,120.86)\" id=\"img-a109cf01-35\" visibility=\"hidden\" gadfly:scale=\"10.0\">\n",
       "          <path fill=\"none\" d=\"M-60.97,0 L 60.97 0\" class=\"primitive\"/>\n",
       "        </g>\n",
       "        <g transform=\"translate(75.45,116.79)\" id=\"img-a109cf01-36\" visibility=\"hidden\" gadfly:scale=\"10.0\">\n",
       "          <path fill=\"none\" d=\"M-60.97,0 L 60.97 0\" class=\"primitive\"/>\n",
       "        </g>\n",
       "        <g transform=\"translate(75.45,112.72)\" id=\"img-a109cf01-37\" visibility=\"hidden\" gadfly:scale=\"10.0\">\n",
       "          <path fill=\"none\" d=\"M-60.97,0 L 60.97 0\" class=\"primitive\"/>\n",
       "        </g>\n",
       "        <g transform=\"translate(75.45,108.66)\" id=\"img-a109cf01-38\" visibility=\"hidden\" gadfly:scale=\"10.0\">\n",
       "          <path fill=\"none\" d=\"M-60.97,0 L 60.97 0\" class=\"primitive\"/>\n",
       "        </g>\n",
       "        <g transform=\"translate(75.45,104.59)\" id=\"img-a109cf01-39\" visibility=\"hidden\" gadfly:scale=\"10.0\">\n",
       "          <path fill=\"none\" d=\"M-60.97,0 L 60.97 0\" class=\"primitive\"/>\n",
       "        </g>\n",
       "        <g transform=\"translate(75.45,100.53)\" id=\"img-a109cf01-40\" visibility=\"hidden\" gadfly:scale=\"10.0\">\n",
       "          <path fill=\"none\" d=\"M-60.97,0 L 60.97 0\" class=\"primitive\"/>\n",
       "        </g>\n",
       "        <g transform=\"translate(75.45,96.46)\" id=\"img-a109cf01-41\" visibility=\"hidden\" gadfly:scale=\"10.0\">\n",
       "          <path fill=\"none\" d=\"M-60.97,0 L 60.97 0\" class=\"primitive\"/>\n",
       "        </g>\n",
       "        <g transform=\"translate(75.45,92.39)\" id=\"img-a109cf01-42\" visibility=\"hidden\" gadfly:scale=\"10.0\">\n",
       "          <path fill=\"none\" d=\"M-60.97,0 L 60.97 0\" class=\"primitive\"/>\n",
       "        </g>\n",
       "        <g transform=\"translate(75.45,88.33)\" id=\"img-a109cf01-43\" visibility=\"hidden\" gadfly:scale=\"10.0\">\n",
       "          <path fill=\"none\" d=\"M-60.97,0 L 60.97 0\" class=\"primitive\"/>\n",
       "        </g>\n",
       "        <g transform=\"translate(75.45,84.26)\" id=\"img-a109cf01-44\" visibility=\"hidden\" gadfly:scale=\"10.0\">\n",
       "          <path fill=\"none\" d=\"M-60.97,0 L 60.97 0\" class=\"primitive\"/>\n",
       "        </g>\n",
       "        <g transform=\"translate(75.45,80.19)\" id=\"img-a109cf01-45\" visibility=\"hidden\" gadfly:scale=\"10.0\">\n",
       "          <path fill=\"none\" d=\"M-60.97,0 L 60.97 0\" class=\"primitive\"/>\n",
       "        </g>\n",
       "        <g transform=\"translate(75.45,76.13)\" id=\"img-a109cf01-46\" visibility=\"hidden\" gadfly:scale=\"10.0\">\n",
       "          <path fill=\"none\" d=\"M-60.97,0 L 60.97 0\" class=\"primitive\"/>\n",
       "        </g>\n",
       "        <g transform=\"translate(75.45,72.06)\" id=\"img-a109cf01-47\" visibility=\"hidden\" gadfly:scale=\"10.0\">\n",
       "          <path fill=\"none\" d=\"M-60.97,0 L 60.97 0\" class=\"primitive\"/>\n",
       "        </g>\n",
       "        <g transform=\"translate(75.45,68)\" id=\"img-a109cf01-48\" visibility=\"hidden\" gadfly:scale=\"10.0\">\n",
       "          <path fill=\"none\" d=\"M-60.97,0 L 60.97 0\" class=\"primitive\"/>\n",
       "        </g>\n",
       "        <g transform=\"translate(75.45,63.93)\" id=\"img-a109cf01-49\" visibility=\"hidden\" gadfly:scale=\"10.0\">\n",
       "          <path fill=\"none\" d=\"M-60.97,0 L 60.97 0\" class=\"primitive\"/>\n",
       "        </g>\n",
       "        <g transform=\"translate(75.45,59.86)\" id=\"img-a109cf01-50\" visibility=\"hidden\" gadfly:scale=\"10.0\">\n",
       "          <path fill=\"none\" d=\"M-60.97,0 L 60.97 0\" class=\"primitive\"/>\n",
       "        </g>\n",
       "        <g transform=\"translate(75.45,55.8)\" id=\"img-a109cf01-51\" visibility=\"hidden\" gadfly:scale=\"10.0\">\n",
       "          <path fill=\"none\" d=\"M-60.97,0 L 60.97 0\" class=\"primitive\"/>\n",
       "        </g>\n",
       "        <g transform=\"translate(75.45,51.73)\" id=\"img-a109cf01-52\" visibility=\"hidden\" gadfly:scale=\"10.0\">\n",
       "          <path fill=\"none\" d=\"M-60.97,0 L 60.97 0\" class=\"primitive\"/>\n",
       "        </g>\n",
       "        <g transform=\"translate(75.45,47.66)\" id=\"img-a109cf01-53\" visibility=\"hidden\" gadfly:scale=\"10.0\">\n",
       "          <path fill=\"none\" d=\"M-60.97,0 L 60.97 0\" class=\"primitive\"/>\n",
       "        </g>\n",
       "        <g transform=\"translate(75.45,43.6)\" id=\"img-a109cf01-54\" visibility=\"hidden\" gadfly:scale=\"10.0\">\n",
       "          <path fill=\"none\" d=\"M-60.97,0 L 60.97 0\" class=\"primitive\"/>\n",
       "        </g>\n",
       "        <g transform=\"translate(75.45,39.53)\" id=\"img-a109cf01-55\" visibility=\"hidden\" gadfly:scale=\"10.0\">\n",
       "          <path fill=\"none\" d=\"M-60.97,0 L 60.97 0\" class=\"primitive\"/>\n",
       "        </g>\n",
       "        <g transform=\"translate(75.45,35.46)\" id=\"img-a109cf01-56\" visibility=\"hidden\" gadfly:scale=\"10.0\">\n",
       "          <path fill=\"none\" d=\"M-60.97,0 L 60.97 0\" class=\"primitive\"/>\n",
       "        </g>\n",
       "        <g transform=\"translate(75.45,31.4)\" id=\"img-a109cf01-57\" visibility=\"hidden\" gadfly:scale=\"10.0\">\n",
       "          <path fill=\"none\" d=\"M-60.97,0 L 60.97 0\" class=\"primitive\"/>\n",
       "        </g>\n",
       "        <g transform=\"translate(75.45,27.33)\" id=\"img-a109cf01-58\" visibility=\"hidden\" gadfly:scale=\"10.0\">\n",
       "          <path fill=\"none\" d=\"M-60.97,0 L 60.97 0\" class=\"primitive\"/>\n",
       "        </g>\n",
       "        <g transform=\"translate(75.45,23.27)\" id=\"img-a109cf01-59\" visibility=\"hidden\" gadfly:scale=\"10.0\">\n",
       "          <path fill=\"none\" d=\"M-60.97,0 L 60.97 0\" class=\"primitive\"/>\n",
       "        </g>\n",
       "        <g transform=\"translate(75.45,19.2)\" id=\"img-a109cf01-60\" visibility=\"hidden\" gadfly:scale=\"10.0\">\n",
       "          <path fill=\"none\" d=\"M-60.97,0 L 60.97 0\" class=\"primitive\"/>\n",
       "        </g>\n",
       "        <g transform=\"translate(75.45,15.13)\" id=\"img-a109cf01-61\" visibility=\"hidden\" gadfly:scale=\"10.0\">\n",
       "          <path fill=\"none\" d=\"M-60.97,0 L 60.97 0\" class=\"primitive\"/>\n",
       "        </g>\n",
       "        <g transform=\"translate(75.45,11.07)\" id=\"img-a109cf01-62\" visibility=\"hidden\" gadfly:scale=\"10.0\">\n",
       "          <path fill=\"none\" d=\"M-60.97,0 L 60.97 0\" class=\"primitive\"/>\n",
       "        </g>\n",
       "        <g transform=\"translate(75.45,7)\" id=\"img-a109cf01-63\" visibility=\"hidden\" gadfly:scale=\"10.0\">\n",
       "          <path fill=\"none\" d=\"M-60.97,0 L 60.97 0\" class=\"primitive\"/>\n",
       "        </g>\n",
       "        <g transform=\"translate(75.45,2.93)\" id=\"img-a109cf01-64\" visibility=\"hidden\" gadfly:scale=\"10.0\">\n",
       "          <path fill=\"none\" d=\"M-60.97,0 L 60.97 0\" class=\"primitive\"/>\n",
       "        </g>\n",
       "        <g transform=\"translate(75.45,-1.13)\" id=\"img-a109cf01-65\" visibility=\"hidden\" gadfly:scale=\"10.0\">\n",
       "          <path fill=\"none\" d=\"M-60.97,0 L 60.97 0\" class=\"primitive\"/>\n",
       "        </g>\n",
       "        <g transform=\"translate(75.45,-5.2)\" id=\"img-a109cf01-66\" visibility=\"hidden\" gadfly:scale=\"10.0\">\n",
       "          <path fill=\"none\" d=\"M-60.97,0 L 60.97 0\" class=\"primitive\"/>\n",
       "        </g>\n",
       "        <g transform=\"translate(75.45,-9.27)\" id=\"img-a109cf01-67\" visibility=\"hidden\" gadfly:scale=\"10.0\">\n",
       "          <path fill=\"none\" d=\"M-60.97,0 L 60.97 0\" class=\"primitive\"/>\n",
       "        </g>\n",
       "        <g transform=\"translate(75.45,-13.33)\" id=\"img-a109cf01-68\" visibility=\"hidden\" gadfly:scale=\"10.0\">\n",
       "          <path fill=\"none\" d=\"M-60.97,0 L 60.97 0\" class=\"primitive\"/>\n",
       "        </g>\n",
       "        <g transform=\"translate(75.45,-17.4)\" id=\"img-a109cf01-69\" visibility=\"hidden\" gadfly:scale=\"10.0\">\n",
       "          <path fill=\"none\" d=\"M-60.97,0 L 60.97 0\" class=\"primitive\"/>\n",
       "        </g>\n",
       "        <g transform=\"translate(75.45,-21.46)\" id=\"img-a109cf01-70\" visibility=\"hidden\" gadfly:scale=\"10.0\">\n",
       "          <path fill=\"none\" d=\"M-60.97,0 L 60.97 0\" class=\"primitive\"/>\n",
       "        </g>\n",
       "        <g transform=\"translate(75.45,-25.53)\" id=\"img-a109cf01-71\" visibility=\"hidden\" gadfly:scale=\"10.0\">\n",
       "          <path fill=\"none\" d=\"M-60.97,0 L 60.97 0\" class=\"primitive\"/>\n",
       "        </g>\n",
       "        <g transform=\"translate(75.45,-29.6)\" id=\"img-a109cf01-72\" visibility=\"hidden\" gadfly:scale=\"10.0\">\n",
       "          <path fill=\"none\" d=\"M-60.97,0 L 60.97 0\" class=\"primitive\"/>\n",
       "        </g>\n",
       "        <g transform=\"translate(75.45,-33.66)\" id=\"img-a109cf01-73\" visibility=\"hidden\" gadfly:scale=\"10.0\">\n",
       "          <path fill=\"none\" d=\"M-60.97,0 L 60.97 0\" class=\"primitive\"/>\n",
       "        </g>\n",
       "        <g transform=\"translate(75.45,-37.73)\" id=\"img-a109cf01-74\" visibility=\"hidden\" gadfly:scale=\"10.0\">\n",
       "          <path fill=\"none\" d=\"M-60.97,0 L 60.97 0\" class=\"primitive\"/>\n",
       "        </g>\n",
       "        <g transform=\"translate(75.45,-41.8)\" id=\"img-a109cf01-75\" visibility=\"hidden\" gadfly:scale=\"10.0\">\n",
       "          <path fill=\"none\" d=\"M-60.97,0 L 60.97 0\" class=\"primitive\"/>\n",
       "        </g>\n",
       "        <g transform=\"translate(75.45,-45.86)\" id=\"img-a109cf01-76\" visibility=\"hidden\" gadfly:scale=\"10.0\">\n",
       "          <path fill=\"none\" d=\"M-60.97,0 L 60.97 0\" class=\"primitive\"/>\n",
       "        </g>\n",
       "        <g transform=\"translate(75.45,-49.93)\" id=\"img-a109cf01-77\" visibility=\"hidden\" gadfly:scale=\"10.0\">\n",
       "          <path fill=\"none\" d=\"M-60.97,0 L 60.97 0\" class=\"primitive\"/>\n",
       "        </g>\n",
       "        <g transform=\"translate(75.45,-54)\" id=\"img-a109cf01-78\" visibility=\"hidden\" gadfly:scale=\"10.0\">\n",
       "          <path fill=\"none\" d=\"M-60.97,0 L 60.97 0\" class=\"primitive\"/>\n",
       "        </g>\n",
       "        <g transform=\"translate(75.45,-58.06)\" id=\"img-a109cf01-79\" visibility=\"hidden\" gadfly:scale=\"10.0\">\n",
       "          <path fill=\"none\" d=\"M-60.97,0 L 60.97 0\" class=\"primitive\"/>\n",
       "        </g>\n",
       "        <g transform=\"translate(75.45,-62.13)\" id=\"img-a109cf01-80\" visibility=\"hidden\" gadfly:scale=\"10.0\">\n",
       "          <path fill=\"none\" d=\"M-60.97,0 L 60.97 0\" class=\"primitive\"/>\n",
       "        </g>\n",
       "        <g transform=\"translate(75.45,-66.19)\" id=\"img-a109cf01-81\" visibility=\"hidden\" gadfly:scale=\"10.0\">\n",
       "          <path fill=\"none\" d=\"M-60.97,0 L 60.97 0\" class=\"primitive\"/>\n",
       "        </g>\n",
       "        <g transform=\"translate(75.45,-70.26)\" id=\"img-a109cf01-82\" visibility=\"hidden\" gadfly:scale=\"10.0\">\n",
       "          <path fill=\"none\" d=\"M-60.97,0 L 60.97 0\" class=\"primitive\"/>\n",
       "        </g>\n",
       "        <g transform=\"translate(75.45,-74.33)\" id=\"img-a109cf01-83\" visibility=\"hidden\" gadfly:scale=\"10.0\">\n",
       "          <path fill=\"none\" d=\"M-60.97,0 L 60.97 0\" class=\"primitive\"/>\n",
       "        </g>\n",
       "        <g transform=\"translate(75.45,250.98)\" id=\"img-a109cf01-84\" visibility=\"hidden\" gadfly:scale=\"0.5\">\n",
       "          <path fill=\"none\" d=\"M-60.97,0 L 60.97 0\" class=\"primitive\"/>\n",
       "        </g>\n",
       "        <g transform=\"translate(75.45,149.32)\" id=\"img-a109cf01-85\" visibility=\"hidden\" gadfly:scale=\"0.5\">\n",
       "          <path fill=\"none\" d=\"M-60.97,0 L 60.97 0\" class=\"primitive\"/>\n",
       "        </g>\n",
       "        <g transform=\"translate(75.45,47.66)\" id=\"img-a109cf01-86\" visibility=\"hidden\" gadfly:scale=\"0.5\">\n",
       "          <path fill=\"none\" d=\"M-60.97,0 L 60.97 0\" class=\"primitive\"/>\n",
       "        </g>\n",
       "        <g transform=\"translate(75.45,-54)\" id=\"img-a109cf01-87\" visibility=\"hidden\" gadfly:scale=\"0.5\">\n",
       "          <path fill=\"none\" d=\"M-60.97,0 L 60.97 0\" class=\"primitive\"/>\n",
       "        </g>\n",
       "        <g transform=\"translate(75.45,-155.65)\" id=\"img-a109cf01-88\" visibility=\"hidden\" gadfly:scale=\"0.5\">\n",
       "          <path fill=\"none\" d=\"M-60.97,0 L 60.97 0\" class=\"primitive\"/>\n",
       "        </g>\n",
       "        <g transform=\"translate(75.45,169.65)\" id=\"img-a109cf01-89\" visibility=\"hidden\" gadfly:scale=\"5.0\">\n",
       "          <path fill=\"none\" d=\"M-60.97,0 L 60.97 0\" class=\"primitive\"/>\n",
       "        </g>\n",
       "        <g transform=\"translate(75.45,159.49)\" id=\"img-a109cf01-90\" visibility=\"hidden\" gadfly:scale=\"5.0\">\n",
       "          <path fill=\"none\" d=\"M-60.97,0 L 60.97 0\" class=\"primitive\"/>\n",
       "        </g>\n",
       "        <g transform=\"translate(75.45,149.32)\" id=\"img-a109cf01-91\" visibility=\"hidden\" gadfly:scale=\"5.0\">\n",
       "          <path fill=\"none\" d=\"M-60.97,0 L 60.97 0\" class=\"primitive\"/>\n",
       "        </g>\n",
       "        <g transform=\"translate(75.45,139.16)\" id=\"img-a109cf01-92\" visibility=\"hidden\" gadfly:scale=\"5.0\">\n",
       "          <path fill=\"none\" d=\"M-60.97,0 L 60.97 0\" class=\"primitive\"/>\n",
       "        </g>\n",
       "        <g transform=\"translate(75.45,128.99)\" id=\"img-a109cf01-93\" visibility=\"hidden\" gadfly:scale=\"5.0\">\n",
       "          <path fill=\"none\" d=\"M-60.97,0 L 60.97 0\" class=\"primitive\"/>\n",
       "        </g>\n",
       "        <g transform=\"translate(75.45,118.82)\" id=\"img-a109cf01-94\" visibility=\"hidden\" gadfly:scale=\"5.0\">\n",
       "          <path fill=\"none\" d=\"M-60.97,0 L 60.97 0\" class=\"primitive\"/>\n",
       "        </g>\n",
       "        <g transform=\"translate(75.45,108.66)\" id=\"img-a109cf01-95\" visibility=\"hidden\" gadfly:scale=\"5.0\">\n",
       "          <path fill=\"none\" d=\"M-60.97,0 L 60.97 0\" class=\"primitive\"/>\n",
       "        </g>\n",
       "        <g transform=\"translate(75.45,98.49)\" id=\"img-a109cf01-96\" visibility=\"hidden\" gadfly:scale=\"5.0\">\n",
       "          <path fill=\"none\" d=\"M-60.97,0 L 60.97 0\" class=\"primitive\"/>\n",
       "        </g>\n",
       "        <g transform=\"translate(75.45,88.33)\" id=\"img-a109cf01-97\" visibility=\"hidden\" gadfly:scale=\"5.0\">\n",
       "          <path fill=\"none\" d=\"M-60.97,0 L 60.97 0\" class=\"primitive\"/>\n",
       "        </g>\n",
       "        <g transform=\"translate(75.45,78.16)\" id=\"img-a109cf01-98\" visibility=\"hidden\" gadfly:scale=\"5.0\">\n",
       "          <path fill=\"none\" d=\"M-60.97,0 L 60.97 0\" class=\"primitive\"/>\n",
       "        </g>\n",
       "        <g transform=\"translate(75.45,68)\" id=\"img-a109cf01-99\" visibility=\"hidden\" gadfly:scale=\"5.0\">\n",
       "          <path fill=\"none\" d=\"M-60.97,0 L 60.97 0\" class=\"primitive\"/>\n",
       "        </g>\n",
       "        <g transform=\"translate(75.45,57.83)\" id=\"img-a109cf01-100\" visibility=\"hidden\" gadfly:scale=\"5.0\">\n",
       "          <path fill=\"none\" d=\"M-60.97,0 L 60.97 0\" class=\"primitive\"/>\n",
       "        </g>\n",
       "        <g transform=\"translate(75.45,47.66)\" id=\"img-a109cf01-101\" visibility=\"hidden\" gadfly:scale=\"5.0\">\n",
       "          <path fill=\"none\" d=\"M-60.97,0 L 60.97 0\" class=\"primitive\"/>\n",
       "        </g>\n",
       "        <g transform=\"translate(75.45,37.5)\" id=\"img-a109cf01-102\" visibility=\"hidden\" gadfly:scale=\"5.0\">\n",
       "          <path fill=\"none\" d=\"M-60.97,0 L 60.97 0\" class=\"primitive\"/>\n",
       "        </g>\n",
       "        <g transform=\"translate(75.45,27.33)\" id=\"img-a109cf01-103\" visibility=\"hidden\" gadfly:scale=\"5.0\">\n",
       "          <path fill=\"none\" d=\"M-60.97,0 L 60.97 0\" class=\"primitive\"/>\n",
       "        </g>\n",
       "        <g transform=\"translate(75.45,17.17)\" id=\"img-a109cf01-104\" visibility=\"hidden\" gadfly:scale=\"5.0\">\n",
       "          <path fill=\"none\" d=\"M-60.97,0 L 60.97 0\" class=\"primitive\"/>\n",
       "        </g>\n",
       "        <g transform=\"translate(75.45,7)\" id=\"img-a109cf01-105\" visibility=\"hidden\" gadfly:scale=\"5.0\">\n",
       "          <path fill=\"none\" d=\"M-60.97,0 L 60.97 0\" class=\"primitive\"/>\n",
       "        </g>\n",
       "        <g transform=\"translate(75.45,-3.17)\" id=\"img-a109cf01-106\" visibility=\"hidden\" gadfly:scale=\"5.0\">\n",
       "          <path fill=\"none\" d=\"M-60.97,0 L 60.97 0\" class=\"primitive\"/>\n",
       "        </g>\n",
       "        <g transform=\"translate(75.45,-13.33)\" id=\"img-a109cf01-107\" visibility=\"hidden\" gadfly:scale=\"5.0\">\n",
       "          <path fill=\"none\" d=\"M-60.97,0 L 60.97 0\" class=\"primitive\"/>\n",
       "        </g>\n",
       "        <g transform=\"translate(75.45,-23.5)\" id=\"img-a109cf01-108\" visibility=\"hidden\" gadfly:scale=\"5.0\">\n",
       "          <path fill=\"none\" d=\"M-60.97,0 L 60.97 0\" class=\"primitive\"/>\n",
       "        </g>\n",
       "        <g transform=\"translate(75.45,-33.66)\" id=\"img-a109cf01-109\" visibility=\"hidden\" gadfly:scale=\"5.0\">\n",
       "          <path fill=\"none\" d=\"M-60.97,0 L 60.97 0\" class=\"primitive\"/>\n",
       "        </g>\n",
       "        <g transform=\"translate(75.45,-43.83)\" id=\"img-a109cf01-110\" visibility=\"hidden\" gadfly:scale=\"5.0\">\n",
       "          <path fill=\"none\" d=\"M-60.97,0 L 60.97 0\" class=\"primitive\"/>\n",
       "        </g>\n",
       "        <g transform=\"translate(75.45,-54)\" id=\"img-a109cf01-111\" visibility=\"hidden\" gadfly:scale=\"5.0\">\n",
       "          <path fill=\"none\" d=\"M-60.97,0 L 60.97 0\" class=\"primitive\"/>\n",
       "        </g>\n",
       "        <g transform=\"translate(75.45,-64.16)\" id=\"img-a109cf01-112\" visibility=\"hidden\" gadfly:scale=\"5.0\">\n",
       "          <path fill=\"none\" d=\"M-60.97,0 L 60.97 0\" class=\"primitive\"/>\n",
       "        </g>\n",
       "        <g transform=\"translate(75.45,-74.33)\" id=\"img-a109cf01-113\" visibility=\"hidden\" gadfly:scale=\"5.0\">\n",
       "          <path fill=\"none\" d=\"M-60.97,0 L 60.97 0\" class=\"primitive\"/>\n",
       "        </g>\n",
       "      </g>\n",
       "      <g class=\"guide xgridlines yfixed\" stroke-dasharray=\"0.5,0.5\" stroke-width=\"0.2\" stroke=\"#D0D0E0\" id=\"img-a109cf01-114\">\n",
       "        <g transform=\"translate(75.45,47.66)\" id=\"img-a109cf01-115\" visibility=\"visible\" gadfly:scale=\"1.0\">\n",
       "          <path fill=\"none\" d=\"M0,-42.66 L 0 42.66\" class=\"primitive\"/>\n",
       "        </g>\n",
       "        <g transform=\"translate(-101.46,47.66)\" id=\"img-a109cf01-116\" visibility=\"hidden\" gadfly:scale=\"10.0\">\n",
       "          <path fill=\"none\" d=\"M0,-42.66 L 0 42.66\" class=\"primitive\"/>\n",
       "        </g>\n",
       "        <g transform=\"translate(-95.57,47.66)\" id=\"img-a109cf01-117\" visibility=\"hidden\" gadfly:scale=\"10.0\">\n",
       "          <path fill=\"none\" d=\"M0,-42.66 L 0 42.66\" class=\"primitive\"/>\n",
       "        </g>\n",
       "        <g transform=\"translate(-89.67,47.66)\" id=\"img-a109cf01-118\" visibility=\"hidden\" gadfly:scale=\"10.0\">\n",
       "          <path fill=\"none\" d=\"M0,-42.66 L 0 42.66\" class=\"primitive\"/>\n",
       "        </g>\n",
       "        <g transform=\"translate(-83.77,47.66)\" id=\"img-a109cf01-119\" visibility=\"hidden\" gadfly:scale=\"10.0\">\n",
       "          <path fill=\"none\" d=\"M0,-42.66 L 0 42.66\" class=\"primitive\"/>\n",
       "        </g>\n",
       "        <g transform=\"translate(-77.87,47.66)\" id=\"img-a109cf01-120\" visibility=\"hidden\" gadfly:scale=\"10.0\">\n",
       "          <path fill=\"none\" d=\"M0,-42.66 L 0 42.66\" class=\"primitive\"/>\n",
       "        </g>\n",
       "        <g transform=\"translate(-71.98,47.66)\" id=\"img-a109cf01-121\" visibility=\"hidden\" gadfly:scale=\"10.0\">\n",
       "          <path fill=\"none\" d=\"M0,-42.66 L 0 42.66\" class=\"primitive\"/>\n",
       "        </g>\n",
       "        <g transform=\"translate(-66.08,47.66)\" id=\"img-a109cf01-122\" visibility=\"hidden\" gadfly:scale=\"10.0\">\n",
       "          <path fill=\"none\" d=\"M0,-42.66 L 0 42.66\" class=\"primitive\"/>\n",
       "        </g>\n",
       "        <g transform=\"translate(-60.18,47.66)\" id=\"img-a109cf01-123\" visibility=\"hidden\" gadfly:scale=\"10.0\">\n",
       "          <path fill=\"none\" d=\"M0,-42.66 L 0 42.66\" class=\"primitive\"/>\n",
       "        </g>\n",
       "        <g transform=\"translate(-54.29,47.66)\" id=\"img-a109cf01-124\" visibility=\"hidden\" gadfly:scale=\"10.0\">\n",
       "          <path fill=\"none\" d=\"M0,-42.66 L 0 42.66\" class=\"primitive\"/>\n",
       "        </g>\n",
       "        <g transform=\"translate(-48.39,47.66)\" id=\"img-a109cf01-125\" visibility=\"hidden\" gadfly:scale=\"10.0\">\n",
       "          <path fill=\"none\" d=\"M0,-42.66 L 0 42.66\" class=\"primitive\"/>\n",
       "        </g>\n",
       "        <g transform=\"translate(-42.49,47.66)\" id=\"img-a109cf01-126\" visibility=\"hidden\" gadfly:scale=\"10.0\">\n",
       "          <path fill=\"none\" d=\"M0,-42.66 L 0 42.66\" class=\"primitive\"/>\n",
       "        </g>\n",
       "        <g transform=\"translate(-36.59,47.66)\" id=\"img-a109cf01-127\" visibility=\"hidden\" gadfly:scale=\"10.0\">\n",
       "          <path fill=\"none\" d=\"M0,-42.66 L 0 42.66\" class=\"primitive\"/>\n",
       "        </g>\n",
       "        <g transform=\"translate(-30.7,47.66)\" id=\"img-a109cf01-128\" visibility=\"hidden\" gadfly:scale=\"10.0\">\n",
       "          <path fill=\"none\" d=\"M0,-42.66 L 0 42.66\" class=\"primitive\"/>\n",
       "        </g>\n",
       "        <g transform=\"translate(-24.8,47.66)\" id=\"img-a109cf01-129\" visibility=\"hidden\" gadfly:scale=\"10.0\">\n",
       "          <path fill=\"none\" d=\"M0,-42.66 L 0 42.66\" class=\"primitive\"/>\n",
       "        </g>\n",
       "        <g transform=\"translate(-18.9,47.66)\" id=\"img-a109cf01-130\" visibility=\"hidden\" gadfly:scale=\"10.0\">\n",
       "          <path fill=\"none\" d=\"M0,-42.66 L 0 42.66\" class=\"primitive\"/>\n",
       "        </g>\n",
       "        <g transform=\"translate(-13.01,47.66)\" id=\"img-a109cf01-131\" visibility=\"hidden\" gadfly:scale=\"10.0\">\n",
       "          <path fill=\"none\" d=\"M0,-42.66 L 0 42.66\" class=\"primitive\"/>\n",
       "        </g>\n",
       "        <g transform=\"translate(-7.11,47.66)\" id=\"img-a109cf01-132\" visibility=\"hidden\" gadfly:scale=\"10.0\">\n",
       "          <path fill=\"none\" d=\"M0,-42.66 L 0 42.66\" class=\"primitive\"/>\n",
       "        </g>\n",
       "        <g transform=\"translate(-1.21,47.66)\" id=\"img-a109cf01-133\" visibility=\"hidden\" gadfly:scale=\"10.0\">\n",
       "          <path fill=\"none\" d=\"M0,-42.66 L 0 42.66\" class=\"primitive\"/>\n",
       "        </g>\n",
       "        <g transform=\"translate(4.68,47.66)\" id=\"img-a109cf01-134\" visibility=\"hidden\" gadfly:scale=\"10.0\">\n",
       "          <path fill=\"none\" d=\"M0,-42.66 L 0 42.66\" class=\"primitive\"/>\n",
       "        </g>\n",
       "        <g transform=\"translate(10.58,47.66)\" id=\"img-a109cf01-135\" visibility=\"hidden\" gadfly:scale=\"10.0\">\n",
       "          <path fill=\"none\" d=\"M0,-42.66 L 0 42.66\" class=\"primitive\"/>\n",
       "        </g>\n",
       "        <g transform=\"translate(16.48,47.66)\" id=\"img-a109cf01-136\" visibility=\"hidden\" gadfly:scale=\"10.0\">\n",
       "          <path fill=\"none\" d=\"M0,-42.66 L 0 42.66\" class=\"primitive\"/>\n",
       "        </g>\n",
       "        <g transform=\"translate(22.38,47.66)\" id=\"img-a109cf01-137\" visibility=\"hidden\" gadfly:scale=\"10.0\">\n",
       "          <path fill=\"none\" d=\"M0,-42.66 L 0 42.66\" class=\"primitive\"/>\n",
       "        </g>\n",
       "        <g transform=\"translate(28.27,47.66)\" id=\"img-a109cf01-138\" visibility=\"hidden\" gadfly:scale=\"10.0\">\n",
       "          <path fill=\"none\" d=\"M0,-42.66 L 0 42.66\" class=\"primitive\"/>\n",
       "        </g>\n",
       "        <g transform=\"translate(34.17,47.66)\" id=\"img-a109cf01-139\" visibility=\"hidden\" gadfly:scale=\"10.0\">\n",
       "          <path fill=\"none\" d=\"M0,-42.66 L 0 42.66\" class=\"primitive\"/>\n",
       "        </g>\n",
       "        <g transform=\"translate(40.07,47.66)\" id=\"img-a109cf01-140\" visibility=\"hidden\" gadfly:scale=\"10.0\">\n",
       "          <path fill=\"none\" d=\"M0,-42.66 L 0 42.66\" class=\"primitive\"/>\n",
       "        </g>\n",
       "        <g transform=\"translate(45.96,47.66)\" id=\"img-a109cf01-141\" visibility=\"hidden\" gadfly:scale=\"10.0\">\n",
       "          <path fill=\"none\" d=\"M0,-42.66 L 0 42.66\" class=\"primitive\"/>\n",
       "        </g>\n",
       "        <g transform=\"translate(51.86,47.66)\" id=\"img-a109cf01-142\" visibility=\"hidden\" gadfly:scale=\"10.0\">\n",
       "          <path fill=\"none\" d=\"M0,-42.66 L 0 42.66\" class=\"primitive\"/>\n",
       "        </g>\n",
       "        <g transform=\"translate(57.76,47.66)\" id=\"img-a109cf01-143\" visibility=\"hidden\" gadfly:scale=\"10.0\">\n",
       "          <path fill=\"none\" d=\"M0,-42.66 L 0 42.66\" class=\"primitive\"/>\n",
       "        </g>\n",
       "        <g transform=\"translate(63.66,47.66)\" id=\"img-a109cf01-144\" visibility=\"hidden\" gadfly:scale=\"10.0\">\n",
       "          <path fill=\"none\" d=\"M0,-42.66 L 0 42.66\" class=\"primitive\"/>\n",
       "        </g>\n",
       "        <g transform=\"translate(69.55,47.66)\" id=\"img-a109cf01-145\" visibility=\"hidden\" gadfly:scale=\"10.0\">\n",
       "          <path fill=\"none\" d=\"M0,-42.66 L 0 42.66\" class=\"primitive\"/>\n",
       "        </g>\n",
       "        <g transform=\"translate(75.45,47.66)\" id=\"img-a109cf01-146\" visibility=\"hidden\" gadfly:scale=\"10.0\">\n",
       "          <path fill=\"none\" d=\"M0,-42.66 L 0 42.66\" class=\"primitive\"/>\n",
       "        </g>\n",
       "        <g transform=\"translate(81.35,47.66)\" id=\"img-a109cf01-147\" visibility=\"hidden\" gadfly:scale=\"10.0\">\n",
       "          <path fill=\"none\" d=\"M0,-42.66 L 0 42.66\" class=\"primitive\"/>\n",
       "        </g>\n",
       "        <g transform=\"translate(87.24,47.66)\" id=\"img-a109cf01-148\" visibility=\"hidden\" gadfly:scale=\"10.0\">\n",
       "          <path fill=\"none\" d=\"M0,-42.66 L 0 42.66\" class=\"primitive\"/>\n",
       "        </g>\n",
       "        <g transform=\"translate(93.14,47.66)\" id=\"img-a109cf01-149\" visibility=\"hidden\" gadfly:scale=\"10.0\">\n",
       "          <path fill=\"none\" d=\"M0,-42.66 L 0 42.66\" class=\"primitive\"/>\n",
       "        </g>\n",
       "        <g transform=\"translate(99.04,47.66)\" id=\"img-a109cf01-150\" visibility=\"hidden\" gadfly:scale=\"10.0\">\n",
       "          <path fill=\"none\" d=\"M0,-42.66 L 0 42.66\" class=\"primitive\"/>\n",
       "        </g>\n",
       "        <g transform=\"translate(104.94,47.66)\" id=\"img-a109cf01-151\" visibility=\"hidden\" gadfly:scale=\"10.0\">\n",
       "          <path fill=\"none\" d=\"M0,-42.66 L 0 42.66\" class=\"primitive\"/>\n",
       "        </g>\n",
       "        <g transform=\"translate(110.83,47.66)\" id=\"img-a109cf01-152\" visibility=\"hidden\" gadfly:scale=\"10.0\">\n",
       "          <path fill=\"none\" d=\"M0,-42.66 L 0 42.66\" class=\"primitive\"/>\n",
       "        </g>\n",
       "        <g transform=\"translate(116.73,47.66)\" id=\"img-a109cf01-153\" visibility=\"hidden\" gadfly:scale=\"10.0\">\n",
       "          <path fill=\"none\" d=\"M0,-42.66 L 0 42.66\" class=\"primitive\"/>\n",
       "        </g>\n",
       "        <g transform=\"translate(122.63,47.66)\" id=\"img-a109cf01-154\" visibility=\"hidden\" gadfly:scale=\"10.0\">\n",
       "          <path fill=\"none\" d=\"M0,-42.66 L 0 42.66\" class=\"primitive\"/>\n",
       "        </g>\n",
       "        <g transform=\"translate(128.52,47.66)\" id=\"img-a109cf01-155\" visibility=\"hidden\" gadfly:scale=\"10.0\">\n",
       "          <path fill=\"none\" d=\"M0,-42.66 L 0 42.66\" class=\"primitive\"/>\n",
       "        </g>\n",
       "        <g transform=\"translate(134.42,47.66)\" id=\"img-a109cf01-156\" visibility=\"hidden\" gadfly:scale=\"10.0\">\n",
       "          <path fill=\"none\" d=\"M0,-42.66 L 0 42.66\" class=\"primitive\"/>\n",
       "        </g>\n",
       "        <g transform=\"translate(140.32,47.66)\" id=\"img-a109cf01-157\" visibility=\"hidden\" gadfly:scale=\"10.0\">\n",
       "          <path fill=\"none\" d=\"M0,-42.66 L 0 42.66\" class=\"primitive\"/>\n",
       "        </g>\n",
       "        <g transform=\"translate(146.22,47.66)\" id=\"img-a109cf01-158\" visibility=\"hidden\" gadfly:scale=\"10.0\">\n",
       "          <path fill=\"none\" d=\"M0,-42.66 L 0 42.66\" class=\"primitive\"/>\n",
       "        </g>\n",
       "        <g transform=\"translate(152.11,47.66)\" id=\"img-a109cf01-159\" visibility=\"hidden\" gadfly:scale=\"10.0\">\n",
       "          <path fill=\"none\" d=\"M0,-42.66 L 0 42.66\" class=\"primitive\"/>\n",
       "        </g>\n",
       "        <g transform=\"translate(158.01,47.66)\" id=\"img-a109cf01-160\" visibility=\"hidden\" gadfly:scale=\"10.0\">\n",
       "          <path fill=\"none\" d=\"M0,-42.66 L 0 42.66\" class=\"primitive\"/>\n",
       "        </g>\n",
       "        <g transform=\"translate(163.91,47.66)\" id=\"img-a109cf01-161\" visibility=\"hidden\" gadfly:scale=\"10.0\">\n",
       "          <path fill=\"none\" d=\"M0,-42.66 L 0 42.66\" class=\"primitive\"/>\n",
       "        </g>\n",
       "        <g transform=\"translate(169.8,47.66)\" id=\"img-a109cf01-162\" visibility=\"hidden\" gadfly:scale=\"10.0\">\n",
       "          <path fill=\"none\" d=\"M0,-42.66 L 0 42.66\" class=\"primitive\"/>\n",
       "        </g>\n",
       "        <g transform=\"translate(175.7,47.66)\" id=\"img-a109cf01-163\" visibility=\"hidden\" gadfly:scale=\"10.0\">\n",
       "          <path fill=\"none\" d=\"M0,-42.66 L 0 42.66\" class=\"primitive\"/>\n",
       "        </g>\n",
       "        <g transform=\"translate(181.6,47.66)\" id=\"img-a109cf01-164\" visibility=\"hidden\" gadfly:scale=\"10.0\">\n",
       "          <path fill=\"none\" d=\"M0,-42.66 L 0 42.66\" class=\"primitive\"/>\n",
       "        </g>\n",
       "        <g transform=\"translate(187.5,47.66)\" id=\"img-a109cf01-165\" visibility=\"hidden\" gadfly:scale=\"10.0\">\n",
       "          <path fill=\"none\" d=\"M0,-42.66 L 0 42.66\" class=\"primitive\"/>\n",
       "        </g>\n",
       "        <g transform=\"translate(193.39,47.66)\" id=\"img-a109cf01-166\" visibility=\"hidden\" gadfly:scale=\"10.0\">\n",
       "          <path fill=\"none\" d=\"M0,-42.66 L 0 42.66\" class=\"primitive\"/>\n",
       "        </g>\n",
       "        <g transform=\"translate(199.29,47.66)\" id=\"img-a109cf01-167\" visibility=\"hidden\" gadfly:scale=\"10.0\">\n",
       "          <path fill=\"none\" d=\"M0,-42.66 L 0 42.66\" class=\"primitive\"/>\n",
       "        </g>\n",
       "        <g transform=\"translate(205.19,47.66)\" id=\"img-a109cf01-168\" visibility=\"hidden\" gadfly:scale=\"10.0\">\n",
       "          <path fill=\"none\" d=\"M0,-42.66 L 0 42.66\" class=\"primitive\"/>\n",
       "        </g>\n",
       "        <g transform=\"translate(211.08,47.66)\" id=\"img-a109cf01-169\" visibility=\"hidden\" gadfly:scale=\"10.0\">\n",
       "          <path fill=\"none\" d=\"M0,-42.66 L 0 42.66\" class=\"primitive\"/>\n",
       "        </g>\n",
       "        <g transform=\"translate(216.98,47.66)\" id=\"img-a109cf01-170\" visibility=\"hidden\" gadfly:scale=\"10.0\">\n",
       "          <path fill=\"none\" d=\"M0,-42.66 L 0 42.66\" class=\"primitive\"/>\n",
       "        </g>\n",
       "        <g transform=\"translate(222.88,47.66)\" id=\"img-a109cf01-171\" visibility=\"hidden\" gadfly:scale=\"10.0\">\n",
       "          <path fill=\"none\" d=\"M0,-42.66 L 0 42.66\" class=\"primitive\"/>\n",
       "        </g>\n",
       "        <g transform=\"translate(228.78,47.66)\" id=\"img-a109cf01-172\" visibility=\"hidden\" gadfly:scale=\"10.0\">\n",
       "          <path fill=\"none\" d=\"M0,-42.66 L 0 42.66\" class=\"primitive\"/>\n",
       "        </g>\n",
       "        <g transform=\"translate(234.67,47.66)\" id=\"img-a109cf01-173\" visibility=\"hidden\" gadfly:scale=\"10.0\">\n",
       "          <path fill=\"none\" d=\"M0,-42.66 L 0 42.66\" class=\"primitive\"/>\n",
       "        </g>\n",
       "        <g transform=\"translate(240.57,47.66)\" id=\"img-a109cf01-174\" visibility=\"hidden\" gadfly:scale=\"10.0\">\n",
       "          <path fill=\"none\" d=\"M0,-42.66 L 0 42.66\" class=\"primitive\"/>\n",
       "        </g>\n",
       "        <g transform=\"translate(246.47,47.66)\" id=\"img-a109cf01-175\" visibility=\"hidden\" gadfly:scale=\"10.0\">\n",
       "          <path fill=\"none\" d=\"M0,-42.66 L 0 42.66\" class=\"primitive\"/>\n",
       "        </g>\n",
       "        <g transform=\"translate(252.36,47.66)\" id=\"img-a109cf01-176\" visibility=\"hidden\" gadfly:scale=\"10.0\">\n",
       "          <path fill=\"none\" d=\"M0,-42.66 L 0 42.66\" class=\"primitive\"/>\n",
       "        </g>\n",
       "        <g transform=\"translate(-101.46,47.66)\" id=\"img-a109cf01-177\" visibility=\"hidden\" gadfly:scale=\"0.5\">\n",
       "          <path fill=\"none\" d=\"M0,-42.66 L 0 42.66\" class=\"primitive\"/>\n",
       "        </g>\n",
       "        <g transform=\"translate(16.48,47.66)\" id=\"img-a109cf01-178\" visibility=\"hidden\" gadfly:scale=\"0.5\">\n",
       "          <path fill=\"none\" d=\"M0,-42.66 L 0 42.66\" class=\"primitive\"/>\n",
       "        </g>\n",
       "        <g transform=\"translate(134.42,47.66)\" id=\"img-a109cf01-179\" visibility=\"hidden\" gadfly:scale=\"0.5\">\n",
       "          <path fill=\"none\" d=\"M0,-42.66 L 0 42.66\" class=\"primitive\"/>\n",
       "        </g>\n",
       "        <g transform=\"translate(252.36,47.66)\" id=\"img-a109cf01-180\" visibility=\"hidden\" gadfly:scale=\"0.5\">\n",
       "          <path fill=\"none\" d=\"M0,-42.66 L 0 42.66\" class=\"primitive\"/>\n",
       "        </g>\n",
       "        <g transform=\"translate(-101.46,47.66)\" id=\"img-a109cf01-181\" visibility=\"hidden\" gadfly:scale=\"5.0\">\n",
       "          <path fill=\"none\" d=\"M0,-42.66 L 0 42.66\" class=\"primitive\"/>\n",
       "        </g>\n",
       "        <g transform=\"translate(-89.67,47.66)\" id=\"img-a109cf01-182\" visibility=\"hidden\" gadfly:scale=\"5.0\">\n",
       "          <path fill=\"none\" d=\"M0,-42.66 L 0 42.66\" class=\"primitive\"/>\n",
       "        </g>\n",
       "        <g transform=\"translate(-77.87,47.66)\" id=\"img-a109cf01-183\" visibility=\"hidden\" gadfly:scale=\"5.0\">\n",
       "          <path fill=\"none\" d=\"M0,-42.66 L 0 42.66\" class=\"primitive\"/>\n",
       "        </g>\n",
       "        <g transform=\"translate(-66.08,47.66)\" id=\"img-a109cf01-184\" visibility=\"hidden\" gadfly:scale=\"5.0\">\n",
       "          <path fill=\"none\" d=\"M0,-42.66 L 0 42.66\" class=\"primitive\"/>\n",
       "        </g>\n",
       "        <g transform=\"translate(-54.29,47.66)\" id=\"img-a109cf01-185\" visibility=\"hidden\" gadfly:scale=\"5.0\">\n",
       "          <path fill=\"none\" d=\"M0,-42.66 L 0 42.66\" class=\"primitive\"/>\n",
       "        </g>\n",
       "        <g transform=\"translate(-42.49,47.66)\" id=\"img-a109cf01-186\" visibility=\"hidden\" gadfly:scale=\"5.0\">\n",
       "          <path fill=\"none\" d=\"M0,-42.66 L 0 42.66\" class=\"primitive\"/>\n",
       "        </g>\n",
       "        <g transform=\"translate(-30.7,47.66)\" id=\"img-a109cf01-187\" visibility=\"hidden\" gadfly:scale=\"5.0\">\n",
       "          <path fill=\"none\" d=\"M0,-42.66 L 0 42.66\" class=\"primitive\"/>\n",
       "        </g>\n",
       "        <g transform=\"translate(-18.9,47.66)\" id=\"img-a109cf01-188\" visibility=\"hidden\" gadfly:scale=\"5.0\">\n",
       "          <path fill=\"none\" d=\"M0,-42.66 L 0 42.66\" class=\"primitive\"/>\n",
       "        </g>\n",
       "        <g transform=\"translate(-7.11,47.66)\" id=\"img-a109cf01-189\" visibility=\"hidden\" gadfly:scale=\"5.0\">\n",
       "          <path fill=\"none\" d=\"M0,-42.66 L 0 42.66\" class=\"primitive\"/>\n",
       "        </g>\n",
       "        <g transform=\"translate(4.68,47.66)\" id=\"img-a109cf01-190\" visibility=\"hidden\" gadfly:scale=\"5.0\">\n",
       "          <path fill=\"none\" d=\"M0,-42.66 L 0 42.66\" class=\"primitive\"/>\n",
       "        </g>\n",
       "        <g transform=\"translate(16.48,47.66)\" id=\"img-a109cf01-191\" visibility=\"hidden\" gadfly:scale=\"5.0\">\n",
       "          <path fill=\"none\" d=\"M0,-42.66 L 0 42.66\" class=\"primitive\"/>\n",
       "        </g>\n",
       "        <g transform=\"translate(28.27,47.66)\" id=\"img-a109cf01-192\" visibility=\"hidden\" gadfly:scale=\"5.0\">\n",
       "          <path fill=\"none\" d=\"M0,-42.66 L 0 42.66\" class=\"primitive\"/>\n",
       "        </g>\n",
       "        <g transform=\"translate(40.07,47.66)\" id=\"img-a109cf01-193\" visibility=\"hidden\" gadfly:scale=\"5.0\">\n",
       "          <path fill=\"none\" d=\"M0,-42.66 L 0 42.66\" class=\"primitive\"/>\n",
       "        </g>\n",
       "        <g transform=\"translate(51.86,47.66)\" id=\"img-a109cf01-194\" visibility=\"hidden\" gadfly:scale=\"5.0\">\n",
       "          <path fill=\"none\" d=\"M0,-42.66 L 0 42.66\" class=\"primitive\"/>\n",
       "        </g>\n",
       "        <g transform=\"translate(63.66,47.66)\" id=\"img-a109cf01-195\" visibility=\"hidden\" gadfly:scale=\"5.0\">\n",
       "          <path fill=\"none\" d=\"M0,-42.66 L 0 42.66\" class=\"primitive\"/>\n",
       "        </g>\n",
       "        <g transform=\"translate(75.45,47.66)\" id=\"img-a109cf01-196\" visibility=\"hidden\" gadfly:scale=\"5.0\">\n",
       "          <path fill=\"none\" d=\"M0,-42.66 L 0 42.66\" class=\"primitive\"/>\n",
       "        </g>\n",
       "        <g transform=\"translate(87.24,47.66)\" id=\"img-a109cf01-197\" visibility=\"hidden\" gadfly:scale=\"5.0\">\n",
       "          <path fill=\"none\" d=\"M0,-42.66 L 0 42.66\" class=\"primitive\"/>\n",
       "        </g>\n",
       "        <g transform=\"translate(99.04,47.66)\" id=\"img-a109cf01-198\" visibility=\"hidden\" gadfly:scale=\"5.0\">\n",
       "          <path fill=\"none\" d=\"M0,-42.66 L 0 42.66\" class=\"primitive\"/>\n",
       "        </g>\n",
       "        <g transform=\"translate(110.83,47.66)\" id=\"img-a109cf01-199\" visibility=\"hidden\" gadfly:scale=\"5.0\">\n",
       "          <path fill=\"none\" d=\"M0,-42.66 L 0 42.66\" class=\"primitive\"/>\n",
       "        </g>\n",
       "        <g transform=\"translate(122.63,47.66)\" id=\"img-a109cf01-200\" visibility=\"hidden\" gadfly:scale=\"5.0\">\n",
       "          <path fill=\"none\" d=\"M0,-42.66 L 0 42.66\" class=\"primitive\"/>\n",
       "        </g>\n",
       "        <g transform=\"translate(134.42,47.66)\" id=\"img-a109cf01-201\" visibility=\"hidden\" gadfly:scale=\"5.0\">\n",
       "          <path fill=\"none\" d=\"M0,-42.66 L 0 42.66\" class=\"primitive\"/>\n",
       "        </g>\n",
       "        <g transform=\"translate(146.22,47.66)\" id=\"img-a109cf01-202\" visibility=\"hidden\" gadfly:scale=\"5.0\">\n",
       "          <path fill=\"none\" d=\"M0,-42.66 L 0 42.66\" class=\"primitive\"/>\n",
       "        </g>\n",
       "        <g transform=\"translate(158.01,47.66)\" id=\"img-a109cf01-203\" visibility=\"hidden\" gadfly:scale=\"5.0\">\n",
       "          <path fill=\"none\" d=\"M0,-42.66 L 0 42.66\" class=\"primitive\"/>\n",
       "        </g>\n",
       "        <g transform=\"translate(169.8,47.66)\" id=\"img-a109cf01-204\" visibility=\"hidden\" gadfly:scale=\"5.0\">\n",
       "          <path fill=\"none\" d=\"M0,-42.66 L 0 42.66\" class=\"primitive\"/>\n",
       "        </g>\n",
       "        <g transform=\"translate(181.6,47.66)\" id=\"img-a109cf01-205\" visibility=\"hidden\" gadfly:scale=\"5.0\">\n",
       "          <path fill=\"none\" d=\"M0,-42.66 L 0 42.66\" class=\"primitive\"/>\n",
       "        </g>\n",
       "        <g transform=\"translate(193.39,47.66)\" id=\"img-a109cf01-206\" visibility=\"hidden\" gadfly:scale=\"5.0\">\n",
       "          <path fill=\"none\" d=\"M0,-42.66 L 0 42.66\" class=\"primitive\"/>\n",
       "        </g>\n",
       "        <g transform=\"translate(205.19,47.66)\" id=\"img-a109cf01-207\" visibility=\"hidden\" gadfly:scale=\"5.0\">\n",
       "          <path fill=\"none\" d=\"M0,-42.66 L 0 42.66\" class=\"primitive\"/>\n",
       "        </g>\n",
       "        <g transform=\"translate(216.98,47.66)\" id=\"img-a109cf01-208\" visibility=\"hidden\" gadfly:scale=\"5.0\">\n",
       "          <path fill=\"none\" d=\"M0,-42.66 L 0 42.66\" class=\"primitive\"/>\n",
       "        </g>\n",
       "        <g transform=\"translate(228.78,47.66)\" id=\"img-a109cf01-209\" visibility=\"hidden\" gadfly:scale=\"5.0\">\n",
       "          <path fill=\"none\" d=\"M0,-42.66 L 0 42.66\" class=\"primitive\"/>\n",
       "        </g>\n",
       "        <g transform=\"translate(240.57,47.66)\" id=\"img-a109cf01-210\" visibility=\"hidden\" gadfly:scale=\"5.0\">\n",
       "          <path fill=\"none\" d=\"M0,-42.66 L 0 42.66\" class=\"primitive\"/>\n",
       "        </g>\n",
       "        <g transform=\"translate(252.36,47.66)\" id=\"img-a109cf01-211\" visibility=\"hidden\" gadfly:scale=\"5.0\">\n",
       "          <path fill=\"none\" d=\"M0,-42.66 L 0 42.66\" class=\"primitive\"/>\n",
       "        </g>\n",
       "      </g>\n",
       "      <g class=\"plotpanel\" id=\"img-a109cf01-212\">\n",
       "        <metadata>\n",
       "          <boundingbox value=\"14.479166666666671mm 5.0mm 121.94218957064284mm 85.32666666666668mm\"/>\n",
       "          <unitbox value=\"-0.03391492064511956 7.098368718747438 2.067829841290239 -4.1967374374948765\"/>\n",
       "        </metadata>\n",
       "        <g class=\"xfixed\" id=\"img-a109cf01-213\">\n",
       "          <g stroke-dasharray=\"none\" stroke-width=\"0.3\" stroke=\"#0000FF\" id=\"img-a109cf01-214\">\n",
       "            <g transform=\"translate(75.45,37.5)\" id=\"img-a109cf01-215\">\n",
       "              <path fill=\"none\" d=\"M-60.97,0 L 60.97 0\" class=\"primitive\"/>\n",
       "            </g>\n",
       "          </g>\n",
       "          <g stroke-dasharray=\"2,1\" stroke-width=\"0.3\" stroke=\"#FFA500\" id=\"img-a109cf01-216\">\n",
       "            <g transform=\"translate(75.45,56.12)\" id=\"img-a109cf01-217\">\n",
       "              <path fill=\"none\" d=\"M-60.97,0 L 60.97 0\" class=\"primitive\"/>\n",
       "            </g>\n",
       "          </g>\n",
       "          <g stroke-dasharray=\"4,1\" stroke-width=\"0.3\" stroke=\"#FF0000\" id=\"img-a109cf01-218\">\n",
       "            <g transform=\"translate(75.45,49.49)\" id=\"img-a109cf01-219\">\n",
       "              <path fill=\"none\" d=\"M-60.97,0 L 60.97 0\" class=\"primitive\"/>\n",
       "            </g>\n",
       "          </g>\n",
       "          <g stroke-dasharray=\"2,1\" stroke-width=\"0.3\" stroke=\"#FFA500\" id=\"img-a109cf01-220\">\n",
       "            <g transform=\"translate(75.45,42.87)\" id=\"img-a109cf01-221\">\n",
       "              <path fill=\"none\" d=\"M-60.97,0 L 60.97 0\" class=\"primitive\"/>\n",
       "            </g>\n",
       "          </g>\n",
       "        </g>\n",
       "        <g class=\"geometry\" fill=\"#00BFFF\" id=\"img-a109cf01-222\">\n",
       "          <g transform=\"translate(75.45,48.75)\" id=\"img-a109cf01-223\">\n",
       "            <path d=\"M-0,27.57 L -0 27.38 -0 27.2 -0 27.01 -0 26.83 -0 26.64 -0 26.46 -0 26.28 -0 26.09 -0 25.91 -0 25.72 -0.01 25.54 -0.01 25.35 -0.01 25.17 -0.01 24.98 -0.01 24.8 -0.02 24.62 -0.02 24.43 -0.03 24.25 -0.03 24.06 -0.04 23.88 -0.05 23.69 -0.06 23.51 -0.07 23.33 -0.08 23.14 -0.09 22.96 -0.11 22.77 -0.13 22.59 -0.15 22.4 -0.17 22.22 -0.2 22.03 -0.23 21.85 -0.26 21.67 -0.29 21.48 -0.32 21.3 -0.36 21.11 -0.4 20.93 -0.44 20.74 -0.49 20.56 -0.54 20.38 -0.58 20.19 -0.63 20.01 -0.69 19.82 -0.74 19.64 -0.79 19.45 -0.85 19.27 -0.9 19.08 -0.96 18.9 -1.02 18.72 -1.08 18.53 -1.14 18.35 -1.2 18.16 -1.26 17.98 -1.32 17.79 -1.39 17.61 -1.45 17.42 -1.52 17.24 -1.59 17.06 -1.67 16.87 -1.74 16.69 -1.82 16.5 -1.9 16.32 -1.98 16.13 -2.07 15.95 -2.16 15.77 -2.25 15.58 -2.34 15.4 -2.44 15.21 -2.54 15.03 -2.65 14.84 -2.76 14.66 -2.87 14.47 -2.98 14.29 -3.11 14.11 -3.23 13.92 -3.37 13.74 -3.51 13.55 -3.65 13.37 -3.81 13.18 -3.98 13 -4.16 12.82 -4.36 12.63 -4.57 12.45 -4.8 12.26 -5.05 12.08 -5.32 11.89 -5.61 11.71 -5.92 11.52 -6.26 11.34 -6.63 11.16 -7.02 10.97 -7.44 10.79 -7.89 10.6 -8.37 10.42 -8.87 10.23 -9.41 10.05 -9.97 9.86 -10.56 9.68 -11.17 9.5 -11.81 9.31 -12.47 9.13 -13.14 8.94 -13.84 8.76 -14.54 8.57 -15.26 8.39 -15.98 8.21 -16.7 8.02 -17.42 7.84 -18.14 7.65 -18.85 7.47 -19.54 7.28 -20.22 7.1 -20.87 6.91 -21.5 6.73 -22.1 6.55 -22.67 6.36 -23.2 6.18 -23.69 5.99 -24.15 5.81 -24.56 5.62 -24.94 5.44 -25.27 5.26 -25.56 5.07 -25.8 4.89 -26.01 4.7 -26.18 4.52 -26.31 4.33 -26.41 4.15 -26.48 3.96 -26.52 3.78 -26.54 3.6 -26.53 3.41 -26.5 3.23 -26.46 3.04 -26.41 2.86 -26.34 2.67 -26.26 2.49 -26.17 2.3 -26.08 2.12 -25.98 1.94 -25.87 1.75 -25.75 1.57 -25.62 1.38 -25.49 1.2 -25.34 1.01 -25.18 0.83 -25 0.65 -24.81 0.46 -24.6 0.28 -24.37 0.09 -24.11 -0.09 -23.84 -0.28 -23.55 -0.46 -23.23 -0.65 -22.89 -0.83 -22.54 -1.01 -22.16 -1.2 -21.77 -1.38 -21.36 -1.57 -20.94 -1.75 -20.51 -1.94 -20.08 -2.12 -19.64 -2.3 -19.2 -2.49 -18.76 -2.67 -18.33 -2.86 -17.9 -3.04 -17.49 -3.23 -17.09 -3.41 -16.71 -3.6 -16.34 -3.78 -15.99 -3.96 -15.66 -4.15 -15.35 -4.33 -15.06 -4.52 -14.79 -4.7 -14.53 -4.89 -14.3 -5.07 -14.08 -5.26 -13.88 -5.44 -13.7 -5.62 -13.52 -5.81 -13.37 -5.99 -13.22 -6.18 -13.08 -6.36 -12.95 -6.55 -12.82 -6.73 -12.7 -6.91 -12.58 -7.1 -12.46 -7.28 -12.33 -7.47 -12.2 -7.65 -12.07 -7.84 -11.93 -8.02 -11.78 -8.21 -11.62 -8.39 -11.45 -8.57 -11.26 -8.76 -11.06 -8.94 -10.85 -9.13 -10.62 -9.31 -10.38 -9.5 -10.13 -9.68 -9.86 -9.86 -9.58 -10.05 -9.28 -10.23 -8.98 -10.42 -8.66 -10.6 -8.33 -10.79 -8 -10.97 -7.66 -11.16 -7.32 -11.34 -6.98 -11.52 -6.63 -11.71 -6.29 -11.89 -5.95 -12.08 -5.61 -12.26 -5.28 -12.45 -4.95 -12.63 -4.64 -12.82 -4.33 -13 -4.04 -13.18 -3.76 -13.37 -3.49 -13.55 -3.23 -13.74 -2.99 -13.92 -2.77 -14.11 -2.56 -14.29 -2.36 -14.47 -2.18 -14.66 -2.02 -14.84 -1.87 -15.03 -1.74 -15.21 -1.62 -15.4 -1.51 -15.58 -1.42 -15.77 -1.33 -15.95 -1.26 -16.13 -1.2 -16.32 -1.15 -16.5 -1.1 -16.69 -1.06 -16.87 -1.03 -17.06 -0.99 -17.24 -0.97 -17.42 -0.94 -17.61 -0.92 -17.79 -0.89 -17.98 -0.87 -18.16 -0.85 -18.35 -0.82 -18.53 -0.79 -18.72 -0.76 -18.9 -0.73 -19.08 -0.7 -19.27 -0.67 -19.45 -0.63 -19.64 -0.6 -19.82 -0.56 -20.01 -0.52 -20.19 -0.48 -20.38 -0.45 -20.56 -0.41 -20.74 -0.37 -20.93 -0.34 -21.11 -0.31 -21.3 -0.27 -21.48 -0.24 -21.67 -0.22 -21.85 -0.19 -22.03 -0.17 -22.22 -0.15 -22.4 -0.13 -22.59 -0.11 -22.77 -0.09 -22.96 -0.08 -23.14 -0.07 -23.33 -0.06 -23.51 -0.05 -23.69 -0.04 -23.88 -0.03 -24.06 -0.03 -24.25 -0.02 -24.43 -0.02 -24.62 -0.01 -24.8 -0.01 -24.98 -0.01 -25.17 -0.01 -25.35 -0.01 -25.54 -0 -25.72 -0 -25.91 -0 -26.09 -0 -26.28 -0 -26.46 -0 -26.64 -0 -26.83 -0 -27.01 -0 -27.2 -0 -27.38 -0 -27.57 0 -27.57 0 -27.38 0 -27.2 0 -27.01 0 -26.83 0 -26.64 0 -26.46 0 -26.28 0 -26.09 0 -25.91 0 -25.72 0.01 -25.54 0.01 -25.35 0.01 -25.17 0.01 -24.98 0.01 -24.8 0.02 -24.62 0.02 -24.43 0.03 -24.25 0.03 -24.06 0.04 -23.88 0.05 -23.69 0.06 -23.51 0.07 -23.33 0.08 -23.14 0.09 -22.96 0.11 -22.77 0.13 -22.59 0.15 -22.4 0.17 -22.22 0.19 -22.03 0.22 -21.85 0.24 -21.67 0.27 -21.48 0.31 -21.3 0.34 -21.11 0.37 -20.93 0.41 -20.74 0.45 -20.56 0.48 -20.38 0.52 -20.19 0.56 -20.01 0.6 -19.82 0.63 -19.64 0.67 -19.45 0.7 -19.27 0.73 -19.08 0.76 -18.9 0.79 -18.72 0.82 -18.53 0.85 -18.35 0.87 -18.16 0.89 -17.98 0.92 -17.79 0.94 -17.61 0.97 -17.42 0.99 -17.24 1.03 -17.06 1.06 -16.87 1.1 -16.69 1.15 -16.5 1.2 -16.32 1.26 -16.13 1.33 -15.95 1.42 -15.77 1.51 -15.58 1.62 -15.4 1.74 -15.21 1.87 -15.03 2.02 -14.84 2.18 -14.66 2.36 -14.47 2.56 -14.29 2.77 -14.11 2.99 -13.92 3.23 -13.74 3.49 -13.55 3.76 -13.37 4.04 -13.18 4.33 -13 4.64 -12.82 4.95 -12.63 5.28 -12.45 5.61 -12.26 5.95 -12.08 6.29 -11.89 6.63 -11.71 6.98 -11.52 7.32 -11.34 7.66 -11.16 8 -10.97 8.33 -10.79 8.66 -10.6 8.98 -10.42 9.28 -10.23 9.58 -10.05 9.86 -9.86 10.13 -9.68 10.38 -9.5 10.62 -9.31 10.85 -9.13 11.06 -8.94 11.26 -8.76 11.45 -8.57 11.62 -8.39 11.78 -8.21 11.93 -8.02 12.07 -7.84 12.2 -7.65 12.33 -7.47 12.46 -7.28 12.58 -7.1 12.7 -6.91 12.82 -6.73 12.95 -6.55 13.08 -6.36 13.22 -6.18 13.37 -5.99 13.52 -5.81 13.7 -5.62 13.88 -5.44 14.08 -5.26 14.3 -5.07 14.53 -4.89 14.79 -4.7 15.06 -4.52 15.35 -4.33 15.66 -4.15 15.99 -3.96 16.34 -3.78 16.71 -3.6 17.09 -3.41 17.49 -3.23 17.9 -3.04 18.33 -2.86 18.76 -2.67 19.2 -2.49 19.64 -2.3 20.08 -2.12 20.51 -1.94 20.94 -1.75 21.36 -1.57 21.77 -1.38 22.16 -1.2 22.54 -1.01 22.89 -0.83 23.23 -0.65 23.55 -0.46 23.84 -0.28 24.11 -0.09 24.37 0.09 24.6 0.28 24.81 0.46 25 0.65 25.18 0.83 25.34 1.01 25.49 1.2 25.62 1.38 25.75 1.57 25.87 1.75 25.98 1.94 26.08 2.12 26.17 2.3 26.26 2.49 26.34 2.67 26.41 2.86 26.46 3.04 26.5 3.23 26.53 3.41 26.54 3.6 26.52 3.78 26.48 3.96 26.41 4.15 26.31 4.33 26.18 4.52 26.01 4.7 25.8 4.89 25.56 5.07 25.27 5.26 24.94 5.44 24.56 5.62 24.15 5.81 23.69 5.99 23.2 6.18 22.67 6.36 22.1 6.55 21.5 6.73 20.87 6.91 20.22 7.1 19.54 7.28 18.85 7.47 18.14 7.65 17.42 7.84 16.7 8.02 15.98 8.21 15.26 8.39 14.54 8.57 13.84 8.76 13.14 8.94 12.47 9.13 11.81 9.31 11.17 9.5 10.56 9.68 9.97 9.86 9.41 10.05 8.87 10.23 8.37 10.42 7.89 10.6 7.44 10.79 7.02 10.97 6.63 11.16 6.26 11.34 5.92 11.52 5.61 11.71 5.32 11.89 5.05 12.08 4.8 12.26 4.57 12.45 4.36 12.63 4.16 12.82 3.98 13 3.81 13.18 3.65 13.37 3.51 13.55 3.37 13.74 3.23 13.92 3.11 14.11 2.98 14.29 2.87 14.47 2.76 14.66 2.65 14.84 2.54 15.03 2.44 15.21 2.34 15.4 2.25 15.58 2.16 15.77 2.07 15.95 1.98 16.13 1.9 16.32 1.82 16.5 1.74 16.69 1.67 16.87 1.59 17.06 1.52 17.24 1.45 17.42 1.39 17.61 1.32 17.79 1.26 17.98 1.2 18.16 1.14 18.35 1.08 18.53 1.02 18.72 0.96 18.9 0.9 19.08 0.85 19.27 0.79 19.45 0.74 19.64 0.69 19.82 0.63 20.01 0.58 20.19 0.54 20.38 0.49 20.56 0.44 20.74 0.4 20.93 0.36 21.11 0.32 21.3 0.29 21.48 0.26 21.67 0.23 21.85 0.2 22.03 0.17 22.22 0.15 22.4 0.13 22.59 0.11 22.77 0.09 22.96 0.08 23.14 0.07 23.33 0.06 23.51 0.05 23.69 0.04 23.88 0.03 24.06 0.03 24.25 0.02 24.43 0.02 24.62 0.01 24.8 0.01 24.98 0.01 25.17 0.01 25.35 0.01 25.54 0 25.72 0 25.91 0 26.09 0 26.28 0 26.46 0 26.64 0 26.83 0 27.01 0 27.2 0 27.38 0 27.57 z\" class=\"primitive\"/>\n",
       "          </g>\n",
       "        </g>\n",
       "      </g>\n",
       "      <g fill-opacity=\"0\" class=\"guide crosshair\" id=\"img-a109cf01-224\">\n",
       "        <g class=\"text_box\" fill=\"#000000\" id=\"img-a109cf01-225\">\n",
       "          <g transform=\"translate(129.37,5.53)\" id=\"img-a109cf01-226\">\n",
       "            <g class=\"primitive\">\n",
       "              <text text-anchor=\"end\" dy=\"0.6em\"></text>\n",
       "            </g>\n",
       "          </g>\n",
       "        </g>\n",
       "      </g>\n",
       "      <g fill-opacity=\"0\" class=\"guide helpscreen\" id=\"img-a109cf01-227\">\n",
       "        <g class=\"text_box\" id=\"img-a109cf01-228\">\n",
       "          <g fill=\"#000000\" id=\"img-a109cf01-229\">\n",
       "            <g transform=\"translate(75.45,47.66)\" id=\"img-a109cf01-230\">\n",
       "              <path d=\"M-27.48,-9.93 L 27.48 -9.93 27.48 9.93 -27.48 9.93 z\" class=\"primitive\"/>\n",
       "            </g>\n",
       "          </g>\n",
       "          <g fill=\"#FFFF74\" font-size=\"3.88\" font-family=\"'PT Sans','Helvetica Neue','Helvetica',sans-serif\" id=\"img-a109cf01-231\">\n",
       "            <g transform=\"translate(75.45,40.44)\" id=\"img-a109cf01-232\">\n",
       "              <g class=\"primitive\">\n",
       "                <text text-anchor=\"middle\" dy=\"0.35em\">h,j,k,l,arrows,drag to pan</text>\n",
       "              </g>\n",
       "            </g>\n",
       "            <g transform=\"translate(75.45,44.05)\" id=\"img-a109cf01-233\">\n",
       "              <g class=\"primitive\">\n",
       "                <text text-anchor=\"middle\" dy=\"0.35em\">i,o,+,-,scroll,shift-drag to zoom</text>\n",
       "              </g>\n",
       "            </g>\n",
       "            <g transform=\"translate(75.45,47.66)\" id=\"img-a109cf01-234\">\n",
       "              <g class=\"primitive\">\n",
       "                <text text-anchor=\"middle\" dy=\"0.35em\">r,dbl-click to reset</text>\n",
       "              </g>\n",
       "            </g>\n",
       "            <g transform=\"translate(75.45,51.28)\" id=\"img-a109cf01-235\">\n",
       "              <g class=\"primitive\">\n",
       "                <text text-anchor=\"middle\" dy=\"0.35em\">c for coordinates</text>\n",
       "              </g>\n",
       "            </g>\n",
       "            <g transform=\"translate(75.45,54.89)\" id=\"img-a109cf01-236\">\n",
       "              <g class=\"primitive\">\n",
       "                <text text-anchor=\"middle\" dy=\"0.35em\">? for help</text>\n",
       "              </g>\n",
       "            </g>\n",
       "          </g>\n",
       "        </g>\n",
       "      </g>\n",
       "      <g fill-opacity=\"0\" class=\"guide questionmark\" id=\"img-a109cf01-237\">\n",
       "        <g class=\"text_box\" fill=\"#000000\" id=\"img-a109cf01-238\">\n",
       "          <g transform=\"translate(136.42,5.53)\" id=\"img-a109cf01-239\">\n",
       "            <g class=\"primitive\">\n",
       "              <text text-anchor=\"end\" dy=\"0.6em\">?</text>\n",
       "            </g>\n",
       "          </g>\n",
       "        </g>\n",
       "      </g>\n",
       "    </g>\n",
       "  </g>\n",
       "  <g class=\"guide ylabels\" font-size=\"2.82\" font-family=\"'PT Sans Caption','Helvetica Neue','Helvetica',sans-serif\" fill=\"#6C606B\" id=\"img-a109cf01-240\">\n",
       "    <g transform=\"translate(13.48,189.98)\" id=\"img-a109cf01-241\" visibility=\"hidden\" gadfly:scale=\"1.0\">\n",
       "      <g class=\"primitive\">\n",
       "        <text text-anchor=\"end\" dy=\"0.35em\">-2</text>\n",
       "      </g>\n",
       "    </g>\n",
       "    <g transform=\"translate(13.48,169.65)\" id=\"img-a109cf01-242\" visibility=\"hidden\" gadfly:scale=\"1.0\">\n",
       "      <g class=\"primitive\">\n",
       "        <text text-anchor=\"end\" dy=\"0.35em\">-1</text>\n",
       "      </g>\n",
       "    </g>\n",
       "    <g transform=\"translate(13.48,149.32)\" id=\"img-a109cf01-243\" visibility=\"hidden\" gadfly:scale=\"1.0\">\n",
       "      <g class=\"primitive\">\n",
       "        <text text-anchor=\"end\" dy=\"0.35em\">0</text>\n",
       "      </g>\n",
       "    </g>\n",
       "    <g transform=\"translate(13.48,128.99)\" id=\"img-a109cf01-244\" visibility=\"hidden\" gadfly:scale=\"1.0\">\n",
       "      <g class=\"primitive\">\n",
       "        <text text-anchor=\"end\" dy=\"0.35em\">1</text>\n",
       "      </g>\n",
       "    </g>\n",
       "    <g transform=\"translate(13.48,108.66)\" id=\"img-a109cf01-245\" visibility=\"hidden\" gadfly:scale=\"1.0\">\n",
       "      <g class=\"primitive\">\n",
       "        <text text-anchor=\"end\" dy=\"0.35em\">2</text>\n",
       "      </g>\n",
       "    </g>\n",
       "    <g transform=\"translate(13.48,88.33)\" id=\"img-a109cf01-246\" visibility=\"visible\" gadfly:scale=\"1.0\">\n",
       "      <g class=\"primitive\">\n",
       "        <text text-anchor=\"end\" dy=\"0.35em\">3</text>\n",
       "      </g>\n",
       "    </g>\n",
       "    <g transform=\"translate(13.48,68)\" id=\"img-a109cf01-247\" visibility=\"visible\" gadfly:scale=\"1.0\">\n",
       "      <g class=\"primitive\">\n",
       "        <text text-anchor=\"end\" dy=\"0.35em\">4</text>\n",
       "      </g>\n",
       "    </g>\n",
       "    <g transform=\"translate(13.48,47.66)\" id=\"img-a109cf01-248\" visibility=\"visible\" gadfly:scale=\"1.0\">\n",
       "      <g class=\"primitive\">\n",
       "        <text text-anchor=\"end\" dy=\"0.35em\">5</text>\n",
       "      </g>\n",
       "    </g>\n",
       "    <g transform=\"translate(13.48,27.33)\" id=\"img-a109cf01-249\" visibility=\"visible\" gadfly:scale=\"1.0\">\n",
       "      <g class=\"primitive\">\n",
       "        <text text-anchor=\"end\" dy=\"0.35em\">6</text>\n",
       "      </g>\n",
       "    </g>\n",
       "    <g transform=\"translate(13.48,7)\" id=\"img-a109cf01-250\" visibility=\"visible\" gadfly:scale=\"1.0\">\n",
       "      <g class=\"primitive\">\n",
       "        <text text-anchor=\"end\" dy=\"0.35em\">7</text>\n",
       "      </g>\n",
       "    </g>\n",
       "    <g transform=\"translate(13.48,-13.33)\" id=\"img-a109cf01-251\" visibility=\"hidden\" gadfly:scale=\"1.0\">\n",
       "      <g class=\"primitive\">\n",
       "        <text text-anchor=\"end\" dy=\"0.35em\">8</text>\n",
       "      </g>\n",
       "    </g>\n",
       "    <g transform=\"translate(13.48,-33.66)\" id=\"img-a109cf01-252\" visibility=\"hidden\" gadfly:scale=\"1.0\">\n",
       "      <g class=\"primitive\">\n",
       "        <text text-anchor=\"end\" dy=\"0.35em\">9</text>\n",
       "      </g>\n",
       "    </g>\n",
       "    <g transform=\"translate(13.48,-54)\" id=\"img-a109cf01-253\" visibility=\"hidden\" gadfly:scale=\"1.0\">\n",
       "      <g class=\"primitive\">\n",
       "        <text text-anchor=\"end\" dy=\"0.35em\">10</text>\n",
       "      </g>\n",
       "    </g>\n",
       "    <g transform=\"translate(13.48,-74.33)\" id=\"img-a109cf01-254\" visibility=\"hidden\" gadfly:scale=\"1.0\">\n",
       "      <g class=\"primitive\">\n",
       "        <text text-anchor=\"end\" dy=\"0.35em\">11</text>\n",
       "      </g>\n",
       "    </g>\n",
       "    <g transform=\"translate(13.48,-94.66)\" id=\"img-a109cf01-255\" visibility=\"hidden\" gadfly:scale=\"1.0\">\n",
       "      <g class=\"primitive\">\n",
       "        <text text-anchor=\"end\" dy=\"0.35em\">12</text>\n",
       "      </g>\n",
       "    </g>\n",
       "    <g transform=\"translate(13.48,169.65)\" id=\"img-a109cf01-256\" visibility=\"hidden\" gadfly:scale=\"10.0\">\n",
       "      <g class=\"primitive\">\n",
       "        <text text-anchor=\"end\" dy=\"0.35em\">-1.0</text>\n",
       "      </g>\n",
       "    </g>\n",
       "    <g transform=\"translate(13.48,165.59)\" id=\"img-a109cf01-257\" visibility=\"hidden\" gadfly:scale=\"10.0\">\n",
       "      <g class=\"primitive\">\n",
       "        <text text-anchor=\"end\" dy=\"0.35em\">-0.8</text>\n",
       "      </g>\n",
       "    </g>\n",
       "    <g transform=\"translate(13.48,161.52)\" id=\"img-a109cf01-258\" visibility=\"hidden\" gadfly:scale=\"10.0\">\n",
       "      <g class=\"primitive\">\n",
       "        <text text-anchor=\"end\" dy=\"0.35em\">-0.6</text>\n",
       "      </g>\n",
       "    </g>\n",
       "    <g transform=\"translate(13.48,157.45)\" id=\"img-a109cf01-259\" visibility=\"hidden\" gadfly:scale=\"10.0\">\n",
       "      <g class=\"primitive\">\n",
       "        <text text-anchor=\"end\" dy=\"0.35em\">-0.4</text>\n",
       "      </g>\n",
       "    </g>\n",
       "    <g transform=\"translate(13.48,153.39)\" id=\"img-a109cf01-260\" visibility=\"hidden\" gadfly:scale=\"10.0\">\n",
       "      <g class=\"primitive\">\n",
       "        <text text-anchor=\"end\" dy=\"0.35em\">-0.2</text>\n",
       "      </g>\n",
       "    </g>\n",
       "    <g transform=\"translate(13.48,149.32)\" id=\"img-a109cf01-261\" visibility=\"hidden\" gadfly:scale=\"10.0\">\n",
       "      <g class=\"primitive\">\n",
       "        <text text-anchor=\"end\" dy=\"0.35em\">0.0</text>\n",
       "      </g>\n",
       "    </g>\n",
       "    <g transform=\"translate(13.48,145.26)\" id=\"img-a109cf01-262\" visibility=\"hidden\" gadfly:scale=\"10.0\">\n",
       "      <g class=\"primitive\">\n",
       "        <text text-anchor=\"end\" dy=\"0.35em\">0.2</text>\n",
       "      </g>\n",
       "    </g>\n",
       "    <g transform=\"translate(13.48,141.19)\" id=\"img-a109cf01-263\" visibility=\"hidden\" gadfly:scale=\"10.0\">\n",
       "      <g class=\"primitive\">\n",
       "        <text text-anchor=\"end\" dy=\"0.35em\">0.4</text>\n",
       "      </g>\n",
       "    </g>\n",
       "    <g transform=\"translate(13.48,137.12)\" id=\"img-a109cf01-264\" visibility=\"hidden\" gadfly:scale=\"10.0\">\n",
       "      <g class=\"primitive\">\n",
       "        <text text-anchor=\"end\" dy=\"0.35em\">0.6</text>\n",
       "      </g>\n",
       "    </g>\n",
       "    <g transform=\"translate(13.48,133.06)\" id=\"img-a109cf01-265\" visibility=\"hidden\" gadfly:scale=\"10.0\">\n",
       "      <g class=\"primitive\">\n",
       "        <text text-anchor=\"end\" dy=\"0.35em\">0.8</text>\n",
       "      </g>\n",
       "    </g>\n",
       "    <g transform=\"translate(13.48,128.99)\" id=\"img-a109cf01-266\" visibility=\"hidden\" gadfly:scale=\"10.0\">\n",
       "      <g class=\"primitive\">\n",
       "        <text text-anchor=\"end\" dy=\"0.35em\">1.0</text>\n",
       "      </g>\n",
       "    </g>\n",
       "    <g transform=\"translate(13.48,124.92)\" id=\"img-a109cf01-267\" visibility=\"hidden\" gadfly:scale=\"10.0\">\n",
       "      <g class=\"primitive\">\n",
       "        <text text-anchor=\"end\" dy=\"0.35em\">1.2</text>\n",
       "      </g>\n",
       "    </g>\n",
       "    <g transform=\"translate(13.48,120.86)\" id=\"img-a109cf01-268\" visibility=\"hidden\" gadfly:scale=\"10.0\">\n",
       "      <g class=\"primitive\">\n",
       "        <text text-anchor=\"end\" dy=\"0.35em\">1.4</text>\n",
       "      </g>\n",
       "    </g>\n",
       "    <g transform=\"translate(13.48,116.79)\" id=\"img-a109cf01-269\" visibility=\"hidden\" gadfly:scale=\"10.0\">\n",
       "      <g class=\"primitive\">\n",
       "        <text text-anchor=\"end\" dy=\"0.35em\">1.6</text>\n",
       "      </g>\n",
       "    </g>\n",
       "    <g transform=\"translate(13.48,112.72)\" id=\"img-a109cf01-270\" visibility=\"hidden\" gadfly:scale=\"10.0\">\n",
       "      <g class=\"primitive\">\n",
       "        <text text-anchor=\"end\" dy=\"0.35em\">1.8</text>\n",
       "      </g>\n",
       "    </g>\n",
       "    <g transform=\"translate(13.48,108.66)\" id=\"img-a109cf01-271\" visibility=\"hidden\" gadfly:scale=\"10.0\">\n",
       "      <g class=\"primitive\">\n",
       "        <text text-anchor=\"end\" dy=\"0.35em\">2.0</text>\n",
       "      </g>\n",
       "    </g>\n",
       "    <g transform=\"translate(13.48,104.59)\" id=\"img-a109cf01-272\" visibility=\"hidden\" gadfly:scale=\"10.0\">\n",
       "      <g class=\"primitive\">\n",
       "        <text text-anchor=\"end\" dy=\"0.35em\">2.2</text>\n",
       "      </g>\n",
       "    </g>\n",
       "    <g transform=\"translate(13.48,100.53)\" id=\"img-a109cf01-273\" visibility=\"hidden\" gadfly:scale=\"10.0\">\n",
       "      <g class=\"primitive\">\n",
       "        <text text-anchor=\"end\" dy=\"0.35em\">2.4</text>\n",
       "      </g>\n",
       "    </g>\n",
       "    <g transform=\"translate(13.48,96.46)\" id=\"img-a109cf01-274\" visibility=\"hidden\" gadfly:scale=\"10.0\">\n",
       "      <g class=\"primitive\">\n",
       "        <text text-anchor=\"end\" dy=\"0.35em\">2.6</text>\n",
       "      </g>\n",
       "    </g>\n",
       "    <g transform=\"translate(13.48,92.39)\" id=\"img-a109cf01-275\" visibility=\"hidden\" gadfly:scale=\"10.0\">\n",
       "      <g class=\"primitive\">\n",
       "        <text text-anchor=\"end\" dy=\"0.35em\">2.8</text>\n",
       "      </g>\n",
       "    </g>\n",
       "    <g transform=\"translate(13.48,88.33)\" id=\"img-a109cf01-276\" visibility=\"hidden\" gadfly:scale=\"10.0\">\n",
       "      <g class=\"primitive\">\n",
       "        <text text-anchor=\"end\" dy=\"0.35em\">3.0</text>\n",
       "      </g>\n",
       "    </g>\n",
       "    <g transform=\"translate(13.48,84.26)\" id=\"img-a109cf01-277\" visibility=\"hidden\" gadfly:scale=\"10.0\">\n",
       "      <g class=\"primitive\">\n",
       "        <text text-anchor=\"end\" dy=\"0.35em\">3.2</text>\n",
       "      </g>\n",
       "    </g>\n",
       "    <g transform=\"translate(13.48,80.19)\" id=\"img-a109cf01-278\" visibility=\"hidden\" gadfly:scale=\"10.0\">\n",
       "      <g class=\"primitive\">\n",
       "        <text text-anchor=\"end\" dy=\"0.35em\">3.4</text>\n",
       "      </g>\n",
       "    </g>\n",
       "    <g transform=\"translate(13.48,76.13)\" id=\"img-a109cf01-279\" visibility=\"hidden\" gadfly:scale=\"10.0\">\n",
       "      <g class=\"primitive\">\n",
       "        <text text-anchor=\"end\" dy=\"0.35em\">3.6</text>\n",
       "      </g>\n",
       "    </g>\n",
       "    <g transform=\"translate(13.48,72.06)\" id=\"img-a109cf01-280\" visibility=\"hidden\" gadfly:scale=\"10.0\">\n",
       "      <g class=\"primitive\">\n",
       "        <text text-anchor=\"end\" dy=\"0.35em\">3.8</text>\n",
       "      </g>\n",
       "    </g>\n",
       "    <g transform=\"translate(13.48,68)\" id=\"img-a109cf01-281\" visibility=\"hidden\" gadfly:scale=\"10.0\">\n",
       "      <g class=\"primitive\">\n",
       "        <text text-anchor=\"end\" dy=\"0.35em\">4.0</text>\n",
       "      </g>\n",
       "    </g>\n",
       "    <g transform=\"translate(13.48,63.93)\" id=\"img-a109cf01-282\" visibility=\"hidden\" gadfly:scale=\"10.0\">\n",
       "      <g class=\"primitive\">\n",
       "        <text text-anchor=\"end\" dy=\"0.35em\">4.2</text>\n",
       "      </g>\n",
       "    </g>\n",
       "    <g transform=\"translate(13.48,59.86)\" id=\"img-a109cf01-283\" visibility=\"hidden\" gadfly:scale=\"10.0\">\n",
       "      <g class=\"primitive\">\n",
       "        <text text-anchor=\"end\" dy=\"0.35em\">4.4</text>\n",
       "      </g>\n",
       "    </g>\n",
       "    <g transform=\"translate(13.48,55.8)\" id=\"img-a109cf01-284\" visibility=\"hidden\" gadfly:scale=\"10.0\">\n",
       "      <g class=\"primitive\">\n",
       "        <text text-anchor=\"end\" dy=\"0.35em\">4.6</text>\n",
       "      </g>\n",
       "    </g>\n",
       "    <g transform=\"translate(13.48,51.73)\" id=\"img-a109cf01-285\" visibility=\"hidden\" gadfly:scale=\"10.0\">\n",
       "      <g class=\"primitive\">\n",
       "        <text text-anchor=\"end\" dy=\"0.35em\">4.8</text>\n",
       "      </g>\n",
       "    </g>\n",
       "    <g transform=\"translate(13.48,47.66)\" id=\"img-a109cf01-286\" visibility=\"hidden\" gadfly:scale=\"10.0\">\n",
       "      <g class=\"primitive\">\n",
       "        <text text-anchor=\"end\" dy=\"0.35em\">5.0</text>\n",
       "      </g>\n",
       "    </g>\n",
       "    <g transform=\"translate(13.48,43.6)\" id=\"img-a109cf01-287\" visibility=\"hidden\" gadfly:scale=\"10.0\">\n",
       "      <g class=\"primitive\">\n",
       "        <text text-anchor=\"end\" dy=\"0.35em\">5.2</text>\n",
       "      </g>\n",
       "    </g>\n",
       "    <g transform=\"translate(13.48,39.53)\" id=\"img-a109cf01-288\" visibility=\"hidden\" gadfly:scale=\"10.0\">\n",
       "      <g class=\"primitive\">\n",
       "        <text text-anchor=\"end\" dy=\"0.35em\">5.4</text>\n",
       "      </g>\n",
       "    </g>\n",
       "    <g transform=\"translate(13.48,35.46)\" id=\"img-a109cf01-289\" visibility=\"hidden\" gadfly:scale=\"10.0\">\n",
       "      <g class=\"primitive\">\n",
       "        <text text-anchor=\"end\" dy=\"0.35em\">5.6</text>\n",
       "      </g>\n",
       "    </g>\n",
       "    <g transform=\"translate(13.48,31.4)\" id=\"img-a109cf01-290\" visibility=\"hidden\" gadfly:scale=\"10.0\">\n",
       "      <g class=\"primitive\">\n",
       "        <text text-anchor=\"end\" dy=\"0.35em\">5.8</text>\n",
       "      </g>\n",
       "    </g>\n",
       "    <g transform=\"translate(13.48,27.33)\" id=\"img-a109cf01-291\" visibility=\"hidden\" gadfly:scale=\"10.0\">\n",
       "      <g class=\"primitive\">\n",
       "        <text text-anchor=\"end\" dy=\"0.35em\">6.0</text>\n",
       "      </g>\n",
       "    </g>\n",
       "    <g transform=\"translate(13.48,23.27)\" id=\"img-a109cf01-292\" visibility=\"hidden\" gadfly:scale=\"10.0\">\n",
       "      <g class=\"primitive\">\n",
       "        <text text-anchor=\"end\" dy=\"0.35em\">6.2</text>\n",
       "      </g>\n",
       "    </g>\n",
       "    <g transform=\"translate(13.48,19.2)\" id=\"img-a109cf01-293\" visibility=\"hidden\" gadfly:scale=\"10.0\">\n",
       "      <g class=\"primitive\">\n",
       "        <text text-anchor=\"end\" dy=\"0.35em\">6.4</text>\n",
       "      </g>\n",
       "    </g>\n",
       "    <g transform=\"translate(13.48,15.13)\" id=\"img-a109cf01-294\" visibility=\"hidden\" gadfly:scale=\"10.0\">\n",
       "      <g class=\"primitive\">\n",
       "        <text text-anchor=\"end\" dy=\"0.35em\">6.6</text>\n",
       "      </g>\n",
       "    </g>\n",
       "    <g transform=\"translate(13.48,11.07)\" id=\"img-a109cf01-295\" visibility=\"hidden\" gadfly:scale=\"10.0\">\n",
       "      <g class=\"primitive\">\n",
       "        <text text-anchor=\"end\" dy=\"0.35em\">6.8</text>\n",
       "      </g>\n",
       "    </g>\n",
       "    <g transform=\"translate(13.48,7)\" id=\"img-a109cf01-296\" visibility=\"hidden\" gadfly:scale=\"10.0\">\n",
       "      <g class=\"primitive\">\n",
       "        <text text-anchor=\"end\" dy=\"0.35em\">7.0</text>\n",
       "      </g>\n",
       "    </g>\n",
       "    <g transform=\"translate(13.48,2.93)\" id=\"img-a109cf01-297\" visibility=\"hidden\" gadfly:scale=\"10.0\">\n",
       "      <g class=\"primitive\">\n",
       "        <text text-anchor=\"end\" dy=\"0.35em\">7.2</text>\n",
       "      </g>\n",
       "    </g>\n",
       "    <g transform=\"translate(13.48,-1.13)\" id=\"img-a109cf01-298\" visibility=\"hidden\" gadfly:scale=\"10.0\">\n",
       "      <g class=\"primitive\">\n",
       "        <text text-anchor=\"end\" dy=\"0.35em\">7.4</text>\n",
       "      </g>\n",
       "    </g>\n",
       "    <g transform=\"translate(13.48,-5.2)\" id=\"img-a109cf01-299\" visibility=\"hidden\" gadfly:scale=\"10.0\">\n",
       "      <g class=\"primitive\">\n",
       "        <text text-anchor=\"end\" dy=\"0.35em\">7.6</text>\n",
       "      </g>\n",
       "    </g>\n",
       "    <g transform=\"translate(13.48,-9.27)\" id=\"img-a109cf01-300\" visibility=\"hidden\" gadfly:scale=\"10.0\">\n",
       "      <g class=\"primitive\">\n",
       "        <text text-anchor=\"end\" dy=\"0.35em\">7.8</text>\n",
       "      </g>\n",
       "    </g>\n",
       "    <g transform=\"translate(13.48,-13.33)\" id=\"img-a109cf01-301\" visibility=\"hidden\" gadfly:scale=\"10.0\">\n",
       "      <g class=\"primitive\">\n",
       "        <text text-anchor=\"end\" dy=\"0.35em\">8.0</text>\n",
       "      </g>\n",
       "    </g>\n",
       "    <g transform=\"translate(13.48,-17.4)\" id=\"img-a109cf01-302\" visibility=\"hidden\" gadfly:scale=\"10.0\">\n",
       "      <g class=\"primitive\">\n",
       "        <text text-anchor=\"end\" dy=\"0.35em\">8.2</text>\n",
       "      </g>\n",
       "    </g>\n",
       "    <g transform=\"translate(13.48,-21.46)\" id=\"img-a109cf01-303\" visibility=\"hidden\" gadfly:scale=\"10.0\">\n",
       "      <g class=\"primitive\">\n",
       "        <text text-anchor=\"end\" dy=\"0.35em\">8.4</text>\n",
       "      </g>\n",
       "    </g>\n",
       "    <g transform=\"translate(13.48,-25.53)\" id=\"img-a109cf01-304\" visibility=\"hidden\" gadfly:scale=\"10.0\">\n",
       "      <g class=\"primitive\">\n",
       "        <text text-anchor=\"end\" dy=\"0.35em\">8.6</text>\n",
       "      </g>\n",
       "    </g>\n",
       "    <g transform=\"translate(13.48,-29.6)\" id=\"img-a109cf01-305\" visibility=\"hidden\" gadfly:scale=\"10.0\">\n",
       "      <g class=\"primitive\">\n",
       "        <text text-anchor=\"end\" dy=\"0.35em\">8.8</text>\n",
       "      </g>\n",
       "    </g>\n",
       "    <g transform=\"translate(13.48,-33.66)\" id=\"img-a109cf01-306\" visibility=\"hidden\" gadfly:scale=\"10.0\">\n",
       "      <g class=\"primitive\">\n",
       "        <text text-anchor=\"end\" dy=\"0.35em\">9.0</text>\n",
       "      </g>\n",
       "    </g>\n",
       "    <g transform=\"translate(13.48,-37.73)\" id=\"img-a109cf01-307\" visibility=\"hidden\" gadfly:scale=\"10.0\">\n",
       "      <g class=\"primitive\">\n",
       "        <text text-anchor=\"end\" dy=\"0.35em\">9.2</text>\n",
       "      </g>\n",
       "    </g>\n",
       "    <g transform=\"translate(13.48,-41.8)\" id=\"img-a109cf01-308\" visibility=\"hidden\" gadfly:scale=\"10.0\">\n",
       "      <g class=\"primitive\">\n",
       "        <text text-anchor=\"end\" dy=\"0.35em\">9.4</text>\n",
       "      </g>\n",
       "    </g>\n",
       "    <g transform=\"translate(13.48,-45.86)\" id=\"img-a109cf01-309\" visibility=\"hidden\" gadfly:scale=\"10.0\">\n",
       "      <g class=\"primitive\">\n",
       "        <text text-anchor=\"end\" dy=\"0.35em\">9.6</text>\n",
       "      </g>\n",
       "    </g>\n",
       "    <g transform=\"translate(13.48,-49.93)\" id=\"img-a109cf01-310\" visibility=\"hidden\" gadfly:scale=\"10.0\">\n",
       "      <g class=\"primitive\">\n",
       "        <text text-anchor=\"end\" dy=\"0.35em\">9.8</text>\n",
       "      </g>\n",
       "    </g>\n",
       "    <g transform=\"translate(13.48,-54)\" id=\"img-a109cf01-311\" visibility=\"hidden\" gadfly:scale=\"10.0\">\n",
       "      <g class=\"primitive\">\n",
       "        <text text-anchor=\"end\" dy=\"0.35em\">10.0</text>\n",
       "      </g>\n",
       "    </g>\n",
       "    <g transform=\"translate(13.48,-58.06)\" id=\"img-a109cf01-312\" visibility=\"hidden\" gadfly:scale=\"10.0\">\n",
       "      <g class=\"primitive\">\n",
       "        <text text-anchor=\"end\" dy=\"0.35em\">10.2</text>\n",
       "      </g>\n",
       "    </g>\n",
       "    <g transform=\"translate(13.48,-62.13)\" id=\"img-a109cf01-313\" visibility=\"hidden\" gadfly:scale=\"10.0\">\n",
       "      <g class=\"primitive\">\n",
       "        <text text-anchor=\"end\" dy=\"0.35em\">10.4</text>\n",
       "      </g>\n",
       "    </g>\n",
       "    <g transform=\"translate(13.48,-66.19)\" id=\"img-a109cf01-314\" visibility=\"hidden\" gadfly:scale=\"10.0\">\n",
       "      <g class=\"primitive\">\n",
       "        <text text-anchor=\"end\" dy=\"0.35em\">10.6</text>\n",
       "      </g>\n",
       "    </g>\n",
       "    <g transform=\"translate(13.48,-70.26)\" id=\"img-a109cf01-315\" visibility=\"hidden\" gadfly:scale=\"10.0\">\n",
       "      <g class=\"primitive\">\n",
       "        <text text-anchor=\"end\" dy=\"0.35em\">10.8</text>\n",
       "      </g>\n",
       "    </g>\n",
       "    <g transform=\"translate(13.48,-74.33)\" id=\"img-a109cf01-316\" visibility=\"hidden\" gadfly:scale=\"10.0\">\n",
       "      <g class=\"primitive\">\n",
       "        <text text-anchor=\"end\" dy=\"0.35em\">11.0</text>\n",
       "      </g>\n",
       "    </g>\n",
       "    <g transform=\"translate(13.48,250.98)\" id=\"img-a109cf01-317\" visibility=\"hidden\" gadfly:scale=\"0.5\">\n",
       "      <g class=\"primitive\">\n",
       "        <text text-anchor=\"end\" dy=\"0.35em\">-5</text>\n",
       "      </g>\n",
       "    </g>\n",
       "    <g transform=\"translate(13.48,149.32)\" id=\"img-a109cf01-318\" visibility=\"hidden\" gadfly:scale=\"0.5\">\n",
       "      <g class=\"primitive\">\n",
       "        <text text-anchor=\"end\" dy=\"0.35em\">0</text>\n",
       "      </g>\n",
       "    </g>\n",
       "    <g transform=\"translate(13.48,47.66)\" id=\"img-a109cf01-319\" visibility=\"hidden\" gadfly:scale=\"0.5\">\n",
       "      <g class=\"primitive\">\n",
       "        <text text-anchor=\"end\" dy=\"0.35em\">5</text>\n",
       "      </g>\n",
       "    </g>\n",
       "    <g transform=\"translate(13.48,-54)\" id=\"img-a109cf01-320\" visibility=\"hidden\" gadfly:scale=\"0.5\">\n",
       "      <g class=\"primitive\">\n",
       "        <text text-anchor=\"end\" dy=\"0.35em\">10</text>\n",
       "      </g>\n",
       "    </g>\n",
       "    <g transform=\"translate(13.48,-155.65)\" id=\"img-a109cf01-321\" visibility=\"hidden\" gadfly:scale=\"0.5\">\n",
       "      <g class=\"primitive\">\n",
       "        <text text-anchor=\"end\" dy=\"0.35em\">15</text>\n",
       "      </g>\n",
       "    </g>\n",
       "    <g transform=\"translate(13.48,169.65)\" id=\"img-a109cf01-322\" visibility=\"hidden\" gadfly:scale=\"5.0\">\n",
       "      <g class=\"primitive\">\n",
       "        <text text-anchor=\"end\" dy=\"0.35em\">-1.0</text>\n",
       "      </g>\n",
       "    </g>\n",
       "    <g transform=\"translate(13.48,159.49)\" id=\"img-a109cf01-323\" visibility=\"hidden\" gadfly:scale=\"5.0\">\n",
       "      <g class=\"primitive\">\n",
       "        <text text-anchor=\"end\" dy=\"0.35em\">-0.5</text>\n",
       "      </g>\n",
       "    </g>\n",
       "    <g transform=\"translate(13.48,149.32)\" id=\"img-a109cf01-324\" visibility=\"hidden\" gadfly:scale=\"5.0\">\n",
       "      <g class=\"primitive\">\n",
       "        <text text-anchor=\"end\" dy=\"0.35em\">0.0</text>\n",
       "      </g>\n",
       "    </g>\n",
       "    <g transform=\"translate(13.48,139.16)\" id=\"img-a109cf01-325\" visibility=\"hidden\" gadfly:scale=\"5.0\">\n",
       "      <g class=\"primitive\">\n",
       "        <text text-anchor=\"end\" dy=\"0.35em\">0.5</text>\n",
       "      </g>\n",
       "    </g>\n",
       "    <g transform=\"translate(13.48,128.99)\" id=\"img-a109cf01-326\" visibility=\"hidden\" gadfly:scale=\"5.0\">\n",
       "      <g class=\"primitive\">\n",
       "        <text text-anchor=\"end\" dy=\"0.35em\">1.0</text>\n",
       "      </g>\n",
       "    </g>\n",
       "    <g transform=\"translate(13.48,118.82)\" id=\"img-a109cf01-327\" visibility=\"hidden\" gadfly:scale=\"5.0\">\n",
       "      <g class=\"primitive\">\n",
       "        <text text-anchor=\"end\" dy=\"0.35em\">1.5</text>\n",
       "      </g>\n",
       "    </g>\n",
       "    <g transform=\"translate(13.48,108.66)\" id=\"img-a109cf01-328\" visibility=\"hidden\" gadfly:scale=\"5.0\">\n",
       "      <g class=\"primitive\">\n",
       "        <text text-anchor=\"end\" dy=\"0.35em\">2.0</text>\n",
       "      </g>\n",
       "    </g>\n",
       "    <g transform=\"translate(13.48,98.49)\" id=\"img-a109cf01-329\" visibility=\"hidden\" gadfly:scale=\"5.0\">\n",
       "      <g class=\"primitive\">\n",
       "        <text text-anchor=\"end\" dy=\"0.35em\">2.5</text>\n",
       "      </g>\n",
       "    </g>\n",
       "    <g transform=\"translate(13.48,88.33)\" id=\"img-a109cf01-330\" visibility=\"hidden\" gadfly:scale=\"5.0\">\n",
       "      <g class=\"primitive\">\n",
       "        <text text-anchor=\"end\" dy=\"0.35em\">3.0</text>\n",
       "      </g>\n",
       "    </g>\n",
       "    <g transform=\"translate(13.48,78.16)\" id=\"img-a109cf01-331\" visibility=\"hidden\" gadfly:scale=\"5.0\">\n",
       "      <g class=\"primitive\">\n",
       "        <text text-anchor=\"end\" dy=\"0.35em\">3.5</text>\n",
       "      </g>\n",
       "    </g>\n",
       "    <g transform=\"translate(13.48,68)\" id=\"img-a109cf01-332\" visibility=\"hidden\" gadfly:scale=\"5.0\">\n",
       "      <g class=\"primitive\">\n",
       "        <text text-anchor=\"end\" dy=\"0.35em\">4.0</text>\n",
       "      </g>\n",
       "    </g>\n",
       "    <g transform=\"translate(13.48,57.83)\" id=\"img-a109cf01-333\" visibility=\"hidden\" gadfly:scale=\"5.0\">\n",
       "      <g class=\"primitive\">\n",
       "        <text text-anchor=\"end\" dy=\"0.35em\">4.5</text>\n",
       "      </g>\n",
       "    </g>\n",
       "    <g transform=\"translate(13.48,47.66)\" id=\"img-a109cf01-334\" visibility=\"hidden\" gadfly:scale=\"5.0\">\n",
       "      <g class=\"primitive\">\n",
       "        <text text-anchor=\"end\" dy=\"0.35em\">5.0</text>\n",
       "      </g>\n",
       "    </g>\n",
       "    <g transform=\"translate(13.48,37.5)\" id=\"img-a109cf01-335\" visibility=\"hidden\" gadfly:scale=\"5.0\">\n",
       "      <g class=\"primitive\">\n",
       "        <text text-anchor=\"end\" dy=\"0.35em\">5.5</text>\n",
       "      </g>\n",
       "    </g>\n",
       "    <g transform=\"translate(13.48,27.33)\" id=\"img-a109cf01-336\" visibility=\"hidden\" gadfly:scale=\"5.0\">\n",
       "      <g class=\"primitive\">\n",
       "        <text text-anchor=\"end\" dy=\"0.35em\">6.0</text>\n",
       "      </g>\n",
       "    </g>\n",
       "    <g transform=\"translate(13.48,17.17)\" id=\"img-a109cf01-337\" visibility=\"hidden\" gadfly:scale=\"5.0\">\n",
       "      <g class=\"primitive\">\n",
       "        <text text-anchor=\"end\" dy=\"0.35em\">6.5</text>\n",
       "      </g>\n",
       "    </g>\n",
       "    <g transform=\"translate(13.48,7)\" id=\"img-a109cf01-338\" visibility=\"hidden\" gadfly:scale=\"5.0\">\n",
       "      <g class=\"primitive\">\n",
       "        <text text-anchor=\"end\" dy=\"0.35em\">7.0</text>\n",
       "      </g>\n",
       "    </g>\n",
       "    <g transform=\"translate(13.48,-3.17)\" id=\"img-a109cf01-339\" visibility=\"hidden\" gadfly:scale=\"5.0\">\n",
       "      <g class=\"primitive\">\n",
       "        <text text-anchor=\"end\" dy=\"0.35em\">7.5</text>\n",
       "      </g>\n",
       "    </g>\n",
       "    <g transform=\"translate(13.48,-13.33)\" id=\"img-a109cf01-340\" visibility=\"hidden\" gadfly:scale=\"5.0\">\n",
       "      <g class=\"primitive\">\n",
       "        <text text-anchor=\"end\" dy=\"0.35em\">8.0</text>\n",
       "      </g>\n",
       "    </g>\n",
       "    <g transform=\"translate(13.48,-23.5)\" id=\"img-a109cf01-341\" visibility=\"hidden\" gadfly:scale=\"5.0\">\n",
       "      <g class=\"primitive\">\n",
       "        <text text-anchor=\"end\" dy=\"0.35em\">8.5</text>\n",
       "      </g>\n",
       "    </g>\n",
       "    <g transform=\"translate(13.48,-33.66)\" id=\"img-a109cf01-342\" visibility=\"hidden\" gadfly:scale=\"5.0\">\n",
       "      <g class=\"primitive\">\n",
       "        <text text-anchor=\"end\" dy=\"0.35em\">9.0</text>\n",
       "      </g>\n",
       "    </g>\n",
       "    <g transform=\"translate(13.48,-43.83)\" id=\"img-a109cf01-343\" visibility=\"hidden\" gadfly:scale=\"5.0\">\n",
       "      <g class=\"primitive\">\n",
       "        <text text-anchor=\"end\" dy=\"0.35em\">9.5</text>\n",
       "      </g>\n",
       "    </g>\n",
       "    <g transform=\"translate(13.48,-54)\" id=\"img-a109cf01-344\" visibility=\"hidden\" gadfly:scale=\"5.0\">\n",
       "      <g class=\"primitive\">\n",
       "        <text text-anchor=\"end\" dy=\"0.35em\">10.0</text>\n",
       "      </g>\n",
       "    </g>\n",
       "    <g transform=\"translate(13.48,-64.16)\" id=\"img-a109cf01-345\" visibility=\"hidden\" gadfly:scale=\"5.0\">\n",
       "      <g class=\"primitive\">\n",
       "        <text text-anchor=\"end\" dy=\"0.35em\">10.5</text>\n",
       "      </g>\n",
       "    </g>\n",
       "    <g transform=\"translate(13.48,-74.33)\" id=\"img-a109cf01-346\" visibility=\"hidden\" gadfly:scale=\"5.0\">\n",
       "      <g class=\"primitive\">\n",
       "        <text text-anchor=\"end\" dy=\"0.35em\">11.0</text>\n",
       "      </g>\n",
       "    </g>\n",
       "  </g>\n",
       "  <g font-size=\"3.88\" font-family=\"'PT Sans','Helvetica Neue','Helvetica',sans-serif\" fill=\"#564A55\" stroke=\"#000000\" stroke-opacity=\"0.000\" id=\"img-a109cf01-347\">\n",
       "    <g transform=\"translate(8.81,47.66)\" id=\"img-a109cf01-348\">\n",
       "      <g class=\"primitive\">\n",
       "        <text text-anchor=\"end\" dy=\"0.35em\">y</text>\n",
       "      </g>\n",
       "    </g>\n",
       "  </g>\n",
       "</g>\n",
       "<defs>\n",
       "  <clipPath id=\"img-a109cf01-3\">\n",
       "    <path d=\"M14.48,5 L 136.42 5 136.42 90.33 14.48 90.33\" />\n",
       "  </clipPath>\n",
       "</defs>\n",
       "<script> <![CDATA[\n",
       "(function(N){var k=/[\\.\\/]/,L=/\\s*,\\s*/,C=function(a,d){return a-d},a,v,y={n:{}},M=function(){for(var a=0,d=this.length;a<d;a++)if(\"undefined\"!=typeof this[a])return this[a]},A=function(){for(var a=this.length;--a;)if(\"undefined\"!=typeof this[a])return this[a]},w=function(k,d){k=String(k);var f=v,n=Array.prototype.slice.call(arguments,2),u=w.listeners(k),p=0,b,q=[],e={},l=[],r=a;l.firstDefined=M;l.lastDefined=A;a=k;for(var s=v=0,x=u.length;s<x;s++)\"zIndex\"in u[s]&&(q.push(u[s].zIndex),0>u[s].zIndex&&\n",
       "(e[u[s].zIndex]=u[s]));for(q.sort(C);0>q[p];)if(b=e[q[p++] ],l.push(b.apply(d,n)),v)return v=f,l;for(s=0;s<x;s++)if(b=u[s],\"zIndex\"in b)if(b.zIndex==q[p]){l.push(b.apply(d,n));if(v)break;do if(p++,(b=e[q[p] ])&&l.push(b.apply(d,n)),v)break;while(b)}else e[b.zIndex]=b;else if(l.push(b.apply(d,n)),v)break;v=f;a=r;return l};w._events=y;w.listeners=function(a){a=a.split(k);var d=y,f,n,u,p,b,q,e,l=[d],r=[];u=0;for(p=a.length;u<p;u++){e=[];b=0;for(q=l.length;b<q;b++)for(d=l[b].n,f=[d[a[u] ],d[\"*\"] ],n=2;n--;)if(d=\n",
       "f[n])e.push(d),r=r.concat(d.f||[]);l=e}return r};w.on=function(a,d){a=String(a);if(\"function\"!=typeof d)return function(){};for(var f=a.split(L),n=0,u=f.length;n<u;n++)(function(a){a=a.split(k);for(var b=y,f,e=0,l=a.length;e<l;e++)b=b.n,b=b.hasOwnProperty(a[e])&&b[a[e] ]||(b[a[e] ]={n:{}});b.f=b.f||[];e=0;for(l=b.f.length;e<l;e++)if(b.f[e]==d){f=!0;break}!f&&b.f.push(d)})(f[n]);return function(a){+a==+a&&(d.zIndex=+a)}};w.f=function(a){var d=[].slice.call(arguments,1);return function(){w.apply(null,\n",
       "[a,null].concat(d).concat([].slice.call(arguments,0)))}};w.stop=function(){v=1};w.nt=function(k){return k?(new RegExp(\"(?:\\\\.|\\\\/|^)\"+k+\"(?:\\\\.|\\\\/|$)\")).test(a):a};w.nts=function(){return a.split(k)};w.off=w.unbind=function(a,d){if(a){var f=a.split(L);if(1<f.length)for(var n=0,u=f.length;n<u;n++)w.off(f[n],d);else{for(var f=a.split(k),p,b,q,e,l=[y],n=0,u=f.length;n<u;n++)for(e=0;e<l.length;e+=q.length-2){q=[e,1];p=l[e].n;if(\"*\"!=f[n])p[f[n] ]&&q.push(p[f[n] ]);else for(b in p)p.hasOwnProperty(b)&&\n",
       "q.push(p[b]);l.splice.apply(l,q)}n=0;for(u=l.length;n<u;n++)for(p=l[n];p.n;){if(d){if(p.f){e=0;for(f=p.f.length;e<f;e++)if(p.f[e]==d){p.f.splice(e,1);break}!p.f.length&&delete p.f}for(b in p.n)if(p.n.hasOwnProperty(b)&&p.n[b].f){q=p.n[b].f;e=0;for(f=q.length;e<f;e++)if(q[e]==d){q.splice(e,1);break}!q.length&&delete p.n[b].f}}else for(b in delete p.f,p.n)p.n.hasOwnProperty(b)&&p.n[b].f&&delete p.n[b].f;p=p.n}}}else w._events=y={n:{}}};w.once=function(a,d){var f=function(){w.unbind(a,f);return d.apply(this,\n",
       "arguments)};return w.on(a,f)};w.version=\"0.4.2\";w.toString=function(){return\"You are running Eve 0.4.2\"};\"undefined\"!=typeof module&&module.exports?module.exports=w:\"function\"===typeof define&&define.amd?define(\"eve\",[],function(){return w}):N.eve=w})(this);\n",
       "(function(N,k){\"function\"===typeof define&&define.amd?define(\"Snap.svg\",[\"eve\"],function(L){return k(N,L)}):k(N,N.eve)})(this,function(N,k){var L=function(a){var k={},y=N.requestAnimationFrame||N.webkitRequestAnimationFrame||N.mozRequestAnimationFrame||N.oRequestAnimationFrame||N.msRequestAnimationFrame||function(a){setTimeout(a,16)},M=Array.isArray||function(a){return a instanceof Array||\"[object Array]\"==Object.prototype.toString.call(a)},A=0,w=\"M\"+(+new Date).toString(36),z=function(a){if(null==\n",
       "a)return this.s;var b=this.s-a;this.b+=this.dur*b;this.B+=this.dur*b;this.s=a},d=function(a){if(null==a)return this.spd;this.spd=a},f=function(a){if(null==a)return this.dur;this.s=this.s*a/this.dur;this.dur=a},n=function(){delete k[this.id];this.update();a(\"mina.stop.\"+this.id,this)},u=function(){this.pdif||(delete k[this.id],this.update(),this.pdif=this.get()-this.b)},p=function(){this.pdif&&(this.b=this.get()-this.pdif,delete this.pdif,k[this.id]=this)},b=function(){var a;if(M(this.start)){a=[];\n",
       "for(var b=0,e=this.start.length;b<e;b++)a[b]=+this.start[b]+(this.end[b]-this.start[b])*this.easing(this.s)}else a=+this.start+(this.end-this.start)*this.easing(this.s);this.set(a)},q=function(){var l=0,b;for(b in k)if(k.hasOwnProperty(b)){var e=k[b],f=e.get();l++;e.s=(f-e.b)/(e.dur/e.spd);1<=e.s&&(delete k[b],e.s=1,l--,function(b){setTimeout(function(){a(\"mina.finish.\"+b.id,b)})}(e));e.update()}l&&y(q)},e=function(a,r,s,x,G,h,J){a={id:w+(A++).toString(36),start:a,end:r,b:s,s:0,dur:x-s,spd:1,get:G,\n",
       "set:h,easing:J||e.linear,status:z,speed:d,duration:f,stop:n,pause:u,resume:p,update:b};k[a.id]=a;r=0;for(var K in k)if(k.hasOwnProperty(K)&&(r++,2==r))break;1==r&&y(q);return a};e.time=Date.now||function(){return+new Date};e.getById=function(a){return k[a]||null};e.linear=function(a){return a};e.easeout=function(a){return Math.pow(a,1.7)};e.easein=function(a){return Math.pow(a,0.48)};e.easeinout=function(a){if(1==a)return 1;if(0==a)return 0;var b=0.48-a/1.04,e=Math.sqrt(0.1734+b*b);a=e-b;a=Math.pow(Math.abs(a),\n",
       "1/3)*(0>a?-1:1);b=-e-b;b=Math.pow(Math.abs(b),1/3)*(0>b?-1:1);a=a+b+0.5;return 3*(1-a)*a*a+a*a*a};e.backin=function(a){return 1==a?1:a*a*(2.70158*a-1.70158)};e.backout=function(a){if(0==a)return 0;a-=1;return a*a*(2.70158*a+1.70158)+1};e.elastic=function(a){return a==!!a?a:Math.pow(2,-10*a)*Math.sin(2*(a-0.075)*Math.PI/0.3)+1};e.bounce=function(a){a<1/2.75?a*=7.5625*a:a<2/2.75?(a-=1.5/2.75,a=7.5625*a*a+0.75):a<2.5/2.75?(a-=2.25/2.75,a=7.5625*a*a+0.9375):(a-=2.625/2.75,a=7.5625*a*a+0.984375);return a};\n",
       "return N.mina=e}(\"undefined\"==typeof k?function(){}:k),C=function(){function a(c,t){if(c){if(c.tagName)return x(c);if(y(c,\"array\")&&a.set)return a.set.apply(a,c);if(c instanceof e)return c;if(null==t)return c=G.doc.querySelector(c),x(c)}return new s(null==c?\"100%\":c,null==t?\"100%\":t)}function v(c,a){if(a){\"#text\"==c&&(c=G.doc.createTextNode(a.text||\"\"));\"string\"==typeof c&&(c=v(c));if(\"string\"==typeof a)return\"xlink:\"==a.substring(0,6)?c.getAttributeNS(m,a.substring(6)):\"xml:\"==a.substring(0,4)?c.getAttributeNS(la,\n",
       "a.substring(4)):c.getAttribute(a);for(var da in a)if(a[h](da)){var b=J(a[da]);b?\"xlink:\"==da.substring(0,6)?c.setAttributeNS(m,da.substring(6),b):\"xml:\"==da.substring(0,4)?c.setAttributeNS(la,da.substring(4),b):c.setAttribute(da,b):c.removeAttribute(da)}}else c=G.doc.createElementNS(la,c);return c}function y(c,a){a=J.prototype.toLowerCase.call(a);return\"finite\"==a?isFinite(c):\"array\"==a&&(c instanceof Array||Array.isArray&&Array.isArray(c))?!0:\"null\"==a&&null===c||a==typeof c&&null!==c||\"object\"==\n",
       "a&&c===Object(c)||$.call(c).slice(8,-1).toLowerCase()==a}function M(c){if(\"function\"==typeof c||Object(c)!==c)return c;var a=new c.constructor,b;for(b in c)c[h](b)&&(a[b]=M(c[b]));return a}function A(c,a,b){function m(){var e=Array.prototype.slice.call(arguments,0),f=e.join(\"\\u2400\"),d=m.cache=m.cache||{},l=m.count=m.count||[];if(d[h](f)){a:for(var e=l,l=f,B=0,H=e.length;B<H;B++)if(e[B]===l){e.push(e.splice(B,1)[0]);break a}return b?b(d[f]):d[f]}1E3<=l.length&&delete d[l.shift()];l.push(f);d[f]=c.apply(a,\n",
       "e);return b?b(d[f]):d[f]}return m}function w(c,a,b,m,e,f){return null==e?(c-=b,a-=m,c||a?(180*I.atan2(-a,-c)/C+540)%360:0):w(c,a,e,f)-w(b,m,e,f)}function z(c){return c%360*C/180}function d(c){var a=[];c=c.replace(/(?:^|\\s)(\\w+)\\(([^)]+)\\)/g,function(c,b,m){m=m.split(/\\s*,\\s*|\\s+/);\"rotate\"==b&&1==m.length&&m.push(0,0);\"scale\"==b&&(2<m.length?m=m.slice(0,2):2==m.length&&m.push(0,0),1==m.length&&m.push(m[0],0,0));\"skewX\"==b?a.push([\"m\",1,0,I.tan(z(m[0])),1,0,0]):\"skewY\"==b?a.push([\"m\",1,I.tan(z(m[0])),\n",
       "0,1,0,0]):a.push([b.charAt(0)].concat(m));return c});return a}function f(c,t){var b=O(c),m=new a.Matrix;if(b)for(var e=0,f=b.length;e<f;e++){var h=b[e],d=h.length,B=J(h[0]).toLowerCase(),H=h[0]!=B,l=H?m.invert():0,E;\"t\"==B&&2==d?m.translate(h[1],0):\"t\"==B&&3==d?H?(d=l.x(0,0),B=l.y(0,0),H=l.x(h[1],h[2]),l=l.y(h[1],h[2]),m.translate(H-d,l-B)):m.translate(h[1],h[2]):\"r\"==B?2==d?(E=E||t,m.rotate(h[1],E.x+E.width/2,E.y+E.height/2)):4==d&&(H?(H=l.x(h[2],h[3]),l=l.y(h[2],h[3]),m.rotate(h[1],H,l)):m.rotate(h[1],\n",
       "h[2],h[3])):\"s\"==B?2==d||3==d?(E=E||t,m.scale(h[1],h[d-1],E.x+E.width/2,E.y+E.height/2)):4==d?H?(H=l.x(h[2],h[3]),l=l.y(h[2],h[3]),m.scale(h[1],h[1],H,l)):m.scale(h[1],h[1],h[2],h[3]):5==d&&(H?(H=l.x(h[3],h[4]),l=l.y(h[3],h[4]),m.scale(h[1],h[2],H,l)):m.scale(h[1],h[2],h[3],h[4])):\"m\"==B&&7==d&&m.add(h[1],h[2],h[3],h[4],h[5],h[6])}return m}function n(c,t){if(null==t){var m=!0;t=\"linearGradient\"==c.type||\"radialGradient\"==c.type?c.node.getAttribute(\"gradientTransform\"):\"pattern\"==c.type?c.node.getAttribute(\"patternTransform\"):\n",
       "c.node.getAttribute(\"transform\");if(!t)return new a.Matrix;t=d(t)}else t=a._.rgTransform.test(t)?J(t).replace(/\\.{3}|\\u2026/g,c._.transform||aa):d(t),y(t,\"array\")&&(t=a.path?a.path.toString.call(t):J(t)),c._.transform=t;var b=f(t,c.getBBox(1));if(m)return b;c.matrix=b}function u(c){c=c.node.ownerSVGElement&&x(c.node.ownerSVGElement)||c.node.parentNode&&x(c.node.parentNode)||a.select(\"svg\")||a(0,0);var t=c.select(\"defs\"),t=null==t?!1:t.node;t||(t=r(\"defs\",c.node).node);return t}function p(c){return c.node.ownerSVGElement&&\n",
       "x(c.node.ownerSVGElement)||a.select(\"svg\")}function b(c,a,m){function b(c){if(null==c)return aa;if(c==+c)return c;v(B,{width:c});try{return B.getBBox().width}catch(a){return 0}}function h(c){if(null==c)return aa;if(c==+c)return c;v(B,{height:c});try{return B.getBBox().height}catch(a){return 0}}function e(b,B){null==a?d[b]=B(c.attr(b)||0):b==a&&(d=B(null==m?c.attr(b)||0:m))}var f=p(c).node,d={},B=f.querySelector(\".svg---mgr\");B||(B=v(\"rect\"),v(B,{x:-9E9,y:-9E9,width:10,height:10,\"class\":\"svg---mgr\",\n",
       "fill:\"none\"}),f.appendChild(B));switch(c.type){case \"rect\":e(\"rx\",b),e(\"ry\",h);case \"image\":e(\"width\",b),e(\"height\",h);case \"text\":e(\"x\",b);e(\"y\",h);break;case \"circle\":e(\"cx\",b);e(\"cy\",h);e(\"r\",b);break;case \"ellipse\":e(\"cx\",b);e(\"cy\",h);e(\"rx\",b);e(\"ry\",h);break;case \"line\":e(\"x1\",b);e(\"x2\",b);e(\"y1\",h);e(\"y2\",h);break;case \"marker\":e(\"refX\",b);e(\"markerWidth\",b);e(\"refY\",h);e(\"markerHeight\",h);break;case \"radialGradient\":e(\"fx\",b);e(\"fy\",h);break;case \"tspan\":e(\"dx\",b);e(\"dy\",h);break;default:e(a,\n",
       "b)}f.removeChild(B);return d}function q(c){y(c,\"array\")||(c=Array.prototype.slice.call(arguments,0));for(var a=0,b=0,m=this.node;this[a];)delete this[a++];for(a=0;a<c.length;a++)\"set\"==c[a].type?c[a].forEach(function(c){m.appendChild(c.node)}):m.appendChild(c[a].node);for(var h=m.childNodes,a=0;a<h.length;a++)this[b++]=x(h[a]);return this}function e(c){if(c.snap in E)return E[c.snap];var a=this.id=V(),b;try{b=c.ownerSVGElement}catch(m){}this.node=c;b&&(this.paper=new s(b));this.type=c.tagName;this.anims=\n",
       "{};this._={transform:[]};c.snap=a;E[a]=this;\"g\"==this.type&&(this.add=q);if(this.type in{g:1,mask:1,pattern:1})for(var e in s.prototype)s.prototype[h](e)&&(this[e]=s.prototype[e])}function l(c){this.node=c}function r(c,a){var b=v(c);a.appendChild(b);return x(b)}function s(c,a){var b,m,f,d=s.prototype;if(c&&\"svg\"==c.tagName){if(c.snap in E)return E[c.snap];var l=c.ownerDocument;b=new e(c);m=c.getElementsByTagName(\"desc\")[0];f=c.getElementsByTagName(\"defs\")[0];m||(m=v(\"desc\"),m.appendChild(l.createTextNode(\"Created with Snap\")),\n",
       "b.node.appendChild(m));f||(f=v(\"defs\"),b.node.appendChild(f));b.defs=f;for(var ca in d)d[h](ca)&&(b[ca]=d[ca]);b.paper=b.root=b}else b=r(\"svg\",G.doc.body),v(b.node,{height:a,version:1.1,width:c,xmlns:la});return b}function x(c){return!c||c instanceof e||c instanceof l?c:c.tagName&&\"svg\"==c.tagName.toLowerCase()?new s(c):c.tagName&&\"object\"==c.tagName.toLowerCase()&&\"image/svg+xml\"==c.type?new s(c.contentDocument.getElementsByTagName(\"svg\")[0]):new e(c)}a.version=\"0.3.0\";a.toString=function(){return\"Snap v\"+\n",
       "this.version};a._={};var G={win:N,doc:N.document};a._.glob=G;var h=\"hasOwnProperty\",J=String,K=parseFloat,U=parseInt,I=Math,P=I.max,Q=I.min,Y=I.abs,C=I.PI,aa=\"\",$=Object.prototype.toString,F=/^\\s*((#[a-f\\d]{6})|(#[a-f\\d]{3})|rgba?\\(\\s*([\\d\\.]+%?\\s*,\\s*[\\d\\.]+%?\\s*,\\s*[\\d\\.]+%?(?:\\s*,\\s*[\\d\\.]+%?)?)\\s*\\)|hsba?\\(\\s*([\\d\\.]+(?:deg|\\xb0|%)?\\s*,\\s*[\\d\\.]+%?\\s*,\\s*[\\d\\.]+(?:%?\\s*,\\s*[\\d\\.]+)?%?)\\s*\\)|hsla?\\(\\s*([\\d\\.]+(?:deg|\\xb0|%)?\\s*,\\s*[\\d\\.]+%?\\s*,\\s*[\\d\\.]+(?:%?\\s*,\\s*[\\d\\.]+)?%?)\\s*\\))\\s*$/i;a._.separator=\n",
       "RegExp(\"[,\\t\\n\\x0B\\f\\r \\u00a0\\u1680\\u180e\\u2000\\u2001\\u2002\\u2003\\u2004\\u2005\\u2006\\u2007\\u2008\\u2009\\u200a\\u202f\\u205f\\u3000\\u2028\\u2029]+\");var S=RegExp(\"[\\t\\n\\x0B\\f\\r \\u00a0\\u1680\\u180e\\u2000\\u2001\\u2002\\u2003\\u2004\\u2005\\u2006\\u2007\\u2008\\u2009\\u200a\\u202f\\u205f\\u3000\\u2028\\u2029]*,[\\t\\n\\x0B\\f\\r \\u00a0\\u1680\\u180e\\u2000\\u2001\\u2002\\u2003\\u2004\\u2005\\u2006\\u2007\\u2008\\u2009\\u200a\\u202f\\u205f\\u3000\\u2028\\u2029]*\"),X={hs:1,rg:1},W=RegExp(\"([a-z])[\\t\\n\\x0B\\f\\r \\u00a0\\u1680\\u180e\\u2000\\u2001\\u2002\\u2003\\u2004\\u2005\\u2006\\u2007\\u2008\\u2009\\u200a\\u202f\\u205f\\u3000\\u2028\\u2029,]*((-?\\\\d*\\\\.?\\\\d*(?:e[\\\\-+]?\\\\d+)?[\\t\\n\\x0B\\f\\r \\u00a0\\u1680\\u180e\\u2000\\u2001\\u2002\\u2003\\u2004\\u2005\\u2006\\u2007\\u2008\\u2009\\u200a\\u202f\\u205f\\u3000\\u2028\\u2029]*,?[\\t\\n\\x0B\\f\\r \\u00a0\\u1680\\u180e\\u2000\\u2001\\u2002\\u2003\\u2004\\u2005\\u2006\\u2007\\u2008\\u2009\\u200a\\u202f\\u205f\\u3000\\u2028\\u2029]*)+)\",\n",
       "\"ig\"),ma=RegExp(\"([rstm])[\\t\\n\\x0B\\f\\r \\u00a0\\u1680\\u180e\\u2000\\u2001\\u2002\\u2003\\u2004\\u2005\\u2006\\u2007\\u2008\\u2009\\u200a\\u202f\\u205f\\u3000\\u2028\\u2029,]*((-?\\\\d*\\\\.?\\\\d*(?:e[\\\\-+]?\\\\d+)?[\\t\\n\\x0B\\f\\r \\u00a0\\u1680\\u180e\\u2000\\u2001\\u2002\\u2003\\u2004\\u2005\\u2006\\u2007\\u2008\\u2009\\u200a\\u202f\\u205f\\u3000\\u2028\\u2029]*,?[\\t\\n\\x0B\\f\\r \\u00a0\\u1680\\u180e\\u2000\\u2001\\u2002\\u2003\\u2004\\u2005\\u2006\\u2007\\u2008\\u2009\\u200a\\u202f\\u205f\\u3000\\u2028\\u2029]*)+)\",\"ig\"),Z=RegExp(\"(-?\\\\d*\\\\.?\\\\d*(?:e[\\\\-+]?\\\\d+)?)[\\t\\n\\x0B\\f\\r \\u00a0\\u1680\\u180e\\u2000\\u2001\\u2002\\u2003\\u2004\\u2005\\u2006\\u2007\\u2008\\u2009\\u200a\\u202f\\u205f\\u3000\\u2028\\u2029]*,?[\\t\\n\\x0B\\f\\r \\u00a0\\u1680\\u180e\\u2000\\u2001\\u2002\\u2003\\u2004\\u2005\\u2006\\u2007\\u2008\\u2009\\u200a\\u202f\\u205f\\u3000\\u2028\\u2029]*\",\n",
       "\"ig\"),na=0,ba=\"S\"+(+new Date).toString(36),V=function(){return ba+(na++).toString(36)},m=\"http://www.w3.org/1999/xlink\",la=\"http://www.w3.org/2000/svg\",E={},ca=a.url=function(c){return\"url('#\"+c+\"')\"};a._.$=v;a._.id=V;a.format=function(){var c=/\\{([^\\}]+)\\}/g,a=/(?:(?:^|\\.)(.+?)(?=\\[|\\.|$|\\()|\\[('|\")(.+?)\\2\\])(\\(\\))?/g,b=function(c,b,m){var h=m;b.replace(a,function(c,a,b,m,t){a=a||m;h&&(a in h&&(h=h[a]),\"function\"==typeof h&&t&&(h=h()))});return h=(null==h||h==m?c:h)+\"\"};return function(a,m){return J(a).replace(c,\n",
       "function(c,a){return b(c,a,m)})}}();a._.clone=M;a._.cacher=A;a.rad=z;a.deg=function(c){return 180*c/C%360};a.angle=w;a.is=y;a.snapTo=function(c,a,b){b=y(b,\"finite\")?b:10;if(y(c,\"array\"))for(var m=c.length;m--;){if(Y(c[m]-a)<=b)return c[m]}else{c=+c;m=a%c;if(m<b)return a-m;if(m>c-b)return a-m+c}return a};a.getRGB=A(function(c){if(!c||(c=J(c)).indexOf(\"-\")+1)return{r:-1,g:-1,b:-1,hex:\"none\",error:1,toString:ka};if(\"none\"==c)return{r:-1,g:-1,b:-1,hex:\"none\",toString:ka};!X[h](c.toLowerCase().substring(0,\n",
       "2))&&\"#\"!=c.charAt()&&(c=T(c));if(!c)return{r:-1,g:-1,b:-1,hex:\"none\",error:1,toString:ka};var b,m,e,f,d;if(c=c.match(F)){c[2]&&(e=U(c[2].substring(5),16),m=U(c[2].substring(3,5),16),b=U(c[2].substring(1,3),16));c[3]&&(e=U((d=c[3].charAt(3))+d,16),m=U((d=c[3].charAt(2))+d,16),b=U((d=c[3].charAt(1))+d,16));c[4]&&(d=c[4].split(S),b=K(d[0]),\"%\"==d[0].slice(-1)&&(b*=2.55),m=K(d[1]),\"%\"==d[1].slice(-1)&&(m*=2.55),e=K(d[2]),\"%\"==d[2].slice(-1)&&(e*=2.55),\"rgba\"==c[1].toLowerCase().slice(0,4)&&(f=K(d[3])),\n",
       "d[3]&&\"%\"==d[3].slice(-1)&&(f/=100));if(c[5])return d=c[5].split(S),b=K(d[0]),\"%\"==d[0].slice(-1)&&(b/=100),m=K(d[1]),\"%\"==d[1].slice(-1)&&(m/=100),e=K(d[2]),\"%\"==d[2].slice(-1)&&(e/=100),\"deg\"!=d[0].slice(-3)&&\"\\u00b0\"!=d[0].slice(-1)||(b/=360),\"hsba\"==c[1].toLowerCase().slice(0,4)&&(f=K(d[3])),d[3]&&\"%\"==d[3].slice(-1)&&(f/=100),a.hsb2rgb(b,m,e,f);if(c[6])return d=c[6].split(S),b=K(d[0]),\"%\"==d[0].slice(-1)&&(b/=100),m=K(d[1]),\"%\"==d[1].slice(-1)&&(m/=100),e=K(d[2]),\"%\"==d[2].slice(-1)&&(e/=100),\n",
       "\"deg\"!=d[0].slice(-3)&&\"\\u00b0\"!=d[0].slice(-1)||(b/=360),\"hsla\"==c[1].toLowerCase().slice(0,4)&&(f=K(d[3])),d[3]&&\"%\"==d[3].slice(-1)&&(f/=100),a.hsl2rgb(b,m,e,f);b=Q(I.round(b),255);m=Q(I.round(m),255);e=Q(I.round(e),255);f=Q(P(f,0),1);c={r:b,g:m,b:e,toString:ka};c.hex=\"#\"+(16777216|e|m<<8|b<<16).toString(16).slice(1);c.opacity=y(f,\"finite\")?f:1;return c}return{r:-1,g:-1,b:-1,hex:\"none\",error:1,toString:ka}},a);a.hsb=A(function(c,b,m){return a.hsb2rgb(c,b,m).hex});a.hsl=A(function(c,b,m){return a.hsl2rgb(c,\n",
       "b,m).hex});a.rgb=A(function(c,a,b,m){if(y(m,\"finite\")){var e=I.round;return\"rgba(\"+[e(c),e(a),e(b),+m.toFixed(2)]+\")\"}return\"#\"+(16777216|b|a<<8|c<<16).toString(16).slice(1)});var T=function(c){var a=G.doc.getElementsByTagName(\"head\")[0]||G.doc.getElementsByTagName(\"svg\")[0];T=A(function(c){if(\"red\"==c.toLowerCase())return\"rgb(255, 0, 0)\";a.style.color=\"rgb(255, 0, 0)\";a.style.color=c;c=G.doc.defaultView.getComputedStyle(a,aa).getPropertyValue(\"color\");return\"rgb(255, 0, 0)\"==c?null:c});return T(c)},\n",
       "qa=function(){return\"hsb(\"+[this.h,this.s,this.b]+\")\"},ra=function(){return\"hsl(\"+[this.h,this.s,this.l]+\")\"},ka=function(){return 1==this.opacity||null==this.opacity?this.hex:\"rgba(\"+[this.r,this.g,this.b,this.opacity]+\")\"},D=function(c,b,m){null==b&&y(c,\"object\")&&\"r\"in c&&\"g\"in c&&\"b\"in c&&(m=c.b,b=c.g,c=c.r);null==b&&y(c,string)&&(m=a.getRGB(c),c=m.r,b=m.g,m=m.b);if(1<c||1<b||1<m)c/=255,b/=255,m/=255;return[c,b,m]},oa=function(c,b,m,e){c=I.round(255*c);b=I.round(255*b);m=I.round(255*m);c={r:c,\n",
       "g:b,b:m,opacity:y(e,\"finite\")?e:1,hex:a.rgb(c,b,m),toString:ka};y(e,\"finite\")&&(c.opacity=e);return c};a.color=function(c){var b;y(c,\"object\")&&\"h\"in c&&\"s\"in c&&\"b\"in c?(b=a.hsb2rgb(c),c.r=b.r,c.g=b.g,c.b=b.b,c.opacity=1,c.hex=b.hex):y(c,\"object\")&&\"h\"in c&&\"s\"in c&&\"l\"in c?(b=a.hsl2rgb(c),c.r=b.r,c.g=b.g,c.b=b.b,c.opacity=1,c.hex=b.hex):(y(c,\"string\")&&(c=a.getRGB(c)),y(c,\"object\")&&\"r\"in c&&\"g\"in c&&\"b\"in c&&!(\"error\"in c)?(b=a.rgb2hsl(c),c.h=b.h,c.s=b.s,c.l=b.l,b=a.rgb2hsb(c),c.v=b.b):(c={hex:\"none\"},\n",
       "c.r=c.g=c.b=c.h=c.s=c.v=c.l=-1,c.error=1));c.toString=ka;return c};a.hsb2rgb=function(c,a,b,m){y(c,\"object\")&&\"h\"in c&&\"s\"in c&&\"b\"in c&&(b=c.b,a=c.s,c=c.h,m=c.o);var e,h,d;c=360*c%360/60;d=b*a;a=d*(1-Y(c%2-1));b=e=h=b-d;c=~~c;b+=[d,a,0,0,a,d][c];e+=[a,d,d,a,0,0][c];h+=[0,0,a,d,d,a][c];return oa(b,e,h,m)};a.hsl2rgb=function(c,a,b,m){y(c,\"object\")&&\"h\"in c&&\"s\"in c&&\"l\"in c&&(b=c.l,a=c.s,c=c.h);if(1<c||1<a||1<b)c/=360,a/=100,b/=100;var e,h,d;c=360*c%360/60;d=2*a*(0.5>b?b:1-b);a=d*(1-Y(c%2-1));b=e=\n",
       "h=b-d/2;c=~~c;b+=[d,a,0,0,a,d][c];e+=[a,d,d,a,0,0][c];h+=[0,0,a,d,d,a][c];return oa(b,e,h,m)};a.rgb2hsb=function(c,a,b){b=D(c,a,b);c=b[0];a=b[1];b=b[2];var m,e;m=P(c,a,b);e=m-Q(c,a,b);c=((0==e?0:m==c?(a-b)/e:m==a?(b-c)/e+2:(c-a)/e+4)+360)%6*60/360;return{h:c,s:0==e?0:e/m,b:m,toString:qa}};a.rgb2hsl=function(c,a,b){b=D(c,a,b);c=b[0];a=b[1];b=b[2];var m,e,h;m=P(c,a,b);e=Q(c,a,b);h=m-e;c=((0==h?0:m==c?(a-b)/h:m==a?(b-c)/h+2:(c-a)/h+4)+360)%6*60/360;m=(m+e)/2;return{h:c,s:0==h?0:0.5>m?h/(2*m):h/(2-2*\n",
       "m),l:m,toString:ra}};a.parsePathString=function(c){if(!c)return null;var b=a.path(c);if(b.arr)return a.path.clone(b.arr);var m={a:7,c:6,o:2,h:1,l:2,m:2,r:4,q:4,s:4,t:2,v:1,u:3,z:0},e=[];y(c,\"array\")&&y(c[0],\"array\")&&(e=a.path.clone(c));e.length||J(c).replace(W,function(c,a,b){var h=[];c=a.toLowerCase();b.replace(Z,function(c,a){a&&h.push(+a)});\"m\"==c&&2<h.length&&(e.push([a].concat(h.splice(0,2))),c=\"l\",a=\"m\"==a?\"l\":\"L\");\"o\"==c&&1==h.length&&e.push([a,h[0] ]);if(\"r\"==c)e.push([a].concat(h));else for(;h.length>=\n",
       "m[c]&&(e.push([a].concat(h.splice(0,m[c]))),m[c]););});e.toString=a.path.toString;b.arr=a.path.clone(e);return e};var O=a.parseTransformString=function(c){if(!c)return null;var b=[];y(c,\"array\")&&y(c[0],\"array\")&&(b=a.path.clone(c));b.length||J(c).replace(ma,function(c,a,m){var e=[];a.toLowerCase();m.replace(Z,function(c,a){a&&e.push(+a)});b.push([a].concat(e))});b.toString=a.path.toString;return b};a._.svgTransform2string=d;a._.rgTransform=RegExp(\"^[a-z][\\t\\n\\x0B\\f\\r \\u00a0\\u1680\\u180e\\u2000\\u2001\\u2002\\u2003\\u2004\\u2005\\u2006\\u2007\\u2008\\u2009\\u200a\\u202f\\u205f\\u3000\\u2028\\u2029]*-?\\\\.?\\\\d\",\n",
       "\"i\");a._.transform2matrix=f;a._unit2px=b;a._.getSomeDefs=u;a._.getSomeSVG=p;a.select=function(c){return x(G.doc.querySelector(c))};a.selectAll=function(c){c=G.doc.querySelectorAll(c);for(var b=(a.set||Array)(),m=0;m<c.length;m++)b.push(x(c[m]));return b};setInterval(function(){for(var c in E)if(E[h](c)){var a=E[c],b=a.node;(\"svg\"!=a.type&&!b.ownerSVGElement||\"svg\"==a.type&&(!b.parentNode||\"ownerSVGElement\"in b.parentNode&&!b.ownerSVGElement))&&delete E[c]}},1E4);(function(c){function m(c){function a(c,\n",
       "b){var m=v(c.node,b);(m=(m=m&&m.match(d))&&m[2])&&\"#\"==m.charAt()&&(m=m.substring(1))&&(f[m]=(f[m]||[]).concat(function(a){var m={};m[b]=ca(a);v(c.node,m)}))}function b(c){var a=v(c.node,\"xlink:href\");a&&\"#\"==a.charAt()&&(a=a.substring(1))&&(f[a]=(f[a]||[]).concat(function(a){c.attr(\"xlink:href\",\"#\"+a)}))}var e=c.selectAll(\"*\"),h,d=/^\\s*url\\((\"|'|)(.*)\\1\\)\\s*$/;c=[];for(var f={},l=0,E=e.length;l<E;l++){h=e[l];a(h,\"fill\");a(h,\"stroke\");a(h,\"filter\");a(h,\"mask\");a(h,\"clip-path\");b(h);var t=v(h.node,\n",
       "\"id\");t&&(v(h.node,{id:h.id}),c.push({old:t,id:h.id}))}l=0;for(E=c.length;l<E;l++)if(e=f[c[l].old])for(h=0,t=e.length;h<t;h++)e[h](c[l].id)}function e(c,a,b){return function(m){m=m.slice(c,a);1==m.length&&(m=m[0]);return b?b(m):m}}function d(c){return function(){var a=c?\"<\"+this.type:\"\",b=this.node.attributes,m=this.node.childNodes;if(c)for(var e=0,h=b.length;e<h;e++)a+=\" \"+b[e].name+'=\"'+b[e].value.replace(/\"/g,'\\\\\"')+'\"';if(m.length){c&&(a+=\">\");e=0;for(h=m.length;e<h;e++)3==m[e].nodeType?a+=m[e].nodeValue:\n",
       "1==m[e].nodeType&&(a+=x(m[e]).toString());c&&(a+=\"</\"+this.type+\">\")}else c&&(a+=\"/>\");return a}}c.attr=function(c,a){if(!c)return this;if(y(c,\"string\"))if(1<arguments.length){var b={};b[c]=a;c=b}else return k(\"snap.util.getattr.\"+c,this).firstDefined();for(var m in c)c[h](m)&&k(\"snap.util.attr.\"+m,this,c[m]);return this};c.getBBox=function(c){if(!a.Matrix||!a.path)return this.node.getBBox();var b=this,m=new a.Matrix;if(b.removed)return a._.box();for(;\"use\"==b.type;)if(c||(m=m.add(b.transform().localMatrix.translate(b.attr(\"x\")||\n",
       "0,b.attr(\"y\")||0))),b.original)b=b.original;else var e=b.attr(\"xlink:href\"),b=b.original=b.node.ownerDocument.getElementById(e.substring(e.indexOf(\"#\")+1));var e=b._,h=a.path.get[b.type]||a.path.get.deflt;try{if(c)return e.bboxwt=h?a.path.getBBox(b.realPath=h(b)):a._.box(b.node.getBBox()),a._.box(e.bboxwt);b.realPath=h(b);b.matrix=b.transform().localMatrix;e.bbox=a.path.getBBox(a.path.map(b.realPath,m.add(b.matrix)));return a._.box(e.bbox)}catch(d){return a._.box()}};var f=function(){return this.string};\n",
       "c.transform=function(c){var b=this._;if(null==c){var m=this;c=new a.Matrix(this.node.getCTM());for(var e=n(this),h=[e],d=new a.Matrix,l=e.toTransformString(),b=J(e)==J(this.matrix)?J(b.transform):l;\"svg\"!=m.type&&(m=m.parent());)h.push(n(m));for(m=h.length;m--;)d.add(h[m]);return{string:b,globalMatrix:c,totalMatrix:d,localMatrix:e,diffMatrix:c.clone().add(e.invert()),global:c.toTransformString(),total:d.toTransformString(),local:l,toString:f}}c instanceof a.Matrix?this.matrix=c:n(this,c);this.node&&\n",
       "(\"linearGradient\"==this.type||\"radialGradient\"==this.type?v(this.node,{gradientTransform:this.matrix}):\"pattern\"==this.type?v(this.node,{patternTransform:this.matrix}):v(this.node,{transform:this.matrix}));return this};c.parent=function(){return x(this.node.parentNode)};c.append=c.add=function(c){if(c){if(\"set\"==c.type){var a=this;c.forEach(function(c){a.add(c)});return this}c=x(c);this.node.appendChild(c.node);c.paper=this.paper}return this};c.appendTo=function(c){c&&(c=x(c),c.append(this));return this};\n",
       "c.prepend=function(c){if(c){if(\"set\"==c.type){var a=this,b;c.forEach(function(c){b?b.after(c):a.prepend(c);b=c});return this}c=x(c);var m=c.parent();this.node.insertBefore(c.node,this.node.firstChild);this.add&&this.add();c.paper=this.paper;this.parent()&&this.parent().add();m&&m.add()}return this};c.prependTo=function(c){c=x(c);c.prepend(this);return this};c.before=function(c){if(\"set\"==c.type){var a=this;c.forEach(function(c){var b=c.parent();a.node.parentNode.insertBefore(c.node,a.node);b&&b.add()});\n",
       "this.parent().add();return this}c=x(c);var b=c.parent();this.node.parentNode.insertBefore(c.node,this.node);this.parent()&&this.parent().add();b&&b.add();c.paper=this.paper;return this};c.after=function(c){c=x(c);var a=c.parent();this.node.nextSibling?this.node.parentNode.insertBefore(c.node,this.node.nextSibling):this.node.parentNode.appendChild(c.node);this.parent()&&this.parent().add();a&&a.add();c.paper=this.paper;return this};c.insertBefore=function(c){c=x(c);var a=this.parent();c.node.parentNode.insertBefore(this.node,\n",
       "c.node);this.paper=c.paper;a&&a.add();c.parent()&&c.parent().add();return this};c.insertAfter=function(c){c=x(c);var a=this.parent();c.node.parentNode.insertBefore(this.node,c.node.nextSibling);this.paper=c.paper;a&&a.add();c.parent()&&c.parent().add();return this};c.remove=function(){var c=this.parent();this.node.parentNode&&this.node.parentNode.removeChild(this.node);delete this.paper;this.removed=!0;c&&c.add();return this};c.select=function(c){return x(this.node.querySelector(c))};c.selectAll=\n",
       "function(c){c=this.node.querySelectorAll(c);for(var b=(a.set||Array)(),m=0;m<c.length;m++)b.push(x(c[m]));return b};c.asPX=function(c,a){null==a&&(a=this.attr(c));return+b(this,c,a)};c.use=function(){var c,a=this.node.id;a||(a=this.id,v(this.node,{id:a}));c=\"linearGradient\"==this.type||\"radialGradient\"==this.type||\"pattern\"==this.type?r(this.type,this.node.parentNode):r(\"use\",this.node.parentNode);v(c.node,{\"xlink:href\":\"#\"+a});c.original=this;return c};var l=/\\S+/g;c.addClass=function(c){var a=(c||\n",
       "\"\").match(l)||[];c=this.node;var b=c.className.baseVal,m=b.match(l)||[],e,h,d;if(a.length){for(e=0;d=a[e++];)h=m.indexOf(d),~h||m.push(d);a=m.join(\" \");b!=a&&(c.className.baseVal=a)}return this};c.removeClass=function(c){var a=(c||\"\").match(l)||[];c=this.node;var b=c.className.baseVal,m=b.match(l)||[],e,h;if(m.length){for(e=0;h=a[e++];)h=m.indexOf(h),~h&&m.splice(h,1);a=m.join(\" \");b!=a&&(c.className.baseVal=a)}return this};c.hasClass=function(c){return!!~(this.node.className.baseVal.match(l)||[]).indexOf(c)};\n",
       "c.toggleClass=function(c,a){if(null!=a)return a?this.addClass(c):this.removeClass(c);var b=(c||\"\").match(l)||[],m=this.node,e=m.className.baseVal,h=e.match(l)||[],d,f,E;for(d=0;E=b[d++];)f=h.indexOf(E),~f?h.splice(f,1):h.push(E);b=h.join(\" \");e!=b&&(m.className.baseVal=b);return this};c.clone=function(){var c=x(this.node.cloneNode(!0));v(c.node,\"id\")&&v(c.node,{id:c.id});m(c);c.insertAfter(this);return c};c.toDefs=function(){u(this).appendChild(this.node);return this};c.pattern=c.toPattern=function(c,\n",
       "a,b,m){var e=r(\"pattern\",u(this));null==c&&(c=this.getBBox());y(c,\"object\")&&\"x\"in c&&(a=c.y,b=c.width,m=c.height,c=c.x);v(e.node,{x:c,y:a,width:b,height:m,patternUnits:\"userSpaceOnUse\",id:e.id,viewBox:[c,a,b,m].join(\" \")});e.node.appendChild(this.node);return e};c.marker=function(c,a,b,m,e,h){var d=r(\"marker\",u(this));null==c&&(c=this.getBBox());y(c,\"object\")&&\"x\"in c&&(a=c.y,b=c.width,m=c.height,e=c.refX||c.cx,h=c.refY||c.cy,c=c.x);v(d.node,{viewBox:[c,a,b,m].join(\" \"),markerWidth:b,markerHeight:m,\n",
       "orient:\"auto\",refX:e||0,refY:h||0,id:d.id});d.node.appendChild(this.node);return d};var E=function(c,a,b,m){\"function\"!=typeof b||b.length||(m=b,b=L.linear);this.attr=c;this.dur=a;b&&(this.easing=b);m&&(this.callback=m)};a._.Animation=E;a.animation=function(c,a,b,m){return new E(c,a,b,m)};c.inAnim=function(){var c=[],a;for(a in this.anims)this.anims[h](a)&&function(a){c.push({anim:new E(a._attrs,a.dur,a.easing,a._callback),mina:a,curStatus:a.status(),status:function(c){return a.status(c)},stop:function(){a.stop()}})}(this.anims[a]);\n",
       "return c};a.animate=function(c,a,b,m,e,h){\"function\"!=typeof e||e.length||(h=e,e=L.linear);var d=L.time();c=L(c,a,d,d+m,L.time,b,e);h&&k.once(\"mina.finish.\"+c.id,h);return c};c.stop=function(){for(var c=this.inAnim(),a=0,b=c.length;a<b;a++)c[a].stop();return this};c.animate=function(c,a,b,m){\"function\"!=typeof b||b.length||(m=b,b=L.linear);c instanceof E&&(m=c.callback,b=c.easing,a=b.dur,c=c.attr);var d=[],f=[],l={},t,ca,n,T=this,q;for(q in c)if(c[h](q)){T.equal?(n=T.equal(q,J(c[q])),t=n.from,ca=\n",
       "n.to,n=n.f):(t=+T.attr(q),ca=+c[q]);var la=y(t,\"array\")?t.length:1;l[q]=e(d.length,d.length+la,n);d=d.concat(t);f=f.concat(ca)}t=L.time();var p=L(d,f,t,t+a,L.time,function(c){var a={},b;for(b in l)l[h](b)&&(a[b]=l[b](c));T.attr(a)},b);T.anims[p.id]=p;p._attrs=c;p._callback=m;k(\"snap.animcreated.\"+T.id,p);k.once(\"mina.finish.\"+p.id,function(){delete T.anims[p.id];m&&m.call(T)});k.once(\"mina.stop.\"+p.id,function(){delete T.anims[p.id]});return T};var T={};c.data=function(c,b){var m=T[this.id]=T[this.id]||\n",
       "{};if(0==arguments.length)return k(\"snap.data.get.\"+this.id,this,m,null),m;if(1==arguments.length){if(a.is(c,\"object\")){for(var e in c)c[h](e)&&this.data(e,c[e]);return this}k(\"snap.data.get.\"+this.id,this,m[c],c);return m[c]}m[c]=b;k(\"snap.data.set.\"+this.id,this,b,c);return this};c.removeData=function(c){null==c?T[this.id]={}:T[this.id]&&delete T[this.id][c];return this};c.outerSVG=c.toString=d(1);c.innerSVG=d()})(e.prototype);a.parse=function(c){var a=G.doc.createDocumentFragment(),b=!0,m=G.doc.createElement(\"div\");\n",
       "c=J(c);c.match(/^\\s*<\\s*svg(?:\\s|>)/)||(c=\"<svg>\"+c+\"</svg>\",b=!1);m.innerHTML=c;if(c=m.getElementsByTagName(\"svg\")[0])if(b)a=c;else for(;c.firstChild;)a.appendChild(c.firstChild);m.innerHTML=aa;return new l(a)};l.prototype.select=e.prototype.select;l.prototype.selectAll=e.prototype.selectAll;a.fragment=function(){for(var c=Array.prototype.slice.call(arguments,0),b=G.doc.createDocumentFragment(),m=0,e=c.length;m<e;m++){var h=c[m];h.node&&h.node.nodeType&&b.appendChild(h.node);h.nodeType&&b.appendChild(h);\n",
       "\"string\"==typeof h&&b.appendChild(a.parse(h).node)}return new l(b)};a._.make=r;a._.wrap=x;s.prototype.el=function(c,a){var b=r(c,this.node);a&&b.attr(a);return b};k.on(\"snap.util.getattr\",function(){var c=k.nt(),c=c.substring(c.lastIndexOf(\".\")+1),a=c.replace(/[A-Z]/g,function(c){return\"-\"+c.toLowerCase()});return pa[h](a)?this.node.ownerDocument.defaultView.getComputedStyle(this.node,null).getPropertyValue(a):v(this.node,c)});var pa={\"alignment-baseline\":0,\"baseline-shift\":0,clip:0,\"clip-path\":0,\n",
       "\"clip-rule\":0,color:0,\"color-interpolation\":0,\"color-interpolation-filters\":0,\"color-profile\":0,\"color-rendering\":0,cursor:0,direction:0,display:0,\"dominant-baseline\":0,\"enable-background\":0,fill:0,\"fill-opacity\":0,\"fill-rule\":0,filter:0,\"flood-color\":0,\"flood-opacity\":0,font:0,\"font-family\":0,\"font-size\":0,\"font-size-adjust\":0,\"font-stretch\":0,\"font-style\":0,\"font-variant\":0,\"font-weight\":0,\"glyph-orientation-horizontal\":0,\"glyph-orientation-vertical\":0,\"image-rendering\":0,kerning:0,\"letter-spacing\":0,\n",
       "\"lighting-color\":0,marker:0,\"marker-end\":0,\"marker-mid\":0,\"marker-start\":0,mask:0,opacity:0,overflow:0,\"pointer-events\":0,\"shape-rendering\":0,\"stop-color\":0,\"stop-opacity\":0,stroke:0,\"stroke-dasharray\":0,\"stroke-dashoffset\":0,\"stroke-linecap\":0,\"stroke-linejoin\":0,\"stroke-miterlimit\":0,\"stroke-opacity\":0,\"stroke-width\":0,\"text-anchor\":0,\"text-decoration\":0,\"text-rendering\":0,\"unicode-bidi\":0,visibility:0,\"word-spacing\":0,\"writing-mode\":0};k.on(\"snap.util.attr\",function(c){var a=k.nt(),b={},a=a.substring(a.lastIndexOf(\".\")+\n",
       "1);b[a]=c;var m=a.replace(/-(\\w)/gi,function(c,a){return a.toUpperCase()}),a=a.replace(/[A-Z]/g,function(c){return\"-\"+c.toLowerCase()});pa[h](a)?this.node.style[m]=null==c?aa:c:v(this.node,b)});a.ajax=function(c,a,b,m){var e=new XMLHttpRequest,h=V();if(e){if(y(a,\"function\"))m=b,b=a,a=null;else if(y(a,\"object\")){var d=[],f;for(f in a)a.hasOwnProperty(f)&&d.push(encodeURIComponent(f)+\"=\"+encodeURIComponent(a[f]));a=d.join(\"&\")}e.open(a?\"POST\":\"GET\",c,!0);a&&(e.setRequestHeader(\"X-Requested-With\",\"XMLHttpRequest\"),\n",
       "e.setRequestHeader(\"Content-type\",\"application/x-www-form-urlencoded\"));b&&(k.once(\"snap.ajax.\"+h+\".0\",b),k.once(\"snap.ajax.\"+h+\".200\",b),k.once(\"snap.ajax.\"+h+\".304\",b));e.onreadystatechange=function(){4==e.readyState&&k(\"snap.ajax.\"+h+\".\"+e.status,m,e)};if(4==e.readyState)return e;e.send(a);return e}};a.load=function(c,b,m){a.ajax(c,function(c){c=a.parse(c.responseText);m?b.call(m,c):b(c)})};a.getElementByPoint=function(c,a){var b,m,e=G.doc.elementFromPoint(c,a);if(G.win.opera&&\"svg\"==e.tagName){b=\n",
       "e;m=b.getBoundingClientRect();b=b.ownerDocument;var h=b.body,d=b.documentElement;b=m.top+(g.win.pageYOffset||d.scrollTop||h.scrollTop)-(d.clientTop||h.clientTop||0);m=m.left+(g.win.pageXOffset||d.scrollLeft||h.scrollLeft)-(d.clientLeft||h.clientLeft||0);h=e.createSVGRect();h.x=c-m;h.y=a-b;h.width=h.height=1;b=e.getIntersectionList(h,null);b.length&&(e=b[b.length-1])}return e?x(e):null};a.plugin=function(c){c(a,e,s,G,l)};return G.win.Snap=a}();C.plugin(function(a,k,y,M,A){function w(a,d,f,b,q,e){null==\n",
       "d&&\"[object SVGMatrix]\"==z.call(a)?(this.a=a.a,this.b=a.b,this.c=a.c,this.d=a.d,this.e=a.e,this.f=a.f):null!=a?(this.a=+a,this.b=+d,this.c=+f,this.d=+b,this.e=+q,this.f=+e):(this.a=1,this.c=this.b=0,this.d=1,this.f=this.e=0)}var z=Object.prototype.toString,d=String,f=Math;(function(n){function k(a){return a[0]*a[0]+a[1]*a[1]}function p(a){var d=f.sqrt(k(a));a[0]&&(a[0]/=d);a[1]&&(a[1]/=d)}n.add=function(a,d,e,f,n,p){var k=[[],[],[] ],u=[[this.a,this.c,this.e],[this.b,this.d,this.f],[0,0,1] ];d=[[a,\n",
       "e,n],[d,f,p],[0,0,1] ];a&&a instanceof w&&(d=[[a.a,a.c,a.e],[a.b,a.d,a.f],[0,0,1] ]);for(a=0;3>a;a++)for(e=0;3>e;e++){for(f=n=0;3>f;f++)n+=u[a][f]*d[f][e];k[a][e]=n}this.a=k[0][0];this.b=k[1][0];this.c=k[0][1];this.d=k[1][1];this.e=k[0][2];this.f=k[1][2];return this};n.invert=function(){var a=this.a*this.d-this.b*this.c;return new w(this.d/a,-this.b/a,-this.c/a,this.a/a,(this.c*this.f-this.d*this.e)/a,(this.b*this.e-this.a*this.f)/a)};n.clone=function(){return new w(this.a,this.b,this.c,this.d,this.e,\n",
       "this.f)};n.translate=function(a,d){return this.add(1,0,0,1,a,d)};n.scale=function(a,d,e,f){null==d&&(d=a);(e||f)&&this.add(1,0,0,1,e,f);this.add(a,0,0,d,0,0);(e||f)&&this.add(1,0,0,1,-e,-f);return this};n.rotate=function(b,d,e){b=a.rad(b);d=d||0;e=e||0;var l=+f.cos(b).toFixed(9);b=+f.sin(b).toFixed(9);this.add(l,b,-b,l,d,e);return this.add(1,0,0,1,-d,-e)};n.x=function(a,d){return a*this.a+d*this.c+this.e};n.y=function(a,d){return a*this.b+d*this.d+this.f};n.get=function(a){return+this[d.fromCharCode(97+\n",
       "a)].toFixed(4)};n.toString=function(){return\"matrix(\"+[this.get(0),this.get(1),this.get(2),this.get(3),this.get(4),this.get(5)].join()+\")\"};n.offset=function(){return[this.e.toFixed(4),this.f.toFixed(4)]};n.determinant=function(){return this.a*this.d-this.b*this.c};n.split=function(){var b={};b.dx=this.e;b.dy=this.f;var d=[[this.a,this.c],[this.b,this.d] ];b.scalex=f.sqrt(k(d[0]));p(d[0]);b.shear=d[0][0]*d[1][0]+d[0][1]*d[1][1];d[1]=[d[1][0]-d[0][0]*b.shear,d[1][1]-d[0][1]*b.shear];b.scaley=f.sqrt(k(d[1]));\n",
       "p(d[1]);b.shear/=b.scaley;0>this.determinant()&&(b.scalex=-b.scalex);var e=-d[0][1],d=d[1][1];0>d?(b.rotate=a.deg(f.acos(d)),0>e&&(b.rotate=360-b.rotate)):b.rotate=a.deg(f.asin(e));b.isSimple=!+b.shear.toFixed(9)&&(b.scalex.toFixed(9)==b.scaley.toFixed(9)||!b.rotate);b.isSuperSimple=!+b.shear.toFixed(9)&&b.scalex.toFixed(9)==b.scaley.toFixed(9)&&!b.rotate;b.noRotation=!+b.shear.toFixed(9)&&!b.rotate;return b};n.toTransformString=function(a){a=a||this.split();if(+a.shear.toFixed(9))return\"m\"+[this.get(0),\n",
       "this.get(1),this.get(2),this.get(3),this.get(4),this.get(5)];a.scalex=+a.scalex.toFixed(4);a.scaley=+a.scaley.toFixed(4);a.rotate=+a.rotate.toFixed(4);return(a.dx||a.dy?\"t\"+[+a.dx.toFixed(4),+a.dy.toFixed(4)]:\"\")+(1!=a.scalex||1!=a.scaley?\"s\"+[a.scalex,a.scaley,0,0]:\"\")+(a.rotate?\"r\"+[+a.rotate.toFixed(4),0,0]:\"\")}})(w.prototype);a.Matrix=w;a.matrix=function(a,d,f,b,k,e){return new w(a,d,f,b,k,e)}});C.plugin(function(a,v,y,M,A){function w(h){return function(d){k.stop();d instanceof A&&1==d.node.childNodes.length&&\n",
       "(\"radialGradient\"==d.node.firstChild.tagName||\"linearGradient\"==d.node.firstChild.tagName||\"pattern\"==d.node.firstChild.tagName)&&(d=d.node.firstChild,b(this).appendChild(d),d=u(d));if(d instanceof v)if(\"radialGradient\"==d.type||\"linearGradient\"==d.type||\"pattern\"==d.type){d.node.id||e(d.node,{id:d.id});var f=l(d.node.id)}else f=d.attr(h);else f=a.color(d),f.error?(f=a(b(this).ownerSVGElement).gradient(d))?(f.node.id||e(f.node,{id:f.id}),f=l(f.node.id)):f=d:f=r(f);d={};d[h]=f;e(this.node,d);this.node.style[h]=\n",
       "x}}function z(a){k.stop();a==+a&&(a+=\"px\");this.node.style.fontSize=a}function d(a){var b=[];a=a.childNodes;for(var e=0,f=a.length;e<f;e++){var l=a[e];3==l.nodeType&&b.push(l.nodeValue);\"tspan\"==l.tagName&&(1==l.childNodes.length&&3==l.firstChild.nodeType?b.push(l.firstChild.nodeValue):b.push(d(l)))}return b}function f(){k.stop();return this.node.style.fontSize}var n=a._.make,u=a._.wrap,p=a.is,b=a._.getSomeDefs,q=/^url\\(#?([^)]+)\\)$/,e=a._.$,l=a.url,r=String,s=a._.separator,x=\"\";k.on(\"snap.util.attr.mask\",\n",
       "function(a){if(a instanceof v||a instanceof A){k.stop();a instanceof A&&1==a.node.childNodes.length&&(a=a.node.firstChild,b(this).appendChild(a),a=u(a));if(\"mask\"==a.type)var d=a;else d=n(\"mask\",b(this)),d.node.appendChild(a.node);!d.node.id&&e(d.node,{id:d.id});e(this.node,{mask:l(d.id)})}});(function(a){k.on(\"snap.util.attr.clip\",a);k.on(\"snap.util.attr.clip-path\",a);k.on(\"snap.util.attr.clipPath\",a)})(function(a){if(a instanceof v||a instanceof A){k.stop();if(\"clipPath\"==a.type)var d=a;else d=\n",
       "n(\"clipPath\",b(this)),d.node.appendChild(a.node),!d.node.id&&e(d.node,{id:d.id});e(this.node,{\"clip-path\":l(d.id)})}});k.on(\"snap.util.attr.fill\",w(\"fill\"));k.on(\"snap.util.attr.stroke\",w(\"stroke\"));var G=/^([lr])(?:\\(([^)]*)\\))?(.*)$/i;k.on(\"snap.util.grad.parse\",function(a){a=r(a);var b=a.match(G);if(!b)return null;a=b[1];var e=b[2],b=b[3],e=e.split(/\\s*,\\s*/).map(function(a){return+a==a?+a:a});1==e.length&&0==e[0]&&(e=[]);b=b.split(\"-\");b=b.map(function(a){a=a.split(\":\");var b={color:a[0]};a[1]&&\n",
       "(b.offset=parseFloat(a[1]));return b});return{type:a,params:e,stops:b}});k.on(\"snap.util.attr.d\",function(b){k.stop();p(b,\"array\")&&p(b[0],\"array\")&&(b=a.path.toString.call(b));b=r(b);b.match(/[ruo]/i)&&(b=a.path.toAbsolute(b));e(this.node,{d:b})})(-1);k.on(\"snap.util.attr.#text\",function(a){k.stop();a=r(a);for(a=M.doc.createTextNode(a);this.node.firstChild;)this.node.removeChild(this.node.firstChild);this.node.appendChild(a)})(-1);k.on(\"snap.util.attr.path\",function(a){k.stop();this.attr({d:a})})(-1);\n",
       "k.on(\"snap.util.attr.class\",function(a){k.stop();this.node.className.baseVal=a})(-1);k.on(\"snap.util.attr.viewBox\",function(a){a=p(a,\"object\")&&\"x\"in a?[a.x,a.y,a.width,a.height].join(\" \"):p(a,\"array\")?a.join(\" \"):a;e(this.node,{viewBox:a});k.stop()})(-1);k.on(\"snap.util.attr.transform\",function(a){this.transform(a);k.stop()})(-1);k.on(\"snap.util.attr.r\",function(a){\"rect\"==this.type&&(k.stop(),e(this.node,{rx:a,ry:a}))})(-1);k.on(\"snap.util.attr.textpath\",function(a){k.stop();if(\"text\"==this.type){var d,\n",
       "f;if(!a&&this.textPath){for(a=this.textPath;a.node.firstChild;)this.node.appendChild(a.node.firstChild);a.remove();delete this.textPath}else if(p(a,\"string\")?(d=b(this),a=u(d.parentNode).path(a),d.appendChild(a.node),d=a.id,a.attr({id:d})):(a=u(a),a instanceof v&&(d=a.attr(\"id\"),d||(d=a.id,a.attr({id:d})))),d)if(a=this.textPath,f=this.node,a)a.attr({\"xlink:href\":\"#\"+d});else{for(a=e(\"textPath\",{\"xlink:href\":\"#\"+d});f.firstChild;)a.appendChild(f.firstChild);f.appendChild(a);this.textPath=u(a)}}})(-1);\n",
       "k.on(\"snap.util.attr.text\",function(a){if(\"text\"==this.type){for(var b=this.node,d=function(a){var b=e(\"tspan\");if(p(a,\"array\"))for(var f=0;f<a.length;f++)b.appendChild(d(a[f]));else b.appendChild(M.doc.createTextNode(a));b.normalize&&b.normalize();return b};b.firstChild;)b.removeChild(b.firstChild);for(a=d(a);a.firstChild;)b.appendChild(a.firstChild)}k.stop()})(-1);k.on(\"snap.util.attr.fontSize\",z)(-1);k.on(\"snap.util.attr.font-size\",z)(-1);k.on(\"snap.util.getattr.transform\",function(){k.stop();\n",
       "return this.transform()})(-1);k.on(\"snap.util.getattr.textpath\",function(){k.stop();return this.textPath})(-1);(function(){function b(d){return function(){k.stop();var b=M.doc.defaultView.getComputedStyle(this.node,null).getPropertyValue(\"marker-\"+d);return\"none\"==b?b:a(M.doc.getElementById(b.match(q)[1]))}}function d(a){return function(b){k.stop();var d=\"marker\"+a.charAt(0).toUpperCase()+a.substring(1);if(\"\"==b||!b)this.node.style[d]=\"none\";else if(\"marker\"==b.type){var f=b.node.id;f||e(b.node,{id:b.id});\n",
       "this.node.style[d]=l(f)}}}k.on(\"snap.util.getattr.marker-end\",b(\"end\"))(-1);k.on(\"snap.util.getattr.markerEnd\",b(\"end\"))(-1);k.on(\"snap.util.getattr.marker-start\",b(\"start\"))(-1);k.on(\"snap.util.getattr.markerStart\",b(\"start\"))(-1);k.on(\"snap.util.getattr.marker-mid\",b(\"mid\"))(-1);k.on(\"snap.util.getattr.markerMid\",b(\"mid\"))(-1);k.on(\"snap.util.attr.marker-end\",d(\"end\"))(-1);k.on(\"snap.util.attr.markerEnd\",d(\"end\"))(-1);k.on(\"snap.util.attr.marker-start\",d(\"start\"))(-1);k.on(\"snap.util.attr.markerStart\",\n",
       "d(\"start\"))(-1);k.on(\"snap.util.attr.marker-mid\",d(\"mid\"))(-1);k.on(\"snap.util.attr.markerMid\",d(\"mid\"))(-1)})();k.on(\"snap.util.getattr.r\",function(){if(\"rect\"==this.type&&e(this.node,\"rx\")==e(this.node,\"ry\"))return k.stop(),e(this.node,\"rx\")})(-1);k.on(\"snap.util.getattr.text\",function(){if(\"text\"==this.type||\"tspan\"==this.type){k.stop();var a=d(this.node);return 1==a.length?a[0]:a}})(-1);k.on(\"snap.util.getattr.#text\",function(){return this.node.textContent})(-1);k.on(\"snap.util.getattr.viewBox\",\n",
       "function(){k.stop();var b=e(this.node,\"viewBox\");if(b)return b=b.split(s),a._.box(+b[0],+b[1],+b[2],+b[3])})(-1);k.on(\"snap.util.getattr.points\",function(){var a=e(this.node,\"points\");k.stop();if(a)return a.split(s)})(-1);k.on(\"snap.util.getattr.path\",function(){var a=e(this.node,\"d\");k.stop();return a})(-1);k.on(\"snap.util.getattr.class\",function(){return this.node.className.baseVal})(-1);k.on(\"snap.util.getattr.fontSize\",f)(-1);k.on(\"snap.util.getattr.font-size\",f)(-1)});C.plugin(function(a,v,y,\n",
       "M,A){function w(a){return a}function z(a){return function(b){return+b.toFixed(3)+a}}var d={\"+\":function(a,b){return a+b},\"-\":function(a,b){return a-b},\"/\":function(a,b){return a/b},\"*\":function(a,b){return a*b}},f=String,n=/[a-z]+$/i,u=/^\\s*([+\\-\\/*])\\s*=\\s*([\\d.eE+\\-]+)\\s*([^\\d\\s]+)?\\s*$/;k.on(\"snap.util.attr\",function(a){if(a=f(a).match(u)){var b=k.nt(),b=b.substring(b.lastIndexOf(\".\")+1),q=this.attr(b),e={};k.stop();var l=a[3]||\"\",r=q.match(n),s=d[a[1] ];r&&r==l?a=s(parseFloat(q),+a[2]):(q=this.asPX(b),\n",
       "a=s(this.asPX(b),this.asPX(b,a[2]+l)));isNaN(q)||isNaN(a)||(e[b]=a,this.attr(e))}})(-10);k.on(\"snap.util.equal\",function(a,b){var q=f(this.attr(a)||\"\"),e=f(b).match(u);if(e){k.stop();var l=e[3]||\"\",r=q.match(n),s=d[e[1] ];if(r&&r==l)return{from:parseFloat(q),to:s(parseFloat(q),+e[2]),f:z(r)};q=this.asPX(a);return{from:q,to:s(q,this.asPX(a,e[2]+l)),f:w}}})(-10)});C.plugin(function(a,v,y,M,A){var w=y.prototype,z=a.is;w.rect=function(a,d,k,p,b,q){var e;null==q&&(q=b);z(a,\"object\")&&\"[object Object]\"==\n",
       "a?e=a:null!=a&&(e={x:a,y:d,width:k,height:p},null!=b&&(e.rx=b,e.ry=q));return this.el(\"rect\",e)};w.circle=function(a,d,k){var p;z(a,\"object\")&&\"[object Object]\"==a?p=a:null!=a&&(p={cx:a,cy:d,r:k});return this.el(\"circle\",p)};var d=function(){function a(){this.parentNode.removeChild(this)}return function(d,k){var p=M.doc.createElement(\"img\"),b=M.doc.body;p.style.cssText=\"position:absolute;left:-9999em;top:-9999em\";p.onload=function(){k.call(p);p.onload=p.onerror=null;b.removeChild(p)};p.onerror=a;\n",
       "b.appendChild(p);p.src=d}}();w.image=function(f,n,k,p,b){var q=this.el(\"image\");if(z(f,\"object\")&&\"src\"in f)q.attr(f);else if(null!=f){var e={\"xlink:href\":f,preserveAspectRatio:\"none\"};null!=n&&null!=k&&(e.x=n,e.y=k);null!=p&&null!=b?(e.width=p,e.height=b):d(f,function(){a._.$(q.node,{width:this.offsetWidth,height:this.offsetHeight})});a._.$(q.node,e)}return q};w.ellipse=function(a,d,k,p){var b;z(a,\"object\")&&\"[object Object]\"==a?b=a:null!=a&&(b={cx:a,cy:d,rx:k,ry:p});return this.el(\"ellipse\",b)};\n",
       "w.path=function(a){var d;z(a,\"object\")&&!z(a,\"array\")?d=a:a&&(d={d:a});return this.el(\"path\",d)};w.group=w.g=function(a){var d=this.el(\"g\");1==arguments.length&&a&&!a.type?d.attr(a):arguments.length&&d.add(Array.prototype.slice.call(arguments,0));return d};w.svg=function(a,d,k,p,b,q,e,l){var r={};z(a,\"object\")&&null==d?r=a:(null!=a&&(r.x=a),null!=d&&(r.y=d),null!=k&&(r.width=k),null!=p&&(r.height=p),null!=b&&null!=q&&null!=e&&null!=l&&(r.viewBox=[b,q,e,l]));return this.el(\"svg\",r)};w.mask=function(a){var d=\n",
       "this.el(\"mask\");1==arguments.length&&a&&!a.type?d.attr(a):arguments.length&&d.add(Array.prototype.slice.call(arguments,0));return d};w.ptrn=function(a,d,k,p,b,q,e,l){if(z(a,\"object\"))var r=a;else arguments.length?(r={},null!=a&&(r.x=a),null!=d&&(r.y=d),null!=k&&(r.width=k),null!=p&&(r.height=p),null!=b&&null!=q&&null!=e&&null!=l&&(r.viewBox=[b,q,e,l])):r={patternUnits:\"userSpaceOnUse\"};return this.el(\"pattern\",r)};w.use=function(a){return null!=a?(make(\"use\",this.node),a instanceof v&&(a.attr(\"id\")||\n",
       "a.attr({id:ID()}),a=a.attr(\"id\")),this.el(\"use\",{\"xlink:href\":a})):v.prototype.use.call(this)};w.text=function(a,d,k){var p={};z(a,\"object\")?p=a:null!=a&&(p={x:a,y:d,text:k||\"\"});return this.el(\"text\",p)};w.line=function(a,d,k,p){var b={};z(a,\"object\")?b=a:null!=a&&(b={x1:a,x2:k,y1:d,y2:p});return this.el(\"line\",b)};w.polyline=function(a){1<arguments.length&&(a=Array.prototype.slice.call(arguments,0));var d={};z(a,\"object\")&&!z(a,\"array\")?d=a:null!=a&&(d={points:a});return this.el(\"polyline\",d)};\n",
       "w.polygon=function(a){1<arguments.length&&(a=Array.prototype.slice.call(arguments,0));var d={};z(a,\"object\")&&!z(a,\"array\")?d=a:null!=a&&(d={points:a});return this.el(\"polygon\",d)};(function(){function d(){return this.selectAll(\"stop\")}function n(b,d){var f=e(\"stop\"),k={offset:+d+\"%\"};b=a.color(b);k[\"stop-color\"]=b.hex;1>b.opacity&&(k[\"stop-opacity\"]=b.opacity);e(f,k);this.node.appendChild(f);return this}function u(){if(\"linearGradient\"==this.type){var b=e(this.node,\"x1\")||0,d=e(this.node,\"x2\")||\n",
       "1,f=e(this.node,\"y1\")||0,k=e(this.node,\"y2\")||0;return a._.box(b,f,math.abs(d-b),math.abs(k-f))}b=this.node.r||0;return a._.box((this.node.cx||0.5)-b,(this.node.cy||0.5)-b,2*b,2*b)}function p(a,d){function f(a,b){for(var d=(b-u)/(a-w),e=w;e<a;e++)h[e].offset=+(+u+d*(e-w)).toFixed(2);w=a;u=b}var n=k(\"snap.util.grad.parse\",null,d).firstDefined(),p;if(!n)return null;n.params.unshift(a);p=\"l\"==n.type.toLowerCase()?b.apply(0,n.params):q.apply(0,n.params);n.type!=n.type.toLowerCase()&&e(p.node,{gradientUnits:\"userSpaceOnUse\"});\n",
       "var h=n.stops,n=h.length,u=0,w=0;n--;for(var v=0;v<n;v++)\"offset\"in h[v]&&f(v,h[v].offset);h[n].offset=h[n].offset||100;f(n,h[n].offset);for(v=0;v<=n;v++){var y=h[v];p.addStop(y.color,y.offset)}return p}function b(b,k,p,q,w){b=a._.make(\"linearGradient\",b);b.stops=d;b.addStop=n;b.getBBox=u;null!=k&&e(b.node,{x1:k,y1:p,x2:q,y2:w});return b}function q(b,k,p,q,w,h){b=a._.make(\"radialGradient\",b);b.stops=d;b.addStop=n;b.getBBox=u;null!=k&&e(b.node,{cx:k,cy:p,r:q});null!=w&&null!=h&&e(b.node,{fx:w,fy:h});\n",
       "return b}var e=a._.$;w.gradient=function(a){return p(this.defs,a)};w.gradientLinear=function(a,d,e,f){return b(this.defs,a,d,e,f)};w.gradientRadial=function(a,b,d,e,f){return q(this.defs,a,b,d,e,f)};w.toString=function(){var b=this.node.ownerDocument,d=b.createDocumentFragment(),b=b.createElement(\"div\"),e=this.node.cloneNode(!0);d.appendChild(b);b.appendChild(e);a._.$(e,{xmlns:\"http://www.w3.org/2000/svg\"});b=b.innerHTML;d.removeChild(d.firstChild);return b};w.clear=function(){for(var a=this.node.firstChild,\n",
       "b;a;)b=a.nextSibling,\"defs\"!=a.tagName?a.parentNode.removeChild(a):w.clear.call({node:a}),a=b}})()});C.plugin(function(a,k,y,M){function A(a){var b=A.ps=A.ps||{};b[a]?b[a].sleep=100:b[a]={sleep:100};setTimeout(function(){for(var d in b)b[L](d)&&d!=a&&(b[d].sleep--,!b[d].sleep&&delete b[d])});return b[a]}function w(a,b,d,e){null==a&&(a=b=d=e=0);null==b&&(b=a.y,d=a.width,e=a.height,a=a.x);return{x:a,y:b,width:d,w:d,height:e,h:e,x2:a+d,y2:b+e,cx:a+d/2,cy:b+e/2,r1:F.min(d,e)/2,r2:F.max(d,e)/2,r0:F.sqrt(d*\n",
       "d+e*e)/2,path:s(a,b,d,e),vb:[a,b,d,e].join(\" \")}}function z(){return this.join(\",\").replace(N,\"$1\")}function d(a){a=C(a);a.toString=z;return a}function f(a,b,d,h,f,k,l,n,p){if(null==p)return e(a,b,d,h,f,k,l,n);if(0>p||e(a,b,d,h,f,k,l,n)<p)p=void 0;else{var q=0.5,O=1-q,s;for(s=e(a,b,d,h,f,k,l,n,O);0.01<Z(s-p);)q/=2,O+=(s<p?1:-1)*q,s=e(a,b,d,h,f,k,l,n,O);p=O}return u(a,b,d,h,f,k,l,n,p)}function n(b,d){function e(a){return+(+a).toFixed(3)}return a._.cacher(function(a,h,l){a instanceof k&&(a=a.attr(\"d\"));\n",
       "a=I(a);for(var n,p,D,q,O=\"\",s={},c=0,t=0,r=a.length;t<r;t++){D=a[t];if(\"M\"==D[0])n=+D[1],p=+D[2];else{q=f(n,p,D[1],D[2],D[3],D[4],D[5],D[6]);if(c+q>h){if(d&&!s.start){n=f(n,p,D[1],D[2],D[3],D[4],D[5],D[6],h-c);O+=[\"C\"+e(n.start.x),e(n.start.y),e(n.m.x),e(n.m.y),e(n.x),e(n.y)];if(l)return O;s.start=O;O=[\"M\"+e(n.x),e(n.y)+\"C\"+e(n.n.x),e(n.n.y),e(n.end.x),e(n.end.y),e(D[5]),e(D[6])].join();c+=q;n=+D[5];p=+D[6];continue}if(!b&&!d)return n=f(n,p,D[1],D[2],D[3],D[4],D[5],D[6],h-c)}c+=q;n=+D[5];p=+D[6]}O+=\n",
       "D.shift()+D}s.end=O;return n=b?c:d?s:u(n,p,D[0],D[1],D[2],D[3],D[4],D[5],1)},null,a._.clone)}function u(a,b,d,e,h,f,k,l,n){var p=1-n,q=ma(p,3),s=ma(p,2),c=n*n,t=c*n,r=q*a+3*s*n*d+3*p*n*n*h+t*k,q=q*b+3*s*n*e+3*p*n*n*f+t*l,s=a+2*n*(d-a)+c*(h-2*d+a),t=b+2*n*(e-b)+c*(f-2*e+b),x=d+2*n*(h-d)+c*(k-2*h+d),c=e+2*n*(f-e)+c*(l-2*f+e);a=p*a+n*d;b=p*b+n*e;h=p*h+n*k;f=p*f+n*l;l=90-180*F.atan2(s-x,t-c)/S;return{x:r,y:q,m:{x:s,y:t},n:{x:x,y:c},start:{x:a,y:b},end:{x:h,y:f},alpha:l}}function p(b,d,e,h,f,n,k,l){a.is(b,\n",
       "\"array\")||(b=[b,d,e,h,f,n,k,l]);b=U.apply(null,b);return w(b.min.x,b.min.y,b.max.x-b.min.x,b.max.y-b.min.y)}function b(a,b,d){return b>=a.x&&b<=a.x+a.width&&d>=a.y&&d<=a.y+a.height}function q(a,d){a=w(a);d=w(d);return b(d,a.x,a.y)||b(d,a.x2,a.y)||b(d,a.x,a.y2)||b(d,a.x2,a.y2)||b(a,d.x,d.y)||b(a,d.x2,d.y)||b(a,d.x,d.y2)||b(a,d.x2,d.y2)||(a.x<d.x2&&a.x>d.x||d.x<a.x2&&d.x>a.x)&&(a.y<d.y2&&a.y>d.y||d.y<a.y2&&d.y>a.y)}function e(a,b,d,e,h,f,n,k,l){null==l&&(l=1);l=(1<l?1:0>l?0:l)/2;for(var p=[-0.1252,\n",
       "0.1252,-0.3678,0.3678,-0.5873,0.5873,-0.7699,0.7699,-0.9041,0.9041,-0.9816,0.9816],q=[0.2491,0.2491,0.2335,0.2335,0.2032,0.2032,0.1601,0.1601,0.1069,0.1069,0.0472,0.0472],s=0,c=0;12>c;c++)var t=l*p[c]+l,r=t*(t*(-3*a+9*d-9*h+3*n)+6*a-12*d+6*h)-3*a+3*d,t=t*(t*(-3*b+9*e-9*f+3*k)+6*b-12*e+6*f)-3*b+3*e,s=s+q[c]*F.sqrt(r*r+t*t);return l*s}function l(a,b,d){a=I(a);b=I(b);for(var h,f,l,n,k,s,r,O,x,c,t=d?0:[],w=0,v=a.length;w<v;w++)if(x=a[w],\"M\"==x[0])h=k=x[1],f=s=x[2];else{\"C\"==x[0]?(x=[h,f].concat(x.slice(1)),\n",
       "h=x[6],f=x[7]):(x=[h,f,h,f,k,s,k,s],h=k,f=s);for(var G=0,y=b.length;G<y;G++)if(c=b[G],\"M\"==c[0])l=r=c[1],n=O=c[2];else{\"C\"==c[0]?(c=[l,n].concat(c.slice(1)),l=c[6],n=c[7]):(c=[l,n,l,n,r,O,r,O],l=r,n=O);var z;var K=x,B=c;z=d;var H=p(K),J=p(B);if(q(H,J)){for(var H=e.apply(0,K),J=e.apply(0,B),H=~~(H/8),J=~~(J/8),U=[],A=[],F={},M=z?0:[],P=0;P<H+1;P++){var C=u.apply(0,K.concat(P/H));U.push({x:C.x,y:C.y,t:P/H})}for(P=0;P<J+1;P++)C=u.apply(0,B.concat(P/J)),A.push({x:C.x,y:C.y,t:P/J});for(P=0;P<H;P++)for(K=\n",
       "0;K<J;K++){var Q=U[P],L=U[P+1],B=A[K],C=A[K+1],N=0.001>Z(L.x-Q.x)?\"y\":\"x\",S=0.001>Z(C.x-B.x)?\"y\":\"x\",R;R=Q.x;var Y=Q.y,V=L.x,ea=L.y,fa=B.x,ga=B.y,ha=C.x,ia=C.y;if(W(R,V)<X(fa,ha)||X(R,V)>W(fa,ha)||W(Y,ea)<X(ga,ia)||X(Y,ea)>W(ga,ia))R=void 0;else{var $=(R*ea-Y*V)*(fa-ha)-(R-V)*(fa*ia-ga*ha),aa=(R*ea-Y*V)*(ga-ia)-(Y-ea)*(fa*ia-ga*ha),ja=(R-V)*(ga-ia)-(Y-ea)*(fa-ha);if(ja){var $=$/ja,aa=aa/ja,ja=+$.toFixed(2),ba=+aa.toFixed(2);R=ja<+X(R,V).toFixed(2)||ja>+W(R,V).toFixed(2)||ja<+X(fa,ha).toFixed(2)||\n",
       "ja>+W(fa,ha).toFixed(2)||ba<+X(Y,ea).toFixed(2)||ba>+W(Y,ea).toFixed(2)||ba<+X(ga,ia).toFixed(2)||ba>+W(ga,ia).toFixed(2)?void 0:{x:$,y:aa}}else R=void 0}R&&F[R.x.toFixed(4)]!=R.y.toFixed(4)&&(F[R.x.toFixed(4)]=R.y.toFixed(4),Q=Q.t+Z((R[N]-Q[N])/(L[N]-Q[N]))*(L.t-Q.t),B=B.t+Z((R[S]-B[S])/(C[S]-B[S]))*(C.t-B.t),0<=Q&&1>=Q&&0<=B&&1>=B&&(z?M++:M.push({x:R.x,y:R.y,t1:Q,t2:B})))}z=M}else z=z?0:[];if(d)t+=z;else{H=0;for(J=z.length;H<J;H++)z[H].segment1=w,z[H].segment2=G,z[H].bez1=x,z[H].bez2=c;t=t.concat(z)}}}return t}\n",
       "function r(a){var b=A(a);if(b.bbox)return C(b.bbox);if(!a)return w();a=I(a);for(var d=0,e=0,h=[],f=[],l,n=0,k=a.length;n<k;n++)l=a[n],\"M\"==l[0]?(d=l[1],e=l[2],h.push(d),f.push(e)):(d=U(d,e,l[1],l[2],l[3],l[4],l[5],l[6]),h=h.concat(d.min.x,d.max.x),f=f.concat(d.min.y,d.max.y),d=l[5],e=l[6]);a=X.apply(0,h);l=X.apply(0,f);h=W.apply(0,h);f=W.apply(0,f);f=w(a,l,h-a,f-l);b.bbox=C(f);return f}function s(a,b,d,e,h){if(h)return[[\"M\",+a+ +h,b],[\"l\",d-2*h,0],[\"a\",h,h,0,0,1,h,h],[\"l\",0,e-2*h],[\"a\",h,h,0,0,1,\n",
       "-h,h],[\"l\",2*h-d,0],[\"a\",h,h,0,0,1,-h,-h],[\"l\",0,2*h-e],[\"a\",h,h,0,0,1,h,-h],[\"z\"] ];a=[[\"M\",a,b],[\"l\",d,0],[\"l\",0,e],[\"l\",-d,0],[\"z\"] ];a.toString=z;return a}function x(a,b,d,e,h){null==h&&null==e&&(e=d);a=+a;b=+b;d=+d;e=+e;if(null!=h){var f=Math.PI/180,l=a+d*Math.cos(-e*f);a+=d*Math.cos(-h*f);var n=b+d*Math.sin(-e*f);b+=d*Math.sin(-h*f);d=[[\"M\",l,n],[\"A\",d,d,0,+(180<h-e),0,a,b] ]}else d=[[\"M\",a,b],[\"m\",0,-e],[\"a\",d,e,0,1,1,0,2*e],[\"a\",d,e,0,1,1,0,-2*e],[\"z\"] ];d.toString=z;return d}function G(b){var e=\n",
       "A(b);if(e.abs)return d(e.abs);Q(b,\"array\")&&Q(b&&b[0],\"array\")||(b=a.parsePathString(b));if(!b||!b.length)return[[\"M\",0,0] ];var h=[],f=0,l=0,n=0,k=0,p=0;\"M\"==b[0][0]&&(f=+b[0][1],l=+b[0][2],n=f,k=l,p++,h[0]=[\"M\",f,l]);for(var q=3==b.length&&\"M\"==b[0][0]&&\"R\"==b[1][0].toUpperCase()&&\"Z\"==b[2][0].toUpperCase(),s,r,w=p,c=b.length;w<c;w++){h.push(s=[]);r=b[w];p=r[0];if(p!=p.toUpperCase())switch(s[0]=p.toUpperCase(),s[0]){case \"A\":s[1]=r[1];s[2]=r[2];s[3]=r[3];s[4]=r[4];s[5]=r[5];s[6]=+r[6]+f;s[7]=+r[7]+\n",
       "l;break;case \"V\":s[1]=+r[1]+l;break;case \"H\":s[1]=+r[1]+f;break;case \"R\":for(var t=[f,l].concat(r.slice(1)),u=2,v=t.length;u<v;u++)t[u]=+t[u]+f,t[++u]=+t[u]+l;h.pop();h=h.concat(P(t,q));break;case \"O\":h.pop();t=x(f,l,r[1],r[2]);t.push(t[0]);h=h.concat(t);break;case \"U\":h.pop();h=h.concat(x(f,l,r[1],r[2],r[3]));s=[\"U\"].concat(h[h.length-1].slice(-2));break;case \"M\":n=+r[1]+f,k=+r[2]+l;default:for(u=1,v=r.length;u<v;u++)s[u]=+r[u]+(u%2?f:l)}else if(\"R\"==p)t=[f,l].concat(r.slice(1)),h.pop(),h=h.concat(P(t,\n",
       "q)),s=[\"R\"].concat(r.slice(-2));else if(\"O\"==p)h.pop(),t=x(f,l,r[1],r[2]),t.push(t[0]),h=h.concat(t);else if(\"U\"==p)h.pop(),h=h.concat(x(f,l,r[1],r[2],r[3])),s=[\"U\"].concat(h[h.length-1].slice(-2));else for(t=0,u=r.length;t<u;t++)s[t]=r[t];p=p.toUpperCase();if(\"O\"!=p)switch(s[0]){case \"Z\":f=+n;l=+k;break;case \"H\":f=s[1];break;case \"V\":l=s[1];break;case \"M\":n=s[s.length-2],k=s[s.length-1];default:f=s[s.length-2],l=s[s.length-1]}}h.toString=z;e.abs=d(h);return h}function h(a,b,d,e){return[a,b,d,e,d,\n",
       "e]}function J(a,b,d,e,h,f){var l=1/3,n=2/3;return[l*a+n*d,l*b+n*e,l*h+n*d,l*f+n*e,h,f]}function K(b,d,e,h,f,l,n,k,p,s){var r=120*S/180,q=S/180*(+f||0),c=[],t,x=a._.cacher(function(a,b,c){var d=a*F.cos(c)-b*F.sin(c);a=a*F.sin(c)+b*F.cos(c);return{x:d,y:a}});if(s)v=s[0],t=s[1],l=s[2],u=s[3];else{t=x(b,d,-q);b=t.x;d=t.y;t=x(k,p,-q);k=t.x;p=t.y;F.cos(S/180*f);F.sin(S/180*f);t=(b-k)/2;v=(d-p)/2;u=t*t/(e*e)+v*v/(h*h);1<u&&(u=F.sqrt(u),e*=u,h*=u);var u=e*e,w=h*h,u=(l==n?-1:1)*F.sqrt(Z((u*w-u*v*v-w*t*t)/\n",
       "(u*v*v+w*t*t)));l=u*e*v/h+(b+k)/2;var u=u*-h*t/e+(d+p)/2,v=F.asin(((d-u)/h).toFixed(9));t=F.asin(((p-u)/h).toFixed(9));v=b<l?S-v:v;t=k<l?S-t:t;0>v&&(v=2*S+v);0>t&&(t=2*S+t);n&&v>t&&(v-=2*S);!n&&t>v&&(t-=2*S)}if(Z(t-v)>r){var c=t,w=k,G=p;t=v+r*(n&&t>v?1:-1);k=l+e*F.cos(t);p=u+h*F.sin(t);c=K(k,p,e,h,f,0,n,w,G,[t,c,l,u])}l=t-v;f=F.cos(v);r=F.sin(v);n=F.cos(t);t=F.sin(t);l=F.tan(l/4);e=4/3*e*l;l*=4/3*h;h=[b,d];b=[b+e*r,d-l*f];d=[k+e*t,p-l*n];k=[k,p];b[0]=2*h[0]-b[0];b[1]=2*h[1]-b[1];if(s)return[b,d,k].concat(c);\n",
       "c=[b,d,k].concat(c).join().split(\",\");s=[];k=0;for(p=c.length;k<p;k++)s[k]=k%2?x(c[k-1],c[k],q).y:x(c[k],c[k+1],q).x;return s}function U(a,b,d,e,h,f,l,k){for(var n=[],p=[[],[] ],s,r,c,t,q=0;2>q;++q)0==q?(r=6*a-12*d+6*h,s=-3*a+9*d-9*h+3*l,c=3*d-3*a):(r=6*b-12*e+6*f,s=-3*b+9*e-9*f+3*k,c=3*e-3*b),1E-12>Z(s)?1E-12>Z(r)||(s=-c/r,0<s&&1>s&&n.push(s)):(t=r*r-4*c*s,c=F.sqrt(t),0>t||(t=(-r+c)/(2*s),0<t&&1>t&&n.push(t),s=(-r-c)/(2*s),0<s&&1>s&&n.push(s)));for(r=q=n.length;q--;)s=n[q],c=1-s,p[0][q]=c*c*c*a+3*\n",
       "c*c*s*d+3*c*s*s*h+s*s*s*l,p[1][q]=c*c*c*b+3*c*c*s*e+3*c*s*s*f+s*s*s*k;p[0][r]=a;p[1][r]=b;p[0][r+1]=l;p[1][r+1]=k;p[0].length=p[1].length=r+2;return{min:{x:X.apply(0,p[0]),y:X.apply(0,p[1])},max:{x:W.apply(0,p[0]),y:W.apply(0,p[1])}}}function I(a,b){var e=!b&&A(a);if(!b&&e.curve)return d(e.curve);var f=G(a),l=b&&G(b),n={x:0,y:0,bx:0,by:0,X:0,Y:0,qx:null,qy:null},k={x:0,y:0,bx:0,by:0,X:0,Y:0,qx:null,qy:null},p=function(a,b,c){if(!a)return[\"C\",b.x,b.y,b.x,b.y,b.x,b.y];a[0]in{T:1,Q:1}||(b.qx=b.qy=null);\n",
       "switch(a[0]){case \"M\":b.X=a[1];b.Y=a[2];break;case \"A\":a=[\"C\"].concat(K.apply(0,[b.x,b.y].concat(a.slice(1))));break;case \"S\":\"C\"==c||\"S\"==c?(c=2*b.x-b.bx,b=2*b.y-b.by):(c=b.x,b=b.y);a=[\"C\",c,b].concat(a.slice(1));break;case \"T\":\"Q\"==c||\"T\"==c?(b.qx=2*b.x-b.qx,b.qy=2*b.y-b.qy):(b.qx=b.x,b.qy=b.y);a=[\"C\"].concat(J(b.x,b.y,b.qx,b.qy,a[1],a[2]));break;case \"Q\":b.qx=a[1];b.qy=a[2];a=[\"C\"].concat(J(b.x,b.y,a[1],a[2],a[3],a[4]));break;case \"L\":a=[\"C\"].concat(h(b.x,b.y,a[1],a[2]));break;case \"H\":a=[\"C\"].concat(h(b.x,\n",
       "b.y,a[1],b.y));break;case \"V\":a=[\"C\"].concat(h(b.x,b.y,b.x,a[1]));break;case \"Z\":a=[\"C\"].concat(h(b.x,b.y,b.X,b.Y))}return a},s=function(a,b){if(7<a[b].length){a[b].shift();for(var c=a[b];c.length;)q[b]=\"A\",l&&(u[b]=\"A\"),a.splice(b++,0,[\"C\"].concat(c.splice(0,6)));a.splice(b,1);v=W(f.length,l&&l.length||0)}},r=function(a,b,c,d,e){a&&b&&\"M\"==a[e][0]&&\"M\"!=b[e][0]&&(b.splice(e,0,[\"M\",d.x,d.y]),c.bx=0,c.by=0,c.x=a[e][1],c.y=a[e][2],v=W(f.length,l&&l.length||0))},q=[],u=[],c=\"\",t=\"\",x=0,v=W(f.length,\n",
       "l&&l.length||0);for(;x<v;x++){f[x]&&(c=f[x][0]);\"C\"!=c&&(q[x]=c,x&&(t=q[x-1]));f[x]=p(f[x],n,t);\"A\"!=q[x]&&\"C\"==c&&(q[x]=\"C\");s(f,x);l&&(l[x]&&(c=l[x][0]),\"C\"!=c&&(u[x]=c,x&&(t=u[x-1])),l[x]=p(l[x],k,t),\"A\"!=u[x]&&\"C\"==c&&(u[x]=\"C\"),s(l,x));r(f,l,n,k,x);r(l,f,k,n,x);var w=f[x],z=l&&l[x],y=w.length,U=l&&z.length;n.x=w[y-2];n.y=w[y-1];n.bx=$(w[y-4])||n.x;n.by=$(w[y-3])||n.y;k.bx=l&&($(z[U-4])||k.x);k.by=l&&($(z[U-3])||k.y);k.x=l&&z[U-2];k.y=l&&z[U-1]}l||(e.curve=d(f));return l?[f,l]:f}function P(a,\n",
       "b){for(var d=[],e=0,h=a.length;h-2*!b>e;e+=2){var f=[{x:+a[e-2],y:+a[e-1]},{x:+a[e],y:+a[e+1]},{x:+a[e+2],y:+a[e+3]},{x:+a[e+4],y:+a[e+5]}];b?e?h-4==e?f[3]={x:+a[0],y:+a[1]}:h-2==e&&(f[2]={x:+a[0],y:+a[1]},f[3]={x:+a[2],y:+a[3]}):f[0]={x:+a[h-2],y:+a[h-1]}:h-4==e?f[3]=f[2]:e||(f[0]={x:+a[e],y:+a[e+1]});d.push([\"C\",(-f[0].x+6*f[1].x+f[2].x)/6,(-f[0].y+6*f[1].y+f[2].y)/6,(f[1].x+6*f[2].x-f[3].x)/6,(f[1].y+6*f[2].y-f[3].y)/6,f[2].x,f[2].y])}return d}y=k.prototype;var Q=a.is,C=a._.clone,L=\"hasOwnProperty\",\n",
       "N=/,?([a-z]),?/gi,$=parseFloat,F=Math,S=F.PI,X=F.min,W=F.max,ma=F.pow,Z=F.abs;M=n(1);var na=n(),ba=n(0,1),V=a._unit2px;a.path=A;a.path.getTotalLength=M;a.path.getPointAtLength=na;a.path.getSubpath=function(a,b,d){if(1E-6>this.getTotalLength(a)-d)return ba(a,b).end;a=ba(a,d,1);return b?ba(a,b).end:a};y.getTotalLength=function(){if(this.node.getTotalLength)return this.node.getTotalLength()};y.getPointAtLength=function(a){return na(this.attr(\"d\"),a)};y.getSubpath=function(b,d){return a.path.getSubpath(this.attr(\"d\"),\n",
       "b,d)};a._.box=w;a.path.findDotsAtSegment=u;a.path.bezierBBox=p;a.path.isPointInsideBBox=b;a.path.isBBoxIntersect=q;a.path.intersection=function(a,b){return l(a,b)};a.path.intersectionNumber=function(a,b){return l(a,b,1)};a.path.isPointInside=function(a,d,e){var h=r(a);return b(h,d,e)&&1==l(a,[[\"M\",d,e],[\"H\",h.x2+10] ],1)%2};a.path.getBBox=r;a.path.get={path:function(a){return a.attr(\"path\")},circle:function(a){a=V(a);return x(a.cx,a.cy,a.r)},ellipse:function(a){a=V(a);return x(a.cx||0,a.cy||0,a.rx,\n",
       "a.ry)},rect:function(a){a=V(a);return s(a.x||0,a.y||0,a.width,a.height,a.rx,a.ry)},image:function(a){a=V(a);return s(a.x||0,a.y||0,a.width,a.height)},line:function(a){return\"M\"+[a.attr(\"x1\")||0,a.attr(\"y1\")||0,a.attr(\"x2\"),a.attr(\"y2\")]},polyline:function(a){return\"M\"+a.attr(\"points\")},polygon:function(a){return\"M\"+a.attr(\"points\")+\"z\"},deflt:function(a){a=a.node.getBBox();return s(a.x,a.y,a.width,a.height)}};a.path.toRelative=function(b){var e=A(b),h=String.prototype.toLowerCase;if(e.rel)return d(e.rel);\n",
       "a.is(b,\"array\")&&a.is(b&&b[0],\"array\")||(b=a.parsePathString(b));var f=[],l=0,n=0,k=0,p=0,s=0;\"M\"==b[0][0]&&(l=b[0][1],n=b[0][2],k=l,p=n,s++,f.push([\"M\",l,n]));for(var r=b.length;s<r;s++){var q=f[s]=[],x=b[s];if(x[0]!=h.call(x[0]))switch(q[0]=h.call(x[0]),q[0]){case \"a\":q[1]=x[1];q[2]=x[2];q[3]=x[3];q[4]=x[4];q[5]=x[5];q[6]=+(x[6]-l).toFixed(3);q[7]=+(x[7]-n).toFixed(3);break;case \"v\":q[1]=+(x[1]-n).toFixed(3);break;case \"m\":k=x[1],p=x[2];default:for(var c=1,t=x.length;c<t;c++)q[c]=+(x[c]-(c%2?l:\n",
       "n)).toFixed(3)}else for(f[s]=[],\"m\"==x[0]&&(k=x[1]+l,p=x[2]+n),q=0,c=x.length;q<c;q++)f[s][q]=x[q];x=f[s].length;switch(f[s][0]){case \"z\":l=k;n=p;break;case \"h\":l+=+f[s][x-1];break;case \"v\":n+=+f[s][x-1];break;default:l+=+f[s][x-2],n+=+f[s][x-1]}}f.toString=z;e.rel=d(f);return f};a.path.toAbsolute=G;a.path.toCubic=I;a.path.map=function(a,b){if(!b)return a;var d,e,h,f,l,n,k;a=I(a);h=0;for(l=a.length;h<l;h++)for(k=a[h],f=1,n=k.length;f<n;f+=2)d=b.x(k[f],k[f+1]),e=b.y(k[f],k[f+1]),k[f]=d,k[f+1]=e;return a};\n",
       "a.path.toString=z;a.path.clone=d});C.plugin(function(a,v,y,C){var A=Math.max,w=Math.min,z=function(a){this.items=[];this.bindings={};this.length=0;this.type=\"set\";if(a)for(var f=0,n=a.length;f<n;f++)a[f]&&(this[this.items.length]=this.items[this.items.length]=a[f],this.length++)};v=z.prototype;v.push=function(){for(var a,f,n=0,k=arguments.length;n<k;n++)if(a=arguments[n])f=this.items.length,this[f]=this.items[f]=a,this.length++;return this};v.pop=function(){this.length&&delete this[this.length--];\n",
       "return this.items.pop()};v.forEach=function(a,f){for(var n=0,k=this.items.length;n<k&&!1!==a.call(f,this.items[n],n);n++);return this};v.animate=function(d,f,n,u){\"function\"!=typeof n||n.length||(u=n,n=L.linear);d instanceof a._.Animation&&(u=d.callback,n=d.easing,f=n.dur,d=d.attr);var p=arguments;if(a.is(d,\"array\")&&a.is(p[p.length-1],\"array\"))var b=!0;var q,e=function(){q?this.b=q:q=this.b},l=0,r=u&&function(){l++==this.length&&u.call(this)};return this.forEach(function(a,l){k.once(\"snap.animcreated.\"+\n",
       "a.id,e);b?p[l]&&a.animate.apply(a,p[l]):a.animate(d,f,n,r)})};v.remove=function(){for(;this.length;)this.pop().remove();return this};v.bind=function(a,f,k){var u={};if(\"function\"==typeof f)this.bindings[a]=f;else{var p=k||a;this.bindings[a]=function(a){u[p]=a;f.attr(u)}}return this};v.attr=function(a){var f={},k;for(k in a)if(this.bindings[k])this.bindings[k](a[k]);else f[k]=a[k];a=0;for(k=this.items.length;a<k;a++)this.items[a].attr(f);return this};v.clear=function(){for(;this.length;)this.pop()};\n",
       "v.splice=function(a,f,k){a=0>a?A(this.length+a,0):a;f=A(0,w(this.length-a,f));var u=[],p=[],b=[],q;for(q=2;q<arguments.length;q++)b.push(arguments[q]);for(q=0;q<f;q++)p.push(this[a+q]);for(;q<this.length-a;q++)u.push(this[a+q]);var e=b.length;for(q=0;q<e+u.length;q++)this.items[a+q]=this[a+q]=q<e?b[q]:u[q-e];for(q=this.items.length=this.length-=f-e;this[q];)delete this[q++];return new z(p)};v.exclude=function(a){for(var f=0,k=this.length;f<k;f++)if(this[f]==a)return this.splice(f,1),!0;return!1};\n",
       "v.insertAfter=function(a){for(var f=this.items.length;f--;)this.items[f].insertAfter(a);return this};v.getBBox=function(){for(var a=[],f=[],k=[],u=[],p=this.items.length;p--;)if(!this.items[p].removed){var b=this.items[p].getBBox();a.push(b.x);f.push(b.y);k.push(b.x+b.width);u.push(b.y+b.height)}a=w.apply(0,a);f=w.apply(0,f);k=A.apply(0,k);u=A.apply(0,u);return{x:a,y:f,x2:k,y2:u,width:k-a,height:u-f,cx:a+(k-a)/2,cy:f+(u-f)/2}};v.clone=function(a){a=new z;for(var f=0,k=this.items.length;f<k;f++)a.push(this.items[f].clone());\n",
       "return a};v.toString=function(){return\"Snap\\u2018s set\"};v.type=\"set\";a.set=function(){var a=new z;arguments.length&&a.push.apply(a,Array.prototype.slice.call(arguments,0));return a}});C.plugin(function(a,v,y,C){function A(a){var b=a[0];switch(b.toLowerCase()){case \"t\":return[b,0,0];case \"m\":return[b,1,0,0,1,0,0];case \"r\":return 4==a.length?[b,0,a[2],a[3] ]:[b,0];case \"s\":return 5==a.length?[b,1,1,a[3],a[4] ]:3==a.length?[b,1,1]:[b,1]}}function w(b,d,f){d=q(d).replace(/\\.{3}|\\u2026/g,b);b=a.parseTransformString(b)||\n",
       "[];d=a.parseTransformString(d)||[];for(var k=Math.max(b.length,d.length),p=[],v=[],h=0,w,z,y,I;h<k;h++){y=b[h]||A(d[h]);I=d[h]||A(y);if(y[0]!=I[0]||\"r\"==y[0].toLowerCase()&&(y[2]!=I[2]||y[3]!=I[3])||\"s\"==y[0].toLowerCase()&&(y[3]!=I[3]||y[4]!=I[4])){b=a._.transform2matrix(b,f());d=a._.transform2matrix(d,f());p=[[\"m\",b.a,b.b,b.c,b.d,b.e,b.f] ];v=[[\"m\",d.a,d.b,d.c,d.d,d.e,d.f] ];break}p[h]=[];v[h]=[];w=0;for(z=Math.max(y.length,I.length);w<z;w++)w in y&&(p[h][w]=y[w]),w in I&&(v[h][w]=I[w])}return{from:u(p),\n",
       "to:u(v),f:n(p)}}function z(a){return a}function d(a){return function(b){return+b.toFixed(3)+a}}function f(b){return a.rgb(b[0],b[1],b[2])}function n(a){var b=0,d,f,k,n,h,p,q=[];d=0;for(f=a.length;d<f;d++){h=\"[\";p=['\"'+a[d][0]+'\"'];k=1;for(n=a[d].length;k<n;k++)p[k]=\"val[\"+b++ +\"]\";h+=p+\"]\";q[d]=h}return Function(\"val\",\"return Snap.path.toString.call([\"+q+\"])\")}function u(a){for(var b=[],d=0,f=a.length;d<f;d++)for(var k=1,n=a[d].length;k<n;k++)b.push(a[d][k]);return b}var p={},b=/[a-z]+$/i,q=String;\n",
       "p.stroke=p.fill=\"colour\";v.prototype.equal=function(a,b){return k(\"snap.util.equal\",this,a,b).firstDefined()};k.on(\"snap.util.equal\",function(e,k){var r,s;r=q(this.attr(e)||\"\");var x=this;if(r==+r&&k==+k)return{from:+r,to:+k,f:z};if(\"colour\"==p[e])return r=a.color(r),s=a.color(k),{from:[r.r,r.g,r.b,r.opacity],to:[s.r,s.g,s.b,s.opacity],f:f};if(\"transform\"==e||\"gradientTransform\"==e||\"patternTransform\"==e)return k instanceof a.Matrix&&(k=k.toTransformString()),a._.rgTransform.test(k)||(k=a._.svgTransform2string(k)),\n",
       "w(r,k,function(){return x.getBBox(1)});if(\"d\"==e||\"path\"==e)return r=a.path.toCubic(r,k),{from:u(r[0]),to:u(r[1]),f:n(r[0])};if(\"points\"==e)return r=q(r).split(a._.separator),s=q(k).split(a._.separator),{from:r,to:s,f:function(a){return a}};aUnit=r.match(b);s=q(k).match(b);return aUnit&&aUnit==s?{from:parseFloat(r),to:parseFloat(k),f:d(aUnit)}:{from:this.asPX(e),to:this.asPX(e,k),f:z}})});C.plugin(function(a,v,y,C){var A=v.prototype,w=\"createTouch\"in C.doc;v=\"click dblclick mousedown mousemove mouseout mouseover mouseup touchstart touchmove touchend touchcancel\".split(\" \");\n",
       "var z={mousedown:\"touchstart\",mousemove:\"touchmove\",mouseup:\"touchend\"},d=function(a,b){var d=\"y\"==a?\"scrollTop\":\"scrollLeft\",e=b&&b.node?b.node.ownerDocument:C.doc;return e[d in e.documentElement?\"documentElement\":\"body\"][d]},f=function(){this.returnValue=!1},n=function(){return this.originalEvent.preventDefault()},u=function(){this.cancelBubble=!0},p=function(){return this.originalEvent.stopPropagation()},b=function(){if(C.doc.addEventListener)return function(a,b,e,f){var k=w&&z[b]?z[b]:b,l=function(k){var l=\n",
       "d(\"y\",f),q=d(\"x\",f);if(w&&z.hasOwnProperty(b))for(var r=0,u=k.targetTouches&&k.targetTouches.length;r<u;r++)if(k.targetTouches[r].target==a||a.contains(k.targetTouches[r].target)){u=k;k=k.targetTouches[r];k.originalEvent=u;k.preventDefault=n;k.stopPropagation=p;break}return e.call(f,k,k.clientX+q,k.clientY+l)};b!==k&&a.addEventListener(b,l,!1);a.addEventListener(k,l,!1);return function(){b!==k&&a.removeEventListener(b,l,!1);a.removeEventListener(k,l,!1);return!0}};if(C.doc.attachEvent)return function(a,\n",
       "b,e,h){var k=function(a){a=a||h.node.ownerDocument.window.event;var b=d(\"y\",h),k=d(\"x\",h),k=a.clientX+k,b=a.clientY+b;a.preventDefault=a.preventDefault||f;a.stopPropagation=a.stopPropagation||u;return e.call(h,a,k,b)};a.attachEvent(\"on\"+b,k);return function(){a.detachEvent(\"on\"+b,k);return!0}}}(),q=[],e=function(a){for(var b=a.clientX,e=a.clientY,f=d(\"y\"),l=d(\"x\"),n,p=q.length;p--;){n=q[p];if(w)for(var r=a.touches&&a.touches.length,u;r--;){if(u=a.touches[r],u.identifier==n.el._drag.id||n.el.node.contains(u.target)){b=\n",
       "u.clientX;e=u.clientY;(a.originalEvent?a.originalEvent:a).preventDefault();break}}else a.preventDefault();b+=l;e+=f;k(\"snap.drag.move.\"+n.el.id,n.move_scope||n.el,b-n.el._drag.x,e-n.el._drag.y,b,e,a)}},l=function(b){a.unmousemove(e).unmouseup(l);for(var d=q.length,f;d--;)f=q[d],f.el._drag={},k(\"snap.drag.end.\"+f.el.id,f.end_scope||f.start_scope||f.move_scope||f.el,b);q=[]};for(y=v.length;y--;)(function(d){a[d]=A[d]=function(e,f){a.is(e,\"function\")&&(this.events=this.events||[],this.events.push({name:d,\n",
       "f:e,unbind:b(this.node||document,d,e,f||this)}));return this};a[\"un\"+d]=A[\"un\"+d]=function(a){for(var b=this.events||[],e=b.length;e--;)if(b[e].name==d&&(b[e].f==a||!a)){b[e].unbind();b.splice(e,1);!b.length&&delete this.events;break}return this}})(v[y]);A.hover=function(a,b,d,e){return this.mouseover(a,d).mouseout(b,e||d)};A.unhover=function(a,b){return this.unmouseover(a).unmouseout(b)};var r=[];A.drag=function(b,d,f,h,n,p){function u(r,v,w){(r.originalEvent||r).preventDefault();this._drag.x=v;\n",
       "this._drag.y=w;this._drag.id=r.identifier;!q.length&&a.mousemove(e).mouseup(l);q.push({el:this,move_scope:h,start_scope:n,end_scope:p});d&&k.on(\"snap.drag.start.\"+this.id,d);b&&k.on(\"snap.drag.move.\"+this.id,b);f&&k.on(\"snap.drag.end.\"+this.id,f);k(\"snap.drag.start.\"+this.id,n||h||this,v,w,r)}if(!arguments.length){var v;return this.drag(function(a,b){this.attr({transform:v+(v?\"T\":\"t\")+[a,b]})},function(){v=this.transform().local})}this._drag={};r.push({el:this,start:u});this.mousedown(u);return this};\n",
       "A.undrag=function(){for(var b=r.length;b--;)r[b].el==this&&(this.unmousedown(r[b].start),r.splice(b,1),k.unbind(\"snap.drag.*.\"+this.id));!r.length&&a.unmousemove(e).unmouseup(l);return this}});C.plugin(function(a,v,y,C){y=y.prototype;var A=/^\\s*url\\((.+)\\)/,w=String,z=a._.$;a.filter={};y.filter=function(d){var f=this;\"svg\"!=f.type&&(f=f.paper);d=a.parse(w(d));var k=a._.id(),u=z(\"filter\");z(u,{id:k,filterUnits:\"userSpaceOnUse\"});u.appendChild(d.node);f.defs.appendChild(u);return new v(u)};k.on(\"snap.util.getattr.filter\",\n",
       "function(){k.stop();var d=z(this.node,\"filter\");if(d)return(d=w(d).match(A))&&a.select(d[1])});k.on(\"snap.util.attr.filter\",function(d){if(d instanceof v&&\"filter\"==d.type){k.stop();var f=d.node.id;f||(z(d.node,{id:d.id}),f=d.id);z(this.node,{filter:a.url(f)})}d&&\"none\"!=d||(k.stop(),this.node.removeAttribute(\"filter\"))});a.filter.blur=function(d,f){null==d&&(d=2);return a.format('<feGaussianBlur stdDeviation=\"{def}\"/>',{def:null==f?d:[d,f]})};a.filter.blur.toString=function(){return this()};a.filter.shadow=\n",
       "function(d,f,k,u,p){\"string\"==typeof k&&(p=u=k,k=4);\"string\"!=typeof u&&(p=u,u=\"#000\");null==k&&(k=4);null==p&&(p=1);null==d&&(d=0,f=2);null==f&&(f=d);u=a.color(u||\"#000\");return a.format('<feGaussianBlur in=\"SourceAlpha\" stdDeviation=\"{blur}\"/><feOffset dx=\"{dx}\" dy=\"{dy}\" result=\"offsetblur\"/><feFlood flood-color=\"{color}\"/><feComposite in2=\"offsetblur\" operator=\"in\"/><feComponentTransfer><feFuncA type=\"linear\" slope=\"{opacity}\"/></feComponentTransfer><feMerge><feMergeNode/><feMergeNode in=\"SourceGraphic\"/></feMerge>',\n",
       "{color:u,dx:d,dy:f,blur:k,opacity:p})};a.filter.shadow.toString=function(){return this()};a.filter.grayscale=function(d){null==d&&(d=1);return a.format('<feColorMatrix type=\"matrix\" values=\"{a} {b} {c} 0 0 {d} {e} {f} 0 0 {g} {b} {h} 0 0 0 0 0 1 0\"/>',{a:0.2126+0.7874*(1-d),b:0.7152-0.7152*(1-d),c:0.0722-0.0722*(1-d),d:0.2126-0.2126*(1-d),e:0.7152+0.2848*(1-d),f:0.0722-0.0722*(1-d),g:0.2126-0.2126*(1-d),h:0.0722+0.9278*(1-d)})};a.filter.grayscale.toString=function(){return this()};a.filter.sepia=\n",
       "function(d){null==d&&(d=1);return a.format('<feColorMatrix type=\"matrix\" values=\"{a} {b} {c} 0 0 {d} {e} {f} 0 0 {g} {h} {i} 0 0 0 0 0 1 0\"/>',{a:0.393+0.607*(1-d),b:0.769-0.769*(1-d),c:0.189-0.189*(1-d),d:0.349-0.349*(1-d),e:0.686+0.314*(1-d),f:0.168-0.168*(1-d),g:0.272-0.272*(1-d),h:0.534-0.534*(1-d),i:0.131+0.869*(1-d)})};a.filter.sepia.toString=function(){return this()};a.filter.saturate=function(d){null==d&&(d=1);return a.format('<feColorMatrix type=\"saturate\" values=\"{amount}\"/>',{amount:1-\n",
       "d})};a.filter.saturate.toString=function(){return this()};a.filter.hueRotate=function(d){return a.format('<feColorMatrix type=\"hueRotate\" values=\"{angle}\"/>',{angle:d||0})};a.filter.hueRotate.toString=function(){return this()};a.filter.invert=function(d){null==d&&(d=1);return a.format('<feComponentTransfer><feFuncR type=\"table\" tableValues=\"{amount} {amount2}\"/><feFuncG type=\"table\" tableValues=\"{amount} {amount2}\"/><feFuncB type=\"table\" tableValues=\"{amount} {amount2}\"/></feComponentTransfer>',{amount:d,\n",
       "amount2:1-d})};a.filter.invert.toString=function(){return this()};a.filter.brightness=function(d){null==d&&(d=1);return a.format('<feComponentTransfer><feFuncR type=\"linear\" slope=\"{amount}\"/><feFuncG type=\"linear\" slope=\"{amount}\"/><feFuncB type=\"linear\" slope=\"{amount}\"/></feComponentTransfer>',{amount:d})};a.filter.brightness.toString=function(){return this()};a.filter.contrast=function(d){null==d&&(d=1);return a.format('<feComponentTransfer><feFuncR type=\"linear\" slope=\"{amount}\" intercept=\"{amount2}\"/><feFuncG type=\"linear\" slope=\"{amount}\" intercept=\"{amount2}\"/><feFuncB type=\"linear\" slope=\"{amount}\" intercept=\"{amount2}\"/></feComponentTransfer>',\n",
       "{amount:d,amount2:0.5-d/2})};a.filter.contrast.toString=function(){return this()}});return C});\n",
       "\n",
       "]]> </script>\n",
       "<script> <![CDATA[\n",
       "\n",
       "(function (glob, factory) {\n",
       "    // AMD support\n",
       "    if (typeof define === \"function\" && define.amd) {\n",
       "        // Define as an anonymous module\n",
       "        define(\"Gadfly\", [\"Snap.svg\"], function (Snap) {\n",
       "            return factory(Snap);\n",
       "        });\n",
       "    } else {\n",
       "        // Browser globals (glob is window)\n",
       "        // Snap adds itself to window\n",
       "        glob.Gadfly = factory(glob.Snap);\n",
       "    }\n",
       "}(this, function (Snap) {\n",
       "\n",
       "var Gadfly = {};\n",
       "\n",
       "// Get an x/y coordinate value in pixels\n",
       "var xPX = function(fig, x) {\n",
       "    var client_box = fig.node.getBoundingClientRect();\n",
       "    return x * fig.node.viewBox.baseVal.width / client_box.width;\n",
       "};\n",
       "\n",
       "var yPX = function(fig, y) {\n",
       "    var client_box = fig.node.getBoundingClientRect();\n",
       "    return y * fig.node.viewBox.baseVal.height / client_box.height;\n",
       "};\n",
       "\n",
       "\n",
       "Snap.plugin(function (Snap, Element, Paper, global) {\n",
       "    // Traverse upwards from a snap element to find and return the first\n",
       "    // note with the \"plotroot\" class.\n",
       "    Element.prototype.plotroot = function () {\n",
       "        var element = this;\n",
       "        while (!element.hasClass(\"plotroot\") && element.parent() != null) {\n",
       "            element = element.parent();\n",
       "        }\n",
       "        return element;\n",
       "    };\n",
       "\n",
       "    Element.prototype.svgroot = function () {\n",
       "        var element = this;\n",
       "        while (element.node.nodeName != \"svg\" && element.parent() != null) {\n",
       "            element = element.parent();\n",
       "        }\n",
       "        return element;\n",
       "    };\n",
       "\n",
       "    Element.prototype.plotbounds = function () {\n",
       "        var root = this.plotroot()\n",
       "        var bbox = root.select(\".guide.background\").node.getBBox();\n",
       "        return {\n",
       "            x0: bbox.x,\n",
       "            x1: bbox.x + bbox.width,\n",
       "            y0: bbox.y,\n",
       "            y1: bbox.y + bbox.height\n",
       "        };\n",
       "    };\n",
       "\n",
       "    Element.prototype.plotcenter = function () {\n",
       "        var root = this.plotroot()\n",
       "        var bbox = root.select(\".guide.background\").node.getBBox();\n",
       "        return {\n",
       "            x: bbox.x + bbox.width / 2,\n",
       "            y: bbox.y + bbox.height / 2\n",
       "        };\n",
       "    };\n",
       "\n",
       "    // Emulate IE style mouseenter/mouseleave events, since Microsoft always\n",
       "    // does everything right.\n",
       "    // See: http://www.dynamic-tools.net/toolbox/isMouseLeaveOrEnter/\n",
       "    var events = [\"mouseenter\", \"mouseleave\"];\n",
       "\n",
       "    for (i in events) {\n",
       "        (function (event_name) {\n",
       "            var event_name = events[i];\n",
       "            Element.prototype[event_name] = function (fn, scope) {\n",
       "                if (Snap.is(fn, \"function\")) {\n",
       "                    var fn2 = function (event) {\n",
       "                        if (event.type != \"mouseover\" && event.type != \"mouseout\") {\n",
       "                            return;\n",
       "                        }\n",
       "\n",
       "                        var reltg = event.relatedTarget ? event.relatedTarget :\n",
       "                            event.type == \"mouseout\" ? event.toElement : event.fromElement;\n",
       "                        while (reltg && reltg != this.node) reltg = reltg.parentNode;\n",
       "\n",
       "                        if (reltg != this.node) {\n",
       "                            return fn.apply(this, event);\n",
       "                        }\n",
       "                    };\n",
       "\n",
       "                    if (event_name == \"mouseenter\") {\n",
       "                        this.mouseover(fn2, scope);\n",
       "                    } else {\n",
       "                        this.mouseout(fn2, scope);\n",
       "                    }\n",
       "                }\n",
       "                return this;\n",
       "            };\n",
       "        })(events[i]);\n",
       "    }\n",
       "\n",
       "\n",
       "    Element.prototype.mousewheel = function (fn, scope) {\n",
       "        if (Snap.is(fn, \"function\")) {\n",
       "            var el = this;\n",
       "            var fn2 = function (event) {\n",
       "                fn.apply(el, [event]);\n",
       "            };\n",
       "        }\n",
       "\n",
       "        this.node.addEventListener(\n",
       "            /Firefox/i.test(navigator.userAgent) ? \"DOMMouseScroll\" : \"mousewheel\",\n",
       "            fn2);\n",
       "\n",
       "        return this;\n",
       "    };\n",
       "\n",
       "\n",
       "    // Snap's attr function can be too slow for things like panning/zooming.\n",
       "    // This is a function to directly update element attributes without going\n",
       "    // through eve.\n",
       "    Element.prototype.attribute = function(key, val) {\n",
       "        if (val === undefined) {\n",
       "            return this.node.getAttribute(key);\n",
       "        } else {\n",
       "            this.node.setAttribute(key, val);\n",
       "            return this;\n",
       "        }\n",
       "    };\n",
       "\n",
       "    Element.prototype.init_gadfly = function() {\n",
       "        this.mouseenter(Gadfly.plot_mouseover)\n",
       "            .mousemove(Gadfly.plot_mousemove)\n",
       "            .mouseleave(Gadfly.plot_mouseout)\n",
       "            .dblclick(Gadfly.plot_dblclick)\n",
       "            .mousewheel(Gadfly.guide_background_scroll)\n",
       "            .drag(Gadfly.guide_background_drag_onmove,\n",
       "                  Gadfly.guide_background_drag_onstart,\n",
       "                  Gadfly.guide_background_drag_onend);\n",
       "        this.mouseenter(function (event) {\n",
       "            init_pan_zoom(this.plotroot());\n",
       "        });\n",
       "        return this;\n",
       "    };\n",
       "});\n",
       "\n",
       "\n",
       "Gadfly.plot_mousemove = function(event, x_px, y_px) {\n",
       "    var root = this.plotroot();\n",
       "    if (root.data(\"crosshair\")) {\n",
       "        px_per_mm = root.data(\"px_per_mm\");\n",
       "        bB = root.select('boundingbox').node.getAttribute('value').split(' ');\n",
       "        uB = root.select('unitbox').node.getAttribute('value').split(' ');\n",
       "        xscale = root.data(\"xscale\");\n",
       "        yscale = root.data(\"yscale\");\n",
       "        xtranslate = root.data(\"tx\");\n",
       "        ytranslate = root.data(\"ty\");\n",
       "\n",
       "        xoff_mm = bB[0].substr(0,bB[0].length-2)/1;\n",
       "        yoff_mm = bB[1].substr(0,bB[1].length-2)/1;\n",
       "        xoff_unit = uB[0]/1;\n",
       "        yoff_unit = uB[1]/1;\n",
       "        mm_per_xunit = bB[2].substr(0,bB[2].length-2) / uB[2];\n",
       "        mm_per_yunit = bB[3].substr(0,bB[3].length-2) / uB[3];\n",
       "         \n",
       "        x_unit = ((x_px / px_per_mm - xtranslate) / xscale - xoff_mm) / mm_per_xunit + xoff_unit;\n",
       "        y_unit = ((y_px / px_per_mm - ytranslate) / yscale - yoff_mm) / mm_per_yunit + yoff_unit;\n",
       "\n",
       "        root.select('.crosshair').select('.primitive').select('text')\n",
       "                .node.innerHTML = x_unit.toPrecision(3)+\",\"+y_unit.toPrecision(3);\n",
       "    };\n",
       "};\n",
       "\n",
       "Gadfly.helpscreen_visible = function(event) {\n",
       "    helpscreen_visible(this.plotroot());\n",
       "};\n",
       "var helpscreen_visible = function(root) {\n",
       "    root.select(\".helpscreen\").animate({\"fill-opacity\": 1.0}, 250);\n",
       "};\n",
       "\n",
       "Gadfly.helpscreen_hidden = function(event) {\n",
       "    helpscreen_hidden(this.plotroot());\n",
       "};\n",
       "var helpscreen_hidden = function(root) {\n",
       "    root.select(\".helpscreen\").animate({\"fill-opacity\": 0.0}, 250);\n",
       "};\n",
       "\n",
       "// When the plot is moused over, emphasize the grid lines.\n",
       "Gadfly.plot_mouseover = function(event) {\n",
       "    var root = this.plotroot();\n",
       "\n",
       "    var keyboard_help = function(event) {\n",
       "        if (event.which == 191) { // ?\n",
       "            helpscreen_visible(root);\n",
       "        }\n",
       "    };\n",
       "    root.data(\"keyboard_help\", keyboard_help);\n",
       "    window.addEventListener(\"keydown\", keyboard_help);\n",
       "\n",
       "    var keyboard_pan_zoom = function(event) {\n",
       "        var bounds = root.plotbounds(),\n",
       "            width = bounds.x1 - bounds.x0;\n",
       "            height = bounds.y1 - bounds.y0;\n",
       "        if (event.which == 187 || event.which == 73) { // plus or i\n",
       "            increase_zoom_by_position(root, 0.1, true);\n",
       "        } else if (event.which == 189 || event.which == 79) { // minus or o\n",
       "            increase_zoom_by_position(root, -0.1, true);\n",
       "        } else if (event.which == 39 || event.which == 76) { // right-arrow or l\n",
       "            set_plot_pan_zoom(root, root.data(\"tx\")-width/10, root.data(\"ty\"),\n",
       "                    root.data(\"xscale\"), root.data(\"yscale\"));\n",
       "        } else if (event.which == 40 || event.which == 74) { // down-arrow or j\n",
       "            set_plot_pan_zoom(root, root.data(\"tx\"), root.data(\"ty\")-height/10,\n",
       "                    root.data(\"xscale\"), root.data(\"yscale\"));\n",
       "        } else if (event.which == 37 || event.which == 72) { // left-arrow or h\n",
       "            set_plot_pan_zoom(root, root.data(\"tx\")+width/10, root.data(\"ty\"),\n",
       "                    root.data(\"xscale\"), root.data(\"yscale\"));\n",
       "        } else if (event.which == 38 || event.which == 75) { // up-arrow or k\n",
       "            set_plot_pan_zoom(root, root.data(\"tx\"), root.data(\"ty\")+height/10,\n",
       "                    root.data(\"xscale\"), root.data(\"yscale\"));\n",
       "        } else if (event.which == 82) { // r\n",
       "            set_plot_pan_zoom(root, 0.0, 0.0, 1.0, 1.0);\n",
       "        } else if (event.which == 191) { // ?\n",
       "            helpscreen_hidden(root);\n",
       "        } else if (event.which == 67) { // c\n",
       "            root.data(\"crosshair\",!root.data(\"crosshair\"));\n",
       "            root.select(\".crosshair\")\n",
       "                .animate({\"fill-opacity\": root.data(\"crosshair\") ? 1.0 : 0.0}, 250);\n",
       "        }\n",
       "    };\n",
       "    root.data(\"keyboard_pan_zoom\", keyboard_pan_zoom);\n",
       "    window.addEventListener(\"keyup\", keyboard_pan_zoom);\n",
       "\n",
       "    var xgridlines = root.select(\".xgridlines\"),\n",
       "        ygridlines = root.select(\".ygridlines\");\n",
       "\n",
       "    if (xgridlines) {\n",
       "        xgridlines.data(\"unfocused_strokedash\",\n",
       "                        xgridlines.attribute(\"stroke-dasharray\").replace(/(\\d)(,|$)/g, \"$1mm$2\"));\n",
       "        var destcolor = root.data(\"focused_xgrid_color\");\n",
       "        xgridlines.attribute(\"stroke-dasharray\", \"none\")\n",
       "                  .selectAll(\"path\")\n",
       "                  .animate({stroke: destcolor}, 250);\n",
       "    }\n",
       "\n",
       "    if (ygridlines) {\n",
       "        ygridlines.data(\"unfocused_strokedash\",\n",
       "                        ygridlines.attribute(\"stroke-dasharray\").replace(/(\\d)(,|$)/g, \"$1mm$2\"));\n",
       "        var destcolor = root.data(\"focused_ygrid_color\");\n",
       "        ygridlines.attribute(\"stroke-dasharray\", \"none\")\n",
       "                  .selectAll(\"path\")\n",
       "                  .animate({stroke: destcolor}, 250);\n",
       "    }\n",
       "\n",
       "    root.select(\".crosshair\")\n",
       "        .animate({\"fill-opacity\": root.data(\"crosshair\") ? 1.0 : 0.0}, 250);\n",
       "    root.select(\".questionmark\").animate({\"fill-opacity\": 1.0}, 250);\n",
       "};\n",
       "\n",
       "// Reset pan and zoom on double click\n",
       "Gadfly.plot_dblclick = function(event) {\n",
       "  set_plot_pan_zoom(this.plotroot(), 0.0, 0.0, 1.0, 1.0);\n",
       "};\n",
       "\n",
       "// Unemphasize grid lines on mouse out.\n",
       "Gadfly.plot_mouseout = function(event) {\n",
       "    var root = this.plotroot();\n",
       "\n",
       "    window.removeEventListener(\"keyup\", root.data(\"keyboard_pan_zoom\"));\n",
       "    root.data(\"keyboard_pan_zoom\", undefined);\n",
       "    window.removeEventListener(\"keydown\", root.data(\"keyboard_help\"));\n",
       "    root.data(\"keyboard_help\", undefined);\n",
       "\n",
       "    var xgridlines = root.select(\".xgridlines\"),\n",
       "        ygridlines = root.select(\".ygridlines\");\n",
       "\n",
       "    if (xgridlines) {\n",
       "        var destcolor = root.data(\"unfocused_xgrid_color\");\n",
       "        xgridlines.attribute(\"stroke-dasharray\", xgridlines.data(\"unfocused_strokedash\"))\n",
       "                  .selectAll(\"path\")\n",
       "                  .animate({stroke: destcolor}, 250);\n",
       "    }\n",
       "\n",
       "    if (ygridlines) {\n",
       "        var destcolor = root.data(\"unfocused_ygrid_color\");\n",
       "        ygridlines.attribute(\"stroke-dasharray\", ygridlines.data(\"unfocused_strokedash\"))\n",
       "                  .selectAll(\"path\")\n",
       "                  .animate({stroke: destcolor}, 250);\n",
       "    }\n",
       "\n",
       "    root.select(\".crosshair\").animate({\"fill-opacity\": 0.0}, 250);\n",
       "    root.select(\".questionmark\").animate({\"fill-opacity\": 0.0}, 250);\n",
       "    helpscreen_hidden(root);\n",
       "};\n",
       "\n",
       "\n",
       "var set_geometry_transform = function(root, tx, ty, xscale, yscale) {\n",
       "    var xscalable = root.hasClass(\"xscalable\"),\n",
       "        yscalable = root.hasClass(\"yscalable\");\n",
       "\n",
       "    var old_xscale = root.data(\"xscale\"),\n",
       "        old_yscale = root.data(\"yscale\");\n",
       "\n",
       "    var xscale = xscalable ? xscale : 1.0,\n",
       "        yscale = yscalable ? yscale : 1.0;\n",
       "\n",
       "    tx = xscalable ? tx : 0.0;\n",
       "    ty = yscalable ? ty : 0.0;\n",
       "\n",
       "    var t = new Snap.Matrix().translate(tx, ty).scale(xscale, yscale);\n",
       "    root.selectAll(\".geometry, image\").forEach(function (element, i) {\n",
       "            element.transform(t);\n",
       "        });\n",
       "\n",
       "    var t = new Snap.Matrix().scale(1.0/xscale, 1.0/yscale);\n",
       "    root.selectAll('.marker').forEach(function (element, i) {\n",
       "        element.selectAll('.primitive').forEach(function (element, i) {\n",
       "            element.transform(t);\n",
       "        }) });\n",
       "\n",
       "    bounds = root.plotbounds();\n",
       "    px_per_mm = root.data(\"px_per_mm\");\n",
       "\n",
       "    if (yscalable) {\n",
       "        var xfixed_t = new Snap.Matrix().translate(0, ty).scale(1.0, yscale);\n",
       "        root.selectAll(\".xfixed\")\n",
       "            .forEach(function (element, i) {\n",
       "                element.transform(xfixed_t);\n",
       "            });\n",
       "\n",
       "        ylabels = root.select(\".ylabels\");\n",
       "        if (ylabels) {\n",
       "            ylabels.transform(xfixed_t)\n",
       "                   .selectAll(\"g\")\n",
       "                   .forEach(function (element, i) {\n",
       "                       if (element.attribute(\"gadfly:inscale\") == \"true\") {\n",
       "                           unscale_t = new Snap.Matrix();\n",
       "                           unscale_t.scale(1, 1/yscale);\n",
       "                           element.select(\"text\").transform(unscale_t);\n",
       " \n",
       "                           var y = element.attr(\"transform\").globalMatrix.f / px_per_mm;\n",
       "                           element.attr(\"visibility\",\n",
       "                               bounds.y0 <= y && y <= bounds.y1 ? \"visible\" : \"hidden\");\n",
       "                       }\n",
       "                   });\n",
       "        }\n",
       "    }\n",
       "\n",
       "    if (xscalable) {\n",
       "        var yfixed_t = new Snap.Matrix().translate(tx, 0).scale(xscale, 1.0);\n",
       "        var xtrans = new Snap.Matrix().translate(tx, 0);\n",
       "        root.selectAll(\".yfixed\")\n",
       "            .forEach(function (element, i) {\n",
       "                element.transform(yfixed_t);\n",
       "            });\n",
       "\n",
       "        xlabels = root.select(\".xlabels\");\n",
       "        if (xlabels) {\n",
       "            xlabels.transform(yfixed_t)\n",
       "                   .selectAll(\"g\")\n",
       "                   .forEach(function (element, i) {\n",
       "                       if (element.attribute(\"gadfly:inscale\") == \"true\") {\n",
       "                           unscale_t = new Snap.Matrix();\n",
       "                           unscale_t.scale(1/xscale, 1);\n",
       "                           element.select(\"text\").transform(unscale_t);\n",
       "\n",
       "                           var x = element.attr(\"transform\").globalMatrix.e / px_per_mm;\n",
       "                           element.attr(\"visibility\",\n",
       "                               bounds.x0 <= x && x <= bounds.x1 ? \"visible\" : \"hidden\");\n",
       "                           }\n",
       "                   });\n",
       "        }\n",
       "    }\n",
       "};\n",
       "\n",
       "\n",
       "// Find the most appropriate tick scale and update label visibility.\n",
       "var update_tickscale = function(root, scale, axis) {\n",
       "    if (!root.hasClass(axis + \"scalable\")) return;\n",
       "\n",
       "    var tickscales = root.data(axis + \"tickscales\");\n",
       "    var best_tickscale = 1.0;\n",
       "    var best_tickscale_dist = Infinity;\n",
       "    for (tickscale in tickscales) {\n",
       "        var dist = Math.abs(Math.log(tickscale) - Math.log(scale));\n",
       "        if (dist < best_tickscale_dist) {\n",
       "            best_tickscale_dist = dist;\n",
       "            best_tickscale = tickscale;\n",
       "        }\n",
       "    }\n",
       "\n",
       "    if (best_tickscale != root.data(axis + \"tickscale\")) {\n",
       "        root.data(axis + \"tickscale\", best_tickscale);\n",
       "        var mark_inscale_gridlines = function (element, i) {\n",
       "            if (element.attribute(\"gadfly:inscale\") == null) { return; }\n",
       "            var inscale = element.attr(\"gadfly:scale\") == best_tickscale;\n",
       "            element.attribute(\"gadfly:inscale\", inscale);\n",
       "            element.attr(\"visibility\", inscale ? \"visible\" : \"hidden\");\n",
       "        };\n",
       "\n",
       "        var mark_inscale_labels = function (element, i) {\n",
       "            if (element.attribute(\"gadfly:inscale\") == null) { return; }\n",
       "            var inscale = element.attr(\"gadfly:scale\") == best_tickscale;\n",
       "            element.attribute(\"gadfly:inscale\", inscale);\n",
       "            element.attr(\"visibility\", inscale ? \"visible\" : \"hidden\");\n",
       "        };\n",
       "\n",
       "        root.select(\".\" + axis + \"gridlines\").selectAll(\"g\").forEach(mark_inscale_gridlines);\n",
       "        root.select(\".\" + axis + \"labels\").selectAll(\"g\").forEach(mark_inscale_labels);\n",
       "    }\n",
       "};\n",
       "\n",
       "\n",
       "var set_plot_pan_zoom = function(root, tx, ty, xscale, yscale) {\n",
       "    var old_xscale = root.data(\"xscale\"),\n",
       "        old_yscale = root.data(\"yscale\");\n",
       "    var bounds = root.plotbounds();\n",
       "\n",
       "    var width = bounds.x1 - bounds.x0,\n",
       "        height = bounds.y1 - bounds.y0;\n",
       "\n",
       "    // compute the viewport derived from tx, ty, xscale, and yscale\n",
       "    var x_min = -width * xscale - (xscale * width - width),\n",
       "        x_max = width * xscale,\n",
       "        y_min = -height * yscale - (yscale * height - height),\n",
       "        y_max = height * yscale;\n",
       "\n",
       "    var x0 = bounds.x0 - xscale * bounds.x0,\n",
       "        y0 = bounds.y0 - yscale * bounds.y0;\n",
       "\n",
       "    var tx = Math.max(Math.min(tx - x0, x_max), x_min),\n",
       "        ty = Math.max(Math.min(ty - y0, y_max), y_min);\n",
       "\n",
       "    tx += x0;\n",
       "    ty += y0;\n",
       "\n",
       "    // when the scale changes, we may need to alter which set of\n",
       "    // ticks are being displayed\n",
       "    if (xscale != old_xscale) {\n",
       "        update_tickscale(root, xscale, \"x\");\n",
       "    }\n",
       "    if (yscale != old_yscale) {\n",
       "        update_tickscale(root, yscale, \"y\");\n",
       "    }\n",
       "\n",
       "    set_geometry_transform(root, tx, ty, xscale, yscale);\n",
       "\n",
       "    root.data(\"xscale\", xscale);\n",
       "    root.data(\"yscale\", yscale);\n",
       "    root.data(\"tx\", tx);\n",
       "    root.data(\"ty\", ty);\n",
       "};\n",
       "\n",
       "\n",
       "var scale_centered_translation = function(root, xscale, yscale) {\n",
       "    var bounds = root.plotbounds();\n",
       "\n",
       "    var width = bounds.x1 - bounds.x0,\n",
       "        height = bounds.y1 - bounds.y0;\n",
       "\n",
       "    var tx0 = root.data(\"tx\"),\n",
       "        ty0 = root.data(\"ty\");\n",
       "\n",
       "    var xscale0 = root.data(\"xscale\"),\n",
       "        yscale0 = root.data(\"yscale\");\n",
       "\n",
       "    // how off from center the current view is\n",
       "    var xoff = tx0 - (bounds.x0 * (1 - xscale0) + (width * (1 - xscale0)) / 2),\n",
       "        yoff = ty0 - (bounds.y0 * (1 - yscale0) + (height * (1 - yscale0)) / 2);\n",
       "\n",
       "    // rescale offsets\n",
       "    xoff = xoff * xscale / xscale0;\n",
       "    yoff = yoff * yscale / yscale0;\n",
       "\n",
       "    // adjust for the panel position being scaled\n",
       "    var x_edge_adjust = bounds.x0 * (1 - xscale),\n",
       "        y_edge_adjust = bounds.y0 * (1 - yscale);\n",
       "\n",
       "    return {\n",
       "        x: xoff + x_edge_adjust + (width - width * xscale) / 2,\n",
       "        y: yoff + y_edge_adjust + (height - height * yscale) / 2\n",
       "    };\n",
       "};\n",
       "\n",
       "\n",
       "// Initialize data for panning zooming if it isn't already.\n",
       "var init_pan_zoom = function(root) {\n",
       "    if (root.data(\"zoompan-ready\")) {\n",
       "        return;\n",
       "    }\n",
       "\n",
       "    root.data(\"crosshair\",false);\n",
       "\n",
       "    // The non-scaling-stroke trick. Rather than try to correct for the\n",
       "    // stroke-width when zooming, we force it to a fixed value.\n",
       "    var px_per_mm = root.node.getCTM().a;\n",
       "\n",
       "    // Drag events report deltas in pixels, which we'd like to convert to\n",
       "    // millimeters.\n",
       "    root.data(\"px_per_mm\", px_per_mm);\n",
       "\n",
       "    root.selectAll(\"path\")\n",
       "        .forEach(function (element, i) {\n",
       "        sw = element.asPX(\"stroke-width\") * px_per_mm;\n",
       "        if (sw > 0) {\n",
       "            element.attribute(\"stroke-width\", sw);\n",
       "            element.attribute(\"vector-effect\", \"non-scaling-stroke\");\n",
       "        }\n",
       "    });\n",
       "\n",
       "    // Store ticks labels original tranformation\n",
       "    root.selectAll(\".xlabels > g, .ylabels > g\")\n",
       "        .forEach(function (element, i) {\n",
       "            var lm = element.transform().localMatrix;\n",
       "            element.data(\"static_transform\",\n",
       "                new Snap.Matrix(lm.a, lm.b, lm.c, lm.d, lm.e, lm.f));\n",
       "        });\n",
       "\n",
       "    var xgridlines = root.select(\".xgridlines\");\n",
       "    var ygridlines = root.select(\".ygridlines\");\n",
       "    var xlabels = root.select(\".xlabels\");\n",
       "    var ylabels = root.select(\".ylabels\");\n",
       "\n",
       "    if (root.data(\"tx\") === undefined) root.data(\"tx\", 0);\n",
       "    if (root.data(\"ty\") === undefined) root.data(\"ty\", 0);\n",
       "    if (root.data(\"xscale\") === undefined) root.data(\"xscale\", 1.0);\n",
       "    if (root.data(\"yscale\") === undefined) root.data(\"yscale\", 1.0);\n",
       "    if (root.data(\"xtickscales\") === undefined) {\n",
       "\n",
       "        // index all the tick scales that are listed\n",
       "        var xtickscales = {};\n",
       "        var ytickscales = {};\n",
       "        var add_x_tick_scales = function (element, i) {\n",
       "            if (element.attribute(\"gadfly:scale\")==null) { return; }\n",
       "            xtickscales[element.attribute(\"gadfly:scale\")] = true;\n",
       "        };\n",
       "        var add_y_tick_scales = function (element, i) {\n",
       "            if (element.attribute(\"gadfly:scale\")==null) { return; }\n",
       "            ytickscales[element.attribute(\"gadfly:scale\")] = true;\n",
       "        };\n",
       "\n",
       "        if (xgridlines) xgridlines.selectAll(\"g\").forEach(add_x_tick_scales);\n",
       "        if (ygridlines) ygridlines.selectAll(\"g\").forEach(add_y_tick_scales);\n",
       "        if (xlabels) xlabels.selectAll(\"g\").forEach(add_x_tick_scales);\n",
       "        if (ylabels) ylabels.selectAll(\"g\").forEach(add_y_tick_scales);\n",
       "\n",
       "        root.data(\"xtickscales\", xtickscales);\n",
       "        root.data(\"ytickscales\", ytickscales);\n",
       "        root.data(\"xtickscale\", 1.0);\n",
       "        root.data(\"ytickscale\", 1.0);  // ???\n",
       "    }\n",
       "\n",
       "    var min_scale = 1.0, max_scale = 1.0;\n",
       "    for (scale in xtickscales) {\n",
       "        min_scale = Math.min(min_scale, scale);\n",
       "        max_scale = Math.max(max_scale, scale);\n",
       "    }\n",
       "    for (scale in ytickscales) {\n",
       "        min_scale = Math.min(min_scale, scale);\n",
       "        max_scale = Math.max(max_scale, scale);\n",
       "    }\n",
       "    root.data(\"min_scale\", min_scale);\n",
       "    root.data(\"max_scale\", max_scale);\n",
       "\n",
       "    // store the original positions of labels\n",
       "    if (xlabels) {\n",
       "        xlabels.selectAll(\"g\")\n",
       "               .forEach(function (element, i) {\n",
       "                   element.data(\"x\", element.asPX(\"x\"));\n",
       "               });\n",
       "    }\n",
       "\n",
       "    if (ylabels) {\n",
       "        ylabels.selectAll(\"g\")\n",
       "               .forEach(function (element, i) {\n",
       "                   element.data(\"y\", element.asPX(\"y\"));\n",
       "               });\n",
       "    }\n",
       "\n",
       "    // mark grid lines and ticks as in or out of scale.\n",
       "    var mark_inscale = function (element, i) {\n",
       "        if (element.attribute(\"gadfly:scale\") == null) { return; }\n",
       "        element.attribute(\"gadfly:inscale\", element.attribute(\"gadfly:scale\") == 1.0);\n",
       "    };\n",
       "\n",
       "    if (xgridlines) xgridlines.selectAll(\"g\").forEach(mark_inscale);\n",
       "    if (ygridlines) ygridlines.selectAll(\"g\").forEach(mark_inscale);\n",
       "    if (xlabels) xlabels.selectAll(\"g\").forEach(mark_inscale);\n",
       "    if (ylabels) ylabels.selectAll(\"g\").forEach(mark_inscale);\n",
       "\n",
       "    // figure out the upper ond lower bounds on panning using the maximum\n",
       "    // and minum grid lines\n",
       "    var bounds = root.plotbounds();\n",
       "    var pan_bounds = {\n",
       "        x0: 0.0,\n",
       "        y0: 0.0,\n",
       "        x1: 0.0,\n",
       "        y1: 0.0\n",
       "    };\n",
       "\n",
       "    if (xgridlines) {\n",
       "        xgridlines\n",
       "            .selectAll(\"g\")\n",
       "            .forEach(function (element, i) {\n",
       "                if (element.attribute(\"gadfly:inscale\") == \"true\") {\n",
       "                    var bbox = element.node.getBBox();\n",
       "                    if (bounds.x1 - bbox.x < pan_bounds.x0) {\n",
       "                        pan_bounds.x0 = bounds.x1 - bbox.x;\n",
       "                    }\n",
       "                    if (bounds.x0 - bbox.x > pan_bounds.x1) {\n",
       "                        pan_bounds.x1 = bounds.x0 - bbox.x;\n",
       "                    }\n",
       "                    element.attr(\"visibility\", \"visible\");\n",
       "                }\n",
       "            });\n",
       "    }\n",
       "\n",
       "    if (ygridlines) {\n",
       "        ygridlines\n",
       "            .selectAll(\"g\")\n",
       "            .forEach(function (element, i) {\n",
       "                if (element.attribute(\"gadfly:inscale\") == \"true\") {\n",
       "                    var bbox = element.node.getBBox();\n",
       "                    if (bounds.y1 - bbox.y < pan_bounds.y0) {\n",
       "                        pan_bounds.y0 = bounds.y1 - bbox.y;\n",
       "                    }\n",
       "                    if (bounds.y0 - bbox.y > pan_bounds.y1) {\n",
       "                        pan_bounds.y1 = bounds.y0 - bbox.y;\n",
       "                    }\n",
       "                    element.attr(\"visibility\", \"visible\");\n",
       "                }\n",
       "            });\n",
       "    }\n",
       "\n",
       "    // nudge these values a little\n",
       "    pan_bounds.x0 -= 5;\n",
       "    pan_bounds.x1 += 5;\n",
       "    pan_bounds.y0 -= 5;\n",
       "    pan_bounds.y1 += 5;\n",
       "    root.data(\"pan_bounds\", pan_bounds);\n",
       "\n",
       "    root.data(\"zoompan-ready\", true)\n",
       "};\n",
       "\n",
       "\n",
       "// drag actions, i.e. zooming and panning\n",
       "var pan_action = {\n",
       "    start: function(root, x, y, event) {\n",
       "        root.data(\"dx\", 0);\n",
       "        root.data(\"dy\", 0);\n",
       "        root.data(\"tx0\", root.data(\"tx\"));\n",
       "        root.data(\"ty0\", root.data(\"ty\"));\n",
       "    },\n",
       "    update: function(root, dx, dy, x, y, event) {\n",
       "        var px_per_mm = root.data(\"px_per_mm\");\n",
       "        dx /= px_per_mm;\n",
       "        dy /= px_per_mm;\n",
       "\n",
       "        var tx0 = root.data(\"tx\"),\n",
       "            ty0 = root.data(\"ty\");\n",
       "\n",
       "        var dx0 = root.data(\"dx\"),\n",
       "            dy0 = root.data(\"dy\");\n",
       "\n",
       "        root.data(\"dx\", dx);\n",
       "        root.data(\"dy\", dy);\n",
       "\n",
       "        dx = dx - dx0;\n",
       "        dy = dy - dy0;\n",
       "\n",
       "        var tx = tx0 + dx,\n",
       "            ty = ty0 + dy;\n",
       "\n",
       "        set_plot_pan_zoom(root, tx, ty, root.data(\"xscale\"), root.data(\"yscale\"));\n",
       "    },\n",
       "    end: function(root, event) {\n",
       "\n",
       "    },\n",
       "    cancel: function(root) {\n",
       "        set_plot_pan_zoom(root, root.data(\"tx0\"), root.data(\"ty0\"),\n",
       "                root.data(\"xscale\"), root.data(\"yscale\"));\n",
       "    }\n",
       "};\n",
       "\n",
       "var zoom_box;\n",
       "var zoom_action = {\n",
       "    start: function(root, x, y, event) {\n",
       "        var bounds = root.plotbounds();\n",
       "        var width = bounds.x1 - bounds.x0,\n",
       "            height = bounds.y1 - bounds.y0;\n",
       "        var xscalable = root.hasClass(\"xscalable\"),\n",
       "            yscalable = root.hasClass(\"yscalable\");\n",
       "        var px_per_mm = root.data(\"px_per_mm\");\n",
       "        x = xscalable ? x / px_per_mm : bounds.x0;\n",
       "        y = yscalable ? y / px_per_mm : bounds.y0;\n",
       "        var w = xscalable ? 0 : width;\n",
       "        var h = yscalable ? 0 : height;\n",
       "        zoom_box = root.rect(x, y, w, h).attr({\n",
       "            \"fill\": \"#000\",\n",
       "            \"fill-opacity\": 0.25\n",
       "        });\n",
       "    },\n",
       "    update: function(root, dx, dy, x, y, event) {\n",
       "        var xscalable = root.hasClass(\"xscalable\"),\n",
       "            yscalable = root.hasClass(\"yscalable\");\n",
       "        var px_per_mm = root.data(\"px_per_mm\");\n",
       "        var bounds = root.plotbounds();\n",
       "        if (yscalable) {\n",
       "            y /= px_per_mm;\n",
       "            y = Math.max(bounds.y0, y);\n",
       "            y = Math.min(bounds.y1, y);\n",
       "        } else {\n",
       "            y = bounds.y1;\n",
       "        }\n",
       "        if (xscalable) {\n",
       "            x /= px_per_mm;\n",
       "            x = Math.max(bounds.x0, x);\n",
       "            x = Math.min(bounds.x1, x);\n",
       "        } else {\n",
       "            x = bounds.x1;\n",
       "        }\n",
       "\n",
       "        dx = x - zoom_box.attr(\"x\");\n",
       "        dy = y - zoom_box.attr(\"y\");\n",
       "        var xoffset = 0,\n",
       "            yoffset = 0;\n",
       "        if (dx < 0) {\n",
       "            xoffset = dx;\n",
       "            dx = -1 * dx;\n",
       "        }\n",
       "        if (dy < 0) {\n",
       "            yoffset = dy;\n",
       "            dy = -1 * dy;\n",
       "        }\n",
       "        if (isNaN(dy)) {\n",
       "            dy = 0.0;\n",
       "        }\n",
       "        if (isNaN(dx)) {\n",
       "            dx = 0.0;\n",
       "        }\n",
       "        zoom_box.transform(\"T\" + xoffset + \",\" + yoffset);\n",
       "        zoom_box.attr(\"width\", dx);\n",
       "        zoom_box.attr(\"height\", dy);\n",
       "    },\n",
       "    end: function(root, event) {\n",
       "        var xscalable = root.hasClass(\"xscalable\"),\n",
       "            yscalable = root.hasClass(\"yscalable\");\n",
       "        var zoom_bounds = zoom_box.getBBox();\n",
       "        if (zoom_bounds.width * zoom_bounds.height <= 0) {\n",
       "            return;\n",
       "        }\n",
       "        var plot_bounds = root.plotbounds();\n",
       "        var xzoom_factor = 1.0,\n",
       "            yzoom_factor = 1.0;\n",
       "        if (xscalable) {\n",
       "            xzoom_factor = (plot_bounds.x1 - plot_bounds.x0) / zoom_bounds.width;\n",
       "        }\n",
       "        if (yscalable) {\n",
       "            yzoom_factor = (plot_bounds.y1 - plot_bounds.y0) / zoom_bounds.height;\n",
       "        }\n",
       "        var tx = (root.data(\"tx\") - zoom_bounds.x) * xzoom_factor + plot_bounds.x0,\n",
       "            ty = (root.data(\"ty\") - zoom_bounds.y) * yzoom_factor + plot_bounds.y0;\n",
       "        set_plot_pan_zoom(root, tx, ty,\n",
       "                root.data(\"xscale\") * xzoom_factor, root.data(\"yscale\") * yzoom_factor);\n",
       "        zoom_box.remove();\n",
       "    },\n",
       "    cancel: function(root) {\n",
       "        zoom_box.remove();\n",
       "    }\n",
       "};\n",
       "\n",
       "\n",
       "Gadfly.guide_background_drag_onstart = function(x, y, event) {\n",
       "    var root = this.plotroot();\n",
       "    var scalable = root.hasClass(\"xscalable\") || root.hasClass(\"yscalable\");\n",
       "    var zoomable = !event.altKey && !event.ctrlKey && event.shiftKey && scalable;\n",
       "    var panable = !event.altKey && !event.ctrlKey && !event.shiftKey && scalable;\n",
       "    var drag_action = zoomable ? zoom_action :\n",
       "                      panable  ? pan_action :\n",
       "                                 undefined;\n",
       "    root.data(\"drag_action\", drag_action);\n",
       "    if (drag_action) {\n",
       "        var cancel_drag_action = function(event) {\n",
       "            if (event.which == 27) { // esc key\n",
       "                drag_action.cancel(root);\n",
       "                root.data(\"drag_action\", undefined);\n",
       "            }\n",
       "        };\n",
       "        window.addEventListener(\"keyup\", cancel_drag_action);\n",
       "        root.data(\"cancel_drag_action\", cancel_drag_action);\n",
       "        drag_action.start(root, x, y, event);\n",
       "    }\n",
       "};\n",
       "\n",
       "\n",
       "Gadfly.guide_background_drag_onmove = function(dx, dy, x, y, event) {\n",
       "    var root = this.plotroot();\n",
       "    var drag_action = root.data(\"drag_action\");\n",
       "    if (drag_action) {\n",
       "        drag_action.update(root, dx, dy, x, y, event);\n",
       "    }\n",
       "};\n",
       "\n",
       "\n",
       "Gadfly.guide_background_drag_onend = function(event) {\n",
       "    var root = this.plotroot();\n",
       "    window.removeEventListener(\"keyup\", root.data(\"cancel_drag_action\"));\n",
       "    root.data(\"cancel_drag_action\", undefined);\n",
       "    var drag_action = root.data(\"drag_action\");\n",
       "    if (drag_action) {\n",
       "        drag_action.end(root, event);\n",
       "    }\n",
       "    root.data(\"drag_action\", undefined);\n",
       "};\n",
       "\n",
       "\n",
       "Gadfly.guide_background_scroll = function(event) {\n",
       "    if (event.shiftKey) {\n",
       "        increase_zoom_by_position(this.plotroot(), 0.001 * event.wheelDelta);\n",
       "        event.preventDefault();\n",
       "    }\n",
       "};\n",
       "\n",
       "// Map slider position x to scale y using the function y = a*exp(b*x)+c.\n",
       "// The constants a, b, and c are solved using the constraint that the function\n",
       "// should go through the points (0; min_scale), (0.5; 1), and (1; max_scale).\n",
       "var scale_from_slider_position = function(position, min_scale, max_scale) {\n",
       "    if (min_scale==max_scale) { return 1; }\n",
       "    var a = (1 - 2 * min_scale + min_scale * min_scale) / (min_scale + max_scale - 2),\n",
       "        b = 2 * Math.log((max_scale - 1) / (1 - min_scale)),\n",
       "        c = (min_scale * max_scale - 1) / (min_scale + max_scale - 2);\n",
       "    return a * Math.exp(b * position) + c;\n",
       "}\n",
       "\n",
       "// inverse of scale_from_slider_position\n",
       "var slider_position_from_scale = function(scale, min_scale, max_scale) {\n",
       "    if (min_scale==max_scale) { return min_scale; }\n",
       "    var a = (1 - 2 * min_scale + min_scale * min_scale) / (min_scale + max_scale - 2),\n",
       "        b = 2 * Math.log((max_scale - 1) / (1 - min_scale)),\n",
       "        c = (min_scale * max_scale - 1) / (min_scale + max_scale - 2);\n",
       "    return 1 / b * Math.log((scale - c) / a);\n",
       "}\n",
       "\n",
       "var increase_zoom_by_position = function(root, delta_position, animate) {\n",
       "    var old_xscale = root.data(\"xscale\"),\n",
       "        old_yscale = root.data(\"yscale\"),\n",
       "        min_scale = root.data(\"min_scale\"),\n",
       "        max_scale = root.data(\"max_scale\");\n",
       "    var xposition = slider_position_from_scale(old_xscale, min_scale, max_scale),\n",
       "        yposition = slider_position_from_scale(old_yscale, min_scale, max_scale);\n",
       "    xposition += (root.hasClass(\"xscalable\") ? delta_position : 0.0);\n",
       "    yposition += (root.hasClass(\"yscalable\") ? delta_position : 0.0);\n",
       "    old_xscale = scale_from_slider_position(xposition, min_scale, max_scale);\n",
       "    old_yscale = scale_from_slider_position(yposition, min_scale, max_scale);\n",
       "    var new_xscale = Math.max(min_scale, Math.min(old_xscale, max_scale)),\n",
       "        new_yscale = Math.max(min_scale, Math.min(old_yscale, max_scale));\n",
       "    if (animate) {\n",
       "        Snap.animate(\n",
       "            [old_xscale, old_yscale],\n",
       "            [new_xscale, new_yscale],\n",
       "            function (new_scale) {\n",
       "                update_plot_scale(root, new_scale[0], new_scale[1]);\n",
       "            },\n",
       "            200);\n",
       "    } else {\n",
       "        update_plot_scale(root, new_xscale, new_yscale);\n",
       "    }\n",
       "}\n",
       "\n",
       "\n",
       "var update_plot_scale = function(root, new_xscale, new_yscale) {\n",
       "    var trans = scale_centered_translation(root, new_xscale, new_yscale);\n",
       "    set_plot_pan_zoom(root, trans.x, trans.y, new_xscale, new_yscale);\n",
       "};\n",
       "\n",
       "\n",
       "var toggle_color_class = function(root, color_class, ison) {\n",
       "    var escaped_color_class = color_class.replace(/([^0-9a-zA-z])/g,\"\\\\$1\");\n",
       "    var guides = root.selectAll(\".guide.\" + escaped_color_class + \",.guide .\" + escaped_color_class);\n",
       "    var geoms = root.selectAll(\".geometry.\" + escaped_color_class + \",.geometry .\" + escaped_color_class);\n",
       "    if (ison) {\n",
       "        guides.animate({opacity: 0.5}, 250);\n",
       "        geoms.animate({opacity: 0.0}, 250);\n",
       "    } else {\n",
       "        guides.animate({opacity: 1.0}, 250);\n",
       "        geoms.animate({opacity: 1.0}, 250);\n",
       "    }\n",
       "};\n",
       "\n",
       "\n",
       "Gadfly.colorkey_swatch_click = function(event) {\n",
       "    var root = this.plotroot();\n",
       "    var color_class = this.data(\"color_class\");\n",
       "\n",
       "    if (event.shiftKey) {\n",
       "        root.selectAll(\".colorkey g\")\n",
       "            .forEach(function (element) {\n",
       "                var other_color_class = element.data(\"color_class\");\n",
       "                if (typeof other_color_class !== 'undefined' && other_color_class != color_class) {\n",
       "                    toggle_color_class(root, other_color_class,\n",
       "                                       element.attr(\"opacity\") == 1.0);\n",
       "                }\n",
       "            });\n",
       "    } else {\n",
       "        toggle_color_class(root, color_class, this.attr(\"opacity\") == 1.0);\n",
       "    }\n",
       "};\n",
       "\n",
       "\n",
       "return Gadfly;\n",
       "\n",
       "}));\n",
       "\n",
       "\n",
       "//@ sourceURL=gadfly.js\n",
       "\n",
       "(function (glob, factory) {\n",
       "    // AMD support\n",
       "      if (typeof require === \"function\" && typeof define === \"function\" && define.amd) {\n",
       "        require([\"Snap.svg\", \"Gadfly\"], function (Snap, Gadfly) {\n",
       "            factory(Snap, Gadfly);\n",
       "        });\n",
       "      } else {\n",
       "          factory(glob.Snap, glob.Gadfly);\n",
       "      }\n",
       "})(window, function (Snap, Gadfly) {\n",
       "    var fig = Snap(\"#img-a109cf01\");\n",
       "fig.select(\"#img-a109cf01-4\")\n",
       "   .init_gadfly();\n",
       "fig.select(\"#img-a109cf01-7\")\n",
       "   .plotroot().data(\"unfocused_ygrid_color\", \"#D0D0E0\")\n",
       ";\n",
       "fig.select(\"#img-a109cf01-7\")\n",
       "   .plotroot().data(\"focused_ygrid_color\", \"#A0A0A0\")\n",
       ";\n",
       "fig.select(\"#img-a109cf01-114\")\n",
       "   .plotroot().data(\"unfocused_xgrid_color\", \"#D0D0E0\")\n",
       ";\n",
       "fig.select(\"#img-a109cf01-114\")\n",
       "   .plotroot().data(\"focused_xgrid_color\", \"#A0A0A0\")\n",
       ";\n",
       "fig.select(\"#img-a109cf01-238\")\n",
       "   .mouseenter(Gadfly.helpscreen_visible)\n",
       ".mouseleave(Gadfly.helpscreen_hidden)\n",
       ";\n",
       "    });\n",
       "]]> </script>\n",
       "</svg>\n"
      ],
      "text/plain": [
       "Plot(...)"
      ]
     },
     "execution_count": 110,
     "metadata": {},
     "output_type": "execute_result"
    }
   ],
   "source": [
    "each_lams_mean = mean(each_lams)\n",
    "each_lams_std = std(each_lams)\n",
    "upperline = each_lams_mean + each_lams_std\n",
    "middleline = each_lams_mean\n",
    "lowerline = each_lams_mean - each_lams_std\n",
    "trueline = λ\n",
    "plot(y=each_lams, yintercept = [upperline, middleline, lowerline, trueline],\n",
    "    Geom.violin, Geom.hline(color=[\"orange\",\"red\",\"orange\",\"blue\"], style=[:dot,:dash,:dot,:solid]))"
   ]
  }
 ],
 "metadata": {
  "kernelspec": {
   "display_name": "Julia 1.3.0",
   "language": "julia",
   "name": "julia-1.3"
  },
  "language_info": {
   "file_extension": ".jl",
   "mimetype": "application/julia",
   "name": "julia",
   "version": "1.3.0"
  }
 },
 "nbformat": 4,
 "nbformat_minor": 2
}
